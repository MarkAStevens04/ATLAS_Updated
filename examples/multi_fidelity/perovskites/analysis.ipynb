{
 "cells": [
  {
   "cell_type": "code",
   "execution_count": 30,
   "id": "a873c26f",
   "metadata": {},
   "outputs": [],
   "source": [
    "import pickle\n",
    "import numpy as np\n",
    "import pandas as pd\n",
    "\n",
    "import matplotlib.pyplot as plt\n",
    "import seaborn as sns"
   ]
  },
  {
   "cell_type": "markdown",
   "id": "34ec3a70",
   "metadata": {},
   "source": [
    "# Multi-fidelity perovskites"
   ]
  },
  {
   "cell_type": "code",
   "execution_count": 31,
   "id": "a1db0bd9",
   "metadata": {},
   "outputs": [],
   "source": [
    "multi_fidelity = pickle.load(open('mf_results.pkl', 'rb'))\n",
    "single_fidelity = pickle.load(open('sf_results.pkl', 'rb'))"
   ]
  },
  {
   "cell_type": "code",
   "execution_count": 44,
   "id": "017b1eb0",
   "metadata": {},
   "outputs": [
    {
     "data": {
      "text/html": [
       "<div>\n",
       "<style scoped>\n",
       "    .dataframe tbody tr th:only-of-type {\n",
       "        vertical-align: middle;\n",
       "    }\n",
       "\n",
       "    .dataframe tbody tr th {\n",
       "        vertical-align: top;\n",
       "    }\n",
       "\n",
       "    .dataframe thead th {\n",
       "        text-align: right;\n",
       "    }\n",
       "</style>\n",
       "<table border=\"1\" class=\"dataframe\">\n",
       "  <thead>\n",
       "    <tr style=\"text-align: right;\">\n",
       "      <th></th>\n",
       "      <th>Strategy</th>\n",
       "      <th>Cumulative cost [a.u.]</th>\n",
       "    </tr>\n",
       "  </thead>\n",
       "  <tbody>\n",
       "    <tr>\n",
       "      <th>0</th>\n",
       "      <td>MultiFidelityPlanner</td>\n",
       "      <td>14.6</td>\n",
       "    </tr>\n",
       "    <tr>\n",
       "      <th>1</th>\n",
       "      <td>MultiFidelityPlanner</td>\n",
       "      <td>11.6</td>\n",
       "    </tr>\n",
       "    <tr>\n",
       "      <th>2</th>\n",
       "      <td>MultiFidelityPlanner</td>\n",
       "      <td>18.0</td>\n",
       "    </tr>\n",
       "    <tr>\n",
       "      <th>3</th>\n",
       "      <td>GPPlanner\\n(single fidelity)</td>\n",
       "      <td>50.0</td>\n",
       "    </tr>\n",
       "    <tr>\n",
       "      <th>4</th>\n",
       "      <td>GPPlanner\\n(single fidelity)</td>\n",
       "      <td>50.0</td>\n",
       "    </tr>\n",
       "  </tbody>\n",
       "</table>\n",
       "</div>"
      ],
      "text/plain": [
       "                       Strategy  Cumulative cost [a.u.]\n",
       "0          MultiFidelityPlanner                    14.6\n",
       "1          MultiFidelityPlanner                    11.6\n",
       "2          MultiFidelityPlanner                    18.0\n",
       "3  GPPlanner\\n(single fidelity)                    50.0\n",
       "4  GPPlanner\\n(single fidelity)                    50.0"
      ]
     },
     "execution_count": 44,
     "metadata": {},
     "output_type": "execute_result"
    }
   ],
   "source": [
    "accumulated_cost = {'MultiFidelityPlanner': [], 'GPPlanner\\n(single fidelity)': []}\n",
    "for i in range(len(multi_fidelity)):\n",
    "    accumulated_cost['MultiFidelityPlanner'].append(multi_fidelity[i]['s'].astype(float).sum())\n",
    "    accumulated_cost['GPPlanner\\n(single fidelity)'].append(len(single_fidelity[i]))\n",
    "\n",
    "df = pd.DataFrame(accumulated_cost)\n",
    "df = df.melt(var_name='Strategy', value_name='Cumulative cost [a.u.]')\n",
    "df.head()"
   ]
  },
  {
   "cell_type": "code",
   "execution_count": 45,
   "id": "d7a57acd",
   "metadata": {},
   "outputs": [
    {
     "data": {
      "text/plain": [
       "<Axes: xlabel='Strategy', ylabel='Cumulative cost [a.u.]'>"
      ]
     },
     "execution_count": 45,
     "metadata": {},
     "output_type": "execute_result"
    },
    {
     "data": {
      "image/png": "[encoded data removed]",
      "text/plain": [
       "<Figure size 640x480 with 1 Axes>"
      ]
     },
     "metadata": {},
     "output_type": "display_data"
    }
   ],
   "source": [
    "sns.boxplot(df, x='Strategy', y='Cumulative cost [a.u.]')"
   ]
  },
  {
   "cell_type": "markdown",
   "id": "b4672a35",
   "metadata": {},
   "source": [
    "# Use of descriptors with high fidelity results"
   ]
  },
  {
   "cell_type": "code",
   "execution_count": 2,
   "id": "ac866f09",
   "metadata": {},
   "outputs": [],
   "source": [
    "# load results\n",
    "res_bo_wodesc = pickle.load(open('high_fidelity_results_wo_desc.pkl', 'rb'))\n",
    "res_bo_wdesc = pickle.load(open('high_fidelity_results_w_desc.pkl', 'rb'))"
   ]
  },
  {
   "cell_type": "code",
   "execution_count": 3,
   "id": "7c711e79",
   "metadata": {},
   "outputs": [
    {
     "name": "stdout",
     "output_type": "stream",
     "text": [
      "mean cost_bo_wodesc :  18.74\n",
      "mean cost_bo_wdesc :  25.44\n"
     ]
    }
   ],
   "source": [
    "cost_bo_wodesc = [len(df) for df in res_bo_wodesc]\n",
    "cost_bo_wdesc = [len(df) for df in res_bo_wdesc]\n",
    "\n",
    "print('mean cost_bo_wodesc : ', np.mean(cost_bo_wodesc))\n",
    "print('mean cost_bo_wdesc : ', np.mean(cost_bo_wdesc))\n",
    "\n",
    "plot_df = pd.DataFrame({\n",
    "    'strategy': ['bo_wodesc' for _ in range(len(res_bo_wodesc))] + ['bo_wdesc' for _ in range(len(res_bo_wdesc))] , \n",
    "    'cost': cost_bo_wodesc + cost_bo_wdesc,\n",
    "})"
   ]
  },
  {
   "cell_type": "code",
   "execution_count": 4,
   "id": "1830e946",
   "metadata": {},
   "outputs": [
    {
     "data": {
      "text/plain": [
       "<Axes: xlabel='strategy', ylabel='cost'>"
      ]
     },
     "execution_count": 4,
     "metadata": {},
     "output_type": "execute_result"
    },
    {
     "data": {
      "image/png": "[encoded data removed]",
      "text/plain": [
       "<Figure size 640x480 with 1 Axes>"
      ]
     },
     "metadata": {},
     "output_type": "display_data"
    }
   ],
   "source": [
    "fig, ax = plt.subplots()\n",
    "sns.boxplot(data=plot_df, x='strategy', y='cost', showmeans=True)"
   ]
  },
  {
   "cell_type": "code",
   "execution_count": null,
   "id": "283c47c5",
   "metadata": {},
   "outputs": [],
   "source": []
  }
 ],
 "metadata": {
  "kernelspec": {
   "display_name": "atlas",
   "language": "python",
   "name": "python3"
  },
  "language_info": {
   "codemirror_mode": {
    "name": "ipython",
    "version": 3
   },
   "file_extension": ".py",
   "mimetype": "text/x-python",
   "name": "python",
   "nbconvert_exporter": "python",
   "pygments_lexer": "ipython3",
   "version": "3.9.20"
  }
 },
 "nbformat": 4,
 "nbformat_minor": 5
}
