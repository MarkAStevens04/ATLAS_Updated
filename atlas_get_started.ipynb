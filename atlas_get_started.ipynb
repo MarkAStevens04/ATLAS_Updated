{
 "cells": [
  {
   "cell_type": "markdown",
   "metadata": {
    "id": "cc6VYmj450Vm"
   },
   "source": [
    "# Atlas\n",
    "\n",
    "In this notebook, you will learn how to use `atlas` to conduct data-driven autonomous experimentation.\n",
    "\n",
    "![Atlas banner logo](https://github.com/aspuru-guzik-group/atlas/blob/main/static/atlas_logo.png)\n",
    "\n",
    "Notes:\n",
    "- when executing the first cell, you will receive a warning (\"This notebook was not authored by Google\"). Please select \"Run Anyway\" to be able to run the cells of the notebook."
   ]
  },
  {
   "cell_type": "code",
   "execution_count": null,
   "metadata": {
    "colab": {
     "base_uri": "https://localhost:8080/"
    },
    "id": "QUGefz-vPKwb",
    "outputId": "f0448890-0c0a-464f-e054-0cbdf0b427a5"
   },
   "outputs": [],
   "source": [
    "from google.colab import drive\n",
    "drive.mount('/content/drive')\n",
    "import os, sys"
   ]
  },
  {
   "cell_type": "code",
   "execution_count": null,
   "metadata": {
    "colab": {
     "base_uri": "https://localhost:8080/"
    },
    "id": "SM0rBQwy5mJx",
    "outputId": "073d5005-d4cc-4e81-801c-1874c08b2f2c"
   },
   "outputs": [],
   "source": [
    "# install olympus first\n",
    "!git clone -b olympus-atlas --single-branch https://github.com/aspuru-guzik-group/olympus.git\n",
    "%cd 'olympus'\n",
    "!pip install -e .\n",
    "%cd ../\n",
    "\n",
    "# install atlas from source\n",
    "!git clone https://github.com/aspuru-guzik-group/atlas.git\n",
    "%cd 'atlas'\n",
    "!pip install -e .\n",
    "!pip install -r requirements.txt\n",
    "%cd ../\n",
    "sys.path.append('atlas/src/')"
   ]
  },
  {
   "cell_type": "code",
   "execution_count": 1,
   "metadata": {
    "id": "JLNnCa7lM6vA"
   },
   "outputs": [],
   "source": [
    "# import numerical programming and data science libraries\n",
    "import numpy as np\n",
    "import pandas as pd\n",
    "import matplotlib.pyplot as plt\n",
    "import seaborn as sns\n",
    "\n",
    "from olympus.campaigns import ParameterSpace\n",
    "from olympus.surfaces import Surface\n",
    "from olympus.objects import (\n",
    "    ParameterContinuous,\n",
    "    ParameterDiscrete,\n",
    "    ParameterCategorical,\n",
    "    ParameterVector,\n",
    ")\n"
   ]
  },
  {
   "cell_type": "markdown",
   "metadata": {
    "id": "YNkKR4BAEPAg"
   },
   "source": [
    "## Proof-of-concept optimization\n",
    "\n",
    "In this example, we will see how to perform simple optimizations using `atlas`. In the first example, we will see optimization of an a chemical reaction with a\n",
    "fully continuous parameter space. Specifically, the reaction is the biocatalytic oxidation of benzyl alcohol by a copper radical oxidase (AlkOx). The effects of enzyme loading, cocatalyst loading, and pH balance on conversion are studied. \n",
    "\n",
    "`atlas` interfaces with the `olympus` Python package, which provides an easy way to interact with optimization datasets. Learn more about `olympus` from its [documentation](https://aspuru-guzik-group.github.io/olympus/) and [GitHub repo](https://github.com/aspuru-guzik-group/olympus). First, lets load in the `alkox` dataset from `olympus` and visualize it. The `Dataset` object of `olympus` wraps a pandas DataFrame in its `data` attribute. This dataset consists of 4 continuous parameters (`catalase`, `peroxidase`, `alcohol_oxidase` and `ph`) and 1 objective, which is to be maximized. [cite olympus paper]"
   ]
  },
  {
   "cell_type": "code",
   "execution_count": 2,
   "metadata": {
    "colab": {
     "base_uri": "https://localhost:8080/",
     "height": 206
    },
    "id": "qVIyn-3IJ-x6",
    "outputId": "9a3ec450-0a8e-4831-832a-32f579cae109"
   },
   "outputs": [
    {
     "data": {
      "text/html": [
       "<div>\n",
       "<style scoped>\n",
       "    .dataframe tbody tr th:only-of-type {\n",
       "        vertical-align: middle;\n",
       "    }\n",
       "\n",
       "    .dataframe tbody tr th {\n",
       "        vertical-align: top;\n",
       "    }\n",
       "\n",
       "    .dataframe thead th {\n",
       "        text-align: right;\n",
       "    }\n",
       "</style>\n",
       "<table border=\"1\" class=\"dataframe\">\n",
       "  <thead>\n",
       "    <tr style=\"text-align: right;\">\n",
       "      <th></th>\n",
       "      <th>catalase</th>\n",
       "      <th>peroxidase</th>\n",
       "      <th>alcohol_oxidase</th>\n",
       "      <th>ph</th>\n",
       "      <th>conversion</th>\n",
       "    </tr>\n",
       "  </thead>\n",
       "  <tbody>\n",
       "    <tr>\n",
       "      <th>0</th>\n",
       "      <td>0.05</td>\n",
       "      <td>0.5</td>\n",
       "      <td>2.0</td>\n",
       "      <td>6.0</td>\n",
       "      <td>5.932566</td>\n",
       "    </tr>\n",
       "    <tr>\n",
       "      <th>1</th>\n",
       "      <td>0.05</td>\n",
       "      <td>0.5</td>\n",
       "      <td>2.0</td>\n",
       "      <td>6.0</td>\n",
       "      <td>5.932566</td>\n",
       "    </tr>\n",
       "    <tr>\n",
       "      <th>2</th>\n",
       "      <td>0.05</td>\n",
       "      <td>0.5</td>\n",
       "      <td>2.0</td>\n",
       "      <td>7.0</td>\n",
       "      <td>2.173315</td>\n",
       "    </tr>\n",
       "    <tr>\n",
       "      <th>3</th>\n",
       "      <td>0.05</td>\n",
       "      <td>0.5</td>\n",
       "      <td>2.0</td>\n",
       "      <td>7.0</td>\n",
       "      <td>2.173315</td>\n",
       "    </tr>\n",
       "    <tr>\n",
       "      <th>4</th>\n",
       "      <td>0.05</td>\n",
       "      <td>0.5</td>\n",
       "      <td>2.0</td>\n",
       "      <td>8.0</td>\n",
       "      <td>1.056175</td>\n",
       "    </tr>\n",
       "  </tbody>\n",
       "</table>\n",
       "</div>"
      ],
      "text/plain": [
       "   catalase  peroxidase  alcohol_oxidase   ph  conversion\n",
       "0      0.05         0.5              2.0  6.0    5.932566\n",
       "1      0.05         0.5              2.0  6.0    5.932566\n",
       "2      0.05         0.5              2.0  7.0    2.173315\n",
       "3      0.05         0.5              2.0  7.0    2.173315\n",
       "4      0.05         0.5              2.0  8.0    1.056175"
      ]
     },
     "execution_count": 2,
     "metadata": {},
     "output_type": "execute_result"
    }
   ],
   "source": [
    "from olympus.datasets import Dataset\n",
    "\n",
    "dset = Dataset(kind='alkox')\n",
    "dset.data.head()"
   ]
  },
  {
   "cell_type": "markdown",
   "metadata": {
    "id": "xQiAQkOMQ3zs"
   },
   "source": [
    "`olympus` also provides `Emulators`, which are probabilistic nerual networks trained to virtually reproduce experimental measurements. This is convenient for debugging or benchmarking optimizers on realistic tasks derived from chemistry and materials science research. By passing parameters to the emulator, you can get back virtual measurements. Lets try this for the `alkox` emulator. "
   ]
  },
  {
   "cell_type": "code",
   "execution_count": 3,
   "metadata": {
    "colab": {
     "base_uri": "https://localhost:8080/"
    },
    "id": "lSV6BZ2aS9_L",
    "outputId": "267e9b4c-039f-4ec3-c780-605d6fafca69"
   },
   "outputs": [
    {
     "name": "stdout",
     "output_type": "stream",
     "text": [
      "\u001b[0;37m[INFO] Loading emulator using a BayesNeuralNet model for the dataset alkox...\n",
      "\u001b[0m"
     ]
    },
    {
     "name": "stderr",
     "output_type": "stream",
     "text": [
      "/Users/rileyhickman/mambaforge/envs/atlas_aag/lib/python3.10/site-packages/tensorflow_probability/python/layers/util.py:98: UserWarning: `layer.add_variable` is deprecated and will be removed in a future version. Please use the `layer.add_weight()` method instead.\n",
      "  loc = add_variable_fn(\n",
      "/Users/rileyhickman/mambaforge/envs/atlas_aag/lib/python3.10/site-packages/tensorflow_probability/python/layers/util.py:108: UserWarning: `layer.add_variable` is deprecated and will be removed in a future version. Please use the `layer.add_weight()` method instead.\n",
      "  untransformed_scale = add_variable_fn(\n"
     ]
    },
    {
     "name": "stdout",
     "output_type": "stream",
     "text": [
      "params :  [0.6869624280556538, 2.499922095397715, 7.574343922858796, 7.786808550872344]\n",
      "measurement :  [ParamVector(conversion = 7.246413582692234)]\n"
     ]
    }
   ],
   "source": [
    "from olympus.emulators import Emulator \n",
    "\n",
    "emulator = Emulator(dataset='alkox', model='BayesNeuralNet')\n",
    "\n",
    "params = [np.random.uniform(p.low, p.high, size=None) for p in emulator.param_space]\n",
    "\n",
    "measurement, _, __ = emulator.run(params, return_paramvector=True)\n",
    "print('params : ', params)\n",
    "print('measurement : ', measurement)"
   ]
  },
  {
   "cell_type": "markdown",
   "metadata": {
    "id": "ZuRYijHeUHoM"
   },
   "source": [
    "Finally, lets see how to conduct an optimization using `atlas`. We can instantiate the `GPPlanner` object from `atlas`. This will serve as our default GP-based Bayesian optimization strategy, and will automaticallty adapt to the parameter space and objective values of our task. For instance, `alkox` is a \"fully continuous\" parameter problem, therefore, `atlas` will use a Matern5/2 kernel. By default, it will use the expected improvement acquisition function, and a gradient based strategy to optimize the acquisition function. Lets instantiate the planner. After that, we can sequentially ask the `planner` for parameters, the `emulator` for measurements, and store this information neatly in a `Campaign` instance from `olympus`. "
   ]
  },
  {
   "cell_type": "code",
   "execution_count": 5,
   "metadata": {
    "colab": {
     "base_uri": "https://localhost:8080/"
    },
    "id": "u13eHDJtU_cn",
    "outputId": "5940b44d-fd3f-4818-c2d1-86a0eb3ca33c",
    "scrolled": true
   },
   "outputs": [
    {
     "data": {
      "text/html": [
       "<pre style=\"white-space:pre;overflow-x:auto;line-height:normal;font-family:Menlo,'DejaVu Sans Mono',consolas,'Courier New',monospace\"><span style=\"color: #051923; text-decoration-color: #051923\">───────────────────────────────────────────────────────────────────────────────────────────────────────────────────</span>\n",
       "</pre>\n"
      ],
      "text/plain": [
       "\u001b[38;2;5;25;35m───────────────────────────────────────────────────────────────────────────────────────────────────────────────────\u001b[0m\n"
      ]
     },
     "metadata": {},
     "output_type": "display_data"
    },
    {
     "data": {
      "text/html": [
       "<pre style=\"white-space:pre;overflow-x:auto;line-height:normal;font-family:Menlo,'DejaVu Sans Mono',consolas,'Courier New',monospace\"><span style=\"color: #05a6fb; text-decoration-color: #05a6fb; font-weight: bold\">                                                                                                                   </span>\n",
       "<span style=\"color: #05a6fb; text-decoration-color: #05a6fb; font-weight: bold\">                                                 Welcome to ATLAS!                                                 </span>\n",
       "</pre>\n"
      ],
      "text/plain": [
       "\u001b[1;38;2;5;166;251m                                                 \u001b[0m\u001b[1;38;2;5;166;251m                 \u001b[0m\u001b[1;38;2;5;166;251m                                                 \u001b[0m\n",
       "\u001b[1;38;2;5;166;251m                                                 \u001b[0m\u001b[1;38;2;5;166;251mWelcome to ATLAS!\u001b[0m\u001b[1;38;2;5;166;251m                                                 \u001b[0m\n"
      ]
     },
     "metadata": {},
     "output_type": "display_data"
    },
    {
     "data": {
      "text/html": [
       "<pre style=\"white-space:pre;overflow-x:auto;line-height:normal;font-family:Menlo,'DejaVu Sans Mono',consolas,'Courier New',monospace\"><span style=\"color: #006494; text-decoration-color: #006494\">                                                Made with 💕 in 🇨🇦                                                 </span>\n",
       "<span style=\"color: #006494; text-decoration-color: #006494\">                                                                                                                   </span>\n",
       "</pre>\n"
      ],
      "text/plain": [
       "\u001b[38;2;0;100;148m                                                \u001b[0m\u001b[38;2;0;100;148mMade with 💕 in 🇨🇦\u001b[0m\u001b[38;2;0;100;148m                                                 \u001b[0m\n",
       "\u001b[38;2;0;100;148m                                                \u001b[0m\u001b[38;2;0;100;148m                  \u001b[0m\u001b[38;2;0;100;148m                                                 \u001b[0m\n"
      ]
     },
     "metadata": {},
     "output_type": "display_data"
    },
    {
     "data": {
      "text/html": [
       "<pre style=\"white-space:pre;overflow-x:auto;line-height:normal;font-family:Menlo,'DejaVu Sans Mono',consolas,'Courier New',monospace\"><span style=\"color: #051923; text-decoration-color: #051923\">───────────────────────────────────────────────────────────────────────────────────────────────────────────────────</span>\n",
       "</pre>\n"
      ],
      "text/plain": [
       "\u001b[38;2;5;25;35m───────────────────────────────────────────────────────────────────────────────────────────────────────────────────\u001b[0m\n"
      ]
     },
     "metadata": {},
     "output_type": "display_data"
    },
    {
     "data": {
      "text/html": [
       "<pre style=\"white-space:pre;overflow-x:auto;line-height:normal;font-family:Menlo,'DejaVu Sans Mono',consolas,'Courier New',monospace\"><span style=\"color: #05a6fb; text-decoration-color: #05a6fb\">───────────────────────────── Initial design phase ─────────────────────────────</span>\n",
       "</pre>\n"
      ],
      "text/plain": [
       "\u001b[38;2;5;166;251m───────────────────────────── Initial design phase ─────────────────────────────\u001b[0m\n"
      ]
     },
     "metadata": {},
     "output_type": "display_data"
    },
    {
     "data": {
      "text/html": [
       "<pre style=\"white-space:pre;overflow-x:auto;line-height:normal;font-family:Menlo,'DejaVu Sans Mono',consolas,'Courier New',monospace\">ATLAS <span style=\"font-weight: bold\">[</span>INFO<span style=\"font-weight: bold\">]</span> Generating <span style=\"color: #008080; text-decoration-color: #008080; font-weight: bold\">1</span> initial design points <span style=\"font-weight: bold\">(</span>batch <span style=\"color: #008080; text-decoration-color: #008080; font-weight: bold\">1</span>/<span style=\"color: #008080; text-decoration-color: #008080; font-weight: bold\">5</span><span style=\"font-weight: bold\">)</span>\n",
       "</pre>\n"
      ],
      "text/plain": [
       "ATLAS \u001b[1m[\u001b[0mINFO\u001b[1m]\u001b[0m Generating \u001b[1;36m1\u001b[0m initial design points \u001b[1m(\u001b[0mbatch \u001b[1;36m1\u001b[0m/\u001b[1;36m5\u001b[0m\u001b[1m)\u001b[0m\n"
      ]
     },
     "metadata": {},
     "output_type": "display_data"
    },
    {
     "name": "stdout",
     "output_type": "stream",
     "text": [
      "\n",
      "ITER : 1\n",
      "SAMPLE : ParamVector(catalase = 0.05267647711471731, peroxidase = 5.776973217069104, alcohol_oxidase = 3.6061118178627933, ph = 7.463848977159313)\n",
      "MEASUREMENT : [ParamVector(conversion = 4.2778385787505595)]\n",
      "\n"
     ]
    },
    {
     "data": {
      "text/html": [
       "<pre style=\"white-space:pre;overflow-x:auto;line-height:normal;font-family:Menlo,'DejaVu Sans Mono',consolas,'Courier New',monospace\">ATLAS <span style=\"font-weight: bold\">[</span>INFO<span style=\"font-weight: bold\">]</span> Generating <span style=\"color: #008080; text-decoration-color: #008080; font-weight: bold\">1</span> initial design points <span style=\"font-weight: bold\">(</span>batch <span style=\"color: #008080; text-decoration-color: #008080; font-weight: bold\">2</span>/<span style=\"color: #008080; text-decoration-color: #008080; font-weight: bold\">5</span><span style=\"font-weight: bold\">)</span>\n",
       "</pre>\n"
      ],
      "text/plain": [
       "ATLAS \u001b[1m[\u001b[0mINFO\u001b[1m]\u001b[0m Generating \u001b[1;36m1\u001b[0m initial design points \u001b[1m(\u001b[0mbatch \u001b[1;36m2\u001b[0m/\u001b[1;36m5\u001b[0m\u001b[1m)\u001b[0m\n"
      ]
     },
     "metadata": {},
     "output_type": "display_data"
    },
    {
     "name": "stdout",
     "output_type": "stream",
     "text": [
      "\n",
      "ITER : 2\n",
      "SAMPLE : ParamVector(catalase = 0.24600947373482884, peroxidase = 1.859464871718949, alcohol_oxidase = 4.876275737026342, ph = 7.081009855763338)\n",
      "MEASUREMENT : [ParamVector(conversion = 7.526293522735063)]\n",
      "\n"
     ]
    },
    {
     "data": {
      "text/html": [
       "<pre style=\"white-space:pre;overflow-x:auto;line-height:normal;font-family:Menlo,'DejaVu Sans Mono',consolas,'Courier New',monospace\">ATLAS <span style=\"font-weight: bold\">[</span>INFO<span style=\"font-weight: bold\">]</span> Generating <span style=\"color: #008080; text-decoration-color: #008080; font-weight: bold\">1</span> initial design points <span style=\"font-weight: bold\">(</span>batch <span style=\"color: #008080; text-decoration-color: #008080; font-weight: bold\">3</span>/<span style=\"color: #008080; text-decoration-color: #008080; font-weight: bold\">5</span><span style=\"font-weight: bold\">)</span>\n",
       "</pre>\n"
      ],
      "text/plain": [
       "ATLAS \u001b[1m[\u001b[0mINFO\u001b[1m]\u001b[0m Generating \u001b[1;36m1\u001b[0m initial design points \u001b[1m(\u001b[0mbatch \u001b[1;36m3\u001b[0m/\u001b[1;36m5\u001b[0m\u001b[1m)\u001b[0m\n"
      ]
     },
     "metadata": {},
     "output_type": "display_data"
    },
    {
     "name": "stdout",
     "output_type": "stream",
     "text": [
      "\n",
      "ITER : 3\n",
      "SAMPLE : ParamVector(catalase = 0.5332029080481445, peroxidase = 9.669870069107239, alcohol_oxidase = 5.971971961630828, ph = 6.703365282419733)\n",
      "MEASUREMENT : [ParamVector(conversion = 24.650466048441462)]\n",
      "\n"
     ]
    },
    {
     "data": {
      "text/html": [
       "<pre style=\"white-space:pre;overflow-x:auto;line-height:normal;font-family:Menlo,'DejaVu Sans Mono',consolas,'Courier New',monospace\">ATLAS <span style=\"font-weight: bold\">[</span>INFO<span style=\"font-weight: bold\">]</span> Generating <span style=\"color: #008080; text-decoration-color: #008080; font-weight: bold\">1</span> initial design points <span style=\"font-weight: bold\">(</span>batch <span style=\"color: #008080; text-decoration-color: #008080; font-weight: bold\">4</span>/<span style=\"color: #008080; text-decoration-color: #008080; font-weight: bold\">5</span><span style=\"font-weight: bold\">)</span>\n",
       "</pre>\n"
      ],
      "text/plain": [
       "ATLAS \u001b[1m[\u001b[0mINFO\u001b[1m]\u001b[0m Generating \u001b[1;36m1\u001b[0m initial design points \u001b[1m(\u001b[0mbatch \u001b[1;36m4\u001b[0m/\u001b[1;36m5\u001b[0m\u001b[1m)\u001b[0m\n"
      ]
     },
     "metadata": {},
     "output_type": "display_data"
    },
    {
     "name": "stdout",
     "output_type": "stream",
     "text": [
      "\n",
      "ITER : 4\n",
      "SAMPLE : ParamVector(catalase = 0.856318927486224, peroxidase = 2.753644879643854, alcohol_oxidase = 7.402581806753049, ph = 6.170241385483548)\n",
      "MEASUREMENT : [ParamVector(conversion = 18.491807430282474)]\n",
      "\n"
     ]
    },
    {
     "data": {
      "text/html": [
       "<pre style=\"white-space:pre;overflow-x:auto;line-height:normal;font-family:Menlo,'DejaVu Sans Mono',consolas,'Courier New',monospace\">ATLAS <span style=\"font-weight: bold\">[</span>INFO<span style=\"font-weight: bold\">]</span> Generating <span style=\"color: #008080; text-decoration-color: #008080; font-weight: bold\">1</span> initial design points <span style=\"font-weight: bold\">(</span>batch <span style=\"color: #008080; text-decoration-color: #008080; font-weight: bold\">5</span>/<span style=\"color: #008080; text-decoration-color: #008080; font-weight: bold\">5</span><span style=\"font-weight: bold\">)</span>\n",
       "</pre>\n"
      ],
      "text/plain": [
       "ATLAS \u001b[1m[\u001b[0mINFO\u001b[1m]\u001b[0m Generating \u001b[1;36m1\u001b[0m initial design points \u001b[1m(\u001b[0mbatch \u001b[1;36m5\u001b[0m/\u001b[1;36m5\u001b[0m\u001b[1m)\u001b[0m\n"
      ]
     },
     "metadata": {},
     "output_type": "display_data"
    },
    {
     "name": "stdout",
     "output_type": "stream",
     "text": [
      "\n",
      "ITER : 5\n",
      "SAMPLE : ParamVector(catalase = 0.7072692576678618, peroxidase = 7.617388498397538, alcohol_oxidase = 2.435048080943091, ph = 7.80630581041974)\n",
      "MEASUREMENT : [ParamVector(conversion = 9.316302921443055)]\n",
      "\n"
     ]
    },
    {
     "data": {
      "text/html": [
       "<pre style=\"white-space:pre;overflow-x:auto;line-height:normal;font-family:Menlo,'DejaVu Sans Mono',consolas,'Courier New',monospace\"><span style=\"color: #05a6fb; text-decoration-color: #05a6fb\">───────────────────── Training regression surrogate model ──────────────────────</span>\n",
       "</pre>\n"
      ],
      "text/plain": [
       "\u001b[38;2;5;166;251m───────────────────── Training regression surrogate model ──────────────────────\u001b[0m\n"
      ]
     },
     "metadata": {},
     "output_type": "display_data"
    },
    {
     "name": "stderr",
     "output_type": "stream",
     "text": [
      "/Users/rileyhickman/mambaforge/envs/atlas_aag/lib/python3.10/site-packages/botorch/models/utils/assorted.py:201: InputDataWarning: Input data is not standardized. Please consider scaling the input to zero mean and unit variance.\n",
      "  warnings.warn(msg, InputDataWarning)\n"
     ]
    },
    {
     "data": {
      "text/html": [
       "<pre style=\"white-space:pre;overflow-x:auto;line-height:normal;font-family:Menlo,'DejaVu Sans Mono',consolas,'Courier New',monospace\">ATLAS <span style=\"font-weight: bold\">[</span>INFO<span style=\"font-weight: bold\">]</span> Regression surrogate GP trained in <span style=\"color: #008080; text-decoration-color: #008080; font-weight: bold\">0.031</span> sec\n",
       "</pre>\n"
      ],
      "text/plain": [
       "ATLAS \u001b[1m[\u001b[0mINFO\u001b[1m]\u001b[0m Regression surrogate GP trained in \u001b[1;36m0.031\u001b[0m sec\n"
      ]
     },
     "metadata": {},
     "output_type": "display_data"
    },
    {
     "data": {
      "text/html": [
       "<pre style=\"white-space:pre;overflow-x:auto;line-height:normal;font-family:Menlo,'DejaVu Sans Mono',consolas,'Courier New',monospace\"><span style=\"color: #05a6fb; text-decoration-color: #05a6fb\">────────────────────── Acquisition function optimization ───────────────────────</span>\n",
       "</pre>\n"
      ],
      "text/plain": [
       "\u001b[38;2;5;166;251m────────────────────── Acquisition function optimization ───────────────────────\u001b[0m\n"
      ]
     },
     "metadata": {},
     "output_type": "display_data"
    },
    {
     "name": "stdout",
     "output_type": "stream",
     "text": [
      "\n",
      "ITER : 6\n",
      "SAMPLE : ParamVector(catalase = 0.6325653452786117, peroxidase = 9.000354200245265, alcohol_oxidase = 6.525275279513611, ph = 6.511095485709286)\n",
      "MEASUREMENT : [ParamVector(conversion = 26.09093477577687)]\n",
      "\n"
     ]
    },
    {
     "data": {
      "text/html": [
       "<pre style=\"white-space:pre;overflow-x:auto;line-height:normal;font-family:Menlo,'DejaVu Sans Mono',consolas,'Courier New',monospace\"><span style=\"color: #05a6fb; text-decoration-color: #05a6fb\">───────────────────── Training regression surrogate model ──────────────────────</span>\n",
       "</pre>\n"
      ],
      "text/plain": [
       "\u001b[38;2;5;166;251m───────────────────── Training regression surrogate model ──────────────────────\u001b[0m\n"
      ]
     },
     "metadata": {},
     "output_type": "display_data"
    },
    {
     "name": "stderr",
     "output_type": "stream",
     "text": [
      "/Users/rileyhickman/mambaforge/envs/atlas_aag/lib/python3.10/site-packages/botorch/models/utils/assorted.py:201: InputDataWarning: Input data is not standardized. Please consider scaling the input to zero mean and unit variance.\n",
      "  warnings.warn(msg, InputDataWarning)\n"
     ]
    },
    {
     "data": {
      "text/html": [
       "<pre style=\"white-space:pre;overflow-x:auto;line-height:normal;font-family:Menlo,'DejaVu Sans Mono',consolas,'Courier New',monospace\">ATLAS <span style=\"font-weight: bold\">[</span>INFO<span style=\"font-weight: bold\">]</span> Regression surrogate GP trained in <span style=\"color: #008080; text-decoration-color: #008080; font-weight: bold\">0.025</span> sec\n",
       "</pre>\n"
      ],
      "text/plain": [
       "ATLAS \u001b[1m[\u001b[0mINFO\u001b[1m]\u001b[0m Regression surrogate GP trained in \u001b[1;36m0.025\u001b[0m sec\n"
      ]
     },
     "metadata": {},
     "output_type": "display_data"
    },
    {
     "data": {
      "text/html": [
       "<pre style=\"white-space:pre;overflow-x:auto;line-height:normal;font-family:Menlo,'DejaVu Sans Mono',consolas,'Courier New',monospace\"><span style=\"color: #05a6fb; text-decoration-color: #05a6fb\">────────────────────── Acquisition function optimization ───────────────────────</span>\n",
       "</pre>\n"
      ],
      "text/plain": [
       "\u001b[38;2;5;166;251m────────────────────── Acquisition function optimization ───────────────────────\u001b[0m\n"
      ]
     },
     "metadata": {},
     "output_type": "display_data"
    },
    {
     "name": "stdout",
     "output_type": "stream",
     "text": [
      "\n",
      "ITER : 7\n",
      "SAMPLE : ParamVector(catalase = 0.5538515253330331, peroxidase = 9.999999640119826, alcohol_oxidase = 7.191421131334192, ph = 6.575313361410898)\n",
      "MEASUREMENT : [ParamVector(conversion = 31.80223936156364)]\n",
      "\n"
     ]
    },
    {
     "data": {
      "text/html": [
       "<pre style=\"white-space:pre;overflow-x:auto;line-height:normal;font-family:Menlo,'DejaVu Sans Mono',consolas,'Courier New',monospace\"><span style=\"color: #05a6fb; text-decoration-color: #05a6fb\">───────────────────── Training regression surrogate model ──────────────────────</span>\n",
       "</pre>\n"
      ],
      "text/plain": [
       "\u001b[38;2;5;166;251m───────────────────── Training regression surrogate model ──────────────────────\u001b[0m\n"
      ]
     },
     "metadata": {},
     "output_type": "display_data"
    },
    {
     "name": "stderr",
     "output_type": "stream",
     "text": [
      "/Users/rileyhickman/mambaforge/envs/atlas_aag/lib/python3.10/site-packages/botorch/models/utils/assorted.py:201: InputDataWarning: Input data is not standardized. Please consider scaling the input to zero mean and unit variance.\n",
      "  warnings.warn(msg, InputDataWarning)\n"
     ]
    },
    {
     "data": {
      "text/html": [
       "<pre style=\"white-space:pre;overflow-x:auto;line-height:normal;font-family:Menlo,'DejaVu Sans Mono',consolas,'Courier New',monospace\">ATLAS <span style=\"font-weight: bold\">[</span>INFO<span style=\"font-weight: bold\">]</span> Regression surrogate GP trained in <span style=\"color: #008080; text-decoration-color: #008080; font-weight: bold\">0.034</span> sec\n",
       "</pre>\n"
      ],
      "text/plain": [
       "ATLAS \u001b[1m[\u001b[0mINFO\u001b[1m]\u001b[0m Regression surrogate GP trained in \u001b[1;36m0.034\u001b[0m sec\n"
      ]
     },
     "metadata": {},
     "output_type": "display_data"
    },
    {
     "data": {
      "text/html": [
       "<pre style=\"white-space:pre;overflow-x:auto;line-height:normal;font-family:Menlo,'DejaVu Sans Mono',consolas,'Courier New',monospace\"><span style=\"color: #05a6fb; text-decoration-color: #05a6fb\">────────────────────── Acquisition function optimization ───────────────────────</span>\n",
       "</pre>\n"
      ],
      "text/plain": [
       "\u001b[38;2;5;166;251m────────────────────── Acquisition function optimization ───────────────────────\u001b[0m\n"
      ]
     },
     "metadata": {},
     "output_type": "display_data"
    },
    {
     "name": "stdout",
     "output_type": "stream",
     "text": [
      "\n",
      "ITER : 8\n",
      "SAMPLE : ParamVector(catalase = 0.564815715574334, peroxidase = 9.999999640119826, alcohol_oxidase = 7.99999991645025, ph = 6.714872262884633)\n",
      "MEASUREMENT : [ParamVector(conversion = 26.213198019746574)]\n",
      "\n"
     ]
    },
    {
     "data": {
      "text/html": [
       "<pre style=\"white-space:pre;overflow-x:auto;line-height:normal;font-family:Menlo,'DejaVu Sans Mono',consolas,'Courier New',monospace\"><span style=\"color: #05a6fb; text-decoration-color: #05a6fb\">───────────────────── Training regression surrogate model ──────────────────────</span>\n",
       "</pre>\n"
      ],
      "text/plain": [
       "\u001b[38;2;5;166;251m───────────────────── Training regression surrogate model ──────────────────────\u001b[0m\n"
      ]
     },
     "metadata": {},
     "output_type": "display_data"
    },
    {
     "name": "stderr",
     "output_type": "stream",
     "text": [
      "/Users/rileyhickman/mambaforge/envs/atlas_aag/lib/python3.10/site-packages/botorch/models/utils/assorted.py:201: InputDataWarning: Input data is not standardized. Please consider scaling the input to zero mean and unit variance.\n",
      "  warnings.warn(msg, InputDataWarning)\n"
     ]
    },
    {
     "data": {
      "text/html": [
       "<pre style=\"white-space:pre;overflow-x:auto;line-height:normal;font-family:Menlo,'DejaVu Sans Mono',consolas,'Courier New',monospace\">ATLAS <span style=\"font-weight: bold\">[</span>INFO<span style=\"font-weight: bold\">]</span> Regression surrogate GP trained in <span style=\"color: #008080; text-decoration-color: #008080; font-weight: bold\">0.047</span> sec\n",
       "</pre>\n"
      ],
      "text/plain": [
       "ATLAS \u001b[1m[\u001b[0mINFO\u001b[1m]\u001b[0m Regression surrogate GP trained in \u001b[1;36m0.047\u001b[0m sec\n"
      ]
     },
     "metadata": {},
     "output_type": "display_data"
    },
    {
     "data": {
      "text/html": [
       "<pre style=\"white-space:pre;overflow-x:auto;line-height:normal;font-family:Menlo,'DejaVu Sans Mono',consolas,'Courier New',monospace\"><span style=\"color: #05a6fb; text-decoration-color: #05a6fb\">────────────────────── Acquisition function optimization ───────────────────────</span>\n",
       "</pre>\n"
      ],
      "text/plain": [
       "\u001b[38;2;5;166;251m────────────────────── Acquisition function optimization ───────────────────────\u001b[0m\n"
      ]
     },
     "metadata": {},
     "output_type": "display_data"
    },
    {
     "name": "stdout",
     "output_type": "stream",
     "text": [
      "\n",
      "ITER : 9\n",
      "SAMPLE : ParamVector(catalase = 0.46540470951957713, peroxidase = 9.999999640119826, alcohol_oxidase = 7.293137203805756, ph = 6.336559429915671)\n",
      "MEASUREMENT : [ParamVector(conversion = 22.23301014510198)]\n",
      "\n"
     ]
    },
    {
     "data": {
      "text/html": [
       "<pre style=\"white-space:pre;overflow-x:auto;line-height:normal;font-family:Menlo,'DejaVu Sans Mono',consolas,'Courier New',monospace\"><span style=\"color: #05a6fb; text-decoration-color: #05a6fb\">───────────────────── Training regression surrogate model ──────────────────────</span>\n",
       "</pre>\n"
      ],
      "text/plain": [
       "\u001b[38;2;5;166;251m───────────────────── Training regression surrogate model ──────────────────────\u001b[0m\n"
      ]
     },
     "metadata": {},
     "output_type": "display_data"
    },
    {
     "name": "stderr",
     "output_type": "stream",
     "text": [
      "/Users/rileyhickman/mambaforge/envs/atlas_aag/lib/python3.10/site-packages/botorch/models/utils/assorted.py:201: InputDataWarning: Input data is not standardized. Please consider scaling the input to zero mean and unit variance.\n",
      "  warnings.warn(msg, InputDataWarning)\n"
     ]
    },
    {
     "data": {
      "text/html": [
       "<pre style=\"white-space:pre;overflow-x:auto;line-height:normal;font-family:Menlo,'DejaVu Sans Mono',consolas,'Courier New',monospace\">ATLAS <span style=\"font-weight: bold\">[</span>INFO<span style=\"font-weight: bold\">]</span> Regression surrogate GP trained in <span style=\"color: #008080; text-decoration-color: #008080; font-weight: bold\">0.038</span> sec\n",
       "</pre>\n"
      ],
      "text/plain": [
       "ATLAS \u001b[1m[\u001b[0mINFO\u001b[1m]\u001b[0m Regression surrogate GP trained in \u001b[1;36m0.038\u001b[0m sec\n"
      ]
     },
     "metadata": {},
     "output_type": "display_data"
    },
    {
     "data": {
      "text/html": [
       "<pre style=\"white-space:pre;overflow-x:auto;line-height:normal;font-family:Menlo,'DejaVu Sans Mono',consolas,'Courier New',monospace\"><span style=\"color: #05a6fb; text-decoration-color: #05a6fb\">────────────────────── Acquisition function optimization ───────────────────────</span>\n",
       "</pre>\n"
      ],
      "text/plain": [
       "\u001b[38;2;5;166;251m────────────────────── Acquisition function optimization ───────────────────────\u001b[0m\n"
      ]
     },
     "metadata": {},
     "output_type": "display_data"
    },
    {
     "name": "stdout",
     "output_type": "stream",
     "text": [
      "\n",
      "ITER : 10\n",
      "SAMPLE : ParamVector(catalase = 0.7260903796143366, peroxidase = 9.999999640119826, alcohol_oxidase = 7.270178673569694, ph = 6.627723781215826)\n",
      "MEASUREMENT : [ParamVector(conversion = 19.765606228577358)]\n",
      "\n"
     ]
    }
   ],
   "source": [
    "from atlas.planners.gp.planner import GPPlanner\n",
    "from olympus.campaigns import Campaign\n",
    "\n",
    "# instantiate atlas planner\n",
    "planner = GPPlanner(\n",
    "      goal='maximize',\n",
    "      init_design_strategy='lhs',\n",
    "      acquisition_optimizer_kind='gradient',\n",
    "      num_init_design=5,\n",
    "      batch_size=1,\n",
    ")\n",
    "planner.set_param_space(emulator.param_space)\n",
    "\n",
    "# instantiate campaign\n",
    "campaign = Campaign()\n",
    "campaign.set_param_space(emulator.param_space)\n",
    "\n",
    "# commence the optimization experiment\n",
    "BUDGET = 10\n",
    "iter_ = 0\n",
    "while len(campaign.observations.get_values()) < BUDGET:\n",
    "\n",
    "    # ask atlas for parameters to measure next\n",
    "    samples = planner.recommend(campaign.observations)\n",
    "\n",
    "    # evaluate samples using the emulator and add observation to \n",
    "    # the Olympus campaign object\n",
    "    for sample in samples:\n",
    "        measurement = emulator.run(sample, return_paramvector=True)\n",
    "        print(f'\\nITER : {iter_+1}\\nSAMPLE : {sample}\\nMEASUREMENT : {measurement[0]}\\n')\n",
    "        campaign.add_observation(sample, measurement[0])\n",
    "        \n",
    "        iter_+=1\n",
    "\n"
   ]
  },
  {
   "cell_type": "markdown",
   "metadata": {
    "id": "dCjvg9REWXil"
   },
   "source": [
    "Next, we will see how to use `atlas` to optimize a fully categorical problem with descriptors. Categorical parameters are extremely important in the experimental sciences, and are characterized by a lack of inate order between the variable options. In this example, we will use the `perovskites` dataset from `olympus`, which reports bandgap values (to be minimized) for 192 unique hybrid organic-inorganic perovskite materials. [add citation]\n",
    "\n",
    "For categorical variables, we can also featurize the options with vectors of descriptors to induce an ordering between them, and potentially increase the optimization rate. For example, `olympus`' `perovskites` dataset ships with geometric and electronic descriptors of the 3 perovskite components (`organic`, `cation` and `anion`)."
   ]
  },
  {
   "cell_type": "code",
   "execution_count": 7,
   "metadata": {
    "colab": {
     "base_uri": "https://localhost:8080/",
     "height": 206
    },
    "id": "kD7V32IoWWTr",
    "outputId": "ed495bc9-75d4-41d7-e494-516c176a95e6"
   },
   "outputs": [
    {
     "data": {
      "text/html": [
       "<div>\n",
       "<style scoped>\n",
       "    .dataframe tbody tr th:only-of-type {\n",
       "        vertical-align: middle;\n",
       "    }\n",
       "\n",
       "    .dataframe tbody tr th {\n",
       "        vertical-align: top;\n",
       "    }\n",
       "\n",
       "    .dataframe thead th {\n",
       "        text-align: right;\n",
       "    }\n",
       "</style>\n",
       "<table border=\"1\" class=\"dataframe\">\n",
       "  <thead>\n",
       "    <tr style=\"text-align: right;\">\n",
       "      <th></th>\n",
       "      <th>organic</th>\n",
       "      <th>cation</th>\n",
       "      <th>anion</th>\n",
       "      <th>hse_gap</th>\n",
       "    </tr>\n",
       "  </thead>\n",
       "  <tbody>\n",
       "    <tr>\n",
       "      <th>0</th>\n",
       "      <td>ethylammonium</td>\n",
       "      <td>Ge</td>\n",
       "      <td>F</td>\n",
       "      <td>5.3704</td>\n",
       "    </tr>\n",
       "    <tr>\n",
       "      <th>1</th>\n",
       "      <td>ethylammonium</td>\n",
       "      <td>Ge</td>\n",
       "      <td>Cl</td>\n",
       "      <td>3.1393</td>\n",
       "    </tr>\n",
       "    <tr>\n",
       "      <th>2</th>\n",
       "      <td>ethylammonium</td>\n",
       "      <td>Ge</td>\n",
       "      <td>Br</td>\n",
       "      <td>2.7138</td>\n",
       "    </tr>\n",
       "    <tr>\n",
       "      <th>3</th>\n",
       "      <td>ethylammonium</td>\n",
       "      <td>Ge</td>\n",
       "      <td>I</td>\n",
       "      <td>2.2338</td>\n",
       "    </tr>\n",
       "    <tr>\n",
       "      <th>4</th>\n",
       "      <td>ethylammonium</td>\n",
       "      <td>Sn</td>\n",
       "      <td>F</td>\n",
       "      <td>3.9789</td>\n",
       "    </tr>\n",
       "  </tbody>\n",
       "</table>\n",
       "</div>"
      ],
      "text/plain": [
       "         organic cation anion hse_gap\n",
       "0  ethylammonium     Ge     F  5.3704\n",
       "1  ethylammonium     Ge    Cl  3.1393\n",
       "2  ethylammonium     Ge    Br  2.7138\n",
       "3  ethylammonium     Ge     I  2.2338\n",
       "4  ethylammonium     Sn     F  3.9789"
      ]
     },
     "execution_count": 7,
     "metadata": {},
     "output_type": "execute_result"
    }
   ],
   "source": [
    "dset = Dataset(kind='perovskites')\n",
    "dset.data.head()"
   ]
  },
  {
   "cell_type": "code",
   "execution_count": 8,
   "metadata": {
    "colab": {
     "base_uri": "https://localhost:8080/",
     "height": 206
    },
    "id": "hjEusJtVWWhE",
    "outputId": "97ca528e-7650-4d54-cfd1-9ef95f513699"
   },
   "outputs": [
    {
     "data": {
      "text/html": [
       "<div>\n",
       "<style scoped>\n",
       "    .dataframe tbody tr th:only-of-type {\n",
       "        vertical-align: middle;\n",
       "    }\n",
       "\n",
       "    .dataframe tbody tr th {\n",
       "        vertical-align: top;\n",
       "    }\n",
       "\n",
       "    .dataframe thead th {\n",
       "        text-align: right;\n",
       "    }\n",
       "</style>\n",
       "<table border=\"1\" class=\"dataframe\">\n",
       "  <thead>\n",
       "    <tr style=\"text-align: right;\">\n",
       "      <th></th>\n",
       "      <th>param</th>\n",
       "      <th>option</th>\n",
       "      <th>name</th>\n",
       "      <th>value</th>\n",
       "    </tr>\n",
       "  </thead>\n",
       "  <tbody>\n",
       "    <tr>\n",
       "      <th>0</th>\n",
       "      <td>organic</td>\n",
       "      <td>ethylammonium</td>\n",
       "      <td>homo</td>\n",
       "      <td>-0.4601</td>\n",
       "    </tr>\n",
       "    <tr>\n",
       "      <th>1</th>\n",
       "      <td>organic</td>\n",
       "      <td>ethylammonium</td>\n",
       "      <td>lumo</td>\n",
       "      <td>-0.22398</td>\n",
       "    </tr>\n",
       "    <tr>\n",
       "      <th>2</th>\n",
       "      <td>organic</td>\n",
       "      <td>ethylammonium</td>\n",
       "      <td>dipole</td>\n",
       "      <td>1.3965</td>\n",
       "    </tr>\n",
       "    <tr>\n",
       "      <th>3</th>\n",
       "      <td>organic</td>\n",
       "      <td>ethylammonium</td>\n",
       "      <td>atomization</td>\n",
       "      <td>-1.84142</td>\n",
       "    </tr>\n",
       "    <tr>\n",
       "      <th>4</th>\n",
       "      <td>organic</td>\n",
       "      <td>ethylammonium</td>\n",
       "      <td>r_gyr</td>\n",
       "      <td>1.261565</td>\n",
       "    </tr>\n",
       "  </tbody>\n",
       "</table>\n",
       "</div>"
      ],
      "text/plain": [
       "     param         option         name     value\n",
       "0  organic  ethylammonium         homo   -0.4601\n",
       "1  organic  ethylammonium         lumo  -0.22398\n",
       "2  organic  ethylammonium       dipole    1.3965\n",
       "3  organic  ethylammonium  atomization  -1.84142\n",
       "4  organic  ethylammonium        r_gyr  1.261565"
      ]
     },
     "execution_count": 8,
     "metadata": {},
     "output_type": "execute_result"
    }
   ],
   "source": [
    "dset.descriptors.head()"
   ]
  },
  {
   "cell_type": "markdown",
   "metadata": {
    "id": "K6T4UjHOXl4I"
   },
   "source": [
    "We can instantiate the `GPPlanner` in the same way as in the continuious case, and it will automaticallty adapt to the fully categorical problem. The `use_descriptors` argument specifies whether or not to use descriptors of the categorical variable options. If we have no descritpors (one-hot-encoded representation), `atlas` will use a Categorical kernel based on Hamming distances. If we do have descriptors, `atlas` will use the Matern5/2 kernel. The acquisition optimization also differs in the fully categorical case from the continuous case. Try flipping the `use_descriptors` argument to `True`. Note that we've also pivoted the `init_design_strategy` to `random` from `lhs` (Latin Hypercube Sampling), which will not work with categorical parameter spaces."
   ]
  },
  {
   "cell_type": "code",
   "execution_count": 9,
   "metadata": {
    "colab": {
     "base_uri": "https://localhost:8080/"
    },
    "id": "vmT26vydWWma",
    "outputId": "ddcfb4bf-b97a-406d-ddfc-6c8699b804eb"
   },
   "outputs": [
    {
     "data": {
      "text/html": [
       "<pre style=\"white-space:pre;overflow-x:auto;line-height:normal;font-family:Menlo,'DejaVu Sans Mono',consolas,'Courier New',monospace\"><span style=\"color: #051923; text-decoration-color: #051923\">───────────────────────────────────────────────────────────────────────────────────────────────────────────────────</span>\n",
       "</pre>\n"
      ],
      "text/plain": [
       "\u001b[38;2;5;25;35m───────────────────────────────────────────────────────────────────────────────────────────────────────────────────\u001b[0m\n"
      ]
     },
     "metadata": {},
     "output_type": "display_data"
    },
    {
     "data": {
      "text/html": [
       "<pre style=\"white-space:pre;overflow-x:auto;line-height:normal;font-family:Menlo,'DejaVu Sans Mono',consolas,'Courier New',monospace\"><span style=\"color: #05a6fb; text-decoration-color: #05a6fb; font-weight: bold\">                                                                                                                   </span>\n",
       "<span style=\"color: #05a6fb; text-decoration-color: #05a6fb; font-weight: bold\">                                                 Welcome to ATLAS!                                                 </span>\n",
       "</pre>\n"
      ],
      "text/plain": [
       "\u001b[1;38;2;5;166;251m                                                 \u001b[0m\u001b[1;38;2;5;166;251m                 \u001b[0m\u001b[1;38;2;5;166;251m                                                 \u001b[0m\n",
       "\u001b[1;38;2;5;166;251m                                                 \u001b[0m\u001b[1;38;2;5;166;251mWelcome to ATLAS!\u001b[0m\u001b[1;38;2;5;166;251m                                                 \u001b[0m\n"
      ]
     },
     "metadata": {},
     "output_type": "display_data"
    },
    {
     "data": {
      "text/html": [
       "<pre style=\"white-space:pre;overflow-x:auto;line-height:normal;font-family:Menlo,'DejaVu Sans Mono',consolas,'Courier New',monospace\"><span style=\"color: #006494; text-decoration-color: #006494\">                                                Made with 💕 in 🇨🇦                                                 </span>\n",
       "<span style=\"color: #006494; text-decoration-color: #006494\">                                                                                                                   </span>\n",
       "</pre>\n"
      ],
      "text/plain": [
       "\u001b[38;2;0;100;148m                                                \u001b[0m\u001b[38;2;0;100;148mMade with 💕 in 🇨🇦\u001b[0m\u001b[38;2;0;100;148m                                                 \u001b[0m\n",
       "\u001b[38;2;0;100;148m                                                \u001b[0m\u001b[38;2;0;100;148m                  \u001b[0m\u001b[38;2;0;100;148m                                                 \u001b[0m\n"
      ]
     },
     "metadata": {},
     "output_type": "display_data"
    },
    {
     "data": {
      "text/html": [
       "<pre style=\"white-space:pre;overflow-x:auto;line-height:normal;font-family:Menlo,'DejaVu Sans Mono',consolas,'Courier New',monospace\"><span style=\"color: #051923; text-decoration-color: #051923\">───────────────────────────────────────────────────────────────────────────────────────────────────────────────────</span>\n",
       "</pre>\n"
      ],
      "text/plain": [
       "\u001b[38;2;5;25;35m───────────────────────────────────────────────────────────────────────────────────────────────────────────────────\u001b[0m\n"
      ]
     },
     "metadata": {},
     "output_type": "display_data"
    },
    {
     "data": {
      "text/html": [
       "<pre style=\"white-space:pre;overflow-x:auto;line-height:normal;font-family:Menlo,'DejaVu Sans Mono',consolas,'Courier New',monospace\"><span style=\"color: #05a6fb; text-decoration-color: #05a6fb\">───────────────────────────── Initial design phase ─────────────────────────────</span>\n",
       "</pre>\n"
      ],
      "text/plain": [
       "\u001b[38;2;5;166;251m───────────────────────────── Initial design phase ─────────────────────────────\u001b[0m\n"
      ]
     },
     "metadata": {},
     "output_type": "display_data"
    },
    {
     "data": {
      "text/html": [
       "<pre style=\"white-space:pre;overflow-x:auto;line-height:normal;font-family:Menlo,'DejaVu Sans Mono',consolas,'Courier New',monospace\">ATLAS <span style=\"font-weight: bold\">[</span>INFO<span style=\"font-weight: bold\">]</span> Generating <span style=\"color: #008080; text-decoration-color: #008080; font-weight: bold\">1</span> initial design points <span style=\"font-weight: bold\">(</span>batch <span style=\"color: #008080; text-decoration-color: #008080; font-weight: bold\">1</span>/<span style=\"color: #008080; text-decoration-color: #008080; font-weight: bold\">5</span><span style=\"font-weight: bold\">)</span>\n",
       "</pre>\n"
      ],
      "text/plain": [
       "ATLAS \u001b[1m[\u001b[0mINFO\u001b[1m]\u001b[0m Generating \u001b[1;36m1\u001b[0m initial design points \u001b[1m(\u001b[0mbatch \u001b[1;36m1\u001b[0m/\u001b[1;36m5\u001b[0m\u001b[1m)\u001b[0m\n"
      ]
     },
     "metadata": {},
     "output_type": "display_data"
    },
    {
     "name": "stdout",
     "output_type": "stream",
     "text": [
      "\n",
      "ITER : 1\n",
      "SAMPLE : ParamVector(organic = dimethylammonium, cation = Pb, anion = F)\n",
      "MEASUREMENT : ParamVector(hse_gap = 5.158484549404975)\n",
      "\n"
     ]
    },
    {
     "data": {
      "text/html": [
       "<pre style=\"white-space:pre;overflow-x:auto;line-height:normal;font-family:Menlo,'DejaVu Sans Mono',consolas,'Courier New',monospace\">ATLAS <span style=\"font-weight: bold\">[</span>INFO<span style=\"font-weight: bold\">]</span> Generating <span style=\"color: #008080; text-decoration-color: #008080; font-weight: bold\">1</span> initial design points <span style=\"font-weight: bold\">(</span>batch <span style=\"color: #008080; text-decoration-color: #008080; font-weight: bold\">2</span>/<span style=\"color: #008080; text-decoration-color: #008080; font-weight: bold\">5</span><span style=\"font-weight: bold\">)</span>\n",
       "</pre>\n"
      ],
      "text/plain": [
       "ATLAS \u001b[1m[\u001b[0mINFO\u001b[1m]\u001b[0m Generating \u001b[1;36m1\u001b[0m initial design points \u001b[1m(\u001b[0mbatch \u001b[1;36m2\u001b[0m/\u001b[1;36m5\u001b[0m\u001b[1m)\u001b[0m\n"
      ]
     },
     "metadata": {},
     "output_type": "display_data"
    },
    {
     "name": "stdout",
     "output_type": "stream",
     "text": [
      "\n",
      "ITER : 2\n",
      "SAMPLE : ParamVector(organic = trimethylammonium, cation = Pb, anion = Cl)\n",
      "MEASUREMENT : ParamVector(hse_gap = 3.5041221447407276)\n",
      "\n"
     ]
    },
    {
     "data": {
      "text/html": [
       "<pre style=\"white-space:pre;overflow-x:auto;line-height:normal;font-family:Menlo,'DejaVu Sans Mono',consolas,'Courier New',monospace\">ATLAS <span style=\"font-weight: bold\">[</span>INFO<span style=\"font-weight: bold\">]</span> Generating <span style=\"color: #008080; text-decoration-color: #008080; font-weight: bold\">1</span> initial design points <span style=\"font-weight: bold\">(</span>batch <span style=\"color: #008080; text-decoration-color: #008080; font-weight: bold\">3</span>/<span style=\"color: #008080; text-decoration-color: #008080; font-weight: bold\">5</span><span style=\"font-weight: bold\">)</span>\n",
       "</pre>\n"
      ],
      "text/plain": [
       "ATLAS \u001b[1m[\u001b[0mINFO\u001b[1m]\u001b[0m Generating \u001b[1;36m1\u001b[0m initial design points \u001b[1m(\u001b[0mbatch \u001b[1;36m3\u001b[0m/\u001b[1;36m5\u001b[0m\u001b[1m)\u001b[0m\n"
      ]
     },
     "metadata": {},
     "output_type": "display_data"
    },
    {
     "name": "stdout",
     "output_type": "stream",
     "text": [
      "\n",
      "ITER : 3\n",
      "SAMPLE : ParamVector(organic = isopropylammonium, cation = Pb, anion = F)\n",
      "MEASUREMENT : ParamVector(hse_gap = 5.508395399090587)\n",
      "\n"
     ]
    },
    {
     "data": {
      "text/html": [
       "<pre style=\"white-space:pre;overflow-x:auto;line-height:normal;font-family:Menlo,'DejaVu Sans Mono',consolas,'Courier New',monospace\">ATLAS <span style=\"font-weight: bold\">[</span>INFO<span style=\"font-weight: bold\">]</span> Generating <span style=\"color: #008080; text-decoration-color: #008080; font-weight: bold\">1</span> initial design points <span style=\"font-weight: bold\">(</span>batch <span style=\"color: #008080; text-decoration-color: #008080; font-weight: bold\">4</span>/<span style=\"color: #008080; text-decoration-color: #008080; font-weight: bold\">5</span><span style=\"font-weight: bold\">)</span>\n",
       "</pre>\n"
      ],
      "text/plain": [
       "ATLAS \u001b[1m[\u001b[0mINFO\u001b[1m]\u001b[0m Generating \u001b[1;36m1\u001b[0m initial design points \u001b[1m(\u001b[0mbatch \u001b[1;36m4\u001b[0m/\u001b[1;36m5\u001b[0m\u001b[1m)\u001b[0m\n"
      ]
     },
     "metadata": {},
     "output_type": "display_data"
    },
    {
     "name": "stdout",
     "output_type": "stream",
     "text": [
      "\n",
      "ITER : 4\n",
      "SAMPLE : ParamVector(organic = formamidinium, cation = Pb, anion = I)\n",
      "MEASUREMENT : ParamVector(hse_gap = 2.370226725681066)\n",
      "\n"
     ]
    },
    {
     "data": {
      "text/html": [
       "<pre style=\"white-space:pre;overflow-x:auto;line-height:normal;font-family:Menlo,'DejaVu Sans Mono',consolas,'Courier New',monospace\">ATLAS <span style=\"font-weight: bold\">[</span>INFO<span style=\"font-weight: bold\">]</span> Generating <span style=\"color: #008080; text-decoration-color: #008080; font-weight: bold\">1</span> initial design points <span style=\"font-weight: bold\">(</span>batch <span style=\"color: #008080; text-decoration-color: #008080; font-weight: bold\">5</span>/<span style=\"color: #008080; text-decoration-color: #008080; font-weight: bold\">5</span><span style=\"font-weight: bold\">)</span>\n",
       "</pre>\n"
      ],
      "text/plain": [
       "ATLAS \u001b[1m[\u001b[0mINFO\u001b[1m]\u001b[0m Generating \u001b[1;36m1\u001b[0m initial design points \u001b[1m(\u001b[0mbatch \u001b[1;36m5\u001b[0m/\u001b[1;36m5\u001b[0m\u001b[1m)\u001b[0m\n"
      ]
     },
     "metadata": {},
     "output_type": "display_data"
    },
    {
     "name": "stdout",
     "output_type": "stream",
     "text": [
      "\n",
      "ITER : 5\n",
      "SAMPLE : ParamVector(organic = tetramethylammonium, cation = Sn, anion = Cl)\n",
      "MEASUREMENT : ParamVector(hse_gap = 3.7993537696397612)\n",
      "\n"
     ]
    },
    {
     "data": {
      "text/html": [
       "<pre style=\"white-space:pre;overflow-x:auto;line-height:normal;font-family:Menlo,'DejaVu Sans Mono',consolas,'Courier New',monospace\"><span style=\"color: #05a6fb; text-decoration-color: #05a6fb\">───────────────────── Training regression surrogate model ──────────────────────</span>\n",
       "</pre>\n"
      ],
      "text/plain": [
       "\u001b[38;2;5;166;251m───────────────────── Training regression surrogate model ──────────────────────\u001b[0m\n"
      ]
     },
     "metadata": {},
     "output_type": "display_data"
    },
    {
     "name": "stderr",
     "output_type": "stream",
     "text": [
      "/Users/rileyhickman/mambaforge/envs/atlas_aag/lib/python3.10/site-packages/botorch/models/utils/assorted.py:173: InputDataWarning: Input data is not contained to the unit cube. Please consider min-max scaling the input data.\n",
      "  warnings.warn(msg, InputDataWarning)\n",
      "/Users/rileyhickman/mambaforge/envs/atlas_aag/lib/python3.10/site-packages/botorch/models/utils/assorted.py:201: InputDataWarning: Input data is not standardized. Please consider scaling the input to zero mean and unit variance.\n",
      "  warnings.warn(msg, InputDataWarning)\n"
     ]
    },
    {
     "data": {
      "text/html": [
       "<pre style=\"white-space:pre;overflow-x:auto;line-height:normal;font-family:Menlo,'DejaVu Sans Mono',consolas,'Courier New',monospace\">ATLAS <span style=\"font-weight: bold\">[</span>INFO<span style=\"font-weight: bold\">]</span> Regression surrogate GP trained in <span style=\"color: #008080; text-decoration-color: #008080; font-weight: bold\">0.024</span> sec\n",
       "</pre>\n"
      ],
      "text/plain": [
       "ATLAS \u001b[1m[\u001b[0mINFO\u001b[1m]\u001b[0m Regression surrogate GP trained in \u001b[1;36m0.024\u001b[0m sec\n"
      ]
     },
     "metadata": {},
     "output_type": "display_data"
    },
    {
     "data": {
      "text/html": [
       "<pre style=\"white-space:pre;overflow-x:auto;line-height:normal;font-family:Menlo,'DejaVu Sans Mono',consolas,'Courier New',monospace\"><span style=\"color: #05a6fb; text-decoration-color: #05a6fb\">────────────────────── Acquisition function optimization ───────────────────────</span>\n",
       "</pre>\n"
      ],
      "text/plain": [
       "\u001b[38;2;5;166;251m────────────────────── Acquisition function optimization ───────────────────────\u001b[0m\n"
      ]
     },
     "metadata": {},
     "output_type": "display_data"
    },
    {
     "name": "stdout",
     "output_type": "stream",
     "text": [
      "\n",
      "ITER : 6\n",
      "SAMPLE : ParamVector(organic = ethylammonium, cation = Ge, anion = F)\n",
      "MEASUREMENT : ParamVector(hse_gap = 5.372185960999942)\n",
      "\n"
     ]
    },
    {
     "data": {
      "text/html": [
       "<pre style=\"white-space:pre;overflow-x:auto;line-height:normal;font-family:Menlo,'DejaVu Sans Mono',consolas,'Courier New',monospace\"><span style=\"color: #05a6fb; text-decoration-color: #05a6fb\">───────────────────── Training regression surrogate model ──────────────────────</span>\n",
       "</pre>\n"
      ],
      "text/plain": [
       "\u001b[38;2;5;166;251m───────────────────── Training regression surrogate model ──────────────────────\u001b[0m\n"
      ]
     },
     "metadata": {},
     "output_type": "display_data"
    },
    {
     "name": "stderr",
     "output_type": "stream",
     "text": [
      "/Users/rileyhickman/mambaforge/envs/atlas_aag/lib/python3.10/site-packages/botorch/models/utils/assorted.py:173: InputDataWarning: Input data is not contained to the unit cube. Please consider min-max scaling the input data.\n",
      "  warnings.warn(msg, InputDataWarning)\n",
      "/Users/rileyhickman/mambaforge/envs/atlas_aag/lib/python3.10/site-packages/botorch/models/utils/assorted.py:201: InputDataWarning: Input data is not standardized. Please consider scaling the input to zero mean and unit variance.\n",
      "  warnings.warn(msg, InputDataWarning)\n"
     ]
    },
    {
     "data": {
      "text/html": [
       "<pre style=\"white-space:pre;overflow-x:auto;line-height:normal;font-family:Menlo,'DejaVu Sans Mono',consolas,'Courier New',monospace\">ATLAS <span style=\"font-weight: bold\">[</span>INFO<span style=\"font-weight: bold\">]</span> Regression surrogate GP trained in <span style=\"color: #008080; text-decoration-color: #008080; font-weight: bold\">0.023</span> sec\n",
       "</pre>\n"
      ],
      "text/plain": [
       "ATLAS \u001b[1m[\u001b[0mINFO\u001b[1m]\u001b[0m Regression surrogate GP trained in \u001b[1;36m0.023\u001b[0m sec\n"
      ]
     },
     "metadata": {},
     "output_type": "display_data"
    },
    {
     "data": {
      "text/html": [
       "<pre style=\"white-space:pre;overflow-x:auto;line-height:normal;font-family:Menlo,'DejaVu Sans Mono',consolas,'Courier New',monospace\"><span style=\"color: #05a6fb; text-decoration-color: #05a6fb\">────────────────────── Acquisition function optimization ───────────────────────</span>\n",
       "</pre>\n"
      ],
      "text/plain": [
       "\u001b[38;2;5;166;251m────────────────────── Acquisition function optimization ───────────────────────\u001b[0m\n"
      ]
     },
     "metadata": {},
     "output_type": "display_data"
    },
    {
     "name": "stdout",
     "output_type": "stream",
     "text": [
      "\n",
      "ITER : 7\n",
      "SAMPLE : ParamVector(organic = ethylammonium, cation = Ge, anion = Cl)\n",
      "MEASUREMENT : ParamVector(hse_gap = 3.1240590287604952)\n",
      "\n"
     ]
    },
    {
     "data": {
      "text/html": [
       "<pre style=\"white-space:pre;overflow-x:auto;line-height:normal;font-family:Menlo,'DejaVu Sans Mono',consolas,'Courier New',monospace\"><span style=\"color: #05a6fb; text-decoration-color: #05a6fb\">───────────────────── Training regression surrogate model ──────────────────────</span>\n",
       "</pre>\n"
      ],
      "text/plain": [
       "\u001b[38;2;5;166;251m───────────────────── Training regression surrogate model ──────────────────────\u001b[0m\n"
      ]
     },
     "metadata": {},
     "output_type": "display_data"
    },
    {
     "name": "stderr",
     "output_type": "stream",
     "text": [
      "/Users/rileyhickman/mambaforge/envs/atlas_aag/lib/python3.10/site-packages/botorch/models/utils/assorted.py:173: InputDataWarning: Input data is not contained to the unit cube. Please consider min-max scaling the input data.\n",
      "  warnings.warn(msg, InputDataWarning)\n",
      "/Users/rileyhickman/mambaforge/envs/atlas_aag/lib/python3.10/site-packages/botorch/models/utils/assorted.py:201: InputDataWarning: Input data is not standardized. Please consider scaling the input to zero mean and unit variance.\n",
      "  warnings.warn(msg, InputDataWarning)\n"
     ]
    },
    {
     "data": {
      "text/html": [
       "<pre style=\"white-space:pre;overflow-x:auto;line-height:normal;font-family:Menlo,'DejaVu Sans Mono',consolas,'Courier New',monospace\">ATLAS <span style=\"font-weight: bold\">[</span>INFO<span style=\"font-weight: bold\">]</span> Regression surrogate GP trained in <span style=\"color: #008080; text-decoration-color: #008080; font-weight: bold\">0.021</span> sec\n",
       "</pre>\n"
      ],
      "text/plain": [
       "ATLAS \u001b[1m[\u001b[0mINFO\u001b[1m]\u001b[0m Regression surrogate GP trained in \u001b[1;36m0.021\u001b[0m sec\n"
      ]
     },
     "metadata": {},
     "output_type": "display_data"
    },
    {
     "data": {
      "text/html": [
       "<pre style=\"white-space:pre;overflow-x:auto;line-height:normal;font-family:Menlo,'DejaVu Sans Mono',consolas,'Courier New',monospace\"><span style=\"color: #05a6fb; text-decoration-color: #05a6fb\">────────────────────── Acquisition function optimization ───────────────────────</span>\n",
       "</pre>\n"
      ],
      "text/plain": [
       "\u001b[38;2;5;166;251m────────────────────── Acquisition function optimization ───────────────────────\u001b[0m\n"
      ]
     },
     "metadata": {},
     "output_type": "display_data"
    },
    {
     "name": "stdout",
     "output_type": "stream",
     "text": [
      "\n",
      "ITER : 8\n",
      "SAMPLE : ParamVector(organic = ethylammonium, cation = Ge, anion = Br)\n",
      "MEASUREMENT : ParamVector(hse_gap = 2.702796145279656)\n",
      "\n"
     ]
    },
    {
     "data": {
      "text/html": [
       "<pre style=\"white-space:pre;overflow-x:auto;line-height:normal;font-family:Menlo,'DejaVu Sans Mono',consolas,'Courier New',monospace\"><span style=\"color: #05a6fb; text-decoration-color: #05a6fb\">───────────────────── Training regression surrogate model ──────────────────────</span>\n",
       "</pre>\n"
      ],
      "text/plain": [
       "\u001b[38;2;5;166;251m───────────────────── Training regression surrogate model ──────────────────────\u001b[0m\n"
      ]
     },
     "metadata": {},
     "output_type": "display_data"
    },
    {
     "name": "stderr",
     "output_type": "stream",
     "text": [
      "/Users/rileyhickman/mambaforge/envs/atlas_aag/lib/python3.10/site-packages/botorch/models/utils/assorted.py:173: InputDataWarning: Input data is not contained to the unit cube. Please consider min-max scaling the input data.\n",
      "  warnings.warn(msg, InputDataWarning)\n",
      "/Users/rileyhickman/mambaforge/envs/atlas_aag/lib/python3.10/site-packages/botorch/models/utils/assorted.py:201: InputDataWarning: Input data is not standardized. Please consider scaling the input to zero mean and unit variance.\n",
      "  warnings.warn(msg, InputDataWarning)\n"
     ]
    },
    {
     "data": {
      "text/html": [
       "<pre style=\"white-space:pre;overflow-x:auto;line-height:normal;font-family:Menlo,'DejaVu Sans Mono',consolas,'Courier New',monospace\">ATLAS <span style=\"font-weight: bold\">[</span>INFO<span style=\"font-weight: bold\">]</span> Regression surrogate GP trained in <span style=\"color: #008080; text-decoration-color: #008080; font-weight: bold\">0.024</span> sec\n",
       "</pre>\n"
      ],
      "text/plain": [
       "ATLAS \u001b[1m[\u001b[0mINFO\u001b[1m]\u001b[0m Regression surrogate GP trained in \u001b[1;36m0.024\u001b[0m sec\n"
      ]
     },
     "metadata": {},
     "output_type": "display_data"
    },
    {
     "data": {
      "text/html": [
       "<pre style=\"white-space:pre;overflow-x:auto;line-height:normal;font-family:Menlo,'DejaVu Sans Mono',consolas,'Courier New',monospace\"><span style=\"color: #05a6fb; text-decoration-color: #05a6fb\">────────────────────── Acquisition function optimization ───────────────────────</span>\n",
       "</pre>\n"
      ],
      "text/plain": [
       "\u001b[38;2;5;166;251m────────────────────── Acquisition function optimization ───────────────────────\u001b[0m\n"
      ]
     },
     "metadata": {},
     "output_type": "display_data"
    },
    {
     "name": "stdout",
     "output_type": "stream",
     "text": [
      "\n",
      "ITER : 9\n",
      "SAMPLE : ParamVector(organic = ethylammonium, cation = Ge, anion = I)\n",
      "MEASUREMENT : ParamVector(hse_gap = 2.216092161311188)\n",
      "\n"
     ]
    },
    {
     "data": {
      "text/html": [
       "<pre style=\"white-space:pre;overflow-x:auto;line-height:normal;font-family:Menlo,'DejaVu Sans Mono',consolas,'Courier New',monospace\"><span style=\"color: #05a6fb; text-decoration-color: #05a6fb\">───────────────────── Training regression surrogate model ──────────────────────</span>\n",
       "</pre>\n"
      ],
      "text/plain": [
       "\u001b[38;2;5;166;251m───────────────────── Training regression surrogate model ──────────────────────\u001b[0m\n"
      ]
     },
     "metadata": {},
     "output_type": "display_data"
    },
    {
     "name": "stderr",
     "output_type": "stream",
     "text": [
      "/Users/rileyhickman/mambaforge/envs/atlas_aag/lib/python3.10/site-packages/botorch/models/utils/assorted.py:173: InputDataWarning: Input data is not contained to the unit cube. Please consider min-max scaling the input data.\n",
      "  warnings.warn(msg, InputDataWarning)\n",
      "/Users/rileyhickman/mambaforge/envs/atlas_aag/lib/python3.10/site-packages/botorch/models/utils/assorted.py:201: InputDataWarning: Input data is not standardized. Please consider scaling the input to zero mean and unit variance.\n",
      "  warnings.warn(msg, InputDataWarning)\n"
     ]
    },
    {
     "data": {
      "text/html": [
       "<pre style=\"white-space:pre;overflow-x:auto;line-height:normal;font-family:Menlo,'DejaVu Sans Mono',consolas,'Courier New',monospace\">ATLAS <span style=\"font-weight: bold\">[</span>INFO<span style=\"font-weight: bold\">]</span> Regression surrogate GP trained in <span style=\"color: #008080; text-decoration-color: #008080; font-weight: bold\">0.019</span> sec\n",
       "</pre>\n"
      ],
      "text/plain": [
       "ATLAS \u001b[1m[\u001b[0mINFO\u001b[1m]\u001b[0m Regression surrogate GP trained in \u001b[1;36m0.019\u001b[0m sec\n"
      ]
     },
     "metadata": {},
     "output_type": "display_data"
    },
    {
     "data": {
      "text/html": [
       "<pre style=\"white-space:pre;overflow-x:auto;line-height:normal;font-family:Menlo,'DejaVu Sans Mono',consolas,'Courier New',monospace\"><span style=\"color: #05a6fb; text-decoration-color: #05a6fb\">────────────────────── Acquisition function optimization ───────────────────────</span>\n",
       "</pre>\n"
      ],
      "text/plain": [
       "\u001b[38;2;5;166;251m────────────────────── Acquisition function optimization ───────────────────────\u001b[0m\n"
      ]
     },
     "metadata": {},
     "output_type": "display_data"
    },
    {
     "name": "stdout",
     "output_type": "stream",
     "text": [
      "\n",
      "ITER : 10\n",
      "SAMPLE : ParamVector(organic = ethylammonium, cation = Sn, anion = F)\n",
      "MEASUREMENT : ParamVector(hse_gap = 4.014873442419595)\n",
      "\n"
     ]
    }
   ],
   "source": [
    "# instantiate atlas planner\n",
    "planner = GPPlanner(\n",
    "      goal='minimize',\n",
    "      init_design_strategy='random', \n",
    "      num_init_design=5,\n",
    "      batch_size=1,\n",
    "      use_descriptors=True,\n",
    ")\n",
    "planner.set_param_space(dset.param_space)\n",
    "\n",
    "# instantiate campaign\n",
    "campaign = Campaign()\n",
    "campaign.set_param_space(dset.param_space)\n",
    "\n",
    "# commence the optimization experiment\n",
    "BUDGET = 10\n",
    "iter_ = 0\n",
    "while len(campaign.observations.get_values()) < BUDGET:\n",
    "\n",
    "    # ask atlas for parameters to measure next\n",
    "    samples = planner.recommend(campaign.observations)\n",
    "\n",
    "    # evaluate samples using the emulator and add observation to \n",
    "    # the Olympus campaign object\n",
    "    for sample in samples:\n",
    "        measurement = dset.run(sample, return_paramvector=True)\n",
    "        print(f'\\nITER : {iter_+1}\\nSAMPLE : {sample}\\nMEASUREMENT : {measurement[0]}\\n')\n",
    "        campaign.add_observation(sample, measurement[0])\n",
    "        \n",
    "        iter_+=1"
   ]
  },
  {
   "cell_type": "markdown",
   "metadata": {
    "id": "NvBJ_R8CJ-x6"
   },
   "source": [
    "## Optimization of mixed-parameter spaces\n",
    "\n",
    "Mixed parameter spaces are defined as those with heterogenous parameter types. These parameter spaces are extremely important in chemistry and materials science. Researchers often seek to choose categorical or discrete options (e.g. catalyst ligand for a chemical reaction) while simultaneously tuning continious parameters (e.g. reaction temperature, reaction time, substrate concentrations). \n",
    "\n",
    "As an illustrative example, lets consider the `suzuki_iii` dataset from `olympus`, which reports the yeild and catalyst turnover number for flow-based Suzuki-Miyaura cross-coupling reactions with varying substrates. There are three continous parameters (temperature, residence time, and catalyst loading) and one categorical parameter (Pd catalyst ligand). The objective is to simultaneously maximize both the yield and catalyst turnover number. \n",
    "\n"
   ]
  },
  {
   "cell_type": "markdown",
   "metadata": {
    "id": "Tm2b1navJ-x6"
   },
   "source": [
    "## Optimization with a priori known constraints\n",
    "\n",
    "_A priori_ known parameter constraints are a pervasive topic in experimental science optimization campaigns. Although the value of the constraint function $c(\\mathbf{x})$ is known beforehand by the researcher, the constraints may be interdependent, non-linear, and result in non-compact optimization domains. For example, when optimizing the yield of a chemical reaction, one might want the temperature, $T$, to be varied in the interval $10 < T < 100^{\\circ}\\text{C}$ for experiments using water as the solvent, but in the interval $10 < T < 66^{\\circ}\\text{C}$ for experiments using THF. \n",
    "\n",
    "`atlas` provides a simple, flexible interface to deal with known constraints on the parameter space. To the constructor of any of its planners, users may provide a list of Python callables which, for a single set of input parameters, return a boolean: `True` if the set of parameters is feasible, and `False` if not. Lets consider a simple example using the 2d `Dejong` surface from `olympus`."
   ]
  },
  {
   "cell_type": "code",
   "execution_count": 10,
   "metadata": {
    "id": "cyg18L3TJ-x7"
   },
   "outputs": [],
   "source": [
    "from olympus.surfaces import Surface\n",
    "\n",
    "# intialize Dejong surface (2d parameter space by default)\n",
    "surface = Surface(kind='Dejong')\n",
    "\n",
    "# define the constraint function\n",
    "def known_constraint(params):\n",
    "    # params is a array-like object representing one parameter setting\n",
    "    y = (params[0]-0.5)**2 + (params[1]-0.5)**2\n",
    "    if np.abs(params[0]-params[1]) < 0.1:\n",
    "        return False\n",
    "    if 0.05 < y < 0.15:\n",
    "        return False\n",
    "    else:\n",
    "        return True"
   ]
  },
  {
   "cell_type": "markdown",
   "metadata": {
    "id": "Bnja2DyumCKS"
   },
   "source": [
    "Next, we initialize the planner, and pass a list of the known constraint callables for the `known_constraints` argument (here we only have one callable, but `atlas` supports evaluation of an arbitrary number). "
   ]
  },
  {
   "cell_type": "code",
   "execution_count": 11,
   "metadata": {
    "id": "hCoG-j6JmBV7"
   },
   "outputs": [
    {
     "data": {
      "text/html": [
       "<pre style=\"white-space:pre;overflow-x:auto;line-height:normal;font-family:Menlo,'DejaVu Sans Mono',consolas,'Courier New',monospace\"><span style=\"color: #051923; text-decoration-color: #051923\">───────────────────────────────────────────────────────────────────────────────────────────────────────────────────</span>\n",
       "</pre>\n"
      ],
      "text/plain": [
       "\u001b[38;2;5;25;35m───────────────────────────────────────────────────────────────────────────────────────────────────────────────────\u001b[0m\n"
      ]
     },
     "metadata": {},
     "output_type": "display_data"
    },
    {
     "data": {
      "text/html": [
       "<pre style=\"white-space:pre;overflow-x:auto;line-height:normal;font-family:Menlo,'DejaVu Sans Mono',consolas,'Courier New',monospace\"><span style=\"color: #05a6fb; text-decoration-color: #05a6fb; font-weight: bold\">                                                                                                                   </span>\n",
       "<span style=\"color: #05a6fb; text-decoration-color: #05a6fb; font-weight: bold\">                                                 Welcome to ATLAS!                                                 </span>\n",
       "</pre>\n"
      ],
      "text/plain": [
       "\u001b[1;38;2;5;166;251m                                                 \u001b[0m\u001b[1;38;2;5;166;251m                 \u001b[0m\u001b[1;38;2;5;166;251m                                                 \u001b[0m\n",
       "\u001b[1;38;2;5;166;251m                                                 \u001b[0m\u001b[1;38;2;5;166;251mWelcome to ATLAS!\u001b[0m\u001b[1;38;2;5;166;251m                                                 \u001b[0m\n"
      ]
     },
     "metadata": {},
     "output_type": "display_data"
    },
    {
     "data": {
      "text/html": [
       "<pre style=\"white-space:pre;overflow-x:auto;line-height:normal;font-family:Menlo,'DejaVu Sans Mono',consolas,'Courier New',monospace\"><span style=\"color: #006494; text-decoration-color: #006494\">                                                Made with 💕 in 🇨🇦                                                 </span>\n",
       "<span style=\"color: #006494; text-decoration-color: #006494\">                                                                                                                   </span>\n",
       "</pre>\n"
      ],
      "text/plain": [
       "\u001b[38;2;0;100;148m                                                \u001b[0m\u001b[38;2;0;100;148mMade with 💕 in 🇨🇦\u001b[0m\u001b[38;2;0;100;148m                                                 \u001b[0m\n",
       "\u001b[38;2;0;100;148m                                                \u001b[0m\u001b[38;2;0;100;148m                  \u001b[0m\u001b[38;2;0;100;148m                                                 \u001b[0m\n"
      ]
     },
     "metadata": {},
     "output_type": "display_data"
    },
    {
     "data": {
      "text/html": [
       "<pre style=\"white-space:pre;overflow-x:auto;line-height:normal;font-family:Menlo,'DejaVu Sans Mono',consolas,'Courier New',monospace\"><span style=\"color: #051923; text-decoration-color: #051923\">───────────────────────────────────────────────────────────────────────────────────────────────────────────────────</span>\n",
       "</pre>\n"
      ],
      "text/plain": [
       "\u001b[38;2;5;25;35m───────────────────────────────────────────────────────────────────────────────────────────────────────────────────\u001b[0m\n"
      ]
     },
     "metadata": {},
     "output_type": "display_data"
    },
    {
     "data": {
      "text/html": [
       "<pre style=\"white-space:pre;overflow-x:auto;line-height:normal;font-family:Menlo,'DejaVu Sans Mono',consolas,'Courier New',monospace\"><span style=\"color: #05a6fb; text-decoration-color: #05a6fb\">───────────────────────────── Initial design phase ─────────────────────────────</span>\n",
       "</pre>\n"
      ],
      "text/plain": [
       "\u001b[38;2;5;166;251m───────────────────────────── Initial design phase ─────────────────────────────\u001b[0m\n"
      ]
     },
     "metadata": {},
     "output_type": "display_data"
    }
   ],
   "source": [
    "# initialize the planner with kwown constraints\n",
    "planner = GPPlanner(\n",
    "        goal=\"minimize\",\n",
    "        init_design_strategy='random',\n",
    "        num_init_design=5,\n",
    "        batch_size=1,\n",
    "        acquisition_optimizer_kind='pymoo',\n",
    "        known_constraints=[known_constraint],\n",
    "    )\n",
    "planner.set_param_space(surface.param_space)\n",
    "\n",
    "# initialize campaign\n",
    "campaign = Campaign()\n",
    "campaign.set_param_space(surface.param_space)"
   ]
  },
  {
   "cell_type": "code",
   "execution_count": 12,
   "metadata": {
    "colab": {
     "base_uri": "https://localhost:8080/",
     "height": 661
    },
    "id": "HgrvLExEo2Cl",
    "outputId": "9132dfb1-bb2c-4c7b-fba0-1a585781b162"
   },
   "outputs": [
    {
     "data": {
      "text/html": [
       "<pre style=\"white-space:pre;overflow-x:auto;line-height:normal;font-family:Menlo,'DejaVu Sans Mono',consolas,'Courier New',monospace\">ATLAS <span style=\"font-weight: bold\">[</span>INFO<span style=\"font-weight: bold\">]</span> Generating <span style=\"color: #008080; text-decoration-color: #008080; font-weight: bold\">1</span> initial design points <span style=\"font-weight: bold\">(</span>batch <span style=\"color: #008080; text-decoration-color: #008080; font-weight: bold\">1</span>/<span style=\"color: #008080; text-decoration-color: #008080; font-weight: bold\">5</span><span style=\"font-weight: bold\">)</span>\n",
       "</pre>\n"
      ],
      "text/plain": [
       "ATLAS \u001b[1m[\u001b[0mINFO\u001b[1m]\u001b[0m Generating \u001b[1;36m1\u001b[0m initial design points \u001b[1m(\u001b[0mbatch \u001b[1;36m1\u001b[0m/\u001b[1;36m5\u001b[0m\u001b[1m)\u001b[0m\n"
      ]
     },
     "metadata": {},
     "output_type": "display_data"
    },
    {
     "name": "stdout",
     "output_type": "stream",
     "text": [
      "\n",
      "SAMPLE : ParamVector(param_0 = 0.6555782987321565, param_1 = 0.3791476384108612)\n",
      "MEASUREMENT : 2.3466390126198697\n",
      "\n"
     ]
    },
    {
     "data": {
      "text/html": [
       "<pre style=\"white-space:pre;overflow-x:auto;line-height:normal;font-family:Menlo,'DejaVu Sans Mono',consolas,'Courier New',monospace\">ATLAS <span style=\"font-weight: bold\">[</span>INFO<span style=\"font-weight: bold\">]</span> Generating <span style=\"color: #008080; text-decoration-color: #008080; font-weight: bold\">1</span> initial design points <span style=\"font-weight: bold\">(</span>batch <span style=\"color: #008080; text-decoration-color: #008080; font-weight: bold\">2</span>/<span style=\"color: #008080; text-decoration-color: #008080; font-weight: bold\">5</span><span style=\"font-weight: bold\">)</span>\n",
       "</pre>\n"
      ],
      "text/plain": [
       "ATLAS \u001b[1m[\u001b[0mINFO\u001b[1m]\u001b[0m Generating \u001b[1;36m1\u001b[0m initial design points \u001b[1m(\u001b[0mbatch \u001b[1;36m2\u001b[0m/\u001b[1;36m5\u001b[0m\u001b[1m)\u001b[0m\n"
      ]
     },
     "metadata": {},
     "output_type": "display_data"
    },
    {
     "name": "stdout",
     "output_type": "stream",
     "text": [
      "\n",
      "SAMPLE : ParamVector(param_0 = 0.022081075480914647, param_1 = 0.2323229486688222)\n",
      "MEASUREMENT : 3.822219583295823\n",
      "\n"
     ]
    },
    {
     "data": {
      "text/html": [
       "<pre style=\"white-space:pre;overflow-x:auto;line-height:normal;font-family:Menlo,'DejaVu Sans Mono',consolas,'Courier New',monospace\">ATLAS <span style=\"font-weight: bold\">[</span>INFO<span style=\"font-weight: bold\">]</span> Generating <span style=\"color: #008080; text-decoration-color: #008080; font-weight: bold\">1</span> initial design points <span style=\"font-weight: bold\">(</span>batch <span style=\"color: #008080; text-decoration-color: #008080; font-weight: bold\">3</span>/<span style=\"color: #008080; text-decoration-color: #008080; font-weight: bold\">5</span><span style=\"font-weight: bold\">)</span>\n",
       "</pre>\n"
      ],
      "text/plain": [
       "ATLAS \u001b[1m[\u001b[0mINFO\u001b[1m]\u001b[0m Generating \u001b[1;36m1\u001b[0m initial design points \u001b[1m(\u001b[0mbatch \u001b[1;36m3\u001b[0m/\u001b[1;36m5\u001b[0m\u001b[1m)\u001b[0m\n"
      ]
     },
     "metadata": {},
     "output_type": "display_data"
    },
    {
     "name": "stdout",
     "output_type": "stream",
     "text": [
      "\n",
      "SAMPLE : ParamVector(param_0 = 0.8737222655774795, param_1 = 0.2681724794400605)\n",
      "MEASUREMENT : 3.4557780863672627\n",
      "\n"
     ]
    },
    {
     "data": {
      "text/html": [
       "<pre style=\"white-space:pre;overflow-x:auto;line-height:normal;font-family:Menlo,'DejaVu Sans Mono',consolas,'Courier New',monospace\">ATLAS <span style=\"font-weight: bold\">[</span>INFO<span style=\"font-weight: bold\">]</span> Generating <span style=\"color: #008080; text-decoration-color: #008080; font-weight: bold\">1</span> initial design points <span style=\"font-weight: bold\">(</span>batch <span style=\"color: #008080; text-decoration-color: #008080; font-weight: bold\">4</span>/<span style=\"color: #008080; text-decoration-color: #008080; font-weight: bold\">5</span><span style=\"font-weight: bold\">)</span>\n",
       "</pre>\n"
      ],
      "text/plain": [
       "ATLAS \u001b[1m[\u001b[0mINFO\u001b[1m]\u001b[0m Generating \u001b[1;36m1\u001b[0m initial design points \u001b[1m(\u001b[0mbatch \u001b[1;36m4\u001b[0m/\u001b[1;36m5\u001b[0m\u001b[1m)\u001b[0m\n"
      ]
     },
     "metadata": {},
     "output_type": "display_data"
    },
    {
     "name": "stdout",
     "output_type": "stream",
     "text": [
      "\n",
      "SAMPLE : ParamVector(param_0 = 0.869786706144339, param_1 = 0.02517381833805432)\n",
      "MEASUREMENT : 4.102034563930969\n",
      "\n"
     ]
    },
    {
     "data": {
      "text/html": [
       "<pre style=\"white-space:pre;overflow-x:auto;line-height:normal;font-family:Menlo,'DejaVu Sans Mono',consolas,'Courier New',monospace\">ATLAS <span style=\"font-weight: bold\">[</span>INFO<span style=\"font-weight: bold\">]</span> Generating <span style=\"color: #008080; text-decoration-color: #008080; font-weight: bold\">1</span> initial design points <span style=\"font-weight: bold\">(</span>batch <span style=\"color: #008080; text-decoration-color: #008080; font-weight: bold\">5</span>/<span style=\"color: #008080; text-decoration-color: #008080; font-weight: bold\">5</span><span style=\"font-weight: bold\">)</span>\n",
       "</pre>\n"
      ],
      "text/plain": [
       "ATLAS \u001b[1m[\u001b[0mINFO\u001b[1m]\u001b[0m Generating \u001b[1;36m1\u001b[0m initial design points \u001b[1m(\u001b[0mbatch \u001b[1;36m5\u001b[0m/\u001b[1;36m5\u001b[0m\u001b[1m)\u001b[0m\n"
      ]
     },
     "metadata": {},
     "output_type": "display_data"
    },
    {
     "name": "stdout",
     "output_type": "stream",
     "text": [
      "\n",
      "SAMPLE : ParamVector(param_0 = 0.6043824520534772, param_1 = 0.11833267263182834)\n",
      "MEASUREMENT : 2.975308100009526\n",
      "\n"
     ]
    },
    {
     "data": {
      "text/html": [
       "<pre style=\"white-space:pre;overflow-x:auto;line-height:normal;font-family:Menlo,'DejaVu Sans Mono',consolas,'Courier New',monospace\"><span style=\"color: #05a6fb; text-decoration-color: #05a6fb\">───────────────────── Training regression surrogate model ──────────────────────</span>\n",
       "</pre>\n"
      ],
      "text/plain": [
       "\u001b[38;2;5;166;251m───────────────────── Training regression surrogate model ──────────────────────\u001b[0m\n"
      ]
     },
     "metadata": {},
     "output_type": "display_data"
    },
    {
     "name": "stderr",
     "output_type": "stream",
     "text": [
      "/Users/rileyhickman/mambaforge/envs/atlas_aag/lib/python3.10/site-packages/botorch/models/utils/assorted.py:201: InputDataWarning: Input data is not standardized. Please consider scaling the input to zero mean and unit variance.\n",
      "  warnings.warn(msg, InputDataWarning)\n"
     ]
    },
    {
     "data": {
      "text/html": [
       "<pre style=\"white-space:pre;overflow-x:auto;line-height:normal;font-family:Menlo,'DejaVu Sans Mono',consolas,'Courier New',monospace\">ATLAS <span style=\"font-weight: bold\">[</span>INFO<span style=\"font-weight: bold\">]</span> Regression surrogate GP trained in <span style=\"color: #008080; text-decoration-color: #008080; font-weight: bold\">0.029</span> sec\n",
       "</pre>\n"
      ],
      "text/plain": [
       "ATLAS \u001b[1m[\u001b[0mINFO\u001b[1m]\u001b[0m Regression surrogate GP trained in \u001b[1;36m0.029\u001b[0m sec\n"
      ]
     },
     "metadata": {},
     "output_type": "display_data"
    },
    {
     "data": {
      "text/html": [
       "<pre style=\"white-space:pre;overflow-x:auto;line-height:normal;font-family:Menlo,'DejaVu Sans Mono',consolas,'Courier New',monospace\"><span style=\"color: #05a6fb; text-decoration-color: #05a6fb\">────────────────────── Acquisition function optimization ───────────────────────</span>\n",
       "</pre>\n"
      ],
      "text/plain": [
       "\u001b[38;2;5;166;251m────────────────────── Acquisition function optimization ───────────────────────\u001b[0m\n"
      ]
     },
     "metadata": {},
     "output_type": "display_data"
    },
    {
     "data": {
      "text/html": [
       "<pre style=\"white-space:pre;overflow-x:auto;line-height:normal;font-family:Menlo,'DejaVu Sans Mono',consolas,'Courier New',monospace\">ATLAS <span style=\"font-weight: bold\">[</span>INFO<span style=\"font-weight: bold\">]</span> Optimizing acquisition function with pymoo GA for <span style=\"color: #008080; text-decoration-color: #008080; font-weight: bold\">0</span> fixed parameters<span style=\"color: #808000; text-decoration-color: #808000\">...</span>\n",
       "</pre>\n"
      ],
      "text/plain": [
       "ATLAS \u001b[1m[\u001b[0mINFO\u001b[1m]\u001b[0m Optimizing acquisition function with pymoo GA for \u001b[1;36m0\u001b[0m fixed parameters\u001b[33m...\u001b[0m\n"
      ]
     },
     "metadata": {},
     "output_type": "display_data"
    },
    {
     "name": "stdout",
     "output_type": "stream",
     "text": [
      "\n",
      "Compiled modules for significant speedup can not be used!\n",
      "https://pymoo.org/installation.html#installation\n",
      "\n",
      "To disable this warning:\n",
      "from pymoo.config import Config\n",
      "Config.warnings['not_compiled'] = False\n",
      "\n"
     ]
    },
    {
     "data": {
      "text/html": [
       "<pre style=\"white-space:pre;overflow-x:auto;line-height:normal;font-family:Menlo,'DejaVu Sans Mono',consolas,'Courier New',monospace\">ATLAS <span style=\"font-weight: bold\">[</span>INFO<span style=\"font-weight: bold\">]</span> Completed in <span style=\"color: #008080; text-decoration-color: #008080; font-weight: bold\">1.013</span> sec\n",
       "</pre>\n"
      ],
      "text/plain": [
       "ATLAS \u001b[1m[\u001b[0mINFO\u001b[1m]\u001b[0m Completed in \u001b[1;36m1.013\u001b[0m sec\n"
      ]
     },
     "metadata": {},
     "output_type": "display_data"
    },
    {
     "name": "stdout",
     "output_type": "stream",
     "text": [
      "\n",
      "SAMPLE : ParamVector(param_0 = 0.5237047095707732, param_1 = 0.3651705644363342)\n",
      "MEASUREMENT : 1.6480356049106768\n",
      "\n"
     ]
    },
    {
     "data": {
      "text/html": [
       "<pre style=\"white-space:pre;overflow-x:auto;line-height:normal;font-family:Menlo,'DejaVu Sans Mono',consolas,'Courier New',monospace\"><span style=\"color: #05a6fb; text-decoration-color: #05a6fb\">───────────────────── Training regression surrogate model ──────────────────────</span>\n",
       "</pre>\n"
      ],
      "text/plain": [
       "\u001b[38;2;5;166;251m───────────────────── Training regression surrogate model ──────────────────────\u001b[0m\n"
      ]
     },
     "metadata": {},
     "output_type": "display_data"
    },
    {
     "name": "stderr",
     "output_type": "stream",
     "text": [
      "/Users/rileyhickman/mambaforge/envs/atlas_aag/lib/python3.10/site-packages/botorch/models/utils/assorted.py:201: InputDataWarning: Input data is not standardized. Please consider scaling the input to zero mean and unit variance.\n",
      "  warnings.warn(msg, InputDataWarning)\n"
     ]
    },
    {
     "data": {
      "text/html": [
       "<pre style=\"white-space:pre;overflow-x:auto;line-height:normal;font-family:Menlo,'DejaVu Sans Mono',consolas,'Courier New',monospace\">ATLAS <span style=\"font-weight: bold\">[</span>INFO<span style=\"font-weight: bold\">]</span> Regression surrogate GP trained in <span style=\"color: #008080; text-decoration-color: #008080; font-weight: bold\">0.024</span> sec\n",
       "</pre>\n"
      ],
      "text/plain": [
       "ATLAS \u001b[1m[\u001b[0mINFO\u001b[1m]\u001b[0m Regression surrogate GP trained in \u001b[1;36m0.024\u001b[0m sec\n"
      ]
     },
     "metadata": {},
     "output_type": "display_data"
    },
    {
     "data": {
      "text/html": [
       "<pre style=\"white-space:pre;overflow-x:auto;line-height:normal;font-family:Menlo,'DejaVu Sans Mono',consolas,'Courier New',monospace\"><span style=\"color: #05a6fb; text-decoration-color: #05a6fb\">────────────────────── Acquisition function optimization ───────────────────────</span>\n",
       "</pre>\n"
      ],
      "text/plain": [
       "\u001b[38;2;5;166;251m────────────────────── Acquisition function optimization ───────────────────────\u001b[0m\n"
      ]
     },
     "metadata": {},
     "output_type": "display_data"
    },
    {
     "data": {
      "text/html": [
       "<pre style=\"white-space:pre;overflow-x:auto;line-height:normal;font-family:Menlo,'DejaVu Sans Mono',consolas,'Courier New',monospace\">ATLAS <span style=\"font-weight: bold\">[</span>INFO<span style=\"font-weight: bold\">]</span> Optimizing acquisition function with pymoo GA for <span style=\"color: #008080; text-decoration-color: #008080; font-weight: bold\">0</span> fixed parameters<span style=\"color: #808000; text-decoration-color: #808000\">...</span>\n",
       "</pre>\n"
      ],
      "text/plain": [
       "ATLAS \u001b[1m[\u001b[0mINFO\u001b[1m]\u001b[0m Optimizing acquisition function with pymoo GA for \u001b[1;36m0\u001b[0m fixed parameters\u001b[33m...\u001b[0m\n"
      ]
     },
     "metadata": {},
     "output_type": "display_data"
    },
    {
     "data": {
      "text/html": [
       "<pre style=\"white-space:pre;overflow-x:auto;line-height:normal;font-family:Menlo,'DejaVu Sans Mono',consolas,'Courier New',monospace\">ATLAS <span style=\"font-weight: bold\">[</span>INFO<span style=\"font-weight: bold\">]</span> Completed in <span style=\"color: #008080; text-decoration-color: #008080; font-weight: bold\">0.892</span> sec\n",
       "</pre>\n"
      ],
      "text/plain": [
       "ATLAS \u001b[1m[\u001b[0mINFO\u001b[1m]\u001b[0m Completed in \u001b[1;36m0.892\u001b[0m sec\n"
      ]
     },
     "metadata": {},
     "output_type": "display_data"
    },
    {
     "name": "stdout",
     "output_type": "stream",
     "text": [
      "\n",
      "SAMPLE : ParamVector(param_0 = 0.4382606213972745, param_1 = 0.33815200261629275)\n",
      "MEASUREMENT : 2.0579390403672555\n",
      "\n"
     ]
    },
    {
     "data": {
      "text/html": [
       "<pre style=\"white-space:pre;overflow-x:auto;line-height:normal;font-family:Menlo,'DejaVu Sans Mono',consolas,'Courier New',monospace\"><span style=\"color: #05a6fb; text-decoration-color: #05a6fb\">───────────────────── Training regression surrogate model ──────────────────────</span>\n",
       "</pre>\n"
      ],
      "text/plain": [
       "\u001b[38;2;5;166;251m───────────────────── Training regression surrogate model ──────────────────────\u001b[0m\n"
      ]
     },
     "metadata": {},
     "output_type": "display_data"
    },
    {
     "name": "stderr",
     "output_type": "stream",
     "text": [
      "/Users/rileyhickman/mambaforge/envs/atlas_aag/lib/python3.10/site-packages/botorch/models/utils/assorted.py:201: InputDataWarning: Input data is not standardized. Please consider scaling the input to zero mean and unit variance.\n",
      "  warnings.warn(msg, InputDataWarning)\n"
     ]
    },
    {
     "data": {
      "text/html": [
       "<pre style=\"white-space:pre;overflow-x:auto;line-height:normal;font-family:Menlo,'DejaVu Sans Mono',consolas,'Courier New',monospace\">ATLAS <span style=\"font-weight: bold\">[</span>INFO<span style=\"font-weight: bold\">]</span> Regression surrogate GP trained in <span style=\"color: #008080; text-decoration-color: #008080; font-weight: bold\">0.036</span> sec\n",
       "</pre>\n"
      ],
      "text/plain": [
       "ATLAS \u001b[1m[\u001b[0mINFO\u001b[1m]\u001b[0m Regression surrogate GP trained in \u001b[1;36m0.036\u001b[0m sec\n"
      ]
     },
     "metadata": {},
     "output_type": "display_data"
    },
    {
     "data": {
      "text/html": [
       "<pre style=\"white-space:pre;overflow-x:auto;line-height:normal;font-family:Menlo,'DejaVu Sans Mono',consolas,'Courier New',monospace\"><span style=\"color: #05a6fb; text-decoration-color: #05a6fb\">────────────────────── Acquisition function optimization ───────────────────────</span>\n",
       "</pre>\n"
      ],
      "text/plain": [
       "\u001b[38;2;5;166;251m────────────────────── Acquisition function optimization ───────────────────────\u001b[0m\n"
      ]
     },
     "metadata": {},
     "output_type": "display_data"
    },
    {
     "data": {
      "text/html": [
       "<pre style=\"white-space:pre;overflow-x:auto;line-height:normal;font-family:Menlo,'DejaVu Sans Mono',consolas,'Courier New',monospace\">ATLAS <span style=\"font-weight: bold\">[</span>INFO<span style=\"font-weight: bold\">]</span> Optimizing acquisition function with pymoo GA for <span style=\"color: #008080; text-decoration-color: #008080; font-weight: bold\">0</span> fixed parameters<span style=\"color: #808000; text-decoration-color: #808000\">...</span>\n",
       "</pre>\n"
      ],
      "text/plain": [
       "ATLAS \u001b[1m[\u001b[0mINFO\u001b[1m]\u001b[0m Optimizing acquisition function with pymoo GA for \u001b[1;36m0\u001b[0m fixed parameters\u001b[33m...\u001b[0m\n"
      ]
     },
     "metadata": {},
     "output_type": "display_data"
    },
    {
     "data": {
      "text/html": [
       "<pre style=\"white-space:pre;overflow-x:auto;line-height:normal;font-family:Menlo,'DejaVu Sans Mono',consolas,'Courier New',monospace\">ATLAS <span style=\"font-weight: bold\">[</span>INFO<span style=\"font-weight: bold\">]</span> Completed in <span style=\"color: #008080; text-decoration-color: #008080; font-weight: bold\">0.903</span> sec\n",
       "</pre>\n"
      ],
      "text/plain": [
       "ATLAS \u001b[1m[\u001b[0mINFO\u001b[1m]\u001b[0m Completed in \u001b[1;36m0.903\u001b[0m sec\n"
      ]
     },
     "metadata": {},
     "output_type": "display_data"
    },
    {
     "name": "stdout",
     "output_type": "stream",
     "text": [
      "\n",
      "SAMPLE : ParamVector(param_0 = 0.5376661524777424, param_1 = 0.4376521659823295)\n",
      "MEASUREMENT : 1.4033340119876048\n",
      "\n"
     ]
    },
    {
     "data": {
      "text/html": [
       "<pre style=\"white-space:pre;overflow-x:auto;line-height:normal;font-family:Menlo,'DejaVu Sans Mono',consolas,'Courier New',monospace\"><span style=\"color: #05a6fb; text-decoration-color: #05a6fb\">───────────────────── Training regression surrogate model ──────────────────────</span>\n",
       "</pre>\n"
      ],
      "text/plain": [
       "\u001b[38;2;5;166;251m───────────────────── Training regression surrogate model ──────────────────────\u001b[0m\n"
      ]
     },
     "metadata": {},
     "output_type": "display_data"
    },
    {
     "name": "stderr",
     "output_type": "stream",
     "text": [
      "/Users/rileyhickman/mambaforge/envs/atlas_aag/lib/python3.10/site-packages/botorch/models/utils/assorted.py:201: InputDataWarning: Input data is not standardized. Please consider scaling the input to zero mean and unit variance.\n",
      "  warnings.warn(msg, InputDataWarning)\n"
     ]
    },
    {
     "data": {
      "text/html": [
       "<pre style=\"white-space:pre;overflow-x:auto;line-height:normal;font-family:Menlo,'DejaVu Sans Mono',consolas,'Courier New',monospace\">ATLAS <span style=\"font-weight: bold\">[</span>INFO<span style=\"font-weight: bold\">]</span> Regression surrogate GP trained in <span style=\"color: #008080; text-decoration-color: #008080; font-weight: bold\">0.051</span> sec\n",
       "</pre>\n"
      ],
      "text/plain": [
       "ATLAS \u001b[1m[\u001b[0mINFO\u001b[1m]\u001b[0m Regression surrogate GP trained in \u001b[1;36m0.051\u001b[0m sec\n"
      ]
     },
     "metadata": {},
     "output_type": "display_data"
    },
    {
     "data": {
      "text/html": [
       "<pre style=\"white-space:pre;overflow-x:auto;line-height:normal;font-family:Menlo,'DejaVu Sans Mono',consolas,'Courier New',monospace\"><span style=\"color: #05a6fb; text-decoration-color: #05a6fb\">────────────────────── Acquisition function optimization ───────────────────────</span>\n",
       "</pre>\n"
      ],
      "text/plain": [
       "\u001b[38;2;5;166;251m────────────────────── Acquisition function optimization ───────────────────────\u001b[0m\n"
      ]
     },
     "metadata": {},
     "output_type": "display_data"
    },
    {
     "data": {
      "text/html": [
       "<pre style=\"white-space:pre;overflow-x:auto;line-height:normal;font-family:Menlo,'DejaVu Sans Mono',consolas,'Courier New',monospace\">ATLAS <span style=\"font-weight: bold\">[</span>INFO<span style=\"font-weight: bold\">]</span> Optimizing acquisition function with pymoo GA for <span style=\"color: #008080; text-decoration-color: #008080; font-weight: bold\">0</span> fixed parameters<span style=\"color: #808000; text-decoration-color: #808000\">...</span>\n",
       "</pre>\n"
      ],
      "text/plain": [
       "ATLAS \u001b[1m[\u001b[0mINFO\u001b[1m]\u001b[0m Optimizing acquisition function with pymoo GA for \u001b[1;36m0\u001b[0m fixed parameters\u001b[33m...\u001b[0m\n"
      ]
     },
     "metadata": {},
     "output_type": "display_data"
    },
    {
     "data": {
      "text/html": [
       "<pre style=\"white-space:pre;overflow-x:auto;line-height:normal;font-family:Menlo,'DejaVu Sans Mono',consolas,'Courier New',monospace\">ATLAS <span style=\"font-weight: bold\">[</span>INFO<span style=\"font-weight: bold\">]</span> Completed in <span style=\"color: #008080; text-decoration-color: #008080; font-weight: bold\">1.005</span> sec\n",
       "</pre>\n"
      ],
      "text/plain": [
       "ATLAS \u001b[1m[\u001b[0mINFO\u001b[1m]\u001b[0m Completed in \u001b[1;36m1.005\u001b[0m sec\n"
      ]
     },
     "metadata": {},
     "output_type": "display_data"
    },
    {
     "name": "stdout",
     "output_type": "stream",
     "text": [
      "\n",
      "SAMPLE : ParamVector(param_0 = 0.4629026466658483, param_1 = 0.5629155555122032)\n",
      "MEASUREMENT : 1.4022692314793348\n",
      "\n"
     ]
    },
    {
     "data": {
      "text/html": [
       "<pre style=\"white-space:pre;overflow-x:auto;line-height:normal;font-family:Menlo,'DejaVu Sans Mono',consolas,'Courier New',monospace\"><span style=\"color: #05a6fb; text-decoration-color: #05a6fb\">───────────────────── Training regression surrogate model ──────────────────────</span>\n",
       "</pre>\n"
      ],
      "text/plain": [
       "\u001b[38;2;5;166;251m───────────────────── Training regression surrogate model ──────────────────────\u001b[0m\n"
      ]
     },
     "metadata": {},
     "output_type": "display_data"
    },
    {
     "name": "stderr",
     "output_type": "stream",
     "text": [
      "/Users/rileyhickman/mambaforge/envs/atlas_aag/lib/python3.10/site-packages/botorch/models/utils/assorted.py:201: InputDataWarning: Input data is not standardized. Please consider scaling the input to zero mean and unit variance.\n",
      "  warnings.warn(msg, InputDataWarning)\n"
     ]
    },
    {
     "data": {
      "text/html": [
       "<pre style=\"white-space:pre;overflow-x:auto;line-height:normal;font-family:Menlo,'DejaVu Sans Mono',consolas,'Courier New',monospace\">ATLAS <span style=\"font-weight: bold\">[</span>INFO<span style=\"font-weight: bold\">]</span> Regression surrogate GP trained in <span style=\"color: #008080; text-decoration-color: #008080; font-weight: bold\">0.07</span> sec\n",
       "</pre>\n"
      ],
      "text/plain": [
       "ATLAS \u001b[1m[\u001b[0mINFO\u001b[1m]\u001b[0m Regression surrogate GP trained in \u001b[1;36m0.07\u001b[0m sec\n"
      ]
     },
     "metadata": {},
     "output_type": "display_data"
    },
    {
     "data": {
      "text/html": [
       "<pre style=\"white-space:pre;overflow-x:auto;line-height:normal;font-family:Menlo,'DejaVu Sans Mono',consolas,'Courier New',monospace\"><span style=\"color: #05a6fb; text-decoration-color: #05a6fb\">────────────────────── Acquisition function optimization ───────────────────────</span>\n",
       "</pre>\n"
      ],
      "text/plain": [
       "\u001b[38;2;5;166;251m────────────────────── Acquisition function optimization ───────────────────────\u001b[0m\n"
      ]
     },
     "metadata": {},
     "output_type": "display_data"
    },
    {
     "data": {
      "text/html": [
       "<pre style=\"white-space:pre;overflow-x:auto;line-height:normal;font-family:Menlo,'DejaVu Sans Mono',consolas,'Courier New',monospace\">ATLAS <span style=\"font-weight: bold\">[</span>INFO<span style=\"font-weight: bold\">]</span> Optimizing acquisition function with pymoo GA for <span style=\"color: #008080; text-decoration-color: #008080; font-weight: bold\">0</span> fixed parameters<span style=\"color: #808000; text-decoration-color: #808000\">...</span>\n",
       "</pre>\n"
      ],
      "text/plain": [
       "ATLAS \u001b[1m[\u001b[0mINFO\u001b[1m]\u001b[0m Optimizing acquisition function with pymoo GA for \u001b[1;36m0\u001b[0m fixed parameters\u001b[33m...\u001b[0m\n"
      ]
     },
     "metadata": {},
     "output_type": "display_data"
    },
    {
     "data": {
      "text/html": [
       "<pre style=\"white-space:pre;overflow-x:auto;line-height:normal;font-family:Menlo,'DejaVu Sans Mono',consolas,'Courier New',monospace\">ATLAS <span style=\"font-weight: bold\">[</span>INFO<span style=\"font-weight: bold\">]</span> Completed in <span style=\"color: #008080; text-decoration-color: #008080; font-weight: bold\">0.885</span> sec\n",
       "</pre>\n"
      ],
      "text/plain": [
       "ATLAS \u001b[1m[\u001b[0mINFO\u001b[1m]\u001b[0m Completed in \u001b[1;36m0.885\u001b[0m sec\n"
      ]
     },
     "metadata": {},
     "output_type": "display_data"
    },
    {
     "name": "stdout",
     "output_type": "stream",
     "text": [
      "\n",
      "SAMPLE : ParamVector(param_0 = 0.5326175664518463, param_1 = 0.6327628472111839)\n",
      "MEASUREMENT : 1.7233455206992347\n",
      "\n"
     ]
    },
    {
     "data": {
      "text/html": [
       "<pre style=\"white-space:pre;overflow-x:auto;line-height:normal;font-family:Menlo,'DejaVu Sans Mono',consolas,'Courier New',monospace\"><span style=\"color: #05a6fb; text-decoration-color: #05a6fb\">───────────────────── Training regression surrogate model ──────────────────────</span>\n",
       "</pre>\n"
      ],
      "text/plain": [
       "\u001b[38;2;5;166;251m───────────────────── Training regression surrogate model ──────────────────────\u001b[0m\n"
      ]
     },
     "metadata": {},
     "output_type": "display_data"
    },
    {
     "name": "stderr",
     "output_type": "stream",
     "text": [
      "/Users/rileyhickman/mambaforge/envs/atlas_aag/lib/python3.10/site-packages/botorch/models/utils/assorted.py:201: InputDataWarning: Input data is not standardized. Please consider scaling the input to zero mean and unit variance.\n",
      "  warnings.warn(msg, InputDataWarning)\n"
     ]
    },
    {
     "data": {
      "text/html": [
       "<pre style=\"white-space:pre;overflow-x:auto;line-height:normal;font-family:Menlo,'DejaVu Sans Mono',consolas,'Courier New',monospace\">ATLAS <span style=\"font-weight: bold\">[</span>INFO<span style=\"font-weight: bold\">]</span> Regression surrogate GP trained in <span style=\"color: #008080; text-decoration-color: #008080; font-weight: bold\">0.056</span> sec\n",
       "</pre>\n"
      ],
      "text/plain": [
       "ATLAS \u001b[1m[\u001b[0mINFO\u001b[1m]\u001b[0m Regression surrogate GP trained in \u001b[1;36m0.056\u001b[0m sec\n"
      ]
     },
     "metadata": {},
     "output_type": "display_data"
    },
    {
     "data": {
      "text/html": [
       "<pre style=\"white-space:pre;overflow-x:auto;line-height:normal;font-family:Menlo,'DejaVu Sans Mono',consolas,'Courier New',monospace\"><span style=\"color: #05a6fb; text-decoration-color: #05a6fb\">────────────────────── Acquisition function optimization ───────────────────────</span>\n",
       "</pre>\n"
      ],
      "text/plain": [
       "\u001b[38;2;5;166;251m────────────────────── Acquisition function optimization ───────────────────────\u001b[0m\n"
      ]
     },
     "metadata": {},
     "output_type": "display_data"
    },
    {
     "data": {
      "text/html": [
       "<pre style=\"white-space:pre;overflow-x:auto;line-height:normal;font-family:Menlo,'DejaVu Sans Mono',consolas,'Courier New',monospace\">ATLAS <span style=\"font-weight: bold\">[</span>INFO<span style=\"font-weight: bold\">]</span> Optimizing acquisition function with pymoo GA for <span style=\"color: #008080; text-decoration-color: #008080; font-weight: bold\">0</span> fixed parameters<span style=\"color: #808000; text-decoration-color: #808000\">...</span>\n",
       "</pre>\n"
      ],
      "text/plain": [
       "ATLAS \u001b[1m[\u001b[0mINFO\u001b[1m]\u001b[0m Optimizing acquisition function with pymoo GA for \u001b[1;36m0\u001b[0m fixed parameters\u001b[33m...\u001b[0m\n"
      ]
     },
     "metadata": {},
     "output_type": "display_data"
    },
    {
     "data": {
      "text/html": [
       "<pre style=\"white-space:pre;overflow-x:auto;line-height:normal;font-family:Menlo,'DejaVu Sans Mono',consolas,'Courier New',monospace\">ATLAS <span style=\"font-weight: bold\">[</span>INFO<span style=\"font-weight: bold\">]</span> Completed in <span style=\"color: #008080; text-decoration-color: #008080; font-weight: bold\">0.876</span> sec\n",
       "</pre>\n"
      ],
      "text/plain": [
       "ATLAS \u001b[1m[\u001b[0mINFO\u001b[1m]\u001b[0m Completed in \u001b[1;36m0.876\u001b[0m sec\n"
      ]
     },
     "metadata": {},
     "output_type": "display_data"
    },
    {
     "name": "stdout",
     "output_type": "stream",
     "text": [
      "\n",
      "SAMPLE : ParamVector(param_0 = 0.3016831388864723, param_1 = 0.8327470815798285)\n",
      "MEASUREMENT : 3.2323858300458346\n",
      "\n"
     ]
    },
    {
     "data": {
      "text/html": [
       "<pre style=\"white-space:pre;overflow-x:auto;line-height:normal;font-family:Menlo,'DejaVu Sans Mono',consolas,'Courier New',monospace\"><span style=\"color: #05a6fb; text-decoration-color: #05a6fb\">───────────────────── Training regression surrogate model ──────────────────────</span>\n",
       "</pre>\n"
      ],
      "text/plain": [
       "\u001b[38;2;5;166;251m───────────────────── Training regression surrogate model ──────────────────────\u001b[0m\n"
      ]
     },
     "metadata": {},
     "output_type": "display_data"
    },
    {
     "name": "stderr",
     "output_type": "stream",
     "text": [
      "/Users/rileyhickman/mambaforge/envs/atlas_aag/lib/python3.10/site-packages/botorch/models/utils/assorted.py:201: InputDataWarning: Input data is not standardized. Please consider scaling the input to zero mean and unit variance.\n",
      "  warnings.warn(msg, InputDataWarning)\n"
     ]
    },
    {
     "data": {
      "text/html": [
       "<pre style=\"white-space:pre;overflow-x:auto;line-height:normal;font-family:Menlo,'DejaVu Sans Mono',consolas,'Courier New',monospace\">ATLAS <span style=\"font-weight: bold\">[</span>INFO<span style=\"font-weight: bold\">]</span> Regression surrogate GP trained in <span style=\"color: #008080; text-decoration-color: #008080; font-weight: bold\">0.052</span> sec\n",
       "</pre>\n"
      ],
      "text/plain": [
       "ATLAS \u001b[1m[\u001b[0mINFO\u001b[1m]\u001b[0m Regression surrogate GP trained in \u001b[1;36m0.052\u001b[0m sec\n"
      ]
     },
     "metadata": {},
     "output_type": "display_data"
    },
    {
     "data": {
      "text/html": [
       "<pre style=\"white-space:pre;overflow-x:auto;line-height:normal;font-family:Menlo,'DejaVu Sans Mono',consolas,'Courier New',monospace\"><span style=\"color: #05a6fb; text-decoration-color: #05a6fb\">────────────────────── Acquisition function optimization ───────────────────────</span>\n",
       "</pre>\n"
      ],
      "text/plain": [
       "\u001b[38;2;5;166;251m────────────────────── Acquisition function optimization ───────────────────────\u001b[0m\n"
      ]
     },
     "metadata": {},
     "output_type": "display_data"
    },
    {
     "data": {
      "text/html": [
       "<pre style=\"white-space:pre;overflow-x:auto;line-height:normal;font-family:Menlo,'DejaVu Sans Mono',consolas,'Courier New',monospace\">ATLAS <span style=\"font-weight: bold\">[</span>INFO<span style=\"font-weight: bold\">]</span> Optimizing acquisition function with pymoo GA for <span style=\"color: #008080; text-decoration-color: #008080; font-weight: bold\">0</span> fixed parameters<span style=\"color: #808000; text-decoration-color: #808000\">...</span>\n",
       "</pre>\n"
      ],
      "text/plain": [
       "ATLAS \u001b[1m[\u001b[0mINFO\u001b[1m]\u001b[0m Optimizing acquisition function with pymoo GA for \u001b[1;36m0\u001b[0m fixed parameters\u001b[33m...\u001b[0m\n"
      ]
     },
     "metadata": {},
     "output_type": "display_data"
    },
    {
     "data": {
      "text/html": [
       "<pre style=\"white-space:pre;overflow-x:auto;line-height:normal;font-family:Menlo,'DejaVu Sans Mono',consolas,'Courier New',monospace\">ATLAS <span style=\"font-weight: bold\">[</span>INFO<span style=\"font-weight: bold\">]</span> Completed in <span style=\"color: #008080; text-decoration-color: #008080; font-weight: bold\">0.87</span> sec\n",
       "</pre>\n"
      ],
      "text/plain": [
       "ATLAS \u001b[1m[\u001b[0mINFO\u001b[1m]\u001b[0m Completed in \u001b[1;36m0.87\u001b[0m sec\n"
      ]
     },
     "metadata": {},
     "output_type": "display_data"
    },
    {
     "name": "stdout",
     "output_type": "stream",
     "text": [
      "\n",
      "SAMPLE : ParamVector(param_0 = 0.4487673465113796, param_1 = 0.5503672515566167)\n",
      "MEASUREMENT : 1.4254687803939308\n",
      "\n"
     ]
    },
    {
     "data": {
      "text/html": [
       "<pre style=\"white-space:pre;overflow-x:auto;line-height:normal;font-family:Menlo,'DejaVu Sans Mono',consolas,'Courier New',monospace\"><span style=\"color: #05a6fb; text-decoration-color: #05a6fb\">───────────────────── Training regression surrogate model ──────────────────────</span>\n",
       "</pre>\n"
      ],
      "text/plain": [
       "\u001b[38;2;5;166;251m───────────────────── Training regression surrogate model ──────────────────────\u001b[0m\n"
      ]
     },
     "metadata": {},
     "output_type": "display_data"
    },
    {
     "name": "stderr",
     "output_type": "stream",
     "text": [
      "/Users/rileyhickman/mambaforge/envs/atlas_aag/lib/python3.10/site-packages/botorch/models/utils/assorted.py:201: InputDataWarning: Input data is not standardized. Please consider scaling the input to zero mean and unit variance.\n",
      "  warnings.warn(msg, InputDataWarning)\n"
     ]
    },
    {
     "data": {
      "text/html": [
       "<pre style=\"white-space:pre;overflow-x:auto;line-height:normal;font-family:Menlo,'DejaVu Sans Mono',consolas,'Courier New',monospace\">ATLAS <span style=\"font-weight: bold\">[</span>INFO<span style=\"font-weight: bold\">]</span> Regression surrogate GP trained in <span style=\"color: #008080; text-decoration-color: #008080; font-weight: bold\">0.066</span> sec\n",
       "</pre>\n"
      ],
      "text/plain": [
       "ATLAS \u001b[1m[\u001b[0mINFO\u001b[1m]\u001b[0m Regression surrogate GP trained in \u001b[1;36m0.066\u001b[0m sec\n"
      ]
     },
     "metadata": {},
     "output_type": "display_data"
    },
    {
     "data": {
      "text/html": [
       "<pre style=\"white-space:pre;overflow-x:auto;line-height:normal;font-family:Menlo,'DejaVu Sans Mono',consolas,'Courier New',monospace\"><span style=\"color: #05a6fb; text-decoration-color: #05a6fb\">────────────────────── Acquisition function optimization ───────────────────────</span>\n",
       "</pre>\n"
      ],
      "text/plain": [
       "\u001b[38;2;5;166;251m────────────────────── Acquisition function optimization ───────────────────────\u001b[0m\n"
      ]
     },
     "metadata": {},
     "output_type": "display_data"
    },
    {
     "data": {
      "text/html": [
       "<pre style=\"white-space:pre;overflow-x:auto;line-height:normal;font-family:Menlo,'DejaVu Sans Mono',consolas,'Courier New',monospace\">ATLAS <span style=\"font-weight: bold\">[</span>INFO<span style=\"font-weight: bold\">]</span> Optimizing acquisition function with pymoo GA for <span style=\"color: #008080; text-decoration-color: #008080; font-weight: bold\">0</span> fixed parameters<span style=\"color: #808000; text-decoration-color: #808000\">...</span>\n",
       "</pre>\n"
      ],
      "text/plain": [
       "ATLAS \u001b[1m[\u001b[0mINFO\u001b[1m]\u001b[0m Optimizing acquisition function with pymoo GA for \u001b[1;36m0\u001b[0m fixed parameters\u001b[33m...\u001b[0m\n"
      ]
     },
     "metadata": {},
     "output_type": "display_data"
    },
    {
     "data": {
      "text/html": [
       "<pre style=\"white-space:pre;overflow-x:auto;line-height:normal;font-family:Menlo,'DejaVu Sans Mono',consolas,'Courier New',monospace\">ATLAS <span style=\"font-weight: bold\">[</span>INFO<span style=\"font-weight: bold\">]</span> Completed in <span style=\"color: #008080; text-decoration-color: #008080; font-weight: bold\">0.966</span> sec\n",
       "</pre>\n"
      ],
      "text/plain": [
       "ATLAS \u001b[1m[\u001b[0mINFO\u001b[1m]\u001b[0m Completed in \u001b[1;36m0.966\u001b[0m sec\n"
      ]
     },
     "metadata": {},
     "output_type": "display_data"
    },
    {
     "name": "stdout",
     "output_type": "stream",
     "text": [
      "\n",
      "SAMPLE : ParamVector(param_0 = 0.999899717233091, param_1 = 0.8996346881781266)\n",
      "MEASUREMENT : 4.234930239001381\n",
      "\n"
     ]
    },
    {
     "data": {
      "text/html": [
       "<pre style=\"white-space:pre;overflow-x:auto;line-height:normal;font-family:Menlo,'DejaVu Sans Mono',consolas,'Courier New',monospace\"><span style=\"color: #05a6fb; text-decoration-color: #05a6fb\">───────────────────── Training regression surrogate model ──────────────────────</span>\n",
       "</pre>\n"
      ],
      "text/plain": [
       "\u001b[38;2;5;166;251m───────────────────── Training regression surrogate model ──────────────────────\u001b[0m\n"
      ]
     },
     "metadata": {},
     "output_type": "display_data"
    },
    {
     "name": "stderr",
     "output_type": "stream",
     "text": [
      "/Users/rileyhickman/mambaforge/envs/atlas_aag/lib/python3.10/site-packages/botorch/models/utils/assorted.py:201: InputDataWarning: Input data is not standardized. Please consider scaling the input to zero mean and unit variance.\n",
      "  warnings.warn(msg, InputDataWarning)\n"
     ]
    },
    {
     "data": {
      "text/html": [
       "<pre style=\"white-space:pre;overflow-x:auto;line-height:normal;font-family:Menlo,'DejaVu Sans Mono',consolas,'Courier New',monospace\">ATLAS <span style=\"font-weight: bold\">[</span>INFO<span style=\"font-weight: bold\">]</span> Regression surrogate GP trained in <span style=\"color: #008080; text-decoration-color: #008080; font-weight: bold\">0.077</span> sec\n",
       "</pre>\n"
      ],
      "text/plain": [
       "ATLAS \u001b[1m[\u001b[0mINFO\u001b[1m]\u001b[0m Regression surrogate GP trained in \u001b[1;36m0.077\u001b[0m sec\n"
      ]
     },
     "metadata": {},
     "output_type": "display_data"
    },
    {
     "data": {
      "text/html": [
       "<pre style=\"white-space:pre;overflow-x:auto;line-height:normal;font-family:Menlo,'DejaVu Sans Mono',consolas,'Courier New',monospace\"><span style=\"color: #05a6fb; text-decoration-color: #05a6fb\">────────────────────── Acquisition function optimization ───────────────────────</span>\n",
       "</pre>\n"
      ],
      "text/plain": [
       "\u001b[38;2;5;166;251m────────────────────── Acquisition function optimization ───────────────────────\u001b[0m\n"
      ]
     },
     "metadata": {},
     "output_type": "display_data"
    },
    {
     "data": {
      "text/html": [
       "<pre style=\"white-space:pre;overflow-x:auto;line-height:normal;font-family:Menlo,'DejaVu Sans Mono',consolas,'Courier New',monospace\">ATLAS <span style=\"font-weight: bold\">[</span>INFO<span style=\"font-weight: bold\">]</span> Optimizing acquisition function with pymoo GA for <span style=\"color: #008080; text-decoration-color: #008080; font-weight: bold\">0</span> fixed parameters<span style=\"color: #808000; text-decoration-color: #808000\">...</span>\n",
       "</pre>\n"
      ],
      "text/plain": [
       "ATLAS \u001b[1m[\u001b[0mINFO\u001b[1m]\u001b[0m Optimizing acquisition function with pymoo GA for \u001b[1;36m0\u001b[0m fixed parameters\u001b[33m...\u001b[0m\n"
      ]
     },
     "metadata": {},
     "output_type": "display_data"
    },
    {
     "data": {
      "text/html": [
       "<pre style=\"white-space:pre;overflow-x:auto;line-height:normal;font-family:Menlo,'DejaVu Sans Mono',consolas,'Courier New',monospace\">ATLAS <span style=\"font-weight: bold\">[</span>INFO<span style=\"font-weight: bold\">]</span> Completed in <span style=\"color: #008080; text-decoration-color: #008080; font-weight: bold\">0.864</span> sec\n",
       "</pre>\n"
      ],
      "text/plain": [
       "ATLAS \u001b[1m[\u001b[0mINFO\u001b[1m]\u001b[0m Completed in \u001b[1;36m0.864\u001b[0m sec\n"
      ]
     },
     "metadata": {},
     "output_type": "display_data"
    },
    {
     "name": "stdout",
     "output_type": "stream",
     "text": [
      "\n",
      "SAMPLE : ParamVector(param_0 = 0.5527766874545723, param_1 = 0.449732349755598)\n",
      "MEASUREMENT : 1.4354724813317654\n",
      "\n"
     ]
    },
    {
     "data": {
      "text/html": [
       "<pre style=\"white-space:pre;overflow-x:auto;line-height:normal;font-family:Menlo,'DejaVu Sans Mono',consolas,'Courier New',monospace\"><span style=\"color: #05a6fb; text-decoration-color: #05a6fb\">───────────────────── Training regression surrogate model ──────────────────────</span>\n",
       "</pre>\n"
      ],
      "text/plain": [
       "\u001b[38;2;5;166;251m───────────────────── Training regression surrogate model ──────────────────────\u001b[0m\n"
      ]
     },
     "metadata": {},
     "output_type": "display_data"
    },
    {
     "name": "stderr",
     "output_type": "stream",
     "text": [
      "/Users/rileyhickman/mambaforge/envs/atlas_aag/lib/python3.10/site-packages/botorch/models/utils/assorted.py:201: InputDataWarning: Input data is not standardized. Please consider scaling the input to zero mean and unit variance.\n",
      "  warnings.warn(msg, InputDataWarning)\n"
     ]
    },
    {
     "data": {
      "text/html": [
       "<pre style=\"white-space:pre;overflow-x:auto;line-height:normal;font-family:Menlo,'DejaVu Sans Mono',consolas,'Courier New',monospace\">ATLAS <span style=\"font-weight: bold\">[</span>INFO<span style=\"font-weight: bold\">]</span> Regression surrogate GP trained in <span style=\"color: #008080; text-decoration-color: #008080; font-weight: bold\">0.114</span> sec\n",
       "</pre>\n"
      ],
      "text/plain": [
       "ATLAS \u001b[1m[\u001b[0mINFO\u001b[1m]\u001b[0m Regression surrogate GP trained in \u001b[1;36m0.114\u001b[0m sec\n"
      ]
     },
     "metadata": {},
     "output_type": "display_data"
    },
    {
     "data": {
      "text/html": [
       "<pre style=\"white-space:pre;overflow-x:auto;line-height:normal;font-family:Menlo,'DejaVu Sans Mono',consolas,'Courier New',monospace\"><span style=\"color: #05a6fb; text-decoration-color: #05a6fb\">────────────────────── Acquisition function optimization ───────────────────────</span>\n",
       "</pre>\n"
      ],
      "text/plain": [
       "\u001b[38;2;5;166;251m────────────────────── Acquisition function optimization ───────────────────────\u001b[0m\n"
      ]
     },
     "metadata": {},
     "output_type": "display_data"
    },
    {
     "data": {
      "text/html": [
       "<pre style=\"white-space:pre;overflow-x:auto;line-height:normal;font-family:Menlo,'DejaVu Sans Mono',consolas,'Courier New',monospace\">ATLAS <span style=\"font-weight: bold\">[</span>INFO<span style=\"font-weight: bold\">]</span> Optimizing acquisition function with pymoo GA for <span style=\"color: #008080; text-decoration-color: #008080; font-weight: bold\">0</span> fixed parameters<span style=\"color: #808000; text-decoration-color: #808000\">...</span>\n",
       "</pre>\n"
      ],
      "text/plain": [
       "ATLAS \u001b[1m[\u001b[0mINFO\u001b[1m]\u001b[0m Optimizing acquisition function with pymoo GA for \u001b[1;36m0\u001b[0m fixed parameters\u001b[33m...\u001b[0m\n"
      ]
     },
     "metadata": {},
     "output_type": "display_data"
    },
    {
     "data": {
      "text/html": [
       "<pre style=\"white-space:pre;overflow-x:auto;line-height:normal;font-family:Menlo,'DejaVu Sans Mono',consolas,'Courier New',monospace\">ATLAS <span style=\"font-weight: bold\">[</span>INFO<span style=\"font-weight: bold\">]</span> Completed in <span style=\"color: #008080; text-decoration-color: #008080; font-weight: bold\">0.852</span> sec\n",
       "</pre>\n"
      ],
      "text/plain": [
       "ATLAS \u001b[1m[\u001b[0mINFO\u001b[1m]\u001b[0m Completed in \u001b[1;36m0.852\u001b[0m sec\n"
      ]
     },
     "metadata": {},
     "output_type": "display_data"
    },
    {
     "name": "stdout",
     "output_type": "stream",
     "text": [
      "\n",
      "SAMPLE : ParamVector(param_0 = 2.926707135818961e-07, param_1 = 0.9999991894044852)\n",
      "MEASUREMENT : 4.472133488020464\n",
      "\n"
     ]
    },
    {
     "data": {
      "text/html": [
       "<pre style=\"white-space:pre;overflow-x:auto;line-height:normal;font-family:Menlo,'DejaVu Sans Mono',consolas,'Courier New',monospace\"><span style=\"color: #05a6fb; text-decoration-color: #05a6fb\">───────────────────── Training regression surrogate model ──────────────────────</span>\n",
       "</pre>\n"
      ],
      "text/plain": [
       "\u001b[38;2;5;166;251m───────────────────── Training regression surrogate model ──────────────────────\u001b[0m\n"
      ]
     },
     "metadata": {},
     "output_type": "display_data"
    },
    {
     "name": "stderr",
     "output_type": "stream",
     "text": [
      "/Users/rileyhickman/mambaforge/envs/atlas_aag/lib/python3.10/site-packages/botorch/models/utils/assorted.py:201: InputDataWarning: Input data is not standardized. Please consider scaling the input to zero mean and unit variance.\n",
      "  warnings.warn(msg, InputDataWarning)\n"
     ]
    },
    {
     "data": {
      "text/html": [
       "<pre style=\"white-space:pre;overflow-x:auto;line-height:normal;font-family:Menlo,'DejaVu Sans Mono',consolas,'Courier New',monospace\">ATLAS <span style=\"font-weight: bold\">[</span>INFO<span style=\"font-weight: bold\">]</span> Regression surrogate GP trained in <span style=\"color: #008080; text-decoration-color: #008080; font-weight: bold\">0.109</span> sec\n",
       "</pre>\n"
      ],
      "text/plain": [
       "ATLAS \u001b[1m[\u001b[0mINFO\u001b[1m]\u001b[0m Regression surrogate GP trained in \u001b[1;36m0.109\u001b[0m sec\n"
      ]
     },
     "metadata": {},
     "output_type": "display_data"
    },
    {
     "data": {
      "text/html": [
       "<pre style=\"white-space:pre;overflow-x:auto;line-height:normal;font-family:Menlo,'DejaVu Sans Mono',consolas,'Courier New',monospace\"><span style=\"color: #05a6fb; text-decoration-color: #05a6fb\">────────────────────── Acquisition function optimization ───────────────────────</span>\n",
       "</pre>\n"
      ],
      "text/plain": [
       "\u001b[38;2;5;166;251m────────────────────── Acquisition function optimization ───────────────────────\u001b[0m\n"
      ]
     },
     "metadata": {},
     "output_type": "display_data"
    },
    {
     "data": {
      "text/html": [
       "<pre style=\"white-space:pre;overflow-x:auto;line-height:normal;font-family:Menlo,'DejaVu Sans Mono',consolas,'Courier New',monospace\">ATLAS <span style=\"font-weight: bold\">[</span>INFO<span style=\"font-weight: bold\">]</span> Optimizing acquisition function with pymoo GA for <span style=\"color: #008080; text-decoration-color: #008080; font-weight: bold\">0</span> fixed parameters<span style=\"color: #808000; text-decoration-color: #808000\">...</span>\n",
       "</pre>\n"
      ],
      "text/plain": [
       "ATLAS \u001b[1m[\u001b[0mINFO\u001b[1m]\u001b[0m Optimizing acquisition function with pymoo GA for \u001b[1;36m0\u001b[0m fixed parameters\u001b[33m...\u001b[0m\n"
      ]
     },
     "metadata": {},
     "output_type": "display_data"
    },
    {
     "data": {
      "text/html": [
       "<pre style=\"white-space:pre;overflow-x:auto;line-height:normal;font-family:Menlo,'DejaVu Sans Mono',consolas,'Courier New',monospace\">ATLAS <span style=\"font-weight: bold\">[</span>INFO<span style=\"font-weight: bold\">]</span> Completed in <span style=\"color: #008080; text-decoration-color: #008080; font-weight: bold\">0.877</span> sec\n",
       "</pre>\n"
      ],
      "text/plain": [
       "ATLAS \u001b[1m[\u001b[0mINFO\u001b[1m]\u001b[0m Completed in \u001b[1;36m0.877\u001b[0m sec\n"
      ]
     },
     "metadata": {},
     "output_type": "display_data"
    },
    {
     "name": "stdout",
     "output_type": "stream",
     "text": [
      "\n",
      "SAMPLE : ParamVector(param_0 = 0.47304365826506917, param_1 = 0.5767010318922753)\n",
      "MEASUREMENT : 1.3949862235106154\n",
      "\n"
     ]
    },
    {
     "data": {
      "text/html": [
       "<pre style=\"white-space:pre;overflow-x:auto;line-height:normal;font-family:Menlo,'DejaVu Sans Mono',consolas,'Courier New',monospace\"><span style=\"color: #05a6fb; text-decoration-color: #05a6fb\">───────────────────── Training regression surrogate model ──────────────────────</span>\n",
       "</pre>\n"
      ],
      "text/plain": [
       "\u001b[38;2;5;166;251m───────────────────── Training regression surrogate model ──────────────────────\u001b[0m\n"
      ]
     },
     "metadata": {},
     "output_type": "display_data"
    },
    {
     "name": "stderr",
     "output_type": "stream",
     "text": [
      "/Users/rileyhickman/mambaforge/envs/atlas_aag/lib/python3.10/site-packages/botorch/models/utils/assorted.py:201: InputDataWarning: Input data is not standardized. Please consider scaling the input to zero mean and unit variance.\n",
      "  warnings.warn(msg, InputDataWarning)\n"
     ]
    },
    {
     "data": {
      "text/html": [
       "<pre style=\"white-space:pre;overflow-x:auto;line-height:normal;font-family:Menlo,'DejaVu Sans Mono',consolas,'Courier New',monospace\">ATLAS <span style=\"font-weight: bold\">[</span>INFO<span style=\"font-weight: bold\">]</span> Regression surrogate GP trained in <span style=\"color: #008080; text-decoration-color: #008080; font-weight: bold\">0.067</span> sec\n",
       "</pre>\n"
      ],
      "text/plain": [
       "ATLAS \u001b[1m[\u001b[0mINFO\u001b[1m]\u001b[0m Regression surrogate GP trained in \u001b[1;36m0.067\u001b[0m sec\n"
      ]
     },
     "metadata": {},
     "output_type": "display_data"
    },
    {
     "data": {
      "text/html": [
       "<pre style=\"white-space:pre;overflow-x:auto;line-height:normal;font-family:Menlo,'DejaVu Sans Mono',consolas,'Courier New',monospace\"><span style=\"color: #05a6fb; text-decoration-color: #05a6fb\">────────────────────── Acquisition function optimization ───────────────────────</span>\n",
       "</pre>\n"
      ],
      "text/plain": [
       "\u001b[38;2;5;166;251m────────────────────── Acquisition function optimization ───────────────────────\u001b[0m\n"
      ]
     },
     "metadata": {},
     "output_type": "display_data"
    },
    {
     "data": {
      "text/html": [
       "<pre style=\"white-space:pre;overflow-x:auto;line-height:normal;font-family:Menlo,'DejaVu Sans Mono',consolas,'Courier New',monospace\">ATLAS <span style=\"font-weight: bold\">[</span>INFO<span style=\"font-weight: bold\">]</span> Optimizing acquisition function with pymoo GA for <span style=\"color: #008080; text-decoration-color: #008080; font-weight: bold\">0</span> fixed parameters<span style=\"color: #808000; text-decoration-color: #808000\">...</span>\n",
       "</pre>\n"
      ],
      "text/plain": [
       "ATLAS \u001b[1m[\u001b[0mINFO\u001b[1m]\u001b[0m Optimizing acquisition function with pymoo GA for \u001b[1;36m0\u001b[0m fixed parameters\u001b[33m...\u001b[0m\n"
      ]
     },
     "metadata": {},
     "output_type": "display_data"
    },
    {
     "data": {
      "text/html": [
       "<pre style=\"white-space:pre;overflow-x:auto;line-height:normal;font-family:Menlo,'DejaVu Sans Mono',consolas,'Courier New',monospace\">ATLAS <span style=\"font-weight: bold\">[</span>INFO<span style=\"font-weight: bold\">]</span> Completed in <span style=\"color: #008080; text-decoration-color: #008080; font-weight: bold\">0.966</span> sec\n",
       "</pre>\n"
      ],
      "text/plain": [
       "ATLAS \u001b[1m[\u001b[0mINFO\u001b[1m]\u001b[0m Completed in \u001b[1;36m0.966\u001b[0m sec\n"
      ]
     },
     "metadata": {},
     "output_type": "display_data"
    },
    {
     "name": "stdout",
     "output_type": "stream",
     "text": [
      "\n",
      "SAMPLE : ParamVector(param_0 = 0.568211126235999, param_1 = 0.9999999810466152)\n",
      "MEASUREMENT : 3.061968208977502\n",
      "\n"
     ]
    },
    {
     "data": {
      "text/html": [
       "<pre style=\"white-space:pre;overflow-x:auto;line-height:normal;font-family:Menlo,'DejaVu Sans Mono',consolas,'Courier New',monospace\"><span style=\"color: #05a6fb; text-decoration-color: #05a6fb\">───────────────────── Training regression surrogate model ──────────────────────</span>\n",
       "</pre>\n"
      ],
      "text/plain": [
       "\u001b[38;2;5;166;251m───────────────────── Training regression surrogate model ──────────────────────\u001b[0m\n"
      ]
     },
     "metadata": {},
     "output_type": "display_data"
    },
    {
     "name": "stderr",
     "output_type": "stream",
     "text": [
      "/Users/rileyhickman/mambaforge/envs/atlas_aag/lib/python3.10/site-packages/botorch/models/utils/assorted.py:201: InputDataWarning: Input data is not standardized. Please consider scaling the input to zero mean and unit variance.\n",
      "  warnings.warn(msg, InputDataWarning)\n"
     ]
    },
    {
     "data": {
      "text/html": [
       "<pre style=\"white-space:pre;overflow-x:auto;line-height:normal;font-family:Menlo,'DejaVu Sans Mono',consolas,'Courier New',monospace\">ATLAS <span style=\"font-weight: bold\">[</span>INFO<span style=\"font-weight: bold\">]</span> Regression surrogate GP trained in <span style=\"color: #008080; text-decoration-color: #008080; font-weight: bold\">0.082</span> sec\n",
       "</pre>\n"
      ],
      "text/plain": [
       "ATLAS \u001b[1m[\u001b[0mINFO\u001b[1m]\u001b[0m Regression surrogate GP trained in \u001b[1;36m0.082\u001b[0m sec\n"
      ]
     },
     "metadata": {},
     "output_type": "display_data"
    },
    {
     "data": {
      "text/html": [
       "<pre style=\"white-space:pre;overflow-x:auto;line-height:normal;font-family:Menlo,'DejaVu Sans Mono',consolas,'Courier New',monospace\"><span style=\"color: #05a6fb; text-decoration-color: #05a6fb\">────────────────────── Acquisition function optimization ───────────────────────</span>\n",
       "</pre>\n"
      ],
      "text/plain": [
       "\u001b[38;2;5;166;251m────────────────────── Acquisition function optimization ───────────────────────\u001b[0m\n"
      ]
     },
     "metadata": {},
     "output_type": "display_data"
    },
    {
     "data": {
      "text/html": [
       "<pre style=\"white-space:pre;overflow-x:auto;line-height:normal;font-family:Menlo,'DejaVu Sans Mono',consolas,'Courier New',monospace\">ATLAS <span style=\"font-weight: bold\">[</span>INFO<span style=\"font-weight: bold\">]</span> Optimizing acquisition function with pymoo GA for <span style=\"color: #008080; text-decoration-color: #008080; font-weight: bold\">0</span> fixed parameters<span style=\"color: #808000; text-decoration-color: #808000\">...</span>\n",
       "</pre>\n"
      ],
      "text/plain": [
       "ATLAS \u001b[1m[\u001b[0mINFO\u001b[1m]\u001b[0m Optimizing acquisition function with pymoo GA for \u001b[1;36m0\u001b[0m fixed parameters\u001b[33m...\u001b[0m\n"
      ]
     },
     "metadata": {},
     "output_type": "display_data"
    },
    {
     "data": {
      "text/html": [
       "<pre style=\"white-space:pre;overflow-x:auto;line-height:normal;font-family:Menlo,'DejaVu Sans Mono',consolas,'Courier New',monospace\">ATLAS <span style=\"font-weight: bold\">[</span>INFO<span style=\"font-weight: bold\">]</span> Completed in <span style=\"color: #008080; text-decoration-color: #008080; font-weight: bold\">0.881</span> sec\n",
       "</pre>\n"
      ],
      "text/plain": [
       "ATLAS \u001b[1m[\u001b[0mINFO\u001b[1m]\u001b[0m Completed in \u001b[1;36m0.881\u001b[0m sec\n"
      ]
     },
     "metadata": {},
     "output_type": "display_data"
    },
    {
     "name": "stdout",
     "output_type": "stream",
     "text": [
      "\n",
      "SAMPLE : ParamVector(param_0 = 0.47263039697336756, param_1 = 0.5732647867400239)\n",
      "MEASUREMENT : 1.379108179526286\n",
      "\n"
     ]
    },
    {
     "data": {
      "text/html": [
       "<pre style=\"white-space:pre;overflow-x:auto;line-height:normal;font-family:Menlo,'DejaVu Sans Mono',consolas,'Courier New',monospace\"><span style=\"color: #05a6fb; text-decoration-color: #05a6fb\">───────────────────── Training regression surrogate model ──────────────────────</span>\n",
       "</pre>\n"
      ],
      "text/plain": [
       "\u001b[38;2;5;166;251m───────────────────── Training regression surrogate model ──────────────────────\u001b[0m\n"
      ]
     },
     "metadata": {},
     "output_type": "display_data"
    },
    {
     "name": "stderr",
     "output_type": "stream",
     "text": [
      "/Users/rileyhickman/mambaforge/envs/atlas_aag/lib/python3.10/site-packages/botorch/models/utils/assorted.py:201: InputDataWarning: Input data is not standardized. Please consider scaling the input to zero mean and unit variance.\n",
      "  warnings.warn(msg, InputDataWarning)\n"
     ]
    },
    {
     "data": {
      "text/html": [
       "<pre style=\"white-space:pre;overflow-x:auto;line-height:normal;font-family:Menlo,'DejaVu Sans Mono',consolas,'Courier New',monospace\">ATLAS <span style=\"font-weight: bold\">[</span>INFO<span style=\"font-weight: bold\">]</span> Regression surrogate GP trained in <span style=\"color: #008080; text-decoration-color: #008080; font-weight: bold\">0.047</span> sec\n",
       "</pre>\n"
      ],
      "text/plain": [
       "ATLAS \u001b[1m[\u001b[0mINFO\u001b[1m]\u001b[0m Regression surrogate GP trained in \u001b[1;36m0.047\u001b[0m sec\n"
      ]
     },
     "metadata": {},
     "output_type": "display_data"
    },
    {
     "data": {
      "text/html": [
       "<pre style=\"white-space:pre;overflow-x:auto;line-height:normal;font-family:Menlo,'DejaVu Sans Mono',consolas,'Courier New',monospace\"><span style=\"color: #05a6fb; text-decoration-color: #05a6fb\">────────────────────── Acquisition function optimization ───────────────────────</span>\n",
       "</pre>\n"
      ],
      "text/plain": [
       "\u001b[38;2;5;166;251m────────────────────── Acquisition function optimization ───────────────────────\u001b[0m\n"
      ]
     },
     "metadata": {},
     "output_type": "display_data"
    },
    {
     "data": {
      "text/html": [
       "<pre style=\"white-space:pre;overflow-x:auto;line-height:normal;font-family:Menlo,'DejaVu Sans Mono',consolas,'Courier New',monospace\">ATLAS <span style=\"font-weight: bold\">[</span>INFO<span style=\"font-weight: bold\">]</span> Optimizing acquisition function with pymoo GA for <span style=\"color: #008080; text-decoration-color: #008080; font-weight: bold\">0</span> fixed parameters<span style=\"color: #808000; text-decoration-color: #808000\">...</span>\n",
       "</pre>\n"
      ],
      "text/plain": [
       "ATLAS \u001b[1m[\u001b[0mINFO\u001b[1m]\u001b[0m Optimizing acquisition function with pymoo GA for \u001b[1;36m0\u001b[0m fixed parameters\u001b[33m...\u001b[0m\n"
      ]
     },
     "metadata": {},
     "output_type": "display_data"
    },
    {
     "data": {
      "text/html": [
       "<pre style=\"white-space:pre;overflow-x:auto;line-height:normal;font-family:Menlo,'DejaVu Sans Mono',consolas,'Courier New',monospace\">ATLAS <span style=\"font-weight: bold\">[</span>INFO<span style=\"font-weight: bold\">]</span> Completed in <span style=\"color: #008080; text-decoration-color: #008080; font-weight: bold\">0.874</span> sec\n",
       "</pre>\n"
      ],
      "text/plain": [
       "ATLAS \u001b[1m[\u001b[0mINFO\u001b[1m]\u001b[0m Completed in \u001b[1;36m0.874\u001b[0m sec\n"
      ]
     },
     "metadata": {},
     "output_type": "display_data"
    },
    {
     "name": "stdout",
     "output_type": "stream",
     "text": [
      "\n",
      "SAMPLE : ParamVector(param_0 = 0.27635437437544996, param_1 = 2.699632102413918e-08)\n",
      "MEASUREMENT : 3.731546521543317\n",
      "\n"
     ]
    },
    {
     "data": {
      "text/html": [
       "<pre style=\"white-space:pre;overflow-x:auto;line-height:normal;font-family:Menlo,'DejaVu Sans Mono',consolas,'Courier New',monospace\"><span style=\"color: #05a6fb; text-decoration-color: #05a6fb\">───────────────────── Training regression surrogate model ──────────────────────</span>\n",
       "</pre>\n"
      ],
      "text/plain": [
       "\u001b[38;2;5;166;251m───────────────────── Training regression surrogate model ──────────────────────\u001b[0m\n"
      ]
     },
     "metadata": {},
     "output_type": "display_data"
    },
    {
     "name": "stderr",
     "output_type": "stream",
     "text": [
      "/Users/rileyhickman/mambaforge/envs/atlas_aag/lib/python3.10/site-packages/botorch/models/utils/assorted.py:201: InputDataWarning: Input data is not standardized. Please consider scaling the input to zero mean and unit variance.\n",
      "  warnings.warn(msg, InputDataWarning)\n"
     ]
    },
    {
     "data": {
      "text/html": [
       "<pre style=\"white-space:pre;overflow-x:auto;line-height:normal;font-family:Menlo,'DejaVu Sans Mono',consolas,'Courier New',monospace\">ATLAS <span style=\"font-weight: bold\">[</span>INFO<span style=\"font-weight: bold\">]</span> Regression surrogate GP trained in <span style=\"color: #008080; text-decoration-color: #008080; font-weight: bold\">0.079</span> sec\n",
       "</pre>\n"
      ],
      "text/plain": [
       "ATLAS \u001b[1m[\u001b[0mINFO\u001b[1m]\u001b[0m Regression surrogate GP trained in \u001b[1;36m0.079\u001b[0m sec\n"
      ]
     },
     "metadata": {},
     "output_type": "display_data"
    },
    {
     "data": {
      "text/html": [
       "<pre style=\"white-space:pre;overflow-x:auto;line-height:normal;font-family:Menlo,'DejaVu Sans Mono',consolas,'Courier New',monospace\"><span style=\"color: #05a6fb; text-decoration-color: #05a6fb\">────────────────────── Acquisition function optimization ───────────────────────</span>\n",
       "</pre>\n"
      ],
      "text/plain": [
       "\u001b[38;2;5;166;251m────────────────────── Acquisition function optimization ───────────────────────\u001b[0m\n"
      ]
     },
     "metadata": {},
     "output_type": "display_data"
    },
    {
     "data": {
      "text/html": [
       "<pre style=\"white-space:pre;overflow-x:auto;line-height:normal;font-family:Menlo,'DejaVu Sans Mono',consolas,'Courier New',monospace\">ATLAS <span style=\"font-weight: bold\">[</span>INFO<span style=\"font-weight: bold\">]</span> Optimizing acquisition function with pymoo GA for <span style=\"color: #008080; text-decoration-color: #008080; font-weight: bold\">0</span> fixed parameters<span style=\"color: #808000; text-decoration-color: #808000\">...</span>\n",
       "</pre>\n"
      ],
      "text/plain": [
       "ATLAS \u001b[1m[\u001b[0mINFO\u001b[1m]\u001b[0m Optimizing acquisition function with pymoo GA for \u001b[1;36m0\u001b[0m fixed parameters\u001b[33m...\u001b[0m\n"
      ]
     },
     "metadata": {},
     "output_type": "display_data"
    },
    {
     "data": {
      "text/html": [
       "<pre style=\"white-space:pre;overflow-x:auto;line-height:normal;font-family:Menlo,'DejaVu Sans Mono',consolas,'Courier New',monospace\">ATLAS <span style=\"font-weight: bold\">[</span>INFO<span style=\"font-weight: bold\">]</span> Completed in <span style=\"color: #008080; text-decoration-color: #008080; font-weight: bold\">0.971</span> sec\n",
       "</pre>\n"
      ],
      "text/plain": [
       "ATLAS \u001b[1m[\u001b[0mINFO\u001b[1m]\u001b[0m Completed in \u001b[1;36m0.971\u001b[0m sec\n"
      ]
     },
     "metadata": {},
     "output_type": "display_data"
    },
    {
     "name": "stdout",
     "output_type": "stream",
     "text": [
      "\n",
      "SAMPLE : ParamVector(param_0 = 0.47359115505492594, param_1 = 0.5736902362829905)\n",
      "MEASUREMENT : 1.3723255417253477\n",
      "\n"
     ]
    }
   ],
   "source": [
    "# commence experiment\n",
    "BUDGET = 20\n",
    "iter_ = 0\n",
    "while len(campaign.observations.get_values()) < BUDGET:\n",
    "\n",
    "    samples = planner.recommend(campaign.observations)\n",
    "    for sample in samples:\n",
    "        measurement = surface.run(sample)[0][0]\n",
    "\n",
    "        print(f'\\nSAMPLE : {sample}\\nMEASUREMENT : {measurement}\\n')\n",
    "        campaign.add_observation(sample, measurement)\n",
    "\n",
    "        iter_ += 1"
   ]
  },
  {
   "cell_type": "markdown",
   "metadata": {
    "id": "Y9iDMbpyJ-x7"
   },
   "source": [
    "## Optimization with a priori unknown constraints\n",
    "\n",
    "The difference between _a priori_ known and unknown parameter constraints is that the latter involves a constraint function $c(\\mathbf{x})$ that is not known beforehand by the researcher, and must be resolved by sequential measurement. `atlas` handles such optimization problems by training two surrogate models. The first is the usual regression GP that learns the objective function $f(\\mathbf{x})$ and informs the acquisition function $\\alpha(\\mathbf{x})$. The second surrogate uses a variational GP to model the binary constraint or feasibility function, $c(\\mathbf{x})$. Essentially, the classification surrogate seeks to model the posterior $P(feasible | \\mathbf{x})$. The acquisition function $\\alpha(\\mathbf{x})$ and feasibility posterior can then be combined in various ways to produce a _feasibility-aware acquisition function_, $\\alpha_c(\\mathbf{x})$. `atlas` supports several such acquisition functions, for more information, please see the [publication]() or [documentation](). \n",
    "\n",
    "In this example, we will use the same surface and constraint funciton as in the known constraints example, but assume the form of $c(\\mathbf{x})$ is _a priori_ unknown. We will used the so-called _feasibility weighted_ acquisition function (FWA), which has the following form. \n",
    "\n",
    "$$ \\alpha_c(\\mathbf{x}) = \\alpha(\\mathbf{x}) P\\left(feasible|\\mathbf{x}\\right)$$"
   ]
  },
  {
   "cell_type": "code",
   "execution_count": 13,
   "metadata": {
    "id": "VJ6sm9lrJ-x7"
   },
   "outputs": [],
   "source": [
    "# intialize Dejong surface (2d parameter space by default)\n",
    "surface = Surface(kind='Dejong')\n",
    "\n",
    "# define the constraint function\n",
    "def unknown_constraint(params):\n",
    "    print(params)\n",
    "    # params is a array-like object representing one parameter setting\n",
    "    y = (params[0]-0.5)**2 + (params[1]-0.5)**2\n",
    "    if np.abs(params[0]-params[1]) < 0.1:\n",
    "        return False\n",
    "    if 0.05 < y < 0.15:\n",
    "        return False\n",
    "    else:\n",
    "        return True"
   ]
  },
  {
   "cell_type": "code",
   "execution_count": 14,
   "metadata": {
    "id": "i0dp6GVzrmYu"
   },
   "outputs": [
    {
     "data": {
      "text/html": [
       "<pre style=\"white-space:pre;overflow-x:auto;line-height:normal;font-family:Menlo,'DejaVu Sans Mono',consolas,'Courier New',monospace\"><span style=\"color: #051923; text-decoration-color: #051923\">───────────────────────────────────────────────────────────────────────────────────────────────────────────────────</span>\n",
       "</pre>\n"
      ],
      "text/plain": [
       "\u001b[38;2;5;25;35m───────────────────────────────────────────────────────────────────────────────────────────────────────────────────\u001b[0m\n"
      ]
     },
     "metadata": {},
     "output_type": "display_data"
    },
    {
     "data": {
      "text/html": [
       "<pre style=\"white-space:pre;overflow-x:auto;line-height:normal;font-family:Menlo,'DejaVu Sans Mono',consolas,'Courier New',monospace\"><span style=\"color: #05a6fb; text-decoration-color: #05a6fb; font-weight: bold\">                                                                                                                   </span>\n",
       "<span style=\"color: #05a6fb; text-decoration-color: #05a6fb; font-weight: bold\">                                                 Welcome to ATLAS!                                                 </span>\n",
       "</pre>\n"
      ],
      "text/plain": [
       "\u001b[1;38;2;5;166;251m                                                 \u001b[0m\u001b[1;38;2;5;166;251m                 \u001b[0m\u001b[1;38;2;5;166;251m                                                 \u001b[0m\n",
       "\u001b[1;38;2;5;166;251m                                                 \u001b[0m\u001b[1;38;2;5;166;251mWelcome to ATLAS!\u001b[0m\u001b[1;38;2;5;166;251m                                                 \u001b[0m\n"
      ]
     },
     "metadata": {},
     "output_type": "display_data"
    },
    {
     "data": {
      "text/html": [
       "<pre style=\"white-space:pre;overflow-x:auto;line-height:normal;font-family:Menlo,'DejaVu Sans Mono',consolas,'Courier New',monospace\"><span style=\"color: #006494; text-decoration-color: #006494\">                                                Made with 💕 in 🇨🇦                                                 </span>\n",
       "<span style=\"color: #006494; text-decoration-color: #006494\">                                                                                                                   </span>\n",
       "</pre>\n"
      ],
      "text/plain": [
       "\u001b[38;2;0;100;148m                                                \u001b[0m\u001b[38;2;0;100;148mMade with 💕 in 🇨🇦\u001b[0m\u001b[38;2;0;100;148m                                                 \u001b[0m\n",
       "\u001b[38;2;0;100;148m                                                \u001b[0m\u001b[38;2;0;100;148m                  \u001b[0m\u001b[38;2;0;100;148m                                                 \u001b[0m\n"
      ]
     },
     "metadata": {},
     "output_type": "display_data"
    },
    {
     "data": {
      "text/html": [
       "<pre style=\"white-space:pre;overflow-x:auto;line-height:normal;font-family:Menlo,'DejaVu Sans Mono',consolas,'Courier New',monospace\"><span style=\"color: #051923; text-decoration-color: #051923\">───────────────────────────────────────────────────────────────────────────────────────────────────────────────────</span>\n",
       "</pre>\n"
      ],
      "text/plain": [
       "\u001b[38;2;5;25;35m───────────────────────────────────────────────────────────────────────────────────────────────────────────────────\u001b[0m\n"
      ]
     },
     "metadata": {},
     "output_type": "display_data"
    },
    {
     "data": {
      "text/html": [
       "<pre style=\"white-space:pre;overflow-x:auto;line-height:normal;font-family:Menlo,'DejaVu Sans Mono',consolas,'Courier New',monospace\"><span style=\"color: #05a6fb; text-decoration-color: #05a6fb\">───────────────────────────── Initial design phase ─────────────────────────────</span>\n",
       "</pre>\n"
      ],
      "text/plain": [
       "\u001b[38;2;5;166;251m───────────────────────────── Initial design phase ─────────────────────────────\u001b[0m\n"
      ]
     },
     "metadata": {},
     "output_type": "display_data"
    }
   ],
   "source": [
    "# initialize the planner indicating the\n",
    "# feasibility acquisition strategy, FWA\n",
    "planner = GPPlanner(\n",
    "        goal=\"minimize\",\n",
    "        feas_strategy='fwa',\n",
    "        init_design_strategy='random',\n",
    "        num_init_design=5,\n",
    "        batch_size=1,\n",
    "        acquisition_optimizer_kind='pymoo',\n",
    "    )\n",
    "planner.set_param_space(surface.param_space)\n",
    "\n",
    "# initialize campaign\n",
    "campaign = Campaign()\n",
    "campaign.set_param_space(surface.param_space)"
   ]
  },
  {
   "cell_type": "code",
   "execution_count": 15,
   "metadata": {
    "colab": {
     "base_uri": "https://localhost:8080/",
     "height": 566
    },
    "id": "rLuDPaI6rmbg",
    "outputId": "ad8c42fb-35d2-493b-fdef-b11eaefb7994"
   },
   "outputs": [
    {
     "data": {
      "text/html": [
       "<pre style=\"white-space:pre;overflow-x:auto;line-height:normal;font-family:Menlo,'DejaVu Sans Mono',consolas,'Courier New',monospace\">ATLAS <span style=\"font-weight: bold\">[</span>INFO<span style=\"font-weight: bold\">]</span> Generating <span style=\"color: #008080; text-decoration-color: #008080; font-weight: bold\">1</span> initial design points <span style=\"font-weight: bold\">(</span>batch <span style=\"color: #008080; text-decoration-color: #008080; font-weight: bold\">1</span>/<span style=\"color: #008080; text-decoration-color: #008080; font-weight: bold\">5</span><span style=\"font-weight: bold\">)</span>\n",
       "</pre>\n"
      ],
      "text/plain": [
       "ATLAS \u001b[1m[\u001b[0mINFO\u001b[1m]\u001b[0m Generating \u001b[1;36m1\u001b[0m initial design points \u001b[1m(\u001b[0mbatch \u001b[1;36m1\u001b[0m/\u001b[1;36m5\u001b[0m\u001b[1m)\u001b[0m\n"
      ]
     },
     "metadata": {},
     "output_type": "display_data"
    },
    {
     "name": "stdout",
     "output_type": "stream",
     "text": [
      "[0.0575479  0.42158718]\n",
      "\n",
      "ITER : 1\n",
      "SAMPLE : ParamVector(param_0 = 0.05754789949823069, param_1 = 0.4215871769100561)\n",
      "MEASUREMENT : 2.9889646936596845\n",
      "\n"
     ]
    },
    {
     "data": {
      "text/html": [
       "<pre style=\"white-space:pre;overflow-x:auto;line-height:normal;font-family:Menlo,'DejaVu Sans Mono',consolas,'Courier New',monospace\">ATLAS <span style=\"font-weight: bold\">[</span>INFO<span style=\"font-weight: bold\">]</span> Generating <span style=\"color: #008080; text-decoration-color: #008080; font-weight: bold\">1</span> initial design points <span style=\"font-weight: bold\">(</span>batch <span style=\"color: #008080; text-decoration-color: #008080; font-weight: bold\">2</span>/<span style=\"color: #008080; text-decoration-color: #008080; font-weight: bold\">5</span><span style=\"font-weight: bold\">)</span>\n",
       "</pre>\n"
      ],
      "text/plain": [
       "ATLAS \u001b[1m[\u001b[0mINFO\u001b[1m]\u001b[0m Generating \u001b[1;36m1\u001b[0m initial design points \u001b[1m(\u001b[0mbatch \u001b[1;36m2\u001b[0m/\u001b[1;36m5\u001b[0m\u001b[1m)\u001b[0m\n"
      ]
     },
     "metadata": {},
     "output_type": "display_data"
    },
    {
     "name": "stdout",
     "output_type": "stream",
     "text": [
      "[0.76739094 0.3145235 ]\n",
      "\n",
      "ITER : 2\n",
      "SAMPLE : ParamVector(param_0 = 0.7673909382694225, param_1 = 0.31452349712352634)\n",
      "MEASUREMENT : nan\n",
      "\n"
     ]
    },
    {
     "data": {
      "text/html": [
       "<pre style=\"white-space:pre;overflow-x:auto;line-height:normal;font-family:Menlo,'DejaVu Sans Mono',consolas,'Courier New',monospace\">ATLAS <span style=\"font-weight: bold\">[</span>INFO<span style=\"font-weight: bold\">]</span> Generating <span style=\"color: #008080; text-decoration-color: #008080; font-weight: bold\">1</span> initial design points <span style=\"font-weight: bold\">(</span>batch <span style=\"color: #008080; text-decoration-color: #008080; font-weight: bold\">3</span>/<span style=\"color: #008080; text-decoration-color: #008080; font-weight: bold\">5</span><span style=\"font-weight: bold\">)</span>\n",
       "</pre>\n"
      ],
      "text/plain": [
       "ATLAS \u001b[1m[\u001b[0mINFO\u001b[1m]\u001b[0m Generating \u001b[1;36m1\u001b[0m initial design points \u001b[1m(\u001b[0mbatch \u001b[1;36m3\u001b[0m/\u001b[1;36m5\u001b[0m\u001b[1m)\u001b[0m\n"
      ]
     },
     "metadata": {},
     "output_type": "display_data"
    },
    {
     "name": "stdout",
     "output_type": "stream",
     "text": [
      "[0.50394128 0.29471282]\n",
      "\n",
      "ITER : 3\n",
      "SAMPLE : ParamVector(param_0 = 0.5039412772681181, param_1 = 0.2947128191318952)\n",
      "MEASUREMENT : 1.631311138162565\n",
      "\n"
     ]
    },
    {
     "data": {
      "text/html": [
       "<pre style=\"white-space:pre;overflow-x:auto;line-height:normal;font-family:Menlo,'DejaVu Sans Mono',consolas,'Courier New',monospace\">ATLAS <span style=\"font-weight: bold\">[</span>INFO<span style=\"font-weight: bold\">]</span> Generating <span style=\"color: #008080; text-decoration-color: #008080; font-weight: bold\">1</span> initial design points <span style=\"font-weight: bold\">(</span>batch <span style=\"color: #008080; text-decoration-color: #008080; font-weight: bold\">4</span>/<span style=\"color: #008080; text-decoration-color: #008080; font-weight: bold\">5</span><span style=\"font-weight: bold\">)</span>\n",
       "</pre>\n"
      ],
      "text/plain": [
       "ATLAS \u001b[1m[\u001b[0mINFO\u001b[1m]\u001b[0m Generating \u001b[1;36m1\u001b[0m initial design points \u001b[1m(\u001b[0mbatch \u001b[1;36m4\u001b[0m/\u001b[1;36m5\u001b[0m\u001b[1m)\u001b[0m\n"
      ]
     },
     "metadata": {},
     "output_type": "display_data"
    },
    {
     "name": "stdout",
     "output_type": "stream",
     "text": [
      "[0.661235   0.42126878]\n",
      "\n",
      "ITER : 4\n",
      "SAMPLE : ParamVector(param_0 = 0.6612350036219976, param_1 = 0.4212687758084218)\n",
      "MEASUREMENT : 2.157089631829056\n",
      "\n"
     ]
    },
    {
     "data": {
      "text/html": [
       "<pre style=\"white-space:pre;overflow-x:auto;line-height:normal;font-family:Menlo,'DejaVu Sans Mono',consolas,'Courier New',monospace\">ATLAS <span style=\"font-weight: bold\">[</span>INFO<span style=\"font-weight: bold\">]</span> Generating <span style=\"color: #008080; text-decoration-color: #008080; font-weight: bold\">1</span> initial design points <span style=\"font-weight: bold\">(</span>batch <span style=\"color: #008080; text-decoration-color: #008080; font-weight: bold\">5</span>/<span style=\"color: #008080; text-decoration-color: #008080; font-weight: bold\">5</span><span style=\"font-weight: bold\">)</span>\n",
       "</pre>\n"
      ],
      "text/plain": [
       "ATLAS \u001b[1m[\u001b[0mINFO\u001b[1m]\u001b[0m Generating \u001b[1;36m1\u001b[0m initial design points \u001b[1m(\u001b[0mbatch \u001b[1;36m5\u001b[0m/\u001b[1;36m5\u001b[0m\u001b[1m)\u001b[0m\n"
      ]
     },
     "metadata": {},
     "output_type": "display_data"
    },
    {
     "name": "stdout",
     "output_type": "stream",
     "text": [
      "[0.92355507 0.60333423]\n",
      "\n",
      "ITER : 5\n",
      "SAMPLE : ParamVector(param_0 = 0.9235550702831195, param_1 = 0.6033342257585071)\n",
      "MEASUREMENT : 3.074579794782162\n",
      "\n"
     ]
    },
    {
     "data": {
      "text/html": [
       "<pre style=\"white-space:pre;overflow-x:auto;line-height:normal;font-family:Menlo,'DejaVu Sans Mono',consolas,'Courier New',monospace\"><span style=\"color: #05a6fb; text-decoration-color: #05a6fb\">───────────────────── Training regression surrogate model ──────────────────────</span>\n",
       "</pre>\n"
      ],
      "text/plain": [
       "\u001b[38;2;5;166;251m───────────────────── Training regression surrogate model ──────────────────────\u001b[0m\n"
      ]
     },
     "metadata": {},
     "output_type": "display_data"
    },
    {
     "name": "stderr",
     "output_type": "stream",
     "text": [
      "/Users/rileyhickman/mambaforge/envs/atlas_aag/lib/python3.10/site-packages/botorch/models/utils/assorted.py:201: InputDataWarning: Input data is not standardized. Please consider scaling the input to zero mean and unit variance.\n",
      "  warnings.warn(msg, InputDataWarning)\n"
     ]
    },
    {
     "data": {
      "text/html": [
       "<pre style=\"white-space:pre;overflow-x:auto;line-height:normal;font-family:Menlo,'DejaVu Sans Mono',consolas,'Courier New',monospace\">ATLAS <span style=\"font-weight: bold\">[</span>INFO<span style=\"font-weight: bold\">]</span> Regression surrogate GP trained in <span style=\"color: #008080; text-decoration-color: #008080; font-weight: bold\">0.03</span> sec\n",
       "</pre>\n"
      ],
      "text/plain": [
       "ATLAS \u001b[1m[\u001b[0mINFO\u001b[1m]\u001b[0m Regression surrogate GP trained in \u001b[1;36m0.03\u001b[0m sec\n"
      ]
     },
     "metadata": {},
     "output_type": "display_data"
    },
    {
     "data": {
      "text/html": [
       "<pre style=\"white-space:pre;overflow-x:auto;line-height:normal;font-family:Menlo,'DejaVu Sans Mono',consolas,'Courier New',monospace\"><span style=\"color: #05a6fb; text-decoration-color: #05a6fb\">─────────────────── Training classification surrogate model ────────────────────</span>\n",
       "</pre>\n"
      ],
      "text/plain": [
       "\u001b[38;2;5;166;251m─────────────────── Training classification surrogate model ────────────────────\u001b[0m\n"
      ]
     },
     "metadata": {},
     "output_type": "display_data"
    },
    {
     "data": {
      "text/html": [
       "<pre style=\"white-space:pre;overflow-x:auto;line-height:normal;font-family:Menlo,'DejaVu Sans Mono',consolas,'Courier New',monospace\"><span style=\"color: #05a6fb; text-decoration-color: #05a6fb\">────────────────────── Acquisition function optimization ───────────────────────</span>\n",
       "</pre>\n"
      ],
      "text/plain": [
       "\u001b[38;2;5;166;251m────────────────────── Acquisition function optimization ───────────────────────\u001b[0m\n"
      ]
     },
     "metadata": {},
     "output_type": "display_data"
    },
    {
     "data": {
      "text/html": [
       "<pre style=\"white-space:pre;overflow-x:auto;line-height:normal;font-family:Menlo,'DejaVu Sans Mono',consolas,'Courier New',monospace\">ATLAS <span style=\"font-weight: bold\">[</span>INFO<span style=\"font-weight: bold\">]</span> Optimizing acquisition function with pymoo GA for <span style=\"color: #008080; text-decoration-color: #008080; font-weight: bold\">0</span> fixed parameters<span style=\"color: #808000; text-decoration-color: #808000\">...</span>\n",
       "</pre>\n"
      ],
      "text/plain": [
       "ATLAS \u001b[1m[\u001b[0mINFO\u001b[1m]\u001b[0m Optimizing acquisition function with pymoo GA for \u001b[1;36m0\u001b[0m fixed parameters\u001b[33m...\u001b[0m\n"
      ]
     },
     "metadata": {},
     "output_type": "display_data"
    },
    {
     "data": {
      "text/html": [
       "<pre style=\"white-space:pre;overflow-x:auto;line-height:normal;font-family:Menlo,'DejaVu Sans Mono',consolas,'Courier New',monospace\">ATLAS <span style=\"font-weight: bold\">[</span>INFO<span style=\"font-weight: bold\">]</span> Completed in <span style=\"color: #008080; text-decoration-color: #008080; font-weight: bold\">0.873</span> sec\n",
       "</pre>\n"
      ],
      "text/plain": [
       "ATLAS \u001b[1m[\u001b[0mINFO\u001b[1m]\u001b[0m Completed in \u001b[1;36m0.873\u001b[0m sec\n"
      ]
     },
     "metadata": {},
     "output_type": "display_data"
    },
    {
     "name": "stdout",
     "output_type": "stream",
     "text": [
      "[0.673313   0.27159342]\n",
      "\n",
      "ITER : 6\n",
      "SAMPLE : ParamVector(param_0 = 0.6733130049026612, param_1 = 0.27159341881583166)\n",
      "MEASUREMENT : nan\n",
      "\n"
     ]
    },
    {
     "data": {
      "text/html": [
       "<pre style=\"white-space:pre;overflow-x:auto;line-height:normal;font-family:Menlo,'DejaVu Sans Mono',consolas,'Courier New',monospace\"><span style=\"color: #05a6fb; text-decoration-color: #05a6fb\">───────────────────── Training regression surrogate model ──────────────────────</span>\n",
       "</pre>\n"
      ],
      "text/plain": [
       "\u001b[38;2;5;166;251m───────────────────── Training regression surrogate model ──────────────────────\u001b[0m\n"
      ]
     },
     "metadata": {},
     "output_type": "display_data"
    },
    {
     "name": "stderr",
     "output_type": "stream",
     "text": [
      "/Users/rileyhickman/mambaforge/envs/atlas_aag/lib/python3.10/site-packages/botorch/models/utils/assorted.py:201: InputDataWarning: Input data is not standardized. Please consider scaling the input to zero mean and unit variance.\n",
      "  warnings.warn(msg, InputDataWarning)\n"
     ]
    },
    {
     "data": {
      "text/html": [
       "<pre style=\"white-space:pre;overflow-x:auto;line-height:normal;font-family:Menlo,'DejaVu Sans Mono',consolas,'Courier New',monospace\">ATLAS <span style=\"font-weight: bold\">[</span>INFO<span style=\"font-weight: bold\">]</span> Regression surrogate GP trained in <span style=\"color: #008080; text-decoration-color: #008080; font-weight: bold\">0.024</span> sec\n",
       "</pre>\n"
      ],
      "text/plain": [
       "ATLAS \u001b[1m[\u001b[0mINFO\u001b[1m]\u001b[0m Regression surrogate GP trained in \u001b[1;36m0.024\u001b[0m sec\n"
      ]
     },
     "metadata": {},
     "output_type": "display_data"
    },
    {
     "data": {
      "text/html": [
       "<pre style=\"white-space:pre;overflow-x:auto;line-height:normal;font-family:Menlo,'DejaVu Sans Mono',consolas,'Courier New',monospace\"><span style=\"color: #05a6fb; text-decoration-color: #05a6fb\">─────────────────── Training classification surrogate model ────────────────────</span>\n",
       "</pre>\n"
      ],
      "text/plain": [
       "\u001b[38;2;5;166;251m─────────────────── Training classification surrogate model ────────────────────\u001b[0m\n"
      ]
     },
     "metadata": {},
     "output_type": "display_data"
    },
    {
     "data": {
      "text/html": [
       "<pre style=\"white-space:pre;overflow-x:auto;line-height:normal;font-family:Menlo,'DejaVu Sans Mono',consolas,'Courier New',monospace\"><span style=\"color: #05a6fb; text-decoration-color: #05a6fb\">────────────────────── Acquisition function optimization ───────────────────────</span>\n",
       "</pre>\n"
      ],
      "text/plain": [
       "\u001b[38;2;5;166;251m────────────────────── Acquisition function optimization ───────────────────────\u001b[0m\n"
      ]
     },
     "metadata": {},
     "output_type": "display_data"
    },
    {
     "data": {
      "text/html": [
       "<pre style=\"white-space:pre;overflow-x:auto;line-height:normal;font-family:Menlo,'DejaVu Sans Mono',consolas,'Courier New',monospace\">ATLAS <span style=\"font-weight: bold\">[</span>INFO<span style=\"font-weight: bold\">]</span> Optimizing acquisition function with pymoo GA for <span style=\"color: #008080; text-decoration-color: #008080; font-weight: bold\">0</span> fixed parameters<span style=\"color: #808000; text-decoration-color: #808000\">...</span>\n",
       "</pre>\n"
      ],
      "text/plain": [
       "ATLAS \u001b[1m[\u001b[0mINFO\u001b[1m]\u001b[0m Optimizing acquisition function with pymoo GA for \u001b[1;36m0\u001b[0m fixed parameters\u001b[33m...\u001b[0m\n"
      ]
     },
     "metadata": {},
     "output_type": "display_data"
    },
    {
     "data": {
      "text/html": [
       "<pre style=\"white-space:pre;overflow-x:auto;line-height:normal;font-family:Menlo,'DejaVu Sans Mono',consolas,'Courier New',monospace\">ATLAS <span style=\"font-weight: bold\">[</span>INFO<span style=\"font-weight: bold\">]</span> Completed in <span style=\"color: #008080; text-decoration-color: #008080; font-weight: bold\">0.918</span> sec\n",
       "</pre>\n"
      ],
      "text/plain": [
       "ATLAS \u001b[1m[\u001b[0mINFO\u001b[1m]\u001b[0m Completed in \u001b[1;36m0.918\u001b[0m sec\n"
      ]
     },
     "metadata": {},
     "output_type": "display_data"
    },
    {
     "name": "stdout",
     "output_type": "stream",
     "text": [
      "[0.6641536 0.2620781]\n",
      "\n",
      "ITER : 7\n",
      "SAMPLE : ParamVector(param_0 = 0.6641536016151192, param_1 = 0.26207809572314567)\n",
      "MEASUREMENT : nan\n",
      "\n"
     ]
    },
    {
     "data": {
      "text/html": [
       "<pre style=\"white-space:pre;overflow-x:auto;line-height:normal;font-family:Menlo,'DejaVu Sans Mono',consolas,'Courier New',monospace\"><span style=\"color: #05a6fb; text-decoration-color: #05a6fb\">───────────────────── Training regression surrogate model ──────────────────────</span>\n",
       "</pre>\n"
      ],
      "text/plain": [
       "\u001b[38;2;5;166;251m───────────────────── Training regression surrogate model ──────────────────────\u001b[0m\n"
      ]
     },
     "metadata": {},
     "output_type": "display_data"
    },
    {
     "name": "stderr",
     "output_type": "stream",
     "text": [
      "/Users/rileyhickman/mambaforge/envs/atlas_aag/lib/python3.10/site-packages/botorch/models/utils/assorted.py:201: InputDataWarning: Input data is not standardized. Please consider scaling the input to zero mean and unit variance.\n",
      "  warnings.warn(msg, InputDataWarning)\n"
     ]
    },
    {
     "data": {
      "text/html": [
       "<pre style=\"white-space:pre;overflow-x:auto;line-height:normal;font-family:Menlo,'DejaVu Sans Mono',consolas,'Courier New',monospace\">ATLAS <span style=\"font-weight: bold\">[</span>INFO<span style=\"font-weight: bold\">]</span> Regression surrogate GP trained in <span style=\"color: #008080; text-decoration-color: #008080; font-weight: bold\">0.026</span> sec\n",
       "</pre>\n"
      ],
      "text/plain": [
       "ATLAS \u001b[1m[\u001b[0mINFO\u001b[1m]\u001b[0m Regression surrogate GP trained in \u001b[1;36m0.026\u001b[0m sec\n"
      ]
     },
     "metadata": {},
     "output_type": "display_data"
    },
    {
     "data": {
      "text/html": [
       "<pre style=\"white-space:pre;overflow-x:auto;line-height:normal;font-family:Menlo,'DejaVu Sans Mono',consolas,'Courier New',monospace\"><span style=\"color: #05a6fb; text-decoration-color: #05a6fb\">─────────────────── Training classification surrogate model ────────────────────</span>\n",
       "</pre>\n"
      ],
      "text/plain": [
       "\u001b[38;2;5;166;251m─────────────────── Training classification surrogate model ────────────────────\u001b[0m\n"
      ]
     },
     "metadata": {},
     "output_type": "display_data"
    },
    {
     "data": {
      "text/html": [
       "<pre style=\"white-space:pre;overflow-x:auto;line-height:normal;font-family:Menlo,'DejaVu Sans Mono',consolas,'Courier New',monospace\"><span style=\"color: #05a6fb; text-decoration-color: #05a6fb\">────────────────────── Acquisition function optimization ───────────────────────</span>\n",
       "</pre>\n"
      ],
      "text/plain": [
       "\u001b[38;2;5;166;251m────────────────────── Acquisition function optimization ───────────────────────\u001b[0m\n"
      ]
     },
     "metadata": {},
     "output_type": "display_data"
    },
    {
     "data": {
      "text/html": [
       "<pre style=\"white-space:pre;overflow-x:auto;line-height:normal;font-family:Menlo,'DejaVu Sans Mono',consolas,'Courier New',monospace\">ATLAS <span style=\"font-weight: bold\">[</span>INFO<span style=\"font-weight: bold\">]</span> Optimizing acquisition function with pymoo GA for <span style=\"color: #008080; text-decoration-color: #008080; font-weight: bold\">0</span> fixed parameters<span style=\"color: #808000; text-decoration-color: #808000\">...</span>\n",
       "</pre>\n"
      ],
      "text/plain": [
       "ATLAS \u001b[1m[\u001b[0mINFO\u001b[1m]\u001b[0m Optimizing acquisition function with pymoo GA for \u001b[1;36m0\u001b[0m fixed parameters\u001b[33m...\u001b[0m\n"
      ]
     },
     "metadata": {},
     "output_type": "display_data"
    },
    {
     "data": {
      "text/html": [
       "<pre style=\"white-space:pre;overflow-x:auto;line-height:normal;font-family:Menlo,'DejaVu Sans Mono',consolas,'Courier New',monospace\">ATLAS <span style=\"font-weight: bold\">[</span>INFO<span style=\"font-weight: bold\">]</span> Completed in <span style=\"color: #008080; text-decoration-color: #008080; font-weight: bold\">0.971</span> sec\n",
       "</pre>\n"
      ],
      "text/plain": [
       "ATLAS \u001b[1m[\u001b[0mINFO\u001b[1m]\u001b[0m Completed in \u001b[1;36m0.971\u001b[0m sec\n"
      ]
     },
     "metadata": {},
     "output_type": "display_data"
    },
    {
     "name": "stdout",
     "output_type": "stream",
     "text": [
      "[0.66130502 0.2586294 ]\n",
      "\n",
      "ITER : 8\n",
      "SAMPLE : ParamVector(param_0 = 0.6613050232414175, param_1 = 0.25862939655342154)\n",
      "MEASUREMENT : nan\n",
      "\n"
     ]
    },
    {
     "data": {
      "text/html": [
       "<pre style=\"white-space:pre;overflow-x:auto;line-height:normal;font-family:Menlo,'DejaVu Sans Mono',consolas,'Courier New',monospace\"><span style=\"color: #05a6fb; text-decoration-color: #05a6fb\">───────────────────── Training regression surrogate model ──────────────────────</span>\n",
       "</pre>\n"
      ],
      "text/plain": [
       "\u001b[38;2;5;166;251m───────────────────── Training regression surrogate model ──────────────────────\u001b[0m\n"
      ]
     },
     "metadata": {},
     "output_type": "display_data"
    },
    {
     "name": "stderr",
     "output_type": "stream",
     "text": [
      "/Users/rileyhickman/mambaforge/envs/atlas_aag/lib/python3.10/site-packages/botorch/models/utils/assorted.py:201: InputDataWarning: Input data is not standardized. Please consider scaling the input to zero mean and unit variance.\n",
      "  warnings.warn(msg, InputDataWarning)\n"
     ]
    },
    {
     "data": {
      "text/html": [
       "<pre style=\"white-space:pre;overflow-x:auto;line-height:normal;font-family:Menlo,'DejaVu Sans Mono',consolas,'Courier New',monospace\">ATLAS <span style=\"font-weight: bold\">[</span>INFO<span style=\"font-weight: bold\">]</span> Regression surrogate GP trained in <span style=\"color: #008080; text-decoration-color: #008080; font-weight: bold\">0.027</span> sec\n",
       "</pre>\n"
      ],
      "text/plain": [
       "ATLAS \u001b[1m[\u001b[0mINFO\u001b[1m]\u001b[0m Regression surrogate GP trained in \u001b[1;36m0.027\u001b[0m sec\n"
      ]
     },
     "metadata": {},
     "output_type": "display_data"
    },
    {
     "data": {
      "text/html": [
       "<pre style=\"white-space:pre;overflow-x:auto;line-height:normal;font-family:Menlo,'DejaVu Sans Mono',consolas,'Courier New',monospace\"><span style=\"color: #05a6fb; text-decoration-color: #05a6fb\">─────────────────── Training classification surrogate model ────────────────────</span>\n",
       "</pre>\n"
      ],
      "text/plain": [
       "\u001b[38;2;5;166;251m─────────────────── Training classification surrogate model ────────────────────\u001b[0m\n"
      ]
     },
     "metadata": {},
     "output_type": "display_data"
    },
    {
     "data": {
      "text/html": [
       "<pre style=\"white-space:pre;overflow-x:auto;line-height:normal;font-family:Menlo,'DejaVu Sans Mono',consolas,'Courier New',monospace\"><span style=\"color: #05a6fb; text-decoration-color: #05a6fb\">────────────────────── Acquisition function optimization ───────────────────────</span>\n",
       "</pre>\n"
      ],
      "text/plain": [
       "\u001b[38;2;5;166;251m────────────────────── Acquisition function optimization ───────────────────────\u001b[0m\n"
      ]
     },
     "metadata": {},
     "output_type": "display_data"
    },
    {
     "data": {
      "text/html": [
       "<pre style=\"white-space:pre;overflow-x:auto;line-height:normal;font-family:Menlo,'DejaVu Sans Mono',consolas,'Courier New',monospace\">ATLAS <span style=\"font-weight: bold\">[</span>INFO<span style=\"font-weight: bold\">]</span> Optimizing acquisition function with pymoo GA for <span style=\"color: #008080; text-decoration-color: #008080; font-weight: bold\">0</span> fixed parameters<span style=\"color: #808000; text-decoration-color: #808000\">...</span>\n",
       "</pre>\n"
      ],
      "text/plain": [
       "ATLAS \u001b[1m[\u001b[0mINFO\u001b[1m]\u001b[0m Optimizing acquisition function with pymoo GA for \u001b[1;36m0\u001b[0m fixed parameters\u001b[33m...\u001b[0m\n"
      ]
     },
     "metadata": {},
     "output_type": "display_data"
    },
    {
     "data": {
      "text/html": [
       "<pre style=\"white-space:pre;overflow-x:auto;line-height:normal;font-family:Menlo,'DejaVu Sans Mono',consolas,'Courier New',monospace\">ATLAS <span style=\"font-weight: bold\">[</span>INFO<span style=\"font-weight: bold\">]</span> Completed in <span style=\"color: #008080; text-decoration-color: #008080; font-weight: bold\">0.853</span> sec\n",
       "</pre>\n"
      ],
      "text/plain": [
       "ATLAS \u001b[1m[\u001b[0mINFO\u001b[1m]\u001b[0m Completed in \u001b[1;36m0.853\u001b[0m sec\n"
      ]
     },
     "metadata": {},
     "output_type": "display_data"
    },
    {
     "name": "stdout",
     "output_type": "stream",
     "text": [
      "[0.66002783 0.2570993 ]\n",
      "\n",
      "ITER : 9\n",
      "SAMPLE : ParamVector(param_0 = 0.6600278271825615, param_1 = 0.2570992973446436)\n",
      "MEASUREMENT : nan\n",
      "\n"
     ]
    },
    {
     "data": {
      "text/html": [
       "<pre style=\"white-space:pre;overflow-x:auto;line-height:normal;font-family:Menlo,'DejaVu Sans Mono',consolas,'Courier New',monospace\"><span style=\"color: #05a6fb; text-decoration-color: #05a6fb\">───────────────────── Training regression surrogate model ──────────────────────</span>\n",
       "</pre>\n"
      ],
      "text/plain": [
       "\u001b[38;2;5;166;251m───────────────────── Training regression surrogate model ──────────────────────\u001b[0m\n"
      ]
     },
     "metadata": {},
     "output_type": "display_data"
    },
    {
     "name": "stderr",
     "output_type": "stream",
     "text": [
      "/Users/rileyhickman/mambaforge/envs/atlas_aag/lib/python3.10/site-packages/botorch/models/utils/assorted.py:201: InputDataWarning: Input data is not standardized. Please consider scaling the input to zero mean and unit variance.\n",
      "  warnings.warn(msg, InputDataWarning)\n"
     ]
    },
    {
     "data": {
      "text/html": [
       "<pre style=\"white-space:pre;overflow-x:auto;line-height:normal;font-family:Menlo,'DejaVu Sans Mono',consolas,'Courier New',monospace\">ATLAS <span style=\"font-weight: bold\">[</span>INFO<span style=\"font-weight: bold\">]</span> Regression surrogate GP trained in <span style=\"color: #008080; text-decoration-color: #008080; font-weight: bold\">0.027</span> sec\n",
       "</pre>\n"
      ],
      "text/plain": [
       "ATLAS \u001b[1m[\u001b[0mINFO\u001b[1m]\u001b[0m Regression surrogate GP trained in \u001b[1;36m0.027\u001b[0m sec\n"
      ]
     },
     "metadata": {},
     "output_type": "display_data"
    },
    {
     "data": {
      "text/html": [
       "<pre style=\"white-space:pre;overflow-x:auto;line-height:normal;font-family:Menlo,'DejaVu Sans Mono',consolas,'Courier New',monospace\"><span style=\"color: #05a6fb; text-decoration-color: #05a6fb\">─────────────────── Training classification surrogate model ────────────────────</span>\n",
       "</pre>\n"
      ],
      "text/plain": [
       "\u001b[38;2;5;166;251m─────────────────── Training classification surrogate model ────────────────────\u001b[0m\n"
      ]
     },
     "metadata": {},
     "output_type": "display_data"
    },
    {
     "data": {
      "text/html": [
       "<pre style=\"white-space:pre;overflow-x:auto;line-height:normal;font-family:Menlo,'DejaVu Sans Mono',consolas,'Courier New',monospace\"><span style=\"color: #05a6fb; text-decoration-color: #05a6fb\">────────────────────── Acquisition function optimization ───────────────────────</span>\n",
       "</pre>\n"
      ],
      "text/plain": [
       "\u001b[38;2;5;166;251m────────────────────── Acquisition function optimization ───────────────────────\u001b[0m\n"
      ]
     },
     "metadata": {},
     "output_type": "display_data"
    },
    {
     "data": {
      "text/html": [
       "<pre style=\"white-space:pre;overflow-x:auto;line-height:normal;font-family:Menlo,'DejaVu Sans Mono',consolas,'Courier New',monospace\">ATLAS <span style=\"font-weight: bold\">[</span>INFO<span style=\"font-weight: bold\">]</span> Optimizing acquisition function with pymoo GA for <span style=\"color: #008080; text-decoration-color: #008080; font-weight: bold\">0</span> fixed parameters<span style=\"color: #808000; text-decoration-color: #808000\">...</span>\n",
       "</pre>\n"
      ],
      "text/plain": [
       "ATLAS \u001b[1m[\u001b[0mINFO\u001b[1m]\u001b[0m Optimizing acquisition function with pymoo GA for \u001b[1;36m0\u001b[0m fixed parameters\u001b[33m...\u001b[0m\n"
      ]
     },
     "metadata": {},
     "output_type": "display_data"
    },
    {
     "data": {
      "text/html": [
       "<pre style=\"white-space:pre;overflow-x:auto;line-height:normal;font-family:Menlo,'DejaVu Sans Mono',consolas,'Courier New',monospace\">ATLAS <span style=\"font-weight: bold\">[</span>INFO<span style=\"font-weight: bold\">]</span> Completed in <span style=\"color: #008080; text-decoration-color: #008080; font-weight: bold\">0.857</span> sec\n",
       "</pre>\n"
      ],
      "text/plain": [
       "ATLAS \u001b[1m[\u001b[0mINFO\u001b[1m]\u001b[0m Completed in \u001b[1;36m0.857\u001b[0m sec\n"
      ]
     },
     "metadata": {},
     "output_type": "display_data"
    },
    {
     "name": "stdout",
     "output_type": "stream",
     "text": [
      "[0.65951054 0.25635334]\n",
      "\n",
      "ITER : 10\n",
      "SAMPLE : ParamVector(param_0 = 0.6595105364875258, param_1 = 0.2563533353479778)\n",
      "MEASUREMENT : nan\n",
      "\n"
     ]
    },
    {
     "data": {
      "text/html": [
       "<pre style=\"white-space:pre;overflow-x:auto;line-height:normal;font-family:Menlo,'DejaVu Sans Mono',consolas,'Courier New',monospace\"><span style=\"color: #05a6fb; text-decoration-color: #05a6fb\">───────────────────── Training regression surrogate model ──────────────────────</span>\n",
       "</pre>\n"
      ],
      "text/plain": [
       "\u001b[38;2;5;166;251m───────────────────── Training regression surrogate model ──────────────────────\u001b[0m\n"
      ]
     },
     "metadata": {},
     "output_type": "display_data"
    },
    {
     "name": "stderr",
     "output_type": "stream",
     "text": [
      "/Users/rileyhickman/mambaforge/envs/atlas_aag/lib/python3.10/site-packages/botorch/models/utils/assorted.py:201: InputDataWarning: Input data is not standardized. Please consider scaling the input to zero mean and unit variance.\n",
      "  warnings.warn(msg, InputDataWarning)\n"
     ]
    },
    {
     "data": {
      "text/html": [
       "<pre style=\"white-space:pre;overflow-x:auto;line-height:normal;font-family:Menlo,'DejaVu Sans Mono',consolas,'Courier New',monospace\">ATLAS <span style=\"font-weight: bold\">[</span>INFO<span style=\"font-weight: bold\">]</span> Regression surrogate GP trained in <span style=\"color: #008080; text-decoration-color: #008080; font-weight: bold\">0.028</span> sec\n",
       "</pre>\n"
      ],
      "text/plain": [
       "ATLAS \u001b[1m[\u001b[0mINFO\u001b[1m]\u001b[0m Regression surrogate GP trained in \u001b[1;36m0.028\u001b[0m sec\n"
      ]
     },
     "metadata": {},
     "output_type": "display_data"
    },
    {
     "data": {
      "text/html": [
       "<pre style=\"white-space:pre;overflow-x:auto;line-height:normal;font-family:Menlo,'DejaVu Sans Mono',consolas,'Courier New',monospace\"><span style=\"color: #05a6fb; text-decoration-color: #05a6fb\">─────────────────── Training classification surrogate model ────────────────────</span>\n",
       "</pre>\n"
      ],
      "text/plain": [
       "\u001b[38;2;5;166;251m─────────────────── Training classification surrogate model ────────────────────\u001b[0m\n"
      ]
     },
     "metadata": {},
     "output_type": "display_data"
    },
    {
     "data": {
      "application/vnd.jupyter.widget-view+json": {
       "model_id": "35af81b3ef9a42f6851567d8f2349f89",
       "version_major": 2,
       "version_minor": 0
      },
      "text/plain": [
       "Output()"
      ]
     },
     "metadata": {},
     "output_type": "display_data"
    },
    {
     "data": {
      "text/html": [
       "<pre style=\"white-space:pre;overflow-x:auto;line-height:normal;font-family:Menlo,'DejaVu Sans Mono',consolas,'Courier New',monospace\"></pre>\n"
      ],
      "text/plain": []
     },
     "metadata": {},
     "output_type": "display_data"
    },
    {
     "data": {
      "text/html": [
       "<pre style=\"white-space:pre;overflow-x:auto;line-height:normal;font-family:Menlo,'DejaVu Sans Mono',consolas,'Courier New',monospace\">\n",
       "</pre>\n"
      ],
      "text/plain": [
       "\n"
      ]
     },
     "metadata": {},
     "output_type": "display_data"
    },
    {
     "data": {
      "text/html": [
       "<pre style=\"white-space:pre;overflow-x:auto;line-height:normal;font-family:Menlo,'DejaVu Sans Mono',consolas,'Courier New',monospace\">ATLAS <span style=\"font-weight: bold\">[</span>INFO<span style=\"font-weight: bold\">]</span>  Classification surrogate VGP trained in <span style=\"color: #008080; text-decoration-color: #008080; font-weight: bold\">5.411</span> sec <span style=\"font-weight: bold\">(</span><span style=\"color: #008080; text-decoration-color: #008080; font-weight: bold\">1999</span> epochs<span style=\"font-weight: bold\">)</span>    Loss : <span style=\"color: #008080; text-decoration-color: #008080; font-weight: bold\">1.77</span> \n",
       "</pre>\n"
      ],
      "text/plain": [
       "ATLAS \u001b[1m[\u001b[0mINFO\u001b[1m]\u001b[0m  Classification surrogate VGP trained in \u001b[1;36m5.411\u001b[0m sec \u001b[1m(\u001b[0m\u001b[1;36m1999\u001b[0m epochs\u001b[1m)\u001b[0m    Loss : \u001b[1;36m1.77\u001b[0m \n"
      ]
     },
     "metadata": {},
     "output_type": "display_data"
    },
    {
     "data": {
      "application/vnd.jupyter.widget-view+json": {
       "model_id": "d6686eaad404431697b3a64cce01a7cc",
       "version_major": 2,
       "version_minor": 0
      },
      "text/plain": [
       "Output()"
      ]
     },
     "metadata": {},
     "output_type": "display_data"
    },
    {
     "data": {
      "text/html": [
       "<pre style=\"white-space:pre;overflow-x:auto;line-height:normal;font-family:Menlo,'DejaVu Sans Mono',consolas,'Courier New',monospace\"></pre>\n"
      ],
      "text/plain": []
     },
     "metadata": {},
     "output_type": "display_data"
    },
    {
     "data": {
      "text/html": [
       "<pre style=\"white-space:pre;overflow-x:auto;line-height:normal;font-family:Menlo,'DejaVu Sans Mono',consolas,'Courier New',monospace\">\n",
       "</pre>\n"
      ],
      "text/plain": [
       "\n"
      ]
     },
     "metadata": {},
     "output_type": "display_data"
    },
    {
     "data": {
      "text/html": [
       "<pre style=\"white-space:pre;overflow-x:auto;line-height:normal;font-family:Menlo,'DejaVu Sans Mono',consolas,'Courier New',monospace\">ATLAS <span style=\"font-weight: bold\">[</span>INFO<span style=\"font-weight: bold\">]</span>  Classification surrogate VGP trained in <span style=\"color: #008080; text-decoration-color: #008080; font-weight: bold\">2.375</span> sec <span style=\"font-weight: bold\">(</span><span style=\"color: #008080; text-decoration-color: #008080; font-weight: bold\">908</span> epochs<span style=\"font-weight: bold\">)</span>     Loss : <span style=\"color: #008080; text-decoration-color: #008080; font-weight: bold\">1.305</span> \n",
       "</pre>\n"
      ],
      "text/plain": [
       "ATLAS \u001b[1m[\u001b[0mINFO\u001b[1m]\u001b[0m  Classification surrogate VGP trained in \u001b[1;36m2.375\u001b[0m sec \u001b[1m(\u001b[0m\u001b[1;36m908\u001b[0m epochs\u001b[1m)\u001b[0m     Loss : \u001b[1;36m1.305\u001b[0m \n"
      ]
     },
     "metadata": {},
     "output_type": "display_data"
    },
    {
     "data": {
      "application/vnd.jupyter.widget-view+json": {
       "model_id": "5de2a08df52c49faa0c75ed5f8cd9159",
       "version_major": 2,
       "version_minor": 0
      },
      "text/plain": [
       "Output()"
      ]
     },
     "metadata": {},
     "output_type": "display_data"
    },
    {
     "data": {
      "text/html": [
       "<pre style=\"white-space:pre;overflow-x:auto;line-height:normal;font-family:Menlo,'DejaVu Sans Mono',consolas,'Courier New',monospace\"></pre>\n"
      ],
      "text/plain": []
     },
     "metadata": {},
     "output_type": "display_data"
    },
    {
     "data": {
      "text/html": [
       "<pre style=\"white-space:pre;overflow-x:auto;line-height:normal;font-family:Menlo,'DejaVu Sans Mono',consolas,'Courier New',monospace\">\n",
       "</pre>\n"
      ],
      "text/plain": [
       "\n"
      ]
     },
     "metadata": {},
     "output_type": "display_data"
    },
    {
     "data": {
      "text/html": [
       "<pre style=\"white-space:pre;overflow-x:auto;line-height:normal;font-family:Menlo,'DejaVu Sans Mono',consolas,'Courier New',monospace\">ATLAS <span style=\"font-weight: bold\">[</span>INFO<span style=\"font-weight: bold\">]</span>  Classification surrogate VGP trained in <span style=\"color: #008080; text-decoration-color: #008080; font-weight: bold\">5.214</span> sec <span style=\"font-weight: bold\">(</span><span style=\"color: #008080; text-decoration-color: #008080; font-weight: bold\">1999</span> epochs<span style=\"font-weight: bold\">)</span>    Loss : <span style=\"color: #008080; text-decoration-color: #008080; font-weight: bold\">1.239</span> \n",
       "</pre>\n"
      ],
      "text/plain": [
       "ATLAS \u001b[1m[\u001b[0mINFO\u001b[1m]\u001b[0m  Classification surrogate VGP trained in \u001b[1;36m5.214\u001b[0m sec \u001b[1m(\u001b[0m\u001b[1;36m1999\u001b[0m epochs\u001b[1m)\u001b[0m    Loss : \u001b[1;36m1.239\u001b[0m \n"
      ]
     },
     "metadata": {},
     "output_type": "display_data"
    },
    {
     "data": {
      "application/vnd.jupyter.widget-view+json": {
       "model_id": "8be721c039d946a59da1f6463e80d2a5",
       "version_major": 2,
       "version_minor": 0
      },
      "text/plain": [
       "Output()"
      ]
     },
     "metadata": {},
     "output_type": "display_data"
    },
    {
     "data": {
      "text/html": [
       "<pre style=\"white-space:pre;overflow-x:auto;line-height:normal;font-family:Menlo,'DejaVu Sans Mono',consolas,'Courier New',monospace\"></pre>\n"
      ],
      "text/plain": []
     },
     "metadata": {},
     "output_type": "display_data"
    },
    {
     "data": {
      "text/html": [
       "<pre style=\"white-space:pre;overflow-x:auto;line-height:normal;font-family:Menlo,'DejaVu Sans Mono',consolas,'Courier New',monospace\">\n",
       "</pre>\n"
      ],
      "text/plain": [
       "\n"
      ]
     },
     "metadata": {},
     "output_type": "display_data"
    },
    {
     "data": {
      "text/html": [
       "<pre style=\"white-space:pre;overflow-x:auto;line-height:normal;font-family:Menlo,'DejaVu Sans Mono',consolas,'Courier New',monospace\">ATLAS <span style=\"font-weight: bold\">[</span>INFO<span style=\"font-weight: bold\">]</span>  Classification surrogate VGP trained in <span style=\"color: #008080; text-decoration-color: #008080; font-weight: bold\">7.831</span> sec <span style=\"font-weight: bold\">(</span><span style=\"color: #008080; text-decoration-color: #008080; font-weight: bold\">1635</span> epochs<span style=\"font-weight: bold\">)</span>    Loss : <span style=\"color: #008080; text-decoration-color: #008080; font-weight: bold\">0.462</span> \n",
       "</pre>\n"
      ],
      "text/plain": [
       "ATLAS \u001b[1m[\u001b[0mINFO\u001b[1m]\u001b[0m  Classification surrogate VGP trained in \u001b[1;36m7.831\u001b[0m sec \u001b[1m(\u001b[0m\u001b[1;36m1635\u001b[0m epochs\u001b[1m)\u001b[0m    Loss : \u001b[1;36m0.462\u001b[0m \n"
      ]
     },
     "metadata": {},
     "output_type": "display_data"
    },
    {
     "data": {
      "text/html": [
       "<pre style=\"white-space:pre;overflow-x:auto;line-height:normal;font-family:Menlo,'DejaVu Sans Mono',consolas,'Courier New',monospace\"><span style=\"color: #05a6fb; text-decoration-color: #05a6fb\">────────────────────── Acquisition function optimization ───────────────────────</span>\n",
       "</pre>\n"
      ],
      "text/plain": [
       "\u001b[38;2;5;166;251m────────────────────── Acquisition function optimization ───────────────────────\u001b[0m\n"
      ]
     },
     "metadata": {},
     "output_type": "display_data"
    },
    {
     "data": {
      "text/html": [
       "<pre style=\"white-space:pre;overflow-x:auto;line-height:normal;font-family:Menlo,'DejaVu Sans Mono',consolas,'Courier New',monospace\">ATLAS <span style=\"font-weight: bold\">[</span>INFO<span style=\"font-weight: bold\">]</span> Optimizing acquisition function with pymoo GA for <span style=\"color: #008080; text-decoration-color: #008080; font-weight: bold\">0</span> fixed parameters<span style=\"color: #808000; text-decoration-color: #808000\">...</span>\n",
       "</pre>\n"
      ],
      "text/plain": [
       "ATLAS \u001b[1m[\u001b[0mINFO\u001b[1m]\u001b[0m Optimizing acquisition function with pymoo GA for \u001b[1;36m0\u001b[0m fixed parameters\u001b[33m...\u001b[0m\n"
      ]
     },
     "metadata": {},
     "output_type": "display_data"
    },
    {
     "data": {
      "text/html": [
       "<pre style=\"white-space:pre;overflow-x:auto;line-height:normal;font-family:Menlo,'DejaVu Sans Mono',consolas,'Courier New',monospace\">ATLAS <span style=\"font-weight: bold\">[</span>INFO<span style=\"font-weight: bold\">]</span> Completed in <span style=\"color: #008080; text-decoration-color: #008080; font-weight: bold\">0.859</span> sec\n",
       "</pre>\n"
      ],
      "text/plain": [
       "ATLAS \u001b[1m[\u001b[0mINFO\u001b[1m]\u001b[0m Completed in \u001b[1;36m0.859\u001b[0m sec\n"
      ]
     },
     "metadata": {},
     "output_type": "display_data"
    },
    {
     "name": "stdout",
     "output_type": "stream",
     "text": [
      "[0.56991184 0.21732929]\n",
      "\n",
      "ITER : 11\n",
      "SAMPLE : ParamVector(param_0 = 0.5699118378310563, param_1 = 0.21732928646500937)\n",
      "MEASUREMENT : nan\n",
      "\n"
     ]
    },
    {
     "data": {
      "text/html": [
       "<pre style=\"white-space:pre;overflow-x:auto;line-height:normal;font-family:Menlo,'DejaVu Sans Mono',consolas,'Courier New',monospace\"><span style=\"color: #05a6fb; text-decoration-color: #05a6fb\">───────────────────── Training regression surrogate model ──────────────────────</span>\n",
       "</pre>\n"
      ],
      "text/plain": [
       "\u001b[38;2;5;166;251m───────────────────── Training regression surrogate model ──────────────────────\u001b[0m\n"
      ]
     },
     "metadata": {},
     "output_type": "display_data"
    },
    {
     "name": "stderr",
     "output_type": "stream",
     "text": [
      "/Users/rileyhickman/mambaforge/envs/atlas_aag/lib/python3.10/site-packages/botorch/models/utils/assorted.py:201: InputDataWarning: Input data is not standardized. Please consider scaling the input to zero mean and unit variance.\n",
      "  warnings.warn(msg, InputDataWarning)\n"
     ]
    },
    {
     "data": {
      "text/html": [
       "<pre style=\"white-space:pre;overflow-x:auto;line-height:normal;font-family:Menlo,'DejaVu Sans Mono',consolas,'Courier New',monospace\">ATLAS <span style=\"font-weight: bold\">[</span>INFO<span style=\"font-weight: bold\">]</span> Regression surrogate GP trained in <span style=\"color: #008080; text-decoration-color: #008080; font-weight: bold\">0.028</span> sec\n",
       "</pre>\n"
      ],
      "text/plain": [
       "ATLAS \u001b[1m[\u001b[0mINFO\u001b[1m]\u001b[0m Regression surrogate GP trained in \u001b[1;36m0.028\u001b[0m sec\n"
      ]
     },
     "metadata": {},
     "output_type": "display_data"
    },
    {
     "data": {
      "text/html": [
       "<pre style=\"white-space:pre;overflow-x:auto;line-height:normal;font-family:Menlo,'DejaVu Sans Mono',consolas,'Courier New',monospace\"><span style=\"color: #05a6fb; text-decoration-color: #05a6fb\">─────────────────── Training classification surrogate model ────────────────────</span>\n",
       "</pre>\n"
      ],
      "text/plain": [
       "\u001b[38;2;5;166;251m─────────────────── Training classification surrogate model ────────────────────\u001b[0m\n"
      ]
     },
     "metadata": {},
     "output_type": "display_data"
    },
    {
     "data": {
      "application/vnd.jupyter.widget-view+json": {
       "model_id": "7b9350531d144266b8979be06ec32200",
       "version_major": 2,
       "version_minor": 0
      },
      "text/plain": [
       "Output()"
      ]
     },
     "metadata": {},
     "output_type": "display_data"
    },
    {
     "data": {
      "text/html": [
       "<pre style=\"white-space:pre;overflow-x:auto;line-height:normal;font-family:Menlo,'DejaVu Sans Mono',consolas,'Courier New',monospace\"></pre>\n"
      ],
      "text/plain": []
     },
     "metadata": {},
     "output_type": "display_data"
    },
    {
     "data": {
      "text/html": [
       "<pre style=\"white-space:pre;overflow-x:auto;line-height:normal;font-family:Menlo,'DejaVu Sans Mono',consolas,'Courier New',monospace\">\n",
       "</pre>\n"
      ],
      "text/plain": [
       "\n"
      ]
     },
     "metadata": {},
     "output_type": "display_data"
    },
    {
     "data": {
      "text/html": [
       "<pre style=\"white-space:pre;overflow-x:auto;line-height:normal;font-family:Menlo,'DejaVu Sans Mono',consolas,'Courier New',monospace\">ATLAS <span style=\"font-weight: bold\">[</span>INFO<span style=\"font-weight: bold\">]</span>  Classification surrogate VGP trained in <span style=\"color: #008080; text-decoration-color: #008080; font-weight: bold\">5.366</span> sec <span style=\"font-weight: bold\">(</span><span style=\"color: #008080; text-decoration-color: #008080; font-weight: bold\">1999</span> epochs<span style=\"font-weight: bold\">)</span>    Loss : <span style=\"color: #008080; text-decoration-color: #008080; font-weight: bold\">25.021</span> \n",
       "</pre>\n"
      ],
      "text/plain": [
       "ATLAS \u001b[1m[\u001b[0mINFO\u001b[1m]\u001b[0m  Classification surrogate VGP trained in \u001b[1;36m5.366\u001b[0m sec \u001b[1m(\u001b[0m\u001b[1;36m1999\u001b[0m epochs\u001b[1m)\u001b[0m    Loss : \u001b[1;36m25.021\u001b[0m \n"
      ]
     },
     "metadata": {},
     "output_type": "display_data"
    },
    {
     "data": {
      "application/vnd.jupyter.widget-view+json": {
       "model_id": "7f230b2143dd4cb6b56a84e290d93c9a",
       "version_major": 2,
       "version_minor": 0
      },
      "text/plain": [
       "Output()"
      ]
     },
     "metadata": {},
     "output_type": "display_data"
    },
    {
     "data": {
      "text/html": [
       "<pre style=\"white-space:pre;overflow-x:auto;line-height:normal;font-family:Menlo,'DejaVu Sans Mono',consolas,'Courier New',monospace\"></pre>\n"
      ],
      "text/plain": []
     },
     "metadata": {},
     "output_type": "display_data"
    },
    {
     "data": {
      "text/html": [
       "<pre style=\"white-space:pre;overflow-x:auto;line-height:normal;font-family:Menlo,'DejaVu Sans Mono',consolas,'Courier New',monospace\">\n",
       "</pre>\n"
      ],
      "text/plain": [
       "\n"
      ]
     },
     "metadata": {},
     "output_type": "display_data"
    },
    {
     "data": {
      "text/html": [
       "<pre style=\"white-space:pre;overflow-x:auto;line-height:normal;font-family:Menlo,'DejaVu Sans Mono',consolas,'Courier New',monospace\">ATLAS <span style=\"font-weight: bold\">[</span>INFO<span style=\"font-weight: bold\">]</span>  Classification surrogate VGP trained in <span style=\"color: #008080; text-decoration-color: #008080; font-weight: bold\">5.286</span> sec <span style=\"font-weight: bold\">(</span><span style=\"color: #008080; text-decoration-color: #008080; font-weight: bold\">1999</span> epochs<span style=\"font-weight: bold\">)</span>    Loss : <span style=\"color: #008080; text-decoration-color: #008080; font-weight: bold\">1.254</span> \n",
       "</pre>\n"
      ],
      "text/plain": [
       "ATLAS \u001b[1m[\u001b[0mINFO\u001b[1m]\u001b[0m  Classification surrogate VGP trained in \u001b[1;36m5.286\u001b[0m sec \u001b[1m(\u001b[0m\u001b[1;36m1999\u001b[0m epochs\u001b[1m)\u001b[0m    Loss : \u001b[1;36m1.254\u001b[0m \n"
      ]
     },
     "metadata": {},
     "output_type": "display_data"
    },
    {
     "ename": "KeyboardInterrupt",
     "evalue": "",
     "output_type": "error",
     "traceback": [
      "\u001b[0;31m---------------------------------------------------------------------------\u001b[0m",
      "\u001b[0;31mKeyboardInterrupt\u001b[0m                         Traceback (most recent call last)",
      "Cell \u001b[0;32mIn[15], line 6\u001b[0m\n\u001b[1;32m      3\u001b[0m iter_ \u001b[38;5;241m=\u001b[39m \u001b[38;5;241m0\u001b[39m\n\u001b[1;32m      4\u001b[0m \u001b[38;5;28;01mwhile\u001b[39;00m \u001b[38;5;28mlen\u001b[39m(campaign\u001b[38;5;241m.\u001b[39mobservations\u001b[38;5;241m.\u001b[39mget_values()) \u001b[38;5;241m<\u001b[39m BUDGET:\n\u001b[0;32m----> 6\u001b[0m     samples \u001b[38;5;241m=\u001b[39m \u001b[43mplanner\u001b[49m\u001b[38;5;241;43m.\u001b[39;49m\u001b[43mrecommend\u001b[49m\u001b[43m(\u001b[49m\u001b[43mcampaign\u001b[49m\u001b[38;5;241;43m.\u001b[39;49m\u001b[43mobservations\u001b[49m\u001b[43m)\u001b[49m\n\u001b[1;32m      7\u001b[0m     \u001b[38;5;28;01mfor\u001b[39;00m sample \u001b[38;5;129;01min\u001b[39;00m samples:\n\u001b[1;32m      8\u001b[0m         \n\u001b[1;32m      9\u001b[0m         \u001b[38;5;66;03m# evaluate constrained surface, return Nan if infeasible point\u001b[39;00m\n\u001b[1;32m     10\u001b[0m         \u001b[38;5;28;01mif\u001b[39;00m unknown_constraint(sample\u001b[38;5;241m.\u001b[39mto_array()):\n",
      "File \u001b[0;32m~/Research/olympus/src/olympus/planners/abstract_planner.py:146\u001b[0m, in \u001b[0;36mAbstractPlanner.recommend\u001b[0;34m(self, observations, return_as)\u001b[0m\n\u001b[1;32m    134\u001b[0m \u001b[38;5;250m\u001b[39m\u001b[38;5;124;03m\"\"\"Consecutively executes tell and ask: tell the planner about all previous observations, and ask about the\u001b[39;00m\n\u001b[1;32m    135\u001b[0m \u001b[38;5;124;03mnext query point.\u001b[39;00m\n\u001b[1;32m    136\u001b[0m \n\u001b[0;32m   (...)\u001b[0m\n\u001b[1;32m    143\u001b[0m \u001b[38;5;124;03m    list: newly generated parameters\u001b[39;00m\n\u001b[1;32m    144\u001b[0m \u001b[38;5;124;03m\"\"\"\u001b[39;00m\n\u001b[1;32m    145\u001b[0m \u001b[38;5;28mself\u001b[39m\u001b[38;5;241m.\u001b[39mtell(observations)\n\u001b[0;32m--> 146\u001b[0m \u001b[38;5;28;01mreturn\u001b[39;00m \u001b[38;5;28;43mself\u001b[39;49m\u001b[38;5;241;43m.\u001b[39;49m\u001b[43mask\u001b[49m\u001b[43m(\u001b[49m\u001b[43mreturn_as\u001b[49m\u001b[38;5;241;43m=\u001b[39;49m\u001b[43mreturn_as\u001b[49m\u001b[43m)\u001b[49m\n",
      "File \u001b[0;32m~/Research/olympus/src/olympus/planners/abstract_planner.py:100\u001b[0m, in \u001b[0;36mAbstractPlanner.ask\u001b[0;34m(self, return_as)\u001b[0m\n\u001b[1;32m     98\u001b[0m \u001b[38;5;66;03m# TODO: this will not work with batched optimization \u001b[39;00m\n\u001b[1;32m     99\u001b[0m \u001b[38;5;28mself\u001b[39m\u001b[38;5;241m.\u001b[39mnum_generated \u001b[38;5;241m+\u001b[39m\u001b[38;5;241m=\u001b[39m\u001b[38;5;241m1\u001b[39m\n\u001b[0;32m--> 100\u001b[0m param_vector \u001b[38;5;241m=\u001b[39m \u001b[38;5;28;43mself\u001b[39;49m\u001b[38;5;241;43m.\u001b[39;49m\u001b[43m_ask\u001b[49m\u001b[43m(\u001b[49m\u001b[43m)\u001b[49m\n\u001b[1;32m    102\u001b[0m \u001b[38;5;66;03m# check that the parameters suggested are within the bounds of our param_space\u001b[39;00m\n\u001b[1;32m    103\u001b[0m \u001b[38;5;28;01mif\u001b[39;00m \u001b[38;5;28misinstance\u001b[39m(param_vector, \u001b[38;5;28mlist\u001b[39m):\n\u001b[1;32m    104\u001b[0m     \u001b[38;5;66;03m# batch of recommendations\u001b[39;00m\n",
      "File \u001b[0;32m~/AAG/atlas/src/atlas/planners/gp/planner.py:213\u001b[0m, in \u001b[0;36mGPPlanner._ask\u001b[0;34m(self)\u001b[0m\n\u001b[1;32m    201\u001b[0m \u001b[38;5;28mself\u001b[39m\u001b[38;5;241m.\u001b[39mreg_model \u001b[38;5;241m=\u001b[39m \u001b[38;5;28mself\u001b[39m\u001b[38;5;241m.\u001b[39mbuild_train_regression_gp(\n\u001b[1;32m    202\u001b[0m     \u001b[38;5;28mself\u001b[39m\u001b[38;5;241m.\u001b[39mtrain_x_scaled_reg, \u001b[38;5;28mself\u001b[39m\u001b[38;5;241m.\u001b[39mtrain_y_scaled_reg\n\u001b[1;32m    203\u001b[0m )\n\u001b[1;32m    205\u001b[0m \u001b[38;5;28;01mif\u001b[39;00m (\n\u001b[1;32m    206\u001b[0m     \u001b[38;5;129;01mnot\u001b[39;00m \u001b[38;5;124m\"\u001b[39m\u001b[38;5;124mnaive-\u001b[39m\u001b[38;5;124m\"\u001b[39m \u001b[38;5;129;01min\u001b[39;00m \u001b[38;5;28mself\u001b[39m\u001b[38;5;241m.\u001b[39mfeas_strategy\n\u001b[1;32m    207\u001b[0m     \u001b[38;5;129;01mand\u001b[39;00m torch\u001b[38;5;241m.\u001b[39msum(\u001b[38;5;28mself\u001b[39m\u001b[38;5;241m.\u001b[39mtrain_y_scaled_cla)\u001b[38;5;241m.\u001b[39mitem() \u001b[38;5;241m!=\u001b[39m \u001b[38;5;241m0.0\u001b[39m\n\u001b[1;32m    208\u001b[0m ):\n\u001b[1;32m    209\u001b[0m     \u001b[38;5;66;03m# build and train the classification surrogate model\u001b[39;00m\n\u001b[1;32m    210\u001b[0m     (\n\u001b[1;32m    211\u001b[0m         \u001b[38;5;28mself\u001b[39m\u001b[38;5;241m.\u001b[39mcla_model,\n\u001b[1;32m    212\u001b[0m         \u001b[38;5;28mself\u001b[39m\u001b[38;5;241m.\u001b[39mcla_likelihood,\n\u001b[0;32m--> 213\u001b[0m     ) \u001b[38;5;241m=\u001b[39m \u001b[38;5;28;43mself\u001b[39;49m\u001b[38;5;241;43m.\u001b[39;49m\u001b[43mbuild_train_classification_gp\u001b[49m\u001b[43m(\u001b[49m\n\u001b[1;32m    214\u001b[0m \u001b[43m        \u001b[49m\u001b[38;5;28;43mself\u001b[39;49m\u001b[38;5;241;43m.\u001b[39;49m\u001b[43mtrain_x_scaled_cla\u001b[49m\u001b[43m,\u001b[49m\u001b[43m \u001b[49m\u001b[38;5;28;43mself\u001b[39;49m\u001b[38;5;241;43m.\u001b[39;49m\u001b[43mtrain_y_scaled_cla\u001b[49m\n\u001b[1;32m    215\u001b[0m \u001b[43m    \u001b[49m\u001b[43m)\u001b[49m\n\u001b[1;32m    217\u001b[0m     \u001b[38;5;28mself\u001b[39m\u001b[38;5;241m.\u001b[39mcla_model\u001b[38;5;241m.\u001b[39meval()\n\u001b[1;32m    218\u001b[0m     \u001b[38;5;28mself\u001b[39m\u001b[38;5;241m.\u001b[39mcla_likelihood\u001b[38;5;241m.\u001b[39meval()\n",
      "File \u001b[0;32m~/AAG/atlas/src/atlas/base/base.py:271\u001b[0m, in \u001b[0;36mBasePlanner.build_train_classification_gp\u001b[0;34m(self, train_x, train_y)\u001b[0m\n\u001b[1;32m    266\u001b[0m model \u001b[38;5;241m=\u001b[39m ClassificationGPMatern(train_x, train_y)\u001b[38;5;241m.\u001b[39mto(tkwargs[\u001b[38;5;124m\"\u001b[39m\u001b[38;5;124mdevice\u001b[39m\u001b[38;5;124m\"\u001b[39m])\n\u001b[1;32m    267\u001b[0m likelihood \u001b[38;5;241m=\u001b[39m gpytorch\u001b[38;5;241m.\u001b[39mlikelihoods\u001b[38;5;241m.\u001b[39mBernoulliLikelihood()\u001b[38;5;241m.\u001b[39mto(\n\u001b[1;32m    268\u001b[0m     tkwargs[\u001b[38;5;124m\"\u001b[39m\u001b[38;5;124mdevice\u001b[39m\u001b[38;5;124m\"\u001b[39m]\n\u001b[1;32m    269\u001b[0m )\n\u001b[0;32m--> 271\u001b[0m model, likelihood \u001b[38;5;241m=\u001b[39m \u001b[38;5;28;43mself\u001b[39;49m\u001b[38;5;241;43m.\u001b[39;49m\u001b[43mtrain_vgp\u001b[49m\u001b[43m(\u001b[49m\u001b[43mmodel\u001b[49m\u001b[43m,\u001b[49m\u001b[43m \u001b[49m\u001b[43mlikelihood\u001b[49m\u001b[43m,\u001b[49m\u001b[43m \u001b[49m\u001b[43mtrain_x\u001b[49m\u001b[43m,\u001b[49m\u001b[43m \u001b[49m\u001b[43mtrain_y\u001b[49m\u001b[43m)\u001b[49m\n\u001b[1;32m    273\u001b[0m \u001b[38;5;28;01mreturn\u001b[39;00m model, likelihood\n",
      "File \u001b[0;32m~/AAG/atlas/src/atlas/base/base.py:368\u001b[0m, in \u001b[0;36mBasePlanner.train_vgp\u001b[0;34m(self, model, likelihood, train_x, train_y, cross_validate)\u001b[0m\n\u001b[1;32m    366\u001b[0m \u001b[38;5;28;01mfor\u001b[39;00m fold_ix, fold \u001b[38;5;129;01min\u001b[39;00m \u001b[38;5;28menumerate\u001b[39m(folds):\n\u001b[1;32m    367\u001b[0m     train_losses, valid_losses \u001b[38;5;241m=\u001b[39m [], []\n\u001b[0;32m--> 368\u001b[0m     start_time \u001b[38;5;241m=\u001b[39m \u001b[43mtime\u001b[49m\u001b[38;5;241;43m.\u001b[39;49m\u001b[43mtime\u001b[49m\u001b[43m(\u001b[49m\u001b[43m)\u001b[49m\n\u001b[1;32m    369\u001b[0m     model_fold, likelihood_fold \u001b[38;5;241m=\u001b[39m fold[\u001b[38;5;124m\"\u001b[39m\u001b[38;5;124mmodel\u001b[39m\u001b[38;5;124m\"\u001b[39m], fold[\u001b[38;5;124m\"\u001b[39m\u001b[38;5;124mlikelihood\u001b[39m\u001b[38;5;124m\"\u001b[39m]\n\u001b[1;32m    370\u001b[0m     optimizer_fold, mll_fold \u001b[38;5;241m=\u001b[39m fold[\u001b[38;5;124m\"\u001b[39m\u001b[38;5;124moptimizer\u001b[39m\u001b[38;5;124m\"\u001b[39m], fold[\u001b[38;5;124m\"\u001b[39m\u001b[38;5;124mmll\u001b[39m\u001b[38;5;124m\"\u001b[39m]\n",
      "\u001b[0;31mKeyboardInterrupt\u001b[0m: "
     ]
    }
   ],
   "source": [
    "# commence experiment\n",
    "BUDGET = 20\n",
    "iter_ = 0\n",
    "while len(campaign.observations.get_values()) < BUDGET:\n",
    "\n",
    "    samples = planner.recommend(campaign.observations)\n",
    "    for sample in samples:\n",
    "        \n",
    "        # evaluate constrained surface, return Nan if infeasible point\n",
    "        if unknown_constraint(sample.to_array()):\n",
    "            measurement = measurement = surface.run(sample)[0][0]\n",
    "        else:\n",
    "            measurement = np.nan\n",
    "\n",
    "        print(f'\\nITER : {iter_+1}\\nSAMPLE : {sample}\\nMEASUREMENT : {measurement}\\n')\n",
    "        campaign.add_observation(sample, measurement)\n",
    "\n",
    "        iter_+=1"
   ]
  },
  {
   "cell_type": "code",
   "execution_count": null,
   "metadata": {
    "id": "jNCKalwnrmiS"
   },
   "outputs": [],
   "source": []
  },
  {
   "cell_type": "markdown",
   "metadata": {
    "id": "qhxgbBcsJ-x7"
   },
   "source": [
    "## Multi-objective optimization\n",
    "\n",
    "Optimization problems in the experimental sciences often feature multiple, potentially competing objectives which must be optimized simultaneously. `atlas` allows for multi-objective optimization via _achivement_ _scalarizing_ _functions_ (ASFs) implemented in the `olympus` package.\n",
    "\n",
    "\n",
    "As an example, lets consider the `redoxmers` dataset from `olympus`, which concerns the design of redox-active materials for flow batteries [cite redoxmers paper]. This dataset has a fully categorical parameter space and has 3 objectives, all of which are to be minimized. The dataset reports maximum absorption wavelengths, reduction potentials against a Li/Li+ reference electrode, and solvation free energies computed using DFT for a dataset of 1408 benzothiadiazole derivatives. The molecules in this dataset are screened as candidates for self-reporting redox-active materials for non-aqeuous redox flow batteries. We provide simple physicochemical descriptors for each of the substituents. [cite paper]\n",
    "\n",
    "`olympus` provides an interface with several ASFs, including Chimera, Hypervolume indicator, Chebyshev, and WeightedSum. In this example, we will be using the Hypervolume indicator"
   ]
  },
  {
   "cell_type": "code",
   "execution_count": 16,
   "metadata": {
    "id": "YHkxcMt_J-x7"
   },
   "outputs": [
    {
     "data": {
      "text/html": [
       "<div>\n",
       "<style scoped>\n",
       "    .dataframe tbody tr th:only-of-type {\n",
       "        vertical-align: middle;\n",
       "    }\n",
       "\n",
       "    .dataframe tbody tr th {\n",
       "        vertical-align: top;\n",
       "    }\n",
       "\n",
       "    .dataframe thead th {\n",
       "        text-align: right;\n",
       "    }\n",
       "</style>\n",
       "<table border=\"1\" class=\"dataframe\">\n",
       "  <thead>\n",
       "    <tr style=\"text-align: right;\">\n",
       "      <th></th>\n",
       "      <th>r1_label</th>\n",
       "      <th>r3_label</th>\n",
       "      <th>r4_label</th>\n",
       "      <th>r5_label</th>\n",
       "      <th>abs_lam_diff</th>\n",
       "      <th>ered</th>\n",
       "      <th>gsol</th>\n",
       "    </tr>\n",
       "  </thead>\n",
       "  <tbody>\n",
       "    <tr>\n",
       "      <th>0</th>\n",
       "      <td>R1_0</td>\n",
       "      <td>R3_0</td>\n",
       "      <td>R4_0</td>\n",
       "      <td>R5_0</td>\n",
       "      <td>39.96</td>\n",
       "      <td>1.684123</td>\n",
       "      <td>-0.681801</td>\n",
       "    </tr>\n",
       "    <tr>\n",
       "      <th>1</th>\n",
       "      <td>R1_0</td>\n",
       "      <td>R3_0</td>\n",
       "      <td>R4_0</td>\n",
       "      <td>R5_1</td>\n",
       "      <td>63.92</td>\n",
       "      <td>1.963624</td>\n",
       "      <td>-0.711542</td>\n",
       "    </tr>\n",
       "    <tr>\n",
       "      <th>2</th>\n",
       "      <td>R1_0</td>\n",
       "      <td>R3_0</td>\n",
       "      <td>R4_0</td>\n",
       "      <td>R5_2</td>\n",
       "      <td>51.76</td>\n",
       "      <td>2.044655</td>\n",
       "      <td>-0.8874</td>\n",
       "    </tr>\n",
       "    <tr>\n",
       "      <th>3</th>\n",
       "      <td>R1_0</td>\n",
       "      <td>R3_0</td>\n",
       "      <td>R4_0</td>\n",
       "      <td>R5_3</td>\n",
       "      <td>36.93</td>\n",
       "      <td>1.731604</td>\n",
       "      <td>-0.710235</td>\n",
       "    </tr>\n",
       "    <tr>\n",
       "      <th>4</th>\n",
       "      <td>R1_0</td>\n",
       "      <td>R3_0</td>\n",
       "      <td>R4_0</td>\n",
       "      <td>R5_4</td>\n",
       "      <td>53.79</td>\n",
       "      <td>1.844226</td>\n",
       "      <td>-0.748112</td>\n",
       "    </tr>\n",
       "  </tbody>\n",
       "</table>\n",
       "</div>"
      ],
      "text/plain": [
       "  r1_label r3_label r4_label r5_label abs_lam_diff      ered      gsol\n",
       "0     R1_0     R3_0     R4_0     R5_0        39.96  1.684123 -0.681801\n",
       "1     R1_0     R3_0     R4_0     R5_1        63.92  1.963624 -0.711542\n",
       "2     R1_0     R3_0     R4_0     R5_2        51.76  2.044655   -0.8874\n",
       "3     R1_0     R3_0     R4_0     R5_3        36.93  1.731604 -0.710235\n",
       "4     R1_0     R3_0     R4_0     R5_4        53.79  1.844226 -0.748112"
      ]
     },
     "execution_count": 16,
     "metadata": {},
     "output_type": "execute_result"
    }
   ],
   "source": [
    "# load dataset\n",
    "dset = Dataset(kind='redoxmers')\n",
    "dset.data.head()"
   ]
  },
  {
   "cell_type": "code",
   "execution_count": 17,
   "metadata": {
    "colab": {
     "base_uri": "https://localhost:8080/",
     "height": 305
    },
    "id": "QY41wsYkzO_P",
    "outputId": "4855db62-3802-45d4-cd75-07991550b535"
   },
   "outputs": [
    {
     "name": "stdout",
     "output_type": "stream",
     "text": [
      "[ParamVector(abs_lam_diff = 40.05554315879696, ered = 1.6751627567041005, gsol = -0.629535661453569)]\n",
      "Continuous (name='abs_lam_diff', low=0.0, high=1.0, is_periodic=False)\n",
      "Continuous (name='ered', low=0.0, high=1.0, is_periodic=False)\n",
      "Continuous (name='gsol', low=0.0, high=1.0, is_periodic=False)\n"
     ]
    }
   ],
   "source": [
    "params = ParameterVector().from_dict({\n",
    "    'r1_label': 'R1_0',\n",
    "    'r3_label': 'R3_0',\n",
    "    'r4_label': 'R4_0',\n",
    "    'r5_label': 'R5_0',\n",
    "})\n",
    "\n",
    "measurement = dset.run(params, return_paramvector=True)\n",
    "print(measurement)\n",
    "print(dset.value_space)"
   ]
  },
  {
   "cell_type": "code",
   "execution_count": 18,
   "metadata": {},
   "outputs": [
    {
     "data": {
      "text/html": [
       "<pre style=\"white-space:pre;overflow-x:auto;line-height:normal;font-family:Menlo,'DejaVu Sans Mono',consolas,'Courier New',monospace\"><span style=\"color: #051923; text-decoration-color: #051923\">───────────────────────────────────────────────────────────────────────────────────────────────────────────────────</span>\n",
       "</pre>\n"
      ],
      "text/plain": [
       "\u001b[38;2;5;25;35m───────────────────────────────────────────────────────────────────────────────────────────────────────────────────\u001b[0m\n"
      ]
     },
     "metadata": {},
     "output_type": "display_data"
    },
    {
     "data": {
      "text/html": [
       "<pre style=\"white-space:pre;overflow-x:auto;line-height:normal;font-family:Menlo,'DejaVu Sans Mono',consolas,'Courier New',monospace\"><span style=\"color: #05a6fb; text-decoration-color: #05a6fb; font-weight: bold\">                                                                                                                   </span>\n",
       "<span style=\"color: #05a6fb; text-decoration-color: #05a6fb; font-weight: bold\">                                                 Welcome to ATLAS!                                                 </span>\n",
       "</pre>\n"
      ],
      "text/plain": [
       "\u001b[1;38;2;5;166;251m                                                 \u001b[0m\u001b[1;38;2;5;166;251m                 \u001b[0m\u001b[1;38;2;5;166;251m                                                 \u001b[0m\n",
       "\u001b[1;38;2;5;166;251m                                                 \u001b[0m\u001b[1;38;2;5;166;251mWelcome to ATLAS!\u001b[0m\u001b[1;38;2;5;166;251m                                                 \u001b[0m\n"
      ]
     },
     "metadata": {},
     "output_type": "display_data"
    },
    {
     "data": {
      "text/html": [
       "<pre style=\"white-space:pre;overflow-x:auto;line-height:normal;font-family:Menlo,'DejaVu Sans Mono',consolas,'Courier New',monospace\"><span style=\"color: #006494; text-decoration-color: #006494\">                                                Made with 💕 in 🇨🇦                                                 </span>\n",
       "<span style=\"color: #006494; text-decoration-color: #006494\">                                                                                                                   </span>\n",
       "</pre>\n"
      ],
      "text/plain": [
       "\u001b[38;2;0;100;148m                                                \u001b[0m\u001b[38;2;0;100;148mMade with 💕 in 🇨🇦\u001b[0m\u001b[38;2;0;100;148m                                                 \u001b[0m\n",
       "\u001b[38;2;0;100;148m                                                \u001b[0m\u001b[38;2;0;100;148m                  \u001b[0m\u001b[38;2;0;100;148m                                                 \u001b[0m\n"
      ]
     },
     "metadata": {},
     "output_type": "display_data"
    },
    {
     "data": {
      "text/html": [
       "<pre style=\"white-space:pre;overflow-x:auto;line-height:normal;font-family:Menlo,'DejaVu Sans Mono',consolas,'Courier New',monospace\"><span style=\"color: #051923; text-decoration-color: #051923\">───────────────────────────────────────────────────────────────────────────────────────────────────────────────────</span>\n",
       "</pre>\n"
      ],
      "text/plain": [
       "\u001b[38;2;5;25;35m───────────────────────────────────────────────────────────────────────────────────────────────────────────────────\u001b[0m\n"
      ]
     },
     "metadata": {},
     "output_type": "display_data"
    },
    {
     "data": {
      "text/html": [
       "<pre style=\"white-space:pre;overflow-x:auto;line-height:normal;font-family:Menlo,'DejaVu Sans Mono',consolas,'Courier New',monospace\"><span style=\"color: #05a6fb; text-decoration-color: #05a6fb\">───────────────────────────── Initial design phase ─────────────────────────────</span>\n",
       "</pre>\n"
      ],
      "text/plain": [
       "\u001b[38;2;5;166;251m───────────────────────────── Initial design phase ─────────────────────────────\u001b[0m\n"
      ]
     },
     "metadata": {},
     "output_type": "display_data"
    }
   ],
   "source": [
    "planner = GPPlanner(\n",
    "        goal='minimize',\n",
    "        num_init_design=5,\n",
    "        batch_size=1,\n",
    "        acquisition_optimizer_kind='gradient',\n",
    "        is_moo=True, \n",
    "        scalarizer_kind='Hypervolume',\n",
    "        value_space=dset.value_space,\n",
    "        goals=['min', 'min', 'min']\n",
    "    )\n",
    "planner.set_param_space(dset.param_space)\n",
    "\n",
    "# initialize campaign\n",
    "campaign = Campaign()\n",
    "campaign.set_param_space(dset.param_space)\n",
    "campaign.set_value_space(dset.value_space)"
   ]
  },
  {
   "cell_type": "code",
   "execution_count": 19,
   "metadata": {},
   "outputs": [
    {
     "data": {
      "text/html": [
       "<pre style=\"white-space:pre;overflow-x:auto;line-height:normal;font-family:Menlo,'DejaVu Sans Mono',consolas,'Courier New',monospace\">ATLAS <span style=\"font-weight: bold\">[</span>INFO<span style=\"font-weight: bold\">]</span> Generating <span style=\"color: #008080; text-decoration-color: #008080; font-weight: bold\">1</span> initial design points <span style=\"font-weight: bold\">(</span>batch <span style=\"color: #008080; text-decoration-color: #008080; font-weight: bold\">1</span>/<span style=\"color: #008080; text-decoration-color: #008080; font-weight: bold\">5</span><span style=\"font-weight: bold\">)</span>\n",
       "</pre>\n"
      ],
      "text/plain": [
       "ATLAS \u001b[1m[\u001b[0mINFO\u001b[1m]\u001b[0m Generating \u001b[1;36m1\u001b[0m initial design points \u001b[1m(\u001b[0mbatch \u001b[1;36m1\u001b[0m/\u001b[1;36m5\u001b[0m\u001b[1m)\u001b[0m\n"
      ]
     },
     "metadata": {},
     "output_type": "display_data"
    },
    {
     "name": "stdout",
     "output_type": "stream",
     "text": [
      "\n",
      "ITER : 1\n",
      "SAMPLE : ParamVector(r1_label = R1_0, r3_label = R3_1, r4_label = R4_7, r5_label = R5_3)\n",
      "MEASUREMENT : [ParamVector(abs_lam_diff = 24.293259379608923, ered = 1.945570696581578, gsol = -0.7499211103759299)]\n",
      "\n"
     ]
    },
    {
     "data": {
      "text/html": [
       "<pre style=\"white-space:pre;overflow-x:auto;line-height:normal;font-family:Menlo,'DejaVu Sans Mono',consolas,'Courier New',monospace\">ATLAS <span style=\"font-weight: bold\">[</span>INFO<span style=\"font-weight: bold\">]</span> Generating <span style=\"color: #008080; text-decoration-color: #008080; font-weight: bold\">1</span> initial design points <span style=\"font-weight: bold\">(</span>batch <span style=\"color: #008080; text-decoration-color: #008080; font-weight: bold\">2</span>/<span style=\"color: #008080; text-decoration-color: #008080; font-weight: bold\">5</span><span style=\"font-weight: bold\">)</span>\n",
       "</pre>\n"
      ],
      "text/plain": [
       "ATLAS \u001b[1m[\u001b[0mINFO\u001b[1m]\u001b[0m Generating \u001b[1;36m1\u001b[0m initial design points \u001b[1m(\u001b[0mbatch \u001b[1;36m2\u001b[0m/\u001b[1;36m5\u001b[0m\u001b[1m)\u001b[0m\n"
      ]
     },
     "metadata": {},
     "output_type": "display_data"
    },
    {
     "name": "stdout",
     "output_type": "stream",
     "text": [
      "\n",
      "ITER : 2\n",
      "SAMPLE : ParamVector(r1_label = R1_0, r3_label = R3_5, r4_label = R4_4, r5_label = R5_5)\n",
      "MEASUREMENT : [ParamVector(abs_lam_diff = 13.222998818675913, ered = 2.1694638641232915, gsol = -0.7869681307142566)]\n",
      "\n"
     ]
    },
    {
     "data": {
      "text/html": [
       "<pre style=\"white-space:pre;overflow-x:auto;line-height:normal;font-family:Menlo,'DejaVu Sans Mono',consolas,'Courier New',monospace\">ATLAS <span style=\"font-weight: bold\">[</span>INFO<span style=\"font-weight: bold\">]</span> Generating <span style=\"color: #008080; text-decoration-color: #008080; font-weight: bold\">1</span> initial design points <span style=\"font-weight: bold\">(</span>batch <span style=\"color: #008080; text-decoration-color: #008080; font-weight: bold\">3</span>/<span style=\"color: #008080; text-decoration-color: #008080; font-weight: bold\">5</span><span style=\"font-weight: bold\">)</span>\n",
       "</pre>\n"
      ],
      "text/plain": [
       "ATLAS \u001b[1m[\u001b[0mINFO\u001b[1m]\u001b[0m Generating \u001b[1;36m1\u001b[0m initial design points \u001b[1m(\u001b[0mbatch \u001b[1;36m3\u001b[0m/\u001b[1;36m5\u001b[0m\u001b[1m)\u001b[0m\n"
      ]
     },
     "metadata": {},
     "output_type": "display_data"
    },
    {
     "name": "stdout",
     "output_type": "stream",
     "text": [
      "\n",
      "ITER : 3\n",
      "SAMPLE : ParamVector(r1_label = R1_1, r3_label = R3_3, r4_label = R4_7, r5_label = R5_4)\n",
      "MEASUREMENT : [ParamVector(abs_lam_diff = 15.207091911101058, ered = 1.9031708387918316, gsol = -0.5764364856294166)]\n",
      "\n"
     ]
    },
    {
     "data": {
      "text/html": [
       "<pre style=\"white-space:pre;overflow-x:auto;line-height:normal;font-family:Menlo,'DejaVu Sans Mono',consolas,'Courier New',monospace\">ATLAS <span style=\"font-weight: bold\">[</span>INFO<span style=\"font-weight: bold\">]</span> Generating <span style=\"color: #008080; text-decoration-color: #008080; font-weight: bold\">1</span> initial design points <span style=\"font-weight: bold\">(</span>batch <span style=\"color: #008080; text-decoration-color: #008080; font-weight: bold\">4</span>/<span style=\"color: #008080; text-decoration-color: #008080; font-weight: bold\">5</span><span style=\"font-weight: bold\">)</span>\n",
       "</pre>\n"
      ],
      "text/plain": [
       "ATLAS \u001b[1m[\u001b[0mINFO\u001b[1m]\u001b[0m Generating \u001b[1;36m1\u001b[0m initial design points \u001b[1m(\u001b[0mbatch \u001b[1;36m4\u001b[0m/\u001b[1;36m5\u001b[0m\u001b[1m)\u001b[0m\n"
      ]
     },
     "metadata": {},
     "output_type": "display_data"
    },
    {
     "name": "stdout",
     "output_type": "stream",
     "text": [
      "\n",
      "ITER : 4\n",
      "SAMPLE : ParamVector(r1_label = R1_1, r3_label = R3_0, r4_label = R4_7, r5_label = R5_9)\n",
      "MEASUREMENT : [ParamVector(abs_lam_diff = 44.69122769974595, ered = 2.308239119235505, gsol = -0.7628512318097113)]\n",
      "\n"
     ]
    },
    {
     "data": {
      "text/html": [
       "<pre style=\"white-space:pre;overflow-x:auto;line-height:normal;font-family:Menlo,'DejaVu Sans Mono',consolas,'Courier New',monospace\">ATLAS <span style=\"font-weight: bold\">[</span>INFO<span style=\"font-weight: bold\">]</span> Generating <span style=\"color: #008080; text-decoration-color: #008080; font-weight: bold\">1</span> initial design points <span style=\"font-weight: bold\">(</span>batch <span style=\"color: #008080; text-decoration-color: #008080; font-weight: bold\">5</span>/<span style=\"color: #008080; text-decoration-color: #008080; font-weight: bold\">5</span><span style=\"font-weight: bold\">)</span>\n",
       "</pre>\n"
      ],
      "text/plain": [
       "ATLAS \u001b[1m[\u001b[0mINFO\u001b[1m]\u001b[0m Generating \u001b[1;36m1\u001b[0m initial design points \u001b[1m(\u001b[0mbatch \u001b[1;36m5\u001b[0m/\u001b[1;36m5\u001b[0m\u001b[1m)\u001b[0m\n"
      ]
     },
     "metadata": {},
     "output_type": "display_data"
    },
    {
     "name": "stdout",
     "output_type": "stream",
     "text": [
      "\n",
      "ITER : 5\n",
      "SAMPLE : ParamVector(r1_label = R1_0, r3_label = R3_3, r4_label = R4_1, r5_label = R5_6)\n",
      "MEASUREMENT : [ParamVector(abs_lam_diff = 41.12117473402656, ered = 2.366201627492355, gsol = -0.6852803887045172)]\n",
      "\n"
     ]
    },
    {
     "data": {
      "text/html": [
       "<pre style=\"white-space:pre;overflow-x:auto;line-height:normal;font-family:Menlo,'DejaVu Sans Mono',consolas,'Courier New',monospace\"><span style=\"color: #05a6fb; text-decoration-color: #05a6fb\">───────────────────── Training regression surrogate model ──────────────────────</span>\n",
       "</pre>\n"
      ],
      "text/plain": [
       "\u001b[38;2;5;166;251m───────────────────── Training regression surrogate model ──────────────────────\u001b[0m\n"
      ]
     },
     "metadata": {},
     "output_type": "display_data"
    },
    {
     "data": {
      "text/html": [
       "<pre style=\"white-space:pre;overflow-x:auto;line-height:normal;font-family:Menlo,'DejaVu Sans Mono',consolas,'Courier New',monospace\">ATLAS <span style=\"font-weight: bold\">[</span>INFO<span style=\"font-weight: bold\">]</span> Regression surrogate GP trained in <span style=\"color: #008080; text-decoration-color: #008080; font-weight: bold\">0.087</span> sec\n",
       "</pre>\n"
      ],
      "text/plain": [
       "ATLAS \u001b[1m[\u001b[0mINFO\u001b[1m]\u001b[0m Regression surrogate GP trained in \u001b[1;36m0.087\u001b[0m sec\n"
      ]
     },
     "metadata": {},
     "output_type": "display_data"
    },
    {
     "data": {
      "text/html": [
       "<pre style=\"white-space:pre;overflow-x:auto;line-height:normal;font-family:Menlo,'DejaVu Sans Mono',consolas,'Courier New',monospace\"><span style=\"color: #05a6fb; text-decoration-color: #05a6fb\">────────────────────── Acquisition function optimization ───────────────────────</span>\n",
       "</pre>\n"
      ],
      "text/plain": [
       "\u001b[38;2;5;166;251m────────────────────── Acquisition function optimization ───────────────────────\u001b[0m\n"
      ]
     },
     "metadata": {},
     "output_type": "display_data"
    },
    {
     "name": "stdout",
     "output_type": "stream",
     "text": [
      "\n",
      "ITER : 6\n",
      "SAMPLE : ParamVector(r1_label = R1_0, r3_label = R3_1, r4_label = R4_4, r5_label = R5_3)\n",
      "MEASUREMENT : [ParamVector(abs_lam_diff = 26.81539049186388, ered = 2.220095506178848, gsol = -0.6108701496361639)]\n",
      "\n"
     ]
    },
    {
     "data": {
      "text/html": [
       "<pre style=\"white-space:pre;overflow-x:auto;line-height:normal;font-family:Menlo,'DejaVu Sans Mono',consolas,'Courier New',monospace\"><span style=\"color: #05a6fb; text-decoration-color: #05a6fb\">───────────────────── Training regression surrogate model ──────────────────────</span>\n",
       "</pre>\n"
      ],
      "text/plain": [
       "\u001b[38;2;5;166;251m───────────────────── Training regression surrogate model ──────────────────────\u001b[0m\n"
      ]
     },
     "metadata": {},
     "output_type": "display_data"
    },
    {
     "data": {
      "text/html": [
       "<pre style=\"white-space:pre;overflow-x:auto;line-height:normal;font-family:Menlo,'DejaVu Sans Mono',consolas,'Courier New',monospace\">ATLAS <span style=\"font-weight: bold\">[</span>INFO<span style=\"font-weight: bold\">]</span> Regression surrogate GP trained in <span style=\"color: #008080; text-decoration-color: #008080; font-weight: bold\">0.027</span> sec\n",
       "</pre>\n"
      ],
      "text/plain": [
       "ATLAS \u001b[1m[\u001b[0mINFO\u001b[1m]\u001b[0m Regression surrogate GP trained in \u001b[1;36m0.027\u001b[0m sec\n"
      ]
     },
     "metadata": {},
     "output_type": "display_data"
    },
    {
     "data": {
      "text/html": [
       "<pre style=\"white-space:pre;overflow-x:auto;line-height:normal;font-family:Menlo,'DejaVu Sans Mono',consolas,'Courier New',monospace\"><span style=\"color: #05a6fb; text-decoration-color: #05a6fb\">────────────────────── Acquisition function optimization ───────────────────────</span>\n",
       "</pre>\n"
      ],
      "text/plain": [
       "\u001b[38;2;5;166;251m────────────────────── Acquisition function optimization ───────────────────────\u001b[0m\n"
      ]
     },
     "metadata": {},
     "output_type": "display_data"
    },
    {
     "name": "stdout",
     "output_type": "stream",
     "text": [
      "\n",
      "ITER : 7\n",
      "SAMPLE : ParamVector(r1_label = R1_0, r3_label = R3_0, r4_label = R4_0, r5_label = R5_0)\n",
      "MEASUREMENT : [ParamVector(abs_lam_diff = 39.90715021128827, ered = 1.7111379502859247, gsol = -0.6799074093305254)]\n",
      "\n"
     ]
    },
    {
     "data": {
      "text/html": [
       "<pre style=\"white-space:pre;overflow-x:auto;line-height:normal;font-family:Menlo,'DejaVu Sans Mono',consolas,'Courier New',monospace\"><span style=\"color: #05a6fb; text-decoration-color: #05a6fb\">───────────────────── Training regression surrogate model ──────────────────────</span>\n",
       "</pre>\n"
      ],
      "text/plain": [
       "\u001b[38;2;5;166;251m───────────────────── Training regression surrogate model ──────────────────────\u001b[0m\n"
      ]
     },
     "metadata": {},
     "output_type": "display_data"
    },
    {
     "data": {
      "text/html": [
       "<pre style=\"white-space:pre;overflow-x:auto;line-height:normal;font-family:Menlo,'DejaVu Sans Mono',consolas,'Courier New',monospace\">ATLAS <span style=\"font-weight: bold\">[</span>INFO<span style=\"font-weight: bold\">]</span> Regression surrogate GP trained in <span style=\"color: #008080; text-decoration-color: #008080; font-weight: bold\">0.03</span> sec\n",
       "</pre>\n"
      ],
      "text/plain": [
       "ATLAS \u001b[1m[\u001b[0mINFO\u001b[1m]\u001b[0m Regression surrogate GP trained in \u001b[1;36m0.03\u001b[0m sec\n"
      ]
     },
     "metadata": {},
     "output_type": "display_data"
    },
    {
     "data": {
      "text/html": [
       "<pre style=\"white-space:pre;overflow-x:auto;line-height:normal;font-family:Menlo,'DejaVu Sans Mono',consolas,'Courier New',monospace\"><span style=\"color: #05a6fb; text-decoration-color: #05a6fb\">────────────────────── Acquisition function optimization ───────────────────────</span>\n",
       "</pre>\n"
      ],
      "text/plain": [
       "\u001b[38;2;5;166;251m────────────────────── Acquisition function optimization ───────────────────────\u001b[0m\n"
      ]
     },
     "metadata": {},
     "output_type": "display_data"
    },
    {
     "name": "stdout",
     "output_type": "stream",
     "text": [
      "\n",
      "ITER : 8\n",
      "SAMPLE : ParamVector(r1_label = R1_0, r3_label = R3_0, r4_label = R4_0, r5_label = R5_1)\n",
      "MEASUREMENT : [ParamVector(abs_lam_diff = 63.90431976332592, ered = 1.9882376614296393, gsol = -0.7027069095885273)]\n",
      "\n"
     ]
    },
    {
     "data": {
      "text/html": [
       "<pre style=\"white-space:pre;overflow-x:auto;line-height:normal;font-family:Menlo,'DejaVu Sans Mono',consolas,'Courier New',monospace\"><span style=\"color: #05a6fb; text-decoration-color: #05a6fb\">───────────────────── Training regression surrogate model ──────────────────────</span>\n",
       "</pre>\n"
      ],
      "text/plain": [
       "\u001b[38;2;5;166;251m───────────────────── Training regression surrogate model ──────────────────────\u001b[0m\n"
      ]
     },
     "metadata": {},
     "output_type": "display_data"
    },
    {
     "data": {
      "text/html": [
       "<pre style=\"white-space:pre;overflow-x:auto;line-height:normal;font-family:Menlo,'DejaVu Sans Mono',consolas,'Courier New',monospace\">ATLAS <span style=\"font-weight: bold\">[</span>INFO<span style=\"font-weight: bold\">]</span> Regression surrogate GP trained in <span style=\"color: #008080; text-decoration-color: #008080; font-weight: bold\">0.032</span> sec\n",
       "</pre>\n"
      ],
      "text/plain": [
       "ATLAS \u001b[1m[\u001b[0mINFO\u001b[1m]\u001b[0m Regression surrogate GP trained in \u001b[1;36m0.032\u001b[0m sec\n"
      ]
     },
     "metadata": {},
     "output_type": "display_data"
    },
    {
     "data": {
      "text/html": [
       "<pre style=\"white-space:pre;overflow-x:auto;line-height:normal;font-family:Menlo,'DejaVu Sans Mono',consolas,'Courier New',monospace\"><span style=\"color: #05a6fb; text-decoration-color: #05a6fb\">────────────────────── Acquisition function optimization ───────────────────────</span>\n",
       "</pre>\n"
      ],
      "text/plain": [
       "\u001b[38;2;5;166;251m────────────────────── Acquisition function optimization ───────────────────────\u001b[0m\n"
      ]
     },
     "metadata": {},
     "output_type": "display_data"
    },
    {
     "name": "stdout",
     "output_type": "stream",
     "text": [
      "\n",
      "ITER : 9\n",
      "SAMPLE : ParamVector(r1_label = R1_0, r3_label = R3_0, r4_label = R4_0, r5_label = R5_2)\n",
      "MEASUREMENT : [ParamVector(abs_lam_diff = 51.668067700450344, ered = 2.0672287878896176, gsol = -0.7634560568857276)]\n",
      "\n"
     ]
    },
    {
     "data": {
      "text/html": [
       "<pre style=\"white-space:pre;overflow-x:auto;line-height:normal;font-family:Menlo,'DejaVu Sans Mono',consolas,'Courier New',monospace\"><span style=\"color: #05a6fb; text-decoration-color: #05a6fb\">───────────────────── Training regression surrogate model ──────────────────────</span>\n",
       "</pre>\n"
      ],
      "text/plain": [
       "\u001b[38;2;5;166;251m───────────────────── Training regression surrogate model ──────────────────────\u001b[0m\n"
      ]
     },
     "metadata": {},
     "output_type": "display_data"
    },
    {
     "data": {
      "text/html": [
       "<pre style=\"white-space:pre;overflow-x:auto;line-height:normal;font-family:Menlo,'DejaVu Sans Mono',consolas,'Courier New',monospace\">ATLAS <span style=\"font-weight: bold\">[</span>INFO<span style=\"font-weight: bold\">]</span> Regression surrogate GP trained in <span style=\"color: #008080; text-decoration-color: #008080; font-weight: bold\">0.027</span> sec\n",
       "</pre>\n"
      ],
      "text/plain": [
       "ATLAS \u001b[1m[\u001b[0mINFO\u001b[1m]\u001b[0m Regression surrogate GP trained in \u001b[1;36m0.027\u001b[0m sec\n"
      ]
     },
     "metadata": {},
     "output_type": "display_data"
    },
    {
     "data": {
      "text/html": [
       "<pre style=\"white-space:pre;overflow-x:auto;line-height:normal;font-family:Menlo,'DejaVu Sans Mono',consolas,'Courier New',monospace\"><span style=\"color: #05a6fb; text-decoration-color: #05a6fb\">────────────────────── Acquisition function optimization ───────────────────────</span>\n",
       "</pre>\n"
      ],
      "text/plain": [
       "\u001b[38;2;5;166;251m────────────────────── Acquisition function optimization ───────────────────────\u001b[0m\n"
      ]
     },
     "metadata": {},
     "output_type": "display_data"
    },
    {
     "name": "stdout",
     "output_type": "stream",
     "text": [
      "\n",
      "ITER : 10\n",
      "SAMPLE : ParamVector(r1_label = R1_0, r3_label = R3_0, r4_label = R4_0, r5_label = R5_3)\n",
      "MEASUREMENT : [ParamVector(abs_lam_diff = 36.82275606564271, ered = 1.7381395441828376, gsol = -0.6444150113777959)]\n",
      "\n"
     ]
    },
    {
     "data": {
      "text/html": [
       "<pre style=\"white-space:pre;overflow-x:auto;line-height:normal;font-family:Menlo,'DejaVu Sans Mono',consolas,'Courier New',monospace\"><span style=\"color: #05a6fb; text-decoration-color: #05a6fb\">───────────────────── Training regression surrogate model ──────────────────────</span>\n",
       "</pre>\n"
      ],
      "text/plain": [
       "\u001b[38;2;5;166;251m───────────────────── Training regression surrogate model ──────────────────────\u001b[0m\n"
      ]
     },
     "metadata": {},
     "output_type": "display_data"
    },
    {
     "data": {
      "text/html": [
       "<pre style=\"white-space:pre;overflow-x:auto;line-height:normal;font-family:Menlo,'DejaVu Sans Mono',consolas,'Courier New',monospace\">ATLAS <span style=\"font-weight: bold\">[</span>INFO<span style=\"font-weight: bold\">]</span> Regression surrogate GP trained in <span style=\"color: #008080; text-decoration-color: #008080; font-weight: bold\">0.026</span> sec\n",
       "</pre>\n"
      ],
      "text/plain": [
       "ATLAS \u001b[1m[\u001b[0mINFO\u001b[1m]\u001b[0m Regression surrogate GP trained in \u001b[1;36m0.026\u001b[0m sec\n"
      ]
     },
     "metadata": {},
     "output_type": "display_data"
    },
    {
     "data": {
      "text/html": [
       "<pre style=\"white-space:pre;overflow-x:auto;line-height:normal;font-family:Menlo,'DejaVu Sans Mono',consolas,'Courier New',monospace\"><span style=\"color: #05a6fb; text-decoration-color: #05a6fb\">────────────────────── Acquisition function optimization ───────────────────────</span>\n",
       "</pre>\n"
      ],
      "text/plain": [
       "\u001b[38;2;5;166;251m────────────────────── Acquisition function optimization ───────────────────────\u001b[0m\n"
      ]
     },
     "metadata": {},
     "output_type": "display_data"
    },
    {
     "name": "stdout",
     "output_type": "stream",
     "text": [
      "\n",
      "ITER : 11\n",
      "SAMPLE : ParamVector(r1_label = R1_0, r3_label = R3_0, r4_label = R4_0, r5_label = R5_4)\n",
      "MEASUREMENT : [ParamVector(abs_lam_diff = 53.81255728408973, ered = 1.9016005097565984, gsol = -0.7266979036940201)]\n",
      "\n"
     ]
    },
    {
     "data": {
      "text/html": [
       "<pre style=\"white-space:pre;overflow-x:auto;line-height:normal;font-family:Menlo,'DejaVu Sans Mono',consolas,'Courier New',monospace\"><span style=\"color: #05a6fb; text-decoration-color: #05a6fb\">───────────────────── Training regression surrogate model ──────────────────────</span>\n",
       "</pre>\n"
      ],
      "text/plain": [
       "\u001b[38;2;5;166;251m───────────────────── Training regression surrogate model ──────────────────────\u001b[0m\n"
      ]
     },
     "metadata": {},
     "output_type": "display_data"
    },
    {
     "data": {
      "text/html": [
       "<pre style=\"white-space:pre;overflow-x:auto;line-height:normal;font-family:Menlo,'DejaVu Sans Mono',consolas,'Courier New',monospace\">ATLAS <span style=\"font-weight: bold\">[</span>INFO<span style=\"font-weight: bold\">]</span> Regression surrogate GP trained in <span style=\"color: #008080; text-decoration-color: #008080; font-weight: bold\">0.025</span> sec\n",
       "</pre>\n"
      ],
      "text/plain": [
       "ATLAS \u001b[1m[\u001b[0mINFO\u001b[1m]\u001b[0m Regression surrogate GP trained in \u001b[1;36m0.025\u001b[0m sec\n"
      ]
     },
     "metadata": {},
     "output_type": "display_data"
    },
    {
     "data": {
      "text/html": [
       "<pre style=\"white-space:pre;overflow-x:auto;line-height:normal;font-family:Menlo,'DejaVu Sans Mono',consolas,'Courier New',monospace\"><span style=\"color: #05a6fb; text-decoration-color: #05a6fb\">────────────────────── Acquisition function optimization ───────────────────────</span>\n",
       "</pre>\n"
      ],
      "text/plain": [
       "\u001b[38;2;5;166;251m────────────────────── Acquisition function optimization ───────────────────────\u001b[0m\n"
      ]
     },
     "metadata": {},
     "output_type": "display_data"
    },
    {
     "name": "stdout",
     "output_type": "stream",
     "text": [
      "\n",
      "ITER : 12\n",
      "SAMPLE : ParamVector(r1_label = R1_0, r3_label = R3_0, r4_label = R4_0, r5_label = R5_5)\n",
      "MEASUREMENT : [ParamVector(abs_lam_diff = 24.322751396265115, ered = 1.8000146228680316, gsol = -0.6255882559436203)]\n",
      "\n"
     ]
    },
    {
     "data": {
      "text/html": [
       "<pre style=\"white-space:pre;overflow-x:auto;line-height:normal;font-family:Menlo,'DejaVu Sans Mono',consolas,'Courier New',monospace\"><span style=\"color: #05a6fb; text-decoration-color: #05a6fb\">───────────────────── Training regression surrogate model ──────────────────────</span>\n",
       "</pre>\n"
      ],
      "text/plain": [
       "\u001b[38;2;5;166;251m───────────────────── Training regression surrogate model ──────────────────────\u001b[0m\n"
      ]
     },
     "metadata": {},
     "output_type": "display_data"
    },
    {
     "data": {
      "text/html": [
       "<pre style=\"white-space:pre;overflow-x:auto;line-height:normal;font-family:Menlo,'DejaVu Sans Mono',consolas,'Courier New',monospace\">ATLAS <span style=\"font-weight: bold\">[</span>INFO<span style=\"font-weight: bold\">]</span> Regression surrogate GP trained in <span style=\"color: #008080; text-decoration-color: #008080; font-weight: bold\">0.033</span> sec\n",
       "</pre>\n"
      ],
      "text/plain": [
       "ATLAS \u001b[1m[\u001b[0mINFO\u001b[1m]\u001b[0m Regression surrogate GP trained in \u001b[1;36m0.033\u001b[0m sec\n"
      ]
     },
     "metadata": {},
     "output_type": "display_data"
    },
    {
     "data": {
      "text/html": [
       "<pre style=\"white-space:pre;overflow-x:auto;line-height:normal;font-family:Menlo,'DejaVu Sans Mono',consolas,'Courier New',monospace\"><span style=\"color: #05a6fb; text-decoration-color: #05a6fb\">────────────────────── Acquisition function optimization ───────────────────────</span>\n",
       "</pre>\n"
      ],
      "text/plain": [
       "\u001b[38;2;5;166;251m────────────────────── Acquisition function optimization ───────────────────────\u001b[0m\n"
      ]
     },
     "metadata": {},
     "output_type": "display_data"
    },
    {
     "name": "stdout",
     "output_type": "stream",
     "text": [
      "\n",
      "ITER : 13\n",
      "SAMPLE : ParamVector(r1_label = R1_0, r3_label = R3_0, r4_label = R4_0, r5_label = R5_6)\n",
      "MEASUREMENT : [ParamVector(abs_lam_diff = 60.63626169419658, ered = 1.9675297053765568, gsol = -0.6964281362264111)]\n",
      "\n"
     ]
    },
    {
     "data": {
      "text/html": [
       "<pre style=\"white-space:pre;overflow-x:auto;line-height:normal;font-family:Menlo,'DejaVu Sans Mono',consolas,'Courier New',monospace\"><span style=\"color: #05a6fb; text-decoration-color: #05a6fb\">───────────────────── Training regression surrogate model ──────────────────────</span>\n",
       "</pre>\n"
      ],
      "text/plain": [
       "\u001b[38;2;5;166;251m───────────────────── Training regression surrogate model ──────────────────────\u001b[0m\n"
      ]
     },
     "metadata": {},
     "output_type": "display_data"
    },
    {
     "data": {
      "text/html": [
       "<pre style=\"white-space:pre;overflow-x:auto;line-height:normal;font-family:Menlo,'DejaVu Sans Mono',consolas,'Courier New',monospace\">ATLAS <span style=\"font-weight: bold\">[</span>INFO<span style=\"font-weight: bold\">]</span> Regression surrogate GP trained in <span style=\"color: #008080; text-decoration-color: #008080; font-weight: bold\">0.034</span> sec\n",
       "</pre>\n"
      ],
      "text/plain": [
       "ATLAS \u001b[1m[\u001b[0mINFO\u001b[1m]\u001b[0m Regression surrogate GP trained in \u001b[1;36m0.034\u001b[0m sec\n"
      ]
     },
     "metadata": {},
     "output_type": "display_data"
    },
    {
     "data": {
      "text/html": [
       "<pre style=\"white-space:pre;overflow-x:auto;line-height:normal;font-family:Menlo,'DejaVu Sans Mono',consolas,'Courier New',monospace\"><span style=\"color: #05a6fb; text-decoration-color: #05a6fb\">────────────────────── Acquisition function optimization ───────────────────────</span>\n",
       "</pre>\n"
      ],
      "text/plain": [
       "\u001b[38;2;5;166;251m────────────────────── Acquisition function optimization ───────────────────────\u001b[0m\n"
      ]
     },
     "metadata": {},
     "output_type": "display_data"
    },
    {
     "name": "stdout",
     "output_type": "stream",
     "text": [
      "\n",
      "ITER : 14\n",
      "SAMPLE : ParamVector(r1_label = R1_0, r3_label = R3_0, r4_label = R4_0, r5_label = R5_7)\n",
      "MEASUREMENT : [ParamVector(abs_lam_diff = 36.04678537946923, ered = 1.9245993024031618, gsol = -0.6913995263698755)]\n",
      "\n"
     ]
    },
    {
     "data": {
      "text/html": [
       "<pre style=\"white-space:pre;overflow-x:auto;line-height:normal;font-family:Menlo,'DejaVu Sans Mono',consolas,'Courier New',monospace\"><span style=\"color: #05a6fb; text-decoration-color: #05a6fb\">───────────────────── Training regression surrogate model ──────────────────────</span>\n",
       "</pre>\n"
      ],
      "text/plain": [
       "\u001b[38;2;5;166;251m───────────────────── Training regression surrogate model ──────────────────────\u001b[0m\n"
      ]
     },
     "metadata": {},
     "output_type": "display_data"
    },
    {
     "data": {
      "text/html": [
       "<pre style=\"white-space:pre;overflow-x:auto;line-height:normal;font-family:Menlo,'DejaVu Sans Mono',consolas,'Courier New',monospace\">ATLAS <span style=\"font-weight: bold\">[</span>INFO<span style=\"font-weight: bold\">]</span> Regression surrogate GP trained in <span style=\"color: #008080; text-decoration-color: #008080; font-weight: bold\">0.031</span> sec\n",
       "</pre>\n"
      ],
      "text/plain": [
       "ATLAS \u001b[1m[\u001b[0mINFO\u001b[1m]\u001b[0m Regression surrogate GP trained in \u001b[1;36m0.031\u001b[0m sec\n"
      ]
     },
     "metadata": {},
     "output_type": "display_data"
    },
    {
     "data": {
      "text/html": [
       "<pre style=\"white-space:pre;overflow-x:auto;line-height:normal;font-family:Menlo,'DejaVu Sans Mono',consolas,'Courier New',monospace\"><span style=\"color: #05a6fb; text-decoration-color: #05a6fb\">────────────────────── Acquisition function optimization ───────────────────────</span>\n",
       "</pre>\n"
      ],
      "text/plain": [
       "\u001b[38;2;5;166;251m────────────────────── Acquisition function optimization ───────────────────────\u001b[0m\n"
      ]
     },
     "metadata": {},
     "output_type": "display_data"
    },
    {
     "name": "stdout",
     "output_type": "stream",
     "text": [
      "\n",
      "ITER : 15\n",
      "SAMPLE : ParamVector(r1_label = R1_0, r3_label = R3_0, r4_label = R4_0, r5_label = R5_8)\n",
      "MEASUREMENT : [ParamVector(abs_lam_diff = 20.314578973317094, ered = 1.6169891454031717, gsol = -0.6796231010169078)]\n",
      "\n"
     ]
    },
    {
     "data": {
      "text/html": [
       "<pre style=\"white-space:pre;overflow-x:auto;line-height:normal;font-family:Menlo,'DejaVu Sans Mono',consolas,'Courier New',monospace\"><span style=\"color: #05a6fb; text-decoration-color: #05a6fb\">───────────────────── Training regression surrogate model ──────────────────────</span>\n",
       "</pre>\n"
      ],
      "text/plain": [
       "\u001b[38;2;5;166;251m───────────────────── Training regression surrogate model ──────────────────────\u001b[0m\n"
      ]
     },
     "metadata": {},
     "output_type": "display_data"
    },
    {
     "data": {
      "text/html": [
       "<pre style=\"white-space:pre;overflow-x:auto;line-height:normal;font-family:Menlo,'DejaVu Sans Mono',consolas,'Courier New',monospace\">ATLAS <span style=\"font-weight: bold\">[</span>INFO<span style=\"font-weight: bold\">]</span> Regression surrogate GP trained in <span style=\"color: #008080; text-decoration-color: #008080; font-weight: bold\">0.032</span> sec\n",
       "</pre>\n"
      ],
      "text/plain": [
       "ATLAS \u001b[1m[\u001b[0mINFO\u001b[1m]\u001b[0m Regression surrogate GP trained in \u001b[1;36m0.032\u001b[0m sec\n"
      ]
     },
     "metadata": {},
     "output_type": "display_data"
    },
    {
     "data": {
      "text/html": [
       "<pre style=\"white-space:pre;overflow-x:auto;line-height:normal;font-family:Menlo,'DejaVu Sans Mono',consolas,'Courier New',monospace\"><span style=\"color: #05a6fb; text-decoration-color: #05a6fb\">────────────────────── Acquisition function optimization ───────────────────────</span>\n",
       "</pre>\n"
      ],
      "text/plain": [
       "\u001b[38;2;5;166;251m────────────────────── Acquisition function optimization ───────────────────────\u001b[0m\n"
      ]
     },
     "metadata": {},
     "output_type": "display_data"
    },
    {
     "name": "stdout",
     "output_type": "stream",
     "text": [
      "\n",
      "ITER : 16\n",
      "SAMPLE : ParamVector(r1_label = R1_0, r3_label = R3_0, r4_label = R4_0, r5_label = R5_9)\n",
      "MEASUREMENT : [ParamVector(abs_lam_diff = 35.86695576198392, ered = 2.0879389761187483, gsol = -1.039242444520003)]\n",
      "\n"
     ]
    },
    {
     "data": {
      "text/html": [
       "<pre style=\"white-space:pre;overflow-x:auto;line-height:normal;font-family:Menlo,'DejaVu Sans Mono',consolas,'Courier New',monospace\"><span style=\"color: #05a6fb; text-decoration-color: #05a6fb\">───────────────────── Training regression surrogate model ──────────────────────</span>\n",
       "</pre>\n"
      ],
      "text/plain": [
       "\u001b[38;2;5;166;251m───────────────────── Training regression surrogate model ──────────────────────\u001b[0m\n"
      ]
     },
     "metadata": {},
     "output_type": "display_data"
    },
    {
     "data": {
      "text/html": [
       "<pre style=\"white-space:pre;overflow-x:auto;line-height:normal;font-family:Menlo,'DejaVu Sans Mono',consolas,'Courier New',monospace\">ATLAS <span style=\"font-weight: bold\">[</span>INFO<span style=\"font-weight: bold\">]</span> Regression surrogate GP trained in <span style=\"color: #008080; text-decoration-color: #008080; font-weight: bold\">0.036</span> sec\n",
       "</pre>\n"
      ],
      "text/plain": [
       "ATLAS \u001b[1m[\u001b[0mINFO\u001b[1m]\u001b[0m Regression surrogate GP trained in \u001b[1;36m0.036\u001b[0m sec\n"
      ]
     },
     "metadata": {},
     "output_type": "display_data"
    },
    {
     "data": {
      "text/html": [
       "<pre style=\"white-space:pre;overflow-x:auto;line-height:normal;font-family:Menlo,'DejaVu Sans Mono',consolas,'Courier New',monospace\"><span style=\"color: #05a6fb; text-decoration-color: #05a6fb\">────────────────────── Acquisition function optimization ───────────────────────</span>\n",
       "</pre>\n"
      ],
      "text/plain": [
       "\u001b[38;2;5;166;251m────────────────────── Acquisition function optimization ───────────────────────\u001b[0m\n"
      ]
     },
     "metadata": {},
     "output_type": "display_data"
    },
    {
     "name": "stdout",
     "output_type": "stream",
     "text": [
      "\n",
      "ITER : 17\n",
      "SAMPLE : ParamVector(r1_label = R1_0, r3_label = R3_0, r4_label = R4_0, r5_label = R5_10)\n",
      "MEASUREMENT : [ParamVector(abs_lam_diff = 62.040999491649515, ered = 1.8571761273120817, gsol = -1.1068285942910958)]\n",
      "\n"
     ]
    },
    {
     "data": {
      "text/html": [
       "<pre style=\"white-space:pre;overflow-x:auto;line-height:normal;font-family:Menlo,'DejaVu Sans Mono',consolas,'Courier New',monospace\"><span style=\"color: #05a6fb; text-decoration-color: #05a6fb\">───────────────────── Training regression surrogate model ──────────────────────</span>\n",
       "</pre>\n"
      ],
      "text/plain": [
       "\u001b[38;2;5;166;251m───────────────────── Training regression surrogate model ──────────────────────\u001b[0m\n"
      ]
     },
     "metadata": {},
     "output_type": "display_data"
    },
    {
     "data": {
      "text/html": [
       "<pre style=\"white-space:pre;overflow-x:auto;line-height:normal;font-family:Menlo,'DejaVu Sans Mono',consolas,'Courier New',monospace\">ATLAS <span style=\"font-weight: bold\">[</span>INFO<span style=\"font-weight: bold\">]</span> Regression surrogate GP trained in <span style=\"color: #008080; text-decoration-color: #008080; font-weight: bold\">0.031</span> sec\n",
       "</pre>\n"
      ],
      "text/plain": [
       "ATLAS \u001b[1m[\u001b[0mINFO\u001b[1m]\u001b[0m Regression surrogate GP trained in \u001b[1;36m0.031\u001b[0m sec\n"
      ]
     },
     "metadata": {},
     "output_type": "display_data"
    },
    {
     "data": {
      "text/html": [
       "<pre style=\"white-space:pre;overflow-x:auto;line-height:normal;font-family:Menlo,'DejaVu Sans Mono',consolas,'Courier New',monospace\"><span style=\"color: #05a6fb; text-decoration-color: #05a6fb\">────────────────────── Acquisition function optimization ───────────────────────</span>\n",
       "</pre>\n"
      ],
      "text/plain": [
       "\u001b[38;2;5;166;251m────────────────────── Acquisition function optimization ───────────────────────\u001b[0m\n"
      ]
     },
     "metadata": {},
     "output_type": "display_data"
    },
    {
     "name": "stdout",
     "output_type": "stream",
     "text": [
      "\n",
      "ITER : 18\n",
      "SAMPLE : ParamVector(r1_label = R1_0, r3_label = R3_0, r4_label = R4_1, r5_label = R5_0)\n",
      "MEASUREMENT : [ParamVector(abs_lam_diff = 48.44915005290721, ered = 2.1112642406126096, gsol = -0.7385204830832386)]\n",
      "\n"
     ]
    },
    {
     "data": {
      "text/html": [
       "<pre style=\"white-space:pre;overflow-x:auto;line-height:normal;font-family:Menlo,'DejaVu Sans Mono',consolas,'Courier New',monospace\"><span style=\"color: #05a6fb; text-decoration-color: #05a6fb\">───────────────────── Training regression surrogate model ──────────────────────</span>\n",
       "</pre>\n"
      ],
      "text/plain": [
       "\u001b[38;2;5;166;251m───────────────────── Training regression surrogate model ──────────────────────\u001b[0m\n"
      ]
     },
     "metadata": {},
     "output_type": "display_data"
    },
    {
     "data": {
      "text/html": [
       "<pre style=\"white-space:pre;overflow-x:auto;line-height:normal;font-family:Menlo,'DejaVu Sans Mono',consolas,'Courier New',monospace\">ATLAS <span style=\"font-weight: bold\">[</span>INFO<span style=\"font-weight: bold\">]</span> Regression surrogate GP trained in <span style=\"color: #008080; text-decoration-color: #008080; font-weight: bold\">0.028</span> sec\n",
       "</pre>\n"
      ],
      "text/plain": [
       "ATLAS \u001b[1m[\u001b[0mINFO\u001b[1m]\u001b[0m Regression surrogate GP trained in \u001b[1;36m0.028\u001b[0m sec\n"
      ]
     },
     "metadata": {},
     "output_type": "display_data"
    },
    {
     "data": {
      "text/html": [
       "<pre style=\"white-space:pre;overflow-x:auto;line-height:normal;font-family:Menlo,'DejaVu Sans Mono',consolas,'Courier New',monospace\"><span style=\"color: #05a6fb; text-decoration-color: #05a6fb\">────────────────────── Acquisition function optimization ───────────────────────</span>\n",
       "</pre>\n"
      ],
      "text/plain": [
       "\u001b[38;2;5;166;251m────────────────────── Acquisition function optimization ───────────────────────\u001b[0m\n"
      ]
     },
     "metadata": {},
     "output_type": "display_data"
    },
    {
     "name": "stdout",
     "output_type": "stream",
     "text": [
      "\n",
      "ITER : 19\n",
      "SAMPLE : ParamVector(r1_label = R1_0, r3_label = R3_0, r4_label = R4_1, r5_label = R5_1)\n",
      "MEASUREMENT : [ParamVector(abs_lam_diff = 54.69966140174285, ered = 2.3787385134043166, gsol = -0.8293243918269284)]\n",
      "\n"
     ]
    },
    {
     "data": {
      "text/html": [
       "<pre style=\"white-space:pre;overflow-x:auto;line-height:normal;font-family:Menlo,'DejaVu Sans Mono',consolas,'Courier New',monospace\"><span style=\"color: #05a6fb; text-decoration-color: #05a6fb\">───────────────────── Training regression surrogate model ──────────────────────</span>\n",
       "</pre>\n"
      ],
      "text/plain": [
       "\u001b[38;2;5;166;251m───────────────────── Training regression surrogate model ──────────────────────\u001b[0m\n"
      ]
     },
     "metadata": {},
     "output_type": "display_data"
    },
    {
     "data": {
      "text/html": [
       "<pre style=\"white-space:pre;overflow-x:auto;line-height:normal;font-family:Menlo,'DejaVu Sans Mono',consolas,'Courier New',monospace\">ATLAS <span style=\"font-weight: bold\">[</span>INFO<span style=\"font-weight: bold\">]</span> Regression surrogate GP trained in <span style=\"color: #008080; text-decoration-color: #008080; font-weight: bold\">0.024</span> sec\n",
       "</pre>\n"
      ],
      "text/plain": [
       "ATLAS \u001b[1m[\u001b[0mINFO\u001b[1m]\u001b[0m Regression surrogate GP trained in \u001b[1;36m0.024\u001b[0m sec\n"
      ]
     },
     "metadata": {},
     "output_type": "display_data"
    },
    {
     "data": {
      "text/html": [
       "<pre style=\"white-space:pre;overflow-x:auto;line-height:normal;font-family:Menlo,'DejaVu Sans Mono',consolas,'Courier New',monospace\"><span style=\"color: #05a6fb; text-decoration-color: #05a6fb\">────────────────────── Acquisition function optimization ───────────────────────</span>\n",
       "</pre>\n"
      ],
      "text/plain": [
       "\u001b[38;2;5;166;251m────────────────────── Acquisition function optimization ───────────────────────\u001b[0m\n"
      ]
     },
     "metadata": {},
     "output_type": "display_data"
    },
    {
     "name": "stdout",
     "output_type": "stream",
     "text": [
      "\n",
      "ITER : 20\n",
      "SAMPLE : ParamVector(r1_label = R1_0, r3_label = R3_0, r4_label = R4_1, r5_label = R5_2)\n",
      "MEASUREMENT : [ParamVector(abs_lam_diff = 40.27237259092415, ered = 2.42979897711986, gsol = -0.7061758514859319)]\n",
      "\n"
     ]
    }
   ],
   "source": [
    "# commence experiment\n",
    "BUDGET = 20\n",
    "iter_ = 0\n",
    "while len(campaign.observations.get_values()) < BUDGET:\n",
    "\n",
    "    samples = planner.recommend(campaign.observations)\n",
    "    for sample in samples:\n",
    "        \n",
    "        measurement = measurement = dset.run(sample, return_paramvector=True)\n",
    "\n",
    "        print(f'\\nITER : {iter_+1}\\nSAMPLE : {sample}\\nMEASUREMENT : {measurement}\\n')\n",
    "        campaign.add_observation(sample, measurement)\n",
    "\n",
    "        iter_+=1"
   ]
  },
  {
   "cell_type": "markdown",
   "metadata": {
    "id": "CQPqV1TdJ-x8"
   },
   "source": [
    "## Robust optimization with Golem\n",
    "\n",
    "`Golem` is an algorithm for robust optimization, and helps identify optimal solutions that are robust to uncertainty on input parameters, ensuring the reproducibility of experimental protocols and processes. `golem` can be used in conjunction with any optimization algorithm or design of experiment strategy. For more information about `golem`, please refer to the [publication](https://pubs.rsc.org/en/content/articlelanding/2021/sc/d1sc01545a), [GitHub repo](https://github.com/aspuru-guzik-group/golem), and [documentation](https://aspuru-guzik-group.github.io/golem/). \n",
    "\n",
    "`atlas` supports use of `golem` in tandem with any of its planners. The following provides a simple 3d continuous parameter optimization. \n"
   ]
  },
  {
   "cell_type": "code",
   "execution_count": 20,
   "metadata": {
    "id": "u5e5PYJRJ-x8"
   },
   "outputs": [],
   "source": [
    "# define the toy surface and parameter space\n",
    "def surface(x):\n",
    "    return np.sin(8 * x[0]) - 2 * np.cos(6 * x[1]) + np.exp(-2.0 * x[2])\n",
    "\n",
    "param_space = ParameterSpace()\n",
    "param_0 = ParameterContinuous(name=\"param_0\", low=0.0, high=1.0)\n",
    "param_1 = ParameterContinuous(name=\"param_1\", low=0.0, high=1.0)\n",
    "param_2 = ParameterContinuous(name=\"param_2\", low=0.0, high=1.0)\n",
    "param_space.add(param_0)\n",
    "param_space.add(param_1)\n",
    "param_space.add(param_2)\n"
   ]
  },
  {
   "cell_type": "markdown",
   "metadata": {
    "id": "AGj0yGfpfKai"
   },
   "source": [
    "To utilize `golem`, users must provide an argument to the planner constructor called `golem_config`. This argument must be a dictionary, where the keys are parameter names, and the values specify the types and parameterization of the uncertainty distributions for that input parameter. The values of these dictionaries can either be dictionaries themselves, or instances of `golem.BaseDist` objects. \n",
    "\n",
    "In this example, the first two parameters will have `golem.Normal` uncertainties (with stdev of 0.2 and 0.3, respectively). The third parameter is ommitted from the `golem_config` argument on purpose. Any parameter which is present in the parameter space and is not included in `golem_config` will be assigned a `golem.Delta` distribution, indicating no uncertainty. \n"
   ]
  },
  {
   "cell_type": "code",
   "execution_count": 21,
   "metadata": {
    "colab": {
     "base_uri": "https://localhost:8080/",
     "height": 242
    },
    "id": "dQMIqIDmfGfI",
    "outputId": "247ac804-caee-4cf9-88da-432bccdd04c9"
   },
   "outputs": [
    {
     "data": {
      "text/html": [
       "<pre style=\"white-space:pre;overflow-x:auto;line-height:normal;font-family:Menlo,'DejaVu Sans Mono',consolas,'Courier New',monospace\"><span style=\"color: #051923; text-decoration-color: #051923\">───────────────────────────────────────────────────────────────────────────────────────────────────────────────────</span>\n",
       "</pre>\n"
      ],
      "text/plain": [
       "\u001b[38;2;5;25;35m───────────────────────────────────────────────────────────────────────────────────────────────────────────────────\u001b[0m\n"
      ]
     },
     "metadata": {},
     "output_type": "display_data"
    },
    {
     "data": {
      "text/html": [
       "<pre style=\"white-space:pre;overflow-x:auto;line-height:normal;font-family:Menlo,'DejaVu Sans Mono',consolas,'Courier New',monospace\"><span style=\"color: #05a6fb; text-decoration-color: #05a6fb; font-weight: bold\">                                                                                                                   </span>\n",
       "<span style=\"color: #05a6fb; text-decoration-color: #05a6fb; font-weight: bold\">                                                 Welcome to ATLAS!                                                 </span>\n",
       "</pre>\n"
      ],
      "text/plain": [
       "\u001b[1;38;2;5;166;251m                                                 \u001b[0m\u001b[1;38;2;5;166;251m                 \u001b[0m\u001b[1;38;2;5;166;251m                                                 \u001b[0m\n",
       "\u001b[1;38;2;5;166;251m                                                 \u001b[0m\u001b[1;38;2;5;166;251mWelcome to ATLAS!\u001b[0m\u001b[1;38;2;5;166;251m                                                 \u001b[0m\n"
      ]
     },
     "metadata": {},
     "output_type": "display_data"
    },
    {
     "data": {
      "text/html": [
       "<pre style=\"white-space:pre;overflow-x:auto;line-height:normal;font-family:Menlo,'DejaVu Sans Mono',consolas,'Courier New',monospace\"><span style=\"color: #006494; text-decoration-color: #006494\">                                                Made with 💕 in 🇨🇦                                                 </span>\n",
       "<span style=\"color: #006494; text-decoration-color: #006494\">                                                                                                                   </span>\n",
       "</pre>\n"
      ],
      "text/plain": [
       "\u001b[38;2;0;100;148m                                                \u001b[0m\u001b[38;2;0;100;148mMade with 💕 in 🇨🇦\u001b[0m\u001b[38;2;0;100;148m                                                 \u001b[0m\n",
       "\u001b[38;2;0;100;148m                                                \u001b[0m\u001b[38;2;0;100;148m                  \u001b[0m\u001b[38;2;0;100;148m                                                 \u001b[0m\n"
      ]
     },
     "metadata": {},
     "output_type": "display_data"
    },
    {
     "data": {
      "text/html": [
       "<pre style=\"white-space:pre;overflow-x:auto;line-height:normal;font-family:Menlo,'DejaVu Sans Mono',consolas,'Courier New',monospace\"><span style=\"color: #051923; text-decoration-color: #051923\">───────────────────────────────────────────────────────────────────────────────────────────────────────────────────</span>\n",
       "</pre>\n"
      ],
      "text/plain": [
       "\u001b[38;2;5;25;35m───────────────────────────────────────────────────────────────────────────────────────────────────────────────────\u001b[0m\n"
      ]
     },
     "metadata": {},
     "output_type": "display_data"
    },
    {
     "data": {
      "text/html": [
       "<pre style=\"white-space:pre;overflow-x:auto;line-height:normal;font-family:Menlo,'DejaVu Sans Mono',consolas,'Courier New',monospace\"><span style=\"color: #05a6fb; text-decoration-color: #05a6fb\">───────────────────────────── Initial design phase ─────────────────────────────</span>\n",
       "</pre>\n"
      ],
      "text/plain": [
       "\u001b[38;2;5;166;251m───────────────────────────── Initial design phase ─────────────────────────────\u001b[0m\n"
      ]
     },
     "metadata": {},
     "output_type": "display_data"
    },
    {
     "data": {
      "text/html": [
       "<pre style=\"white-space:pre;overflow-x:auto;line-height:normal;font-family:Menlo,'DejaVu Sans Mono',consolas,'Courier New',monospace\"><span style=\"color: #f4a261; text-decoration-color: #f4a261\">ATLAS </span><span style=\"color: #f4a261; text-decoration-color: #f4a261; font-weight: bold\">[</span><span style=\"color: #f4a261; text-decoration-color: #f4a261\">WARNING</span><span style=\"color: #f4a261; text-decoration-color: #f4a261; font-weight: bold\">]</span><span style=\"color: #f4a261; text-decoration-color: #f4a261\"> No distribution requested for parameter param_2. Resorting to Delta distribution</span><span style=\"color: #808000; text-decoration-color: #808000\">...</span>\n",
       "</pre>\n"
      ],
      "text/plain": [
       "\u001b[38;2;244;162;97mATLAS \u001b[0m\u001b[1;38;2;244;162;97m[\u001b[0m\u001b[38;2;244;162;97mWARNING\u001b[0m\u001b[1;38;2;244;162;97m]\u001b[0m\u001b[38;2;244;162;97m No distribution requested for parameter param_2. Resorting to Delta distribution\u001b[0m\u001b[33m...\u001b[0m\n"
      ]
     },
     "metadata": {},
     "output_type": "display_data"
    }
   ],
   "source": [
    "# intialize atlas GP planner\n",
    "planner = GPPlanner(\n",
    "        goal=\"minimize\",\n",
    "        init_design_strategy='lhs',\n",
    "        num_init_design=5,\n",
    "        batch_size=1,\n",
    "        golem_config = {\n",
    "            'param_0': {'dist_type':'Normal', 'dist_params':{'std':0.2}},\n",
    "            'param_1': {'dist_type':'Normal', 'dist_params':{'std':0.3}},\n",
    "        },\n",
    "    )\n",
    "\n",
    "planner.set_param_space(param_space)\n",
    "\n",
    "# intialize campaign\n",
    "campaign = Campaign()\n",
    "campaign.set_param_space(param_space)"
   ]
  },
  {
   "cell_type": "code",
   "execution_count": 22,
   "metadata": {
    "id": "Ve6kvtKrgeXQ",
    "scrolled": true
   },
   "outputs": [
    {
     "data": {
      "text/html": [
       "<pre style=\"white-space:pre;overflow-x:auto;line-height:normal;font-family:Menlo,'DejaVu Sans Mono',consolas,'Courier New',monospace\">ATLAS <span style=\"font-weight: bold\">[</span>INFO<span style=\"font-weight: bold\">]</span> Generating <span style=\"color: #008080; text-decoration-color: #008080; font-weight: bold\">1</span> initial design points <span style=\"font-weight: bold\">(</span>batch <span style=\"color: #008080; text-decoration-color: #008080; font-weight: bold\">1</span>/<span style=\"color: #008080; text-decoration-color: #008080; font-weight: bold\">5</span><span style=\"font-weight: bold\">)</span>\n",
       "</pre>\n"
      ],
      "text/plain": [
       "ATLAS \u001b[1m[\u001b[0mINFO\u001b[1m]\u001b[0m Generating \u001b[1;36m1\u001b[0m initial design points \u001b[1m(\u001b[0mbatch \u001b[1;36m1\u001b[0m/\u001b[1;36m5\u001b[0m\u001b[1m)\u001b[0m\n"
      ]
     },
     "metadata": {},
     "output_type": "display_data"
    },
    {
     "name": "stdout",
     "output_type": "stream",
     "text": [
      "\n",
      "ITER : 1\n",
      "SAMPLE : ParamVector(param_0 = 0.7955968767475703, param_1 = 0.5534345920651962, param_2 = 0.6375493023903006)\n",
      "MEASUREMENT : 2.328941786393177\n",
      "\n"
     ]
    },
    {
     "data": {
      "text/html": [
       "<pre style=\"white-space:pre;overflow-x:auto;line-height:normal;font-family:Menlo,'DejaVu Sans Mono',consolas,'Courier New',monospace\">ATLAS <span style=\"font-weight: bold\">[</span>INFO<span style=\"font-weight: bold\">]</span> Generating <span style=\"color: #008080; text-decoration-color: #008080; font-weight: bold\">1</span> initial design points <span style=\"font-weight: bold\">(</span>batch <span style=\"color: #008080; text-decoration-color: #008080; font-weight: bold\">2</span>/<span style=\"color: #008080; text-decoration-color: #008080; font-weight: bold\">5</span><span style=\"font-weight: bold\">)</span>\n",
       "</pre>\n"
      ],
      "text/plain": [
       "ATLAS \u001b[1m[\u001b[0mINFO\u001b[1m]\u001b[0m Generating \u001b[1;36m1\u001b[0m initial design points \u001b[1m(\u001b[0mbatch \u001b[1;36m2\u001b[0m/\u001b[1;36m5\u001b[0m\u001b[1m)\u001b[0m\n"
      ]
     },
     "metadata": {},
     "output_type": "display_data"
    },
    {
     "name": "stdout",
     "output_type": "stream",
     "text": [
      "\n",
      "ITER : 2\n",
      "SAMPLE : ParamVector(param_0 = 0.31595853464237444, param_1 = 0.7639193549754782, param_2 = 0.8813261537274008)\n",
      "MEASUREMENT : 1.0047016445934174\n",
      "\n"
     ]
    },
    {
     "data": {
      "text/html": [
       "<pre style=\"white-space:pre;overflow-x:auto;line-height:normal;font-family:Menlo,'DejaVu Sans Mono',consolas,'Courier New',monospace\">ATLAS <span style=\"font-weight: bold\">[</span>INFO<span style=\"font-weight: bold\">]</span> Generating <span style=\"color: #008080; text-decoration-color: #008080; font-weight: bold\">1</span> initial design points <span style=\"font-weight: bold\">(</span>batch <span style=\"color: #008080; text-decoration-color: #008080; font-weight: bold\">3</span>/<span style=\"color: #008080; text-decoration-color: #008080; font-weight: bold\">5</span><span style=\"font-weight: bold\">)</span>\n",
       "</pre>\n"
      ],
      "text/plain": [
       "ATLAS \u001b[1m[\u001b[0mINFO\u001b[1m]\u001b[0m Generating \u001b[1;36m1\u001b[0m initial design points \u001b[1m(\u001b[0mbatch \u001b[1;36m3\u001b[0m/\u001b[1;36m5\u001b[0m\u001b[1m)\u001b[0m\n"
      ]
     },
     "metadata": {},
     "output_type": "display_data"
    },
    {
     "name": "stdout",
     "output_type": "stream",
     "text": [
      "\n",
      "ITER : 3\n",
      "SAMPLE : ParamVector(param_0 = 0.04371963718447698, param_1 = 0.9811251730322903, param_2 = 0.05466683305557314)\n",
      "MEASUREMENT : -0.6057865132837287\n",
      "\n"
     ]
    },
    {
     "data": {
      "text/html": [
       "<pre style=\"white-space:pre;overflow-x:auto;line-height:normal;font-family:Menlo,'DejaVu Sans Mono',consolas,'Courier New',monospace\">ATLAS <span style=\"font-weight: bold\">[</span>INFO<span style=\"font-weight: bold\">]</span> Generating <span style=\"color: #008080; text-decoration-color: #008080; font-weight: bold\">1</span> initial design points <span style=\"font-weight: bold\">(</span>batch <span style=\"color: #008080; text-decoration-color: #008080; font-weight: bold\">4</span>/<span style=\"color: #008080; text-decoration-color: #008080; font-weight: bold\">5</span><span style=\"font-weight: bold\">)</span>\n",
       "</pre>\n"
      ],
      "text/plain": [
       "ATLAS \u001b[1m[\u001b[0mINFO\u001b[1m]\u001b[0m Generating \u001b[1;36m1\u001b[0m initial design points \u001b[1m(\u001b[0mbatch \u001b[1;36m4\u001b[0m/\u001b[1;36m5\u001b[0m\u001b[1m)\u001b[0m\n"
      ]
     },
     "metadata": {},
     "output_type": "display_data"
    },
    {
     "name": "stdout",
     "output_type": "stream",
     "text": [
      "\n",
      "ITER : 4\n",
      "SAMPLE : ParamVector(param_0 = 0.5304152990209479, param_1 = 0.3110453555762144, param_2 = 0.564090496308907)\n",
      "MEASUREMENT : 0.01402090197214173\n",
      "\n"
     ]
    },
    {
     "data": {
      "text/html": [
       "<pre style=\"white-space:pre;overflow-x:auto;line-height:normal;font-family:Menlo,'DejaVu Sans Mono',consolas,'Courier New',monospace\">ATLAS <span style=\"font-weight: bold\">[</span>INFO<span style=\"font-weight: bold\">]</span> Generating <span style=\"color: #008080; text-decoration-color: #008080; font-weight: bold\">1</span> initial design points <span style=\"font-weight: bold\">(</span>batch <span style=\"color: #008080; text-decoration-color: #008080; font-weight: bold\">5</span>/<span style=\"color: #008080; text-decoration-color: #008080; font-weight: bold\">5</span><span style=\"font-weight: bold\">)</span>\n",
       "</pre>\n"
      ],
      "text/plain": [
       "ATLAS \u001b[1m[\u001b[0mINFO\u001b[1m]\u001b[0m Generating \u001b[1;36m1\u001b[0m initial design points \u001b[1m(\u001b[0mbatch \u001b[1;36m5\u001b[0m/\u001b[1;36m5\u001b[0m\u001b[1m)\u001b[0m\n"
      ]
     },
     "metadata": {},
     "output_type": "display_data"
    },
    {
     "name": "stdout",
     "output_type": "stream",
     "text": [
      "\n",
      "ITER : 5\n",
      "SAMPLE : ParamVector(param_0 = 0.9366660794252419, param_1 = 0.11703600347645636, param_2 = 0.334256507400863)\n",
      "MEASUREMENT : -0.07868878483468067\n",
      "\n",
      "\u001b[0;37m[INFO] Golem ... 50 tree(s) parsed in 1.99 s ...\n",
      "\u001b[0m\u001b[0;37m[INFO] Golem ... Convolution of 5 samples performed in 2.02 s ...\n",
      "\u001b[0m"
     ]
    },
    {
     "data": {
      "text/html": [
       "<pre style=\"white-space:pre;overflow-x:auto;line-height:normal;font-family:Menlo,'DejaVu Sans Mono',consolas,'Courier New',monospace\"><span style=\"color: #05a6fb; text-decoration-color: #05a6fb\">───────────────────── Training regression surrogate model ──────────────────────</span>\n",
       "</pre>\n"
      ],
      "text/plain": [
       "\u001b[38;2;5;166;251m───────────────────── Training regression surrogate model ──────────────────────\u001b[0m\n"
      ]
     },
     "metadata": {},
     "output_type": "display_data"
    },
    {
     "name": "stderr",
     "output_type": "stream",
     "text": [
      "/Users/rileyhickman/mambaforge/envs/atlas_aag/lib/python3.10/site-packages/botorch/models/utils/assorted.py:201: InputDataWarning: Input data is not standardized. Please consider scaling the input to zero mean and unit variance.\n",
      "  warnings.warn(msg, InputDataWarning)\n"
     ]
    },
    {
     "data": {
      "text/html": [
       "<pre style=\"white-space:pre;overflow-x:auto;line-height:normal;font-family:Menlo,'DejaVu Sans Mono',consolas,'Courier New',monospace\">ATLAS <span style=\"font-weight: bold\">[</span>INFO<span style=\"font-weight: bold\">]</span> Regression surrogate GP trained in <span style=\"color: #008080; text-decoration-color: #008080; font-weight: bold\">0.025</span> sec\n",
       "</pre>\n"
      ],
      "text/plain": [
       "ATLAS \u001b[1m[\u001b[0mINFO\u001b[1m]\u001b[0m Regression surrogate GP trained in \u001b[1;36m0.025\u001b[0m sec\n"
      ]
     },
     "metadata": {},
     "output_type": "display_data"
    },
    {
     "data": {
      "text/html": [
       "<pre style=\"white-space:pre;overflow-x:auto;line-height:normal;font-family:Menlo,'DejaVu Sans Mono',consolas,'Courier New',monospace\"><span style=\"color: #05a6fb; text-decoration-color: #05a6fb\">────────────────────── Acquisition function optimization ───────────────────────</span>\n",
       "</pre>\n"
      ],
      "text/plain": [
       "\u001b[38;2;5;166;251m────────────────────── Acquisition function optimization ───────────────────────\u001b[0m\n"
      ]
     },
     "metadata": {},
     "output_type": "display_data"
    },
    {
     "name": "stdout",
     "output_type": "stream",
     "text": [
      "\n",
      "ITER : 6\n",
      "SAMPLE : ParamVector(param_0 = 1.138903714392736e-09, param_1 = 0.7787830948007046, param_2 = 2.1696928281800254e-09)\n",
      "MEASUREMENT : 1.0793599877585724\n",
      "\n",
      "\u001b[0;37m[INFO] Golem ... 50 tree(s) parsed in 2.02 s ...\n",
      "\u001b[0m\u001b[0;37m[INFO] Golem ... Convolution of 6 samples performed in 2.12 s ...\n",
      "\u001b[0m"
     ]
    },
    {
     "data": {
      "text/html": [
       "<pre style=\"white-space:pre;overflow-x:auto;line-height:normal;font-family:Menlo,'DejaVu Sans Mono',consolas,'Courier New',monospace\"><span style=\"color: #05a6fb; text-decoration-color: #05a6fb\">───────────────────── Training regression surrogate model ──────────────────────</span>\n",
       "</pre>\n"
      ],
      "text/plain": [
       "\u001b[38;2;5;166;251m───────────────────── Training regression surrogate model ──────────────────────\u001b[0m\n"
      ]
     },
     "metadata": {},
     "output_type": "display_data"
    },
    {
     "name": "stderr",
     "output_type": "stream",
     "text": [
      "/Users/rileyhickman/mambaforge/envs/atlas_aag/lib/python3.10/site-packages/botorch/models/utils/assorted.py:201: InputDataWarning: Input data is not standardized. Please consider scaling the input to zero mean and unit variance.\n",
      "  warnings.warn(msg, InputDataWarning)\n"
     ]
    },
    {
     "data": {
      "text/html": [
       "<pre style=\"white-space:pre;overflow-x:auto;line-height:normal;font-family:Menlo,'DejaVu Sans Mono',consolas,'Courier New',monospace\">ATLAS <span style=\"font-weight: bold\">[</span>INFO<span style=\"font-weight: bold\">]</span> Regression surrogate GP trained in <span style=\"color: #008080; text-decoration-color: #008080; font-weight: bold\">0.023</span> sec\n",
       "</pre>\n"
      ],
      "text/plain": [
       "ATLAS \u001b[1m[\u001b[0mINFO\u001b[1m]\u001b[0m Regression surrogate GP trained in \u001b[1;36m0.023\u001b[0m sec\n"
      ]
     },
     "metadata": {},
     "output_type": "display_data"
    },
    {
     "data": {
      "text/html": [
       "<pre style=\"white-space:pre;overflow-x:auto;line-height:normal;font-family:Menlo,'DejaVu Sans Mono',consolas,'Courier New',monospace\"><span style=\"color: #05a6fb; text-decoration-color: #05a6fb\">────────────────────── Acquisition function optimization ───────────────────────</span>\n",
       "</pre>\n"
      ],
      "text/plain": [
       "\u001b[38;2;5;166;251m────────────────────── Acquisition function optimization ───────────────────────\u001b[0m\n"
      ]
     },
     "metadata": {},
     "output_type": "display_data"
    },
    {
     "name": "stdout",
     "output_type": "stream",
     "text": [
      "\n",
      "ITER : 7\n",
      "SAMPLE : ParamVector(param_0 = 0.5676851566954632, param_1 = 0.11334181772510059, param_2 = 0.43917705476463825)\n",
      "MEASUREMENT : -2.1250460448543045\n",
      "\n",
      "\u001b[0;37m[INFO] Golem ... 50 tree(s) parsed in 2.07 s ...\n",
      "\u001b[0m\u001b[0;37m[INFO] Golem ... Convolution of 7 samples performed in 2.01 s ...\n",
      "\u001b[0m"
     ]
    },
    {
     "data": {
      "text/html": [
       "<pre style=\"white-space:pre;overflow-x:auto;line-height:normal;font-family:Menlo,'DejaVu Sans Mono',consolas,'Courier New',monospace\"><span style=\"color: #05a6fb; text-decoration-color: #05a6fb\">───────────────────── Training regression surrogate model ──────────────────────</span>\n",
       "</pre>\n"
      ],
      "text/plain": [
       "\u001b[38;2;5;166;251m───────────────────── Training regression surrogate model ──────────────────────\u001b[0m\n"
      ]
     },
     "metadata": {},
     "output_type": "display_data"
    },
    {
     "name": "stderr",
     "output_type": "stream",
     "text": [
      "/Users/rileyhickman/mambaforge/envs/atlas_aag/lib/python3.10/site-packages/botorch/models/utils/assorted.py:201: InputDataWarning: Input data is not standardized. Please consider scaling the input to zero mean and unit variance.\n",
      "  warnings.warn(msg, InputDataWarning)\n"
     ]
    },
    {
     "data": {
      "text/html": [
       "<pre style=\"white-space:pre;overflow-x:auto;line-height:normal;font-family:Menlo,'DejaVu Sans Mono',consolas,'Courier New',monospace\">ATLAS <span style=\"font-weight: bold\">[</span>INFO<span style=\"font-weight: bold\">]</span> Regression surrogate GP trained in <span style=\"color: #008080; text-decoration-color: #008080; font-weight: bold\">0.038</span> sec\n",
       "</pre>\n"
      ],
      "text/plain": [
       "ATLAS \u001b[1m[\u001b[0mINFO\u001b[1m]\u001b[0m Regression surrogate GP trained in \u001b[1;36m0.038\u001b[0m sec\n"
      ]
     },
     "metadata": {},
     "output_type": "display_data"
    },
    {
     "data": {
      "text/html": [
       "<pre style=\"white-space:pre;overflow-x:auto;line-height:normal;font-family:Menlo,'DejaVu Sans Mono',consolas,'Courier New',monospace\"><span style=\"color: #05a6fb; text-decoration-color: #05a6fb\">────────────────────── Acquisition function optimization ───────────────────────</span>\n",
       "</pre>\n"
      ],
      "text/plain": [
       "\u001b[38;2;5;166;251m────────────────────── Acquisition function optimization ───────────────────────\u001b[0m\n"
      ]
     },
     "metadata": {},
     "output_type": "display_data"
    },
    {
     "name": "stdout",
     "output_type": "stream",
     "text": [
      "\n",
      "ITER : 8\n",
      "SAMPLE : ParamVector(param_0 = 0.8019752428145199, param_1 = 0.07933853828179761, param_2 = 0.5301655793872533)\n",
      "MEASUREMENT : -1.299071906533862\n",
      "\n",
      "\u001b[0;37m[INFO] Golem ... 50 tree(s) parsed in 1.93 s ...\n",
      "\u001b[0m\u001b[0;37m[INFO] Golem ... Convolution of 8 samples performed in 1.91 s ...\n",
      "\u001b[0m"
     ]
    },
    {
     "data": {
      "text/html": [
       "<pre style=\"white-space:pre;overflow-x:auto;line-height:normal;font-family:Menlo,'DejaVu Sans Mono',consolas,'Courier New',monospace\"><span style=\"color: #05a6fb; text-decoration-color: #05a6fb\">───────────────────── Training regression surrogate model ──────────────────────</span>\n",
       "</pre>\n"
      ],
      "text/plain": [
       "\u001b[38;2;5;166;251m───────────────────── Training regression surrogate model ──────────────────────\u001b[0m\n"
      ]
     },
     "metadata": {},
     "output_type": "display_data"
    },
    {
     "name": "stderr",
     "output_type": "stream",
     "text": [
      "/Users/rileyhickman/mambaforge/envs/atlas_aag/lib/python3.10/site-packages/botorch/models/utils/assorted.py:201: InputDataWarning: Input data is not standardized. Please consider scaling the input to zero mean and unit variance.\n",
      "  warnings.warn(msg, InputDataWarning)\n"
     ]
    },
    {
     "data": {
      "text/html": [
       "<pre style=\"white-space:pre;overflow-x:auto;line-height:normal;font-family:Menlo,'DejaVu Sans Mono',consolas,'Courier New',monospace\">ATLAS <span style=\"font-weight: bold\">[</span>INFO<span style=\"font-weight: bold\">]</span> Regression surrogate GP trained in <span style=\"color: #008080; text-decoration-color: #008080; font-weight: bold\">0.036</span> sec\n",
       "</pre>\n"
      ],
      "text/plain": [
       "ATLAS \u001b[1m[\u001b[0mINFO\u001b[1m]\u001b[0m Regression surrogate GP trained in \u001b[1;36m0.036\u001b[0m sec\n"
      ]
     },
     "metadata": {},
     "output_type": "display_data"
    },
    {
     "data": {
      "text/html": [
       "<pre style=\"white-space:pre;overflow-x:auto;line-height:normal;font-family:Menlo,'DejaVu Sans Mono',consolas,'Courier New',monospace\"><span style=\"color: #05a6fb; text-decoration-color: #05a6fb\">────────────────────── Acquisition function optimization ───────────────────────</span>\n",
       "</pre>\n"
      ],
      "text/plain": [
       "\u001b[38;2;5;166;251m────────────────────── Acquisition function optimization ───────────────────────\u001b[0m\n"
      ]
     },
     "metadata": {},
     "output_type": "display_data"
    },
    {
     "name": "stdout",
     "output_type": "stream",
     "text": [
      "\n",
      "ITER : 9\n",
      "SAMPLE : ParamVector(param_0 = 0.7484241595201154, param_1 = 0.18168605102539576, param_2 = 0.4701865232673927)\n",
      "MEASUREMENT : -0.8257799228169616\n",
      "\n",
      "\u001b[0;37m[INFO] Golem ... 50 tree(s) parsed in 2.01 s ...\n",
      "\u001b[0m\u001b[0;37m[INFO] Golem ... Convolution of 9 samples performed in 2.03 s ...\n",
      "\u001b[0m"
     ]
    },
    {
     "data": {
      "text/html": [
       "<pre style=\"white-space:pre;overflow-x:auto;line-height:normal;font-family:Menlo,'DejaVu Sans Mono',consolas,'Courier New',monospace\"><span style=\"color: #05a6fb; text-decoration-color: #05a6fb\">───────────────────── Training regression surrogate model ──────────────────────</span>\n",
       "</pre>\n"
      ],
      "text/plain": [
       "\u001b[38;2;5;166;251m───────────────────── Training regression surrogate model ──────────────────────\u001b[0m\n"
      ]
     },
     "metadata": {},
     "output_type": "display_data"
    },
    {
     "name": "stderr",
     "output_type": "stream",
     "text": [
      "/Users/rileyhickman/mambaforge/envs/atlas_aag/lib/python3.10/site-packages/botorch/models/utils/assorted.py:201: InputDataWarning: Input data is not standardized. Please consider scaling the input to zero mean and unit variance.\n",
      "  warnings.warn(msg, InputDataWarning)\n"
     ]
    },
    {
     "data": {
      "text/html": [
       "<pre style=\"white-space:pre;overflow-x:auto;line-height:normal;font-family:Menlo,'DejaVu Sans Mono',consolas,'Courier New',monospace\">ATLAS <span style=\"font-weight: bold\">[</span>INFO<span style=\"font-weight: bold\">]</span> Regression surrogate GP trained in <span style=\"color: #008080; text-decoration-color: #008080; font-weight: bold\">0.038</span> sec\n",
       "</pre>\n"
      ],
      "text/plain": [
       "ATLAS \u001b[1m[\u001b[0mINFO\u001b[1m]\u001b[0m Regression surrogate GP trained in \u001b[1;36m0.038\u001b[0m sec\n"
      ]
     },
     "metadata": {},
     "output_type": "display_data"
    },
    {
     "data": {
      "text/html": [
       "<pre style=\"white-space:pre;overflow-x:auto;line-height:normal;font-family:Menlo,'DejaVu Sans Mono',consolas,'Courier New',monospace\"><span style=\"color: #05a6fb; text-decoration-color: #05a6fb\">────────────────────── Acquisition function optimization ───────────────────────</span>\n",
       "</pre>\n"
      ],
      "text/plain": [
       "\u001b[38;2;5;166;251m────────────────────── Acquisition function optimization ───────────────────────\u001b[0m\n"
      ]
     },
     "metadata": {},
     "output_type": "display_data"
    },
    {
     "name": "stdout",
     "output_type": "stream",
     "text": [
      "\n",
      "ITER : 10\n",
      "SAMPLE : ParamVector(param_0 = 0.5567755259176129, param_1 = 0.1520338954107815, param_2 = 0.21383249465732768)\n",
      "MEASUREMENT : -1.5388346106552189\n",
      "\n"
     ]
    }
   ],
   "source": [
    "# commence optimization experiment\n",
    "BUDGET = 10\n",
    "iter_ = 0\n",
    "while len(campaign.observations.get_values()) < BUDGET:\n",
    "\n",
    "    samples = planner.recommend(campaign.observations)\n",
    "    for sample in samples:\n",
    "        sample_arr = sample.to_array()\n",
    "        measurement = surface(sample_arr)\n",
    "        print(f'\\nITER : {iter_+1}\\nSAMPLE : {sample}\\nMEASUREMENT : {measurement}\\n')\n",
    "        campaign.add_observation(sample_arr, measurement)\n",
    "        \n",
    "        iter_+=1"
   ]
  },
  {
   "cell_type": "markdown",
   "metadata": {
    "id": "NwJy8bUKJ-x8"
   },
   "source": [
    "## Optimization for a generalizable set of parameters\n",
    "\n",
    "Often, researchers may want to find parameter sets that are _generalizable_.\n",
    "For example, one might want to find a single set of chemical reaction conditions which give good yield across several different substrates. [cite MADNESS Science paper]\n",
    "\n",
    "Consider an optimization problem with $d$ continuous reaction parameters, $\\mathcal{X} \\in \\mathbb{R}^d$\n",
    "(functional parameters), and a set of $n$ substrates $\\mathcal{S} = { s_i }_{i=1}^n$ (non-functional\n",
    "parameters). The goal of such an optimization is to maximize the objective function $f(\\mathbf{x})$, which is\n",
    "the average yield response across all substrate molecules,\n",
    "\n",
    "$$ f_{\\mathcal{C}} = \\frac{1}{n} \\sum_{i=1}^n f(\\mathbf{x}, s_i)  . $$\n",
    "\n",
    "For a minimization problem, the best performing parameters are\n",
    "\n",
    "$$  \\mathbf{x}^* = argmin_{\\mathbf{x}\\in \\mathcal{X}, s_i \\in \\mathcal{C}} f_{\\mathcal{C}}  .$$\n",
    "\n",
    "`atlas` employs an approach which removes the need to measure the full $f_{\\mathcal{C}}$ at each iteration. Consider a toy problem,\n",
    "where $n=3$, and the following piecewise function is used for $f_{\\mathcal{C}}$, and is to be minimized.\n",
    "\n",
    "$$ f(\\mathbf{x}, s) = \\sin(x_1) + 12\\cos(x_2) - 0.1x_3   \\text{  if}  s = s_1$$\n",
    "\n",
    "$$ f(\\mathbf{x}, s) = 3\\sin(x_1) + 0.01\\cos(x_2) + x_3^2  \\text{  if }  s = s_2$$\n",
    "\n",
    "$$ f(\\mathbf{x}, s) = 5\\cos(x_1) + 0.01\\cos(x_2) + 2x_3^3  \\text{  if } s = s_3$$\n",
    "\n",
    "\n",
    "The variable $s$ is a categorical parameter with 3 options. $f_{\\mathcal{C}}$ has a minimum value of approximately\n",
    "3.830719 at $\\mathbf{x}^* = (0.0, 1.0, 0.0404)$. Given the appropriate `olympus` parameter space, one can instantiate the planner as follows."
   ]
  },
  {
   "cell_type": "code",
   "execution_count": null,
   "metadata": {
    "id": "li4JNqFKJ-x8"
   },
   "outputs": [],
   "source": [
    "# define the surface, parameter space, and campaign\n",
    "\n",
    "def surface(x, s):\n",
    "    if s == '0':\n",
    "        return  np.sin(x[0])+ 12*np.cos(x[1]) - 0.1*x[2]\n",
    "    elif s == '1':\n",
    "        return 3*np.sin(x[0])+ 0.01*np.cos(x[1]) + 1.*x[2]**2\n",
    "    elif s == '2':\n",
    "        return 5*np.cos(x[0])+ 0.01*np.cos(x[1]) + 2.*x[2]**3\n",
    "\n",
    "\n",
    "# make parameter space\n",
    "param_space = ParameterSpace()\n",
    "\n",
    "# add general parameter (one-hot-encoded)\n",
    "param_space.add(\n",
    "    ParameterCategorical(\n",
    "        name='s',\n",
    "        options=[str(i) for i in range(3)],\n",
    "        descriptors=[None for i in range(3)],      \n",
    "    )\n",
    ")\n",
    "# add the three functional parameters\n",
    "param_space.add(\n",
    "    ParameterContinuous(name='x_1',low=0.,high=1.)\n",
    ")\n",
    "param_space.add(\n",
    "    ParameterContinuous(name='x_2',low=0.,high=1.)\n",
    ")\n",
    "param_space.add(\n",
    "    ParameterContinuous(name='x_3',low=0., high=1.)\n",
    ")\n",
    "\n",
    "campaign = Campaign()\n",
    "campaign.set_param_space(param_space)"
   ]
  },
  {
   "cell_type": "code",
   "execution_count": null,
   "metadata": {
    "id": "mlIHUE-iJ-x8"
   },
   "outputs": [],
   "source": [
    "# create planner\n",
    "planner = GPPlanner(\n",
    "    goal='minimize',\n",
    "    init_design_strategy='random',\n",
    "    num_init_design=5,\n",
    "    batch_size=1,\n",
    "    acquisition_type='general',\n",
    "    acquisition_optimizer_kind='pymoo',\n",
    "    general_parmeters=[0],\n",
    "    \n",
    ")\n",
    "planner.set_param_space(param_space)\n"
   ]
  },
  {
   "cell_type": "markdown",
   "metadata": {
    "id": "_RKdHmTbbARq"
   },
   "source": [
    "The `general_parameters` argument to the constructor takes a list of integers, which\n",
    "represent the parameter space indices which are intended to be treated as _general_ or _non-functional_\n",
    "parameters. The figure below shows the performance of `atlas` compared to random sampling on this toy\n",
    "problem (10 repeats).\n",
    "\n",
    "![alt text](https://github.com/rileyhickman/atlas/blob/main/static/synthetic_general_conditions_gradient.png)"
   ]
  },
  {
   "cell_type": "code",
   "execution_count": null,
   "metadata": {
    "colab": {
     "base_uri": "https://localhost:8080/",
     "height": 1000,
     "referenced_widgets": [
      "baa96e7852174575b9ae46aca1498360",
      "ca89894580cd4a2ba52dbeb409ed09d5",
      "c0dfa512bdca4d898b8208dc04b81b71",
      "3170a2b8e7854d7d8daf13e882e23935",
      "8f569a3e02274c48826c746d3eb3ad62",
      "a195a479557848919bd741ccf13292aa",
      "8441e5bf42d6450cb9e6e78d2acbafad",
      "04668fb809884153b2b028abd517c6c3",
      "7203809d2c83487eb0575b8984c25062",
      "7dc674dbfac04fd4885b12a637ccf6be",
      "9c218cd83ded49d6a11ab6de4d81f539",
      "379a2bc334994ea5a573d4536bdfa067",
      "b3c7cf0cb1524464ae3dd5d7bffbca9f",
      "c82a11e932a74e77beb782198fb0ea92",
      "82d1ab0a89974aabb523ba4a145846d6",
      "994765b6dce2462f971f35d20687ca3c",
      "0166564297bc4916ae0cf168133a4cc7",
      "a711303970214ce6b4314aec15da9cc0",
      "f68812c80d9e43df880d74fe90af21c3",
      "43a3bc906b4946aaa3031a943e0b7381",
      "9f0abff5d0f14ff58a7d9d4e8619ada5",
      "bff7c97742b941298e92f4072bb460e1",
      "e1a5a358ff4a4163b68d5305d3002680",
      "d1cc9678b09d41c78a8ed5656a5971b3",
      "4e2fd086ecdd43a3b2dbe7ecd888d599",
      "069c9f292c77421e9fe3dc6a5573aca0",
      "c1f0ef92ff44407faa3da060216e2255",
      "49cdf874a7b547d28fb0c4730ddf06db",
      "166758ff845842cb85e104d56b4ebf8f",
      "c5cd047914844d699c8876992770a0bc",
      "bb081bd29c1a46a09262d08ff224a954",
      "80210cb4a41f4e8ca2688cfcb07603e6",
      "939a537166a148ad94394c01139ae96a",
      "858c426899e64d6da2a8f20951a24f4e",
      "086ad674f94641b0b3ee48daa5995362",
      "03897935a87b4971bcc4acb01358e93b",
      "092af982737e4d0687ec58826819d51b",
      "c086cfd762a1484d8258cc8ae3c39095",
      "632211c71fbc44cf97e77b60623bcea9",
      "c79f6359750142af9929afa51edabac7",
      "5131a034a352488cba45690e009fa5b2",
      "b5403b3ebc3d44748f8b5f2b1343ccb8",
      "818a1096a5f14b7185a79e4879ec3901",
      "0dadd3607c5042d0a59f0e0ee5db2c7a",
      "811023f3646f432cb448c17db3ca9a68",
      "b06e78f7a4354850a3644c27c41a7d6e",
      "560164c83a6e445f84d96b878e4ca7ad",
      "4773b78f0c5b4e1597c44ecb12a1783b",
      "2af3c84e8d8540ec860c3910a054d567",
      "e609b511e82d4d119055b1a84d785086"
     ]
    },
    "id": "ndAwETnEJ-x8",
    "outputId": "632cee7f-4fd0-46f9-db8f-9ba9caa8c064"
   },
   "outputs": [],
   "source": [
    "true_measurements = []\n",
    "\n",
    "\n",
    "BUDGET = 10\n",
    "iter_ = 0\n",
    "while len(campaign.observations.get_values()) < BUDGET:\n",
    "    \n",
    "    samples = planner.recommend(campaign.observations)\n",
    "    for sample in samples:\n",
    "        # make the measurement for the recommended sample\n",
    "        measurement = surface(\n",
    "            [float(sample.x_1), float(sample.x_2), float(sample.x_3)],\n",
    "            sample.s,\n",
    "        )\n",
    "\n",
    "        # evaluate the \"true\" objective function by averaging the functional parametrers\n",
    "        # selected by the optimizer over all the non-functional parameter options\n",
    "        all_measurements = []\n",
    "        for s in param_space[0].options:\n",
    "            all_measurements.append(\n",
    "                surface(\n",
    "                    [float(sample.x_1), float(sample.x_2), float(sample.x_3)],\n",
    "                    s,\n",
    "                )\n",
    "            )\n",
    "        true_measurements.append(np.mean(all_measurements))\n",
    "        \n",
    "        iter_+=1\n",
    "\n",
    "\n",
    "    print(f'ITER : {iter_}\\tSAMPLES : {samples}\\t MEASUREMENT : {measurement}')\n",
    "    campaign.add_observation(samples, measurement)\n",
    "    \n",
    "    \n"
   ]
  },
  {
   "cell_type": "markdown",
   "metadata": {},
   "source": [
    "## Multi-fidelity optimization\n",
    "\n",
    "Multi-fidelity Bayesian optimization targets problems where two or more “information sources”\n",
    "are available to the researcher. Typically, the information sources generate measurements of the same property\n",
    "at different levels of fidelity, precision, or accuracy, and are available at varying cost. For instance, a chemical property could be estimated using a crude but inexpensive simulation (low-fidelity) as a proxy for an accurate\n",
    "but expensive experimental determination (high-fidelity). Atlas provides a `MultiFidelityPlanner` based on\n",
    "the trace-aware knowledge gradient acquisition function which allows for the inclusion of an arbitrary\n",
    "number of information sources with discrete fidelity levels.\n",
    "\n",
    "For this illustrative example, we will use two fidelity levels, which are both 1d trigonometric functions. Lets define the objective functions."
   ]
  },
  {
   "cell_type": "code",
   "execution_count": null,
   "metadata": {},
   "outputs": [],
   "source": [
    "def surface(params):\n",
    "    if params['s'] == 0.5:\n",
    "        # low fidelity\n",
    "        return np.sin(3.*params['x0']) - np.exp(-2.*params['x1'])\n",
    "    elif params['s'] == 1.0: \n",
    "    # target fidelity\n",
    "        return np.sin(2.*params['x0']) - np.exp(-1.*params['x1'])"
   ]
  },
  {
   "cell_type": "markdown",
   "metadata": {},
   "source": [
    "We'll build the `olympus` parameter space for this problem. Note that we define an extra parameter called `s`, which is the _fidelity parameter_. This indicates the fidelity level for each parameter set. Conventionally, this must be a `ParameterDiscrete` instance with options between 0 and 1. $s=1.0$ is reserved for the target fidelity (or highest fidelity), with lower fidelities taking values $< 1.0$. We will use a value of 0.5 for the low fidelity measurements.\n",
    "\n",
    "We'll next import the `MultiFidelityPlanner` from `atlas` and instantiate it. We need to pass a few additional arguments to the constructor. `feas_params` is an integer which is the parameter space index containing the fidelity parameter. In our case this is 2. `fidelities` is a list of floats representing the discrete fidelity levels. This is the same list as our list of options in the parameter space definition. "
   ]
  },
  {
   "cell_type": "code",
   "execution_count": null,
   "metadata": {
    "scrolled": true
   },
   "outputs": [],
   "source": [
    "from atlas.planners.multi_fidelity.planner import MultiFidelityPlanner\n",
    "\n",
    "param_space = ParameterSpace()\n",
    "\n",
    "# two continuous parameters and one fidelity param\n",
    "param_space.add(ParameterContinuous(name='x0', low=0., high=1.))\n",
    "param_space.add(ParameterContinuous(name='x1', low=0., high=1.))\n",
    "param_space.add(ParameterDiscrete(name='s', options=[0.5, 1.0]))\n",
    "\n",
    "planner = MultiFidelityPlanner(\n",
    "    goal='minimize', \n",
    "    init_design_strategy='random',\n",
    "    num_init_design=5, \n",
    "    batch_size=1, \n",
    "    acquisition_optimizer_kind='pymoo',\n",
    "    fidelity_params=2,\n",
    "    fidelities=[0.5, 1.0],\n",
    ")\n",
    "\n",
    "planner.set_param_space(param_space)\n",
    "\n",
    "campaign = Campaign()\n",
    "campaign.set_param_space(param_space)\n",
    "\n",
    "BUDGET = 20\n",
    "\n",
    "iter_ = 0 \n",
    "while len(campaign.observations.get_values()) < BUDGET:\n",
    "    samples = planner.recommend(campaign.observations)\n",
    "    for sample in samples:\n",
    "        measurement = surface(sample)\n",
    "        campaign.add_observation(sample, measurement)\n",
    "        print(f'ITER : {iter_}\\nSAMPLES : {samples}\\t MEASUREMENT : {measurement}')\n",
    "    iter_ += 1"
   ]
  },
  {
   "cell_type": "markdown",
   "metadata": {},
   "source": [
    "Notice that, by default, `atlas` chooses which fidelity level to make the measurement for each call to `recommend` ($s$ changes between 1 and 0.5). However, an SDL researcher may want to further customize their multi-fidelity optimization campaign such that, for example, they can alternate between batches of low-fidelity measurements and high-fidelity measurements. \n",
    "\n",
    "`atlas` enables such flexible workflows by allowing the user to specify the fidelity level they wish for parameters to be recommended. To do this, one may set the `MultiFidelityPlanner`'s `current_ask_fidelity` attribute by calling the `set_ask_fidelity` method and specifying the desired level. `atlas` employs constrained acquisition function optimization to deliever the desired parameter recommendations. \n",
    "\n",
    "For our example, lets assume we simply want to alternate between low- and high-fidelity recommendations. Users can fully customize this aspect to suit thier specific SDL. "
   ]
  },
  {
   "cell_type": "code",
   "execution_count": null,
   "metadata": {},
   "outputs": [],
   "source": [
    "planner = MultiFidelityPlanner(\n",
    "    goal='minimize', \n",
    "    init_design_strategy='random',\n",
    "    num_init_design=5, \n",
    "    batch_size=1, \n",
    "    acquisition_optimizer_kind='pymoo',\n",
    "    fidelity_params=2,\n",
    "    fidelities=[0.5, 1.0],\n",
    ")\n",
    "\n",
    "planner.set_param_space(param_space)\n",
    "\n",
    "campaign = Campaign()\n",
    "campaign.set_param_space(param_space)\n",
    "\n",
    "BUDGET = 20\n",
    "\n",
    "iter_ = 0\n",
    "while len(campaign.observations.get_values()) < BUDGET:\n",
    "    \n",
    "    # allow initial design to complete before alternating\n",
    "    if len(campaign.observations.get_values()) >= 5:\n",
    "        if iter_ % 2 == 0: # iterating between low and high fidelity samples\n",
    "            planner.set_ask_fidelity(1.0) # target fidelity\n",
    "        else:\n",
    "            planner.set_ask_fidelity(0.5) # lower fidelity\n",
    "                \n",
    "    samples = planner.recommend(campaign.observations)\n",
    "    for sample in samples:\n",
    "        measurement = surface(sample)\n",
    "        campaign.add_observation(sample, measurement)    \n",
    "        print(f'ITER : {iter_}\\nSAMPLES : {samples}\\n MEASUREMENT : {measurement}')\n",
    "    iter_ += 1"
   ]
  },
  {
   "cell_type": "markdown",
   "metadata": {},
   "source": [
    "## Meta-/few-shot learning enhanced optimization\n",
    "\n",
    "Users may incorporate data from historical optimization campaings via the `SourceTasks` module. These source tasks can be leveraged to accelerate the optimization rate on a novel campaign by using one of two meta-/few-shot learning planners: the Ranking-Weighted Gaussian Process Ensemble planner (`RGPEPlanner`) or the Deep Kernel Transfer planner (`DKTPlanner`).\n",
    "\n",
    "In this illustrative example, lets optimize a simple trigonometric function with the help of simulated historical data from similar trigonometric functions. Let's define a target function, and use the `trig_factory` utility from `atlas` to produce 20 simulated historical optimmization campaigns."
   ]
  },
  {
   "cell_type": "code",
   "execution_count": null,
   "metadata": {},
   "outputs": [],
   "source": [
    "from atlas.utils.synthetic_data import trig_factory\n",
    "\n",
    "def surface(x):\n",
    "    return np.sin(8 * x)\n",
    "\n",
    "# define the meta-training tasks\n",
    "train_tasks = trig_factory(\n",
    "    num_samples=20,\n",
    "    scale_range=[[-8.5, -7.5], [7.5, 8.5]],\n",
    "    shift_range=[-0.02, 0.02],\n",
    "    amplitude_range=[0.2, 1.2],\n",
    ")\n",
    "\n",
    "valid_tasks = trig_factory(\n",
    "    num_samples=5,\n",
    "    scale_range=[[-8.5, -7.5], [7.5, 8.5]],\n",
    "    shift_range=[-0.02, 0.02],\n",
    "    amplitude_range=[0.2, 1.2],\n",
    ")"
   ]
  },
  {
   "cell_type": "markdown",
   "metadata": {},
   "source": [
    "The `train_tasks` and `valid_tasks` are lists of dictionaries, each of which represent one historical dataset/optimization trajectory. Each dictionary contains the keys `params` and `values` corresponding to `torch.Tensors` that contain the data points. \n",
    "\n",
    "We'll create a `ParameterSpace` for this problem, and define the meta-/few-shot learning planner. Here, we'll use the `RGPEPlanner`. We simply need to pass two additional arguments to the constructor, the `train_tasks` and `valid_tasks` we just generated."
   ]
  },
  {
   "cell_type": "code",
   "execution_count": null,
   "metadata": {},
   "outputs": [],
   "source": [
    "from atlas.planners.rgpe.planner import RGPEPlanner\n",
    "\n",
    "param_space = ParameterSpace()\n",
    "# add continuous parameter\n",
    "param_0 = ParameterContinuous(name=\"param_0\", low=0.0, high=1.0)\n",
    "param_space.add(param_0)\n",
    "\n",
    "planner = RGPEPlanner(\n",
    "    goal=\"minimize\",\n",
    "    init_design_strategy='random',\n",
    "    num_init_design=5,\n",
    "    batch_size=1,\n",
    "    acquisition_optimizer_kind='pymoo',\n",
    "    # meta-learning stuff\n",
    "    train_tasks=train_tasks,\n",
    "    valid_tasks=valid_tasks,\n",
    "#     cache_weights=False, \n",
    "#     hyperparams={},\n",
    ")\n",
    "\n",
    "planner.set_param_space(param_space)\n",
    "\n",
    "# make the campaign\n",
    "campaign = Campaign()\n",
    "campaign.set_param_space(param_space)\n",
    "\n",
    "BUDGET = 15\n",
    "\n",
    "iter_ = 0\n",
    "while len(campaign.observations.get_values()) < BUDGET:\n",
    "    samples = planner.recommend(campaign.observations)\n",
    "    for sample in samples:\n",
    "        sample_arr = sample.to_array()\n",
    "        measurement = surface(sample_arr)\n",
    "        campaign.add_observation(sample_arr, measurement)\n",
    "        print(f'ITER : {iter_}\\nSAMPLES : {samples}\\n MEASUREMENT : {measurement}')\n",
    "        iter_+=1"
   ]
  },
  {
   "cell_type": "markdown",
   "metadata": {},
   "source": [
    "The `RGPEPlanner` initial trains a separate GP model on each of the 20 source tasks, then proceeds with optimization on the novel problem. The contributions of each of the source GP models to the acquisition function are dynamically adjusted based on the observations of the novel problem. With the help of the information learned from the historical tasks, after the 5 initial design points are completed, we imediately converge to the novel problem's minimum value of $-1.0$ (`param_0`$\\approx 0.58$). "
   ]
  },
  {
   "cell_type": "markdown",
   "metadata": {},
   "source": [
    "## Optimization over molecular parameter spaces\n",
    "\n",
    "For optimization over molecular parameter spaces, we provide a specialized GP kernel function that is compatible with all planners based on the Tanimoto distance.\n",
    "\n",
    "#### TODO: make an example here..."
   ]
  },
  {
   "cell_type": "markdown",
   "metadata": {},
   "source": [
    "## Optimization with asynchronous execution\n",
    "\n",
    "In many SDL applications, researchers have access to multiple robotic or computational workers and may parallelize measurements. When performing batched BO in a setting where there is variability in measurement times for each individual experiment, it is important to operate an SDL asynchronously, where a worker starts a new experiment immediatey after completion of the previous experiment.`atlas` implements aysnchronous optimization loosely based on the hallucination strategy first reported by Ginsbourger _et al._ This approach has been shown to be overall more efficient than waiting for an entire batch of experiments to complete before commencing the next batch.\n",
    "\n",
    "For a simple demonstration of asynchronous execution using `atlas`, please try the [following example](https://github.com/aspuru-guzik-group/atlas/tree/main/tests/asynchronous_execution/example)."
   ]
  }
 ],
 "metadata": {
  "colab": {
   "provenance": []
  },
  "kernelspec": {
   "display_name": "atlas",
   "language": "python",
   "name": "python3"
  },
  "language_info": {
   "codemirror_mode": {
    "name": "ipython",
    "version": 3
   },
   "file_extension": ".py",
   "mimetype": "text/x-python",
   "name": "python",
   "nbconvert_exporter": "python",
   "pygments_lexer": "ipython3",
   "version": "3.9.20"
  },
  "widgets": {
   "application/vnd.jupyter.widget-state+json": {
    "0166564297bc4916ae0cf168133a4cc7": {
     "model_module": "@jupyter-widgets/output",
     "model_module_version": "1.0.0",
     "model_name": "OutputModel",
     "state": {
      "_dom_classes": [],
      "_model_module": "@jupyter-widgets/output",
      "_model_module_version": "1.0.0",
      "_model_name": "OutputModel",
      "_view_count": null,
      "_view_module": "@jupyter-widgets/output",
      "_view_module_version": "1.0.0",
      "_view_name": "OutputView",
      "layout": "IPY_MODEL_a711303970214ce6b4314aec15da9cc0",
      "msg_id": "",
      "outputs": [
       {
        "data": {
         "text/html": "<pre style=\"white-space:pre;overflow-x:auto;line-height:normal;font-family:Menlo,'DejaVu Sans Mono',consolas,'Courier New',monospace\">Optimizing proposals... <span style=\"color: #729c1f; text-decoration-color: #729c1f\">━━━━━━━━━━━━━━━━━━━━━━━━━━━━━━━━━━━━━━━━</span> <span style=\"color: #800080; text-decoration-color: #800080\">100%</span> <span style=\"color: #008080; text-decoration-color: #008080\">0:00:00</span>\n</pre>\n",
         "text/plain": "Optimizing proposals... \u001b[38;2;114;156;31m━━━━━━━━━━━━━━━━━━━━━━━━━━━━━━━━━━━━━━━━\u001b[0m \u001b[35m100%\u001b[0m \u001b[36m0:00:00\u001b[0m\n"
        },
        "metadata": {},
        "output_type": "display_data"
       }
      ]
     }
    },
    "03897935a87b4971bcc4acb01358e93b": {
     "model_module": "@jupyter-widgets/base",
     "model_module_version": "1.2.0",
     "model_name": "LayoutModel",
     "state": {
      "_model_module": "@jupyter-widgets/base",
      "_model_module_version": "1.2.0",
      "_model_name": "LayoutModel",
      "_view_count": null,
      "_view_module": "@jupyter-widgets/base",
      "_view_module_version": "1.2.0",
      "_view_name": "LayoutView",
      "align_content": null,
      "align_items": null,
      "align_self": null,
      "border": null,
      "bottom": null,
      "display": null,
      "flex": null,
      "flex_flow": null,
      "grid_area": null,
      "grid_auto_columns": null,
      "grid_auto_flow": null,
      "grid_auto_rows": null,
      "grid_column": null,
      "grid_gap": null,
      "grid_row": null,
      "grid_template_areas": null,
      "grid_template_columns": null,
      "grid_template_rows": null,
      "height": null,
      "justify_content": null,
      "justify_items": null,
      "left": null,
      "margin": null,
      "max_height": null,
      "max_width": null,
      "min_height": null,
      "min_width": null,
      "object_fit": null,
      "object_position": null,
      "order": null,
      "overflow": null,
      "overflow_x": null,
      "overflow_y": null,
      "padding": null,
      "right": null,
      "top": null,
      "visibility": null,
      "width": null
     }
    },
    "04668fb809884153b2b028abd517c6c3": {
     "model_module": "@jupyter-widgets/base",
     "model_module_version": "1.2.0",
     "model_name": "LayoutModel",
     "state": {
      "_model_module": "@jupyter-widgets/base",
      "_model_module_version": "1.2.0",
      "_model_name": "LayoutModel",
      "_view_count": null,
      "_view_module": "@jupyter-widgets/base",
      "_view_module_version": "1.2.0",
      "_view_name": "LayoutView",
      "align_content": null,
      "align_items": null,
      "align_self": null,
      "border": null,
      "bottom": null,
      "display": null,
      "flex": null,
      "flex_flow": null,
      "grid_area": null,
      "grid_auto_columns": null,
      "grid_auto_flow": null,
      "grid_auto_rows": null,
      "grid_column": null,
      "grid_gap": null,
      "grid_row": null,
      "grid_template_areas": null,
      "grid_template_columns": null,
      "grid_template_rows": null,
      "height": null,
      "justify_content": null,
      "justify_items": null,
      "left": null,
      "margin": null,
      "max_height": null,
      "max_width": null,
      "min_height": null,
      "min_width": null,
      "object_fit": null,
      "object_position": null,
      "order": null,
      "overflow": null,
      "overflow_x": null,
      "overflow_y": null,
      "padding": null,
      "right": null,
      "top": null,
      "visibility": null,
      "width": null
     }
    },
    "069c9f292c77421e9fe3dc6a5573aca0": {
     "model_module": "@jupyter-widgets/base",
     "model_module_version": "1.2.0",
     "model_name": "LayoutModel",
     "state": {
      "_model_module": "@jupyter-widgets/base",
      "_model_module_version": "1.2.0",
      "_model_name": "LayoutModel",
      "_view_count": null,
      "_view_module": "@jupyter-widgets/base",
      "_view_module_version": "1.2.0",
      "_view_name": "LayoutView",
      "align_content": null,
      "align_items": null,
      "align_self": null,
      "border": null,
      "bottom": null,
      "display": null,
      "flex": null,
      "flex_flow": null,
      "grid_area": null,
      "grid_auto_columns": null,
      "grid_auto_flow": null,
      "grid_auto_rows": null,
      "grid_column": null,
      "grid_gap": null,
      "grid_row": null,
      "grid_template_areas": null,
      "grid_template_columns": null,
      "grid_template_rows": null,
      "height": null,
      "justify_content": null,
      "justify_items": null,
      "left": null,
      "margin": null,
      "max_height": null,
      "max_width": null,
      "min_height": null,
      "min_width": null,
      "object_fit": null,
      "object_position": null,
      "order": null,
      "overflow": null,
      "overflow_x": null,
      "overflow_y": null,
      "padding": null,
      "right": null,
      "top": null,
      "visibility": null,
      "width": null
     }
    },
    "086ad674f94641b0b3ee48daa5995362": {
     "model_module": "@jupyter-widgets/output",
     "model_module_version": "1.0.0",
     "model_name": "OutputModel",
     "state": {
      "_dom_classes": [],
      "_model_module": "@jupyter-widgets/output",
      "_model_module_version": "1.0.0",
      "_model_name": "OutputModel",
      "_view_count": null,
      "_view_module": "@jupyter-widgets/output",
      "_view_module_version": "1.0.0",
      "_view_name": "OutputView",
      "layout": "IPY_MODEL_03897935a87b4971bcc4acb01358e93b",
      "msg_id": "",
      "outputs": [
       {
        "data": {
         "text/html": "<pre style=\"white-space:pre;overflow-x:auto;line-height:normal;font-family:Menlo,'DejaVu Sans Mono',consolas,'Courier New',monospace\">Optimizing proposals... <span style=\"color: #729c1f; text-decoration-color: #729c1f\">━━━━━━━━━━━━━━━━━━━━━━━━━━━━━━━━━━━━━━━━</span> <span style=\"color: #800080; text-decoration-color: #800080\">100%</span> <span style=\"color: #008080; text-decoration-color: #008080\">0:00:00</span>\n</pre>\n",
         "text/plain": "Optimizing proposals... \u001b[38;2;114;156;31m━━━━━━━━━━━━━━━━━━━━━━━━━━━━━━━━━━━━━━━━\u001b[0m \u001b[35m100%\u001b[0m \u001b[36m0:00:00\u001b[0m\n"
        },
        "metadata": {},
        "output_type": "display_data"
       }
      ]
     }
    },
    "092af982737e4d0687ec58826819d51b": {
     "model_module": "@jupyter-widgets/output",
     "model_module_version": "1.0.0",
     "model_name": "OutputModel",
     "state": {
      "_dom_classes": [],
      "_model_module": "@jupyter-widgets/output",
      "_model_module_version": "1.0.0",
      "_model_name": "OutputModel",
      "_view_count": null,
      "_view_module": "@jupyter-widgets/output",
      "_view_module_version": "1.0.0",
      "_view_name": "OutputView",
      "layout": "IPY_MODEL_c086cfd762a1484d8258cc8ae3c39095",
      "msg_id": "",
      "outputs": [
       {
        "data": {
         "text/html": "<pre style=\"white-space:pre;overflow-x:auto;line-height:normal;font-family:Menlo,'DejaVu Sans Mono',consolas,'Courier New',monospace\">Optimizing proposals... <span style=\"color: #729c1f; text-decoration-color: #729c1f\">━━━━━━━━━━━━━━━━━━━━━━━━━━━━━━━━━━━━━━━━</span> <span style=\"color: #800080; text-decoration-color: #800080\">100%</span> <span style=\"color: #008080; text-decoration-color: #008080\">0:00:00</span>\n</pre>\n",
         "text/plain": "Optimizing proposals... \u001b[38;2;114;156;31m━━━━━━━━━━━━━━━━━━━━━━━━━━━━━━━━━━━━━━━━\u001b[0m \u001b[35m100%\u001b[0m \u001b[36m0:00:00\u001b[0m\n"
        },
        "metadata": {},
        "output_type": "display_data"
       }
      ]
     }
    },
    "0dadd3607c5042d0a59f0e0ee5db2c7a": {
     "model_module": "@jupyter-widgets/base",
     "model_module_version": "1.2.0",
     "model_name": "LayoutModel",
     "state": {
      "_model_module": "@jupyter-widgets/base",
      "_model_module_version": "1.2.0",
      "_model_name": "LayoutModel",
      "_view_count": null,
      "_view_module": "@jupyter-widgets/base",
      "_view_module_version": "1.2.0",
      "_view_name": "LayoutView",
      "align_content": null,
      "align_items": null,
      "align_self": null,
      "border": null,
      "bottom": null,
      "display": null,
      "flex": null,
      "flex_flow": null,
      "grid_area": null,
      "grid_auto_columns": null,
      "grid_auto_flow": null,
      "grid_auto_rows": null,
      "grid_column": null,
      "grid_gap": null,
      "grid_row": null,
      "grid_template_areas": null,
      "grid_template_columns": null,
      "grid_template_rows": null,
      "height": null,
      "justify_content": null,
      "justify_items": null,
      "left": null,
      "margin": null,
      "max_height": null,
      "max_width": null,
      "min_height": null,
      "min_width": null,
      "object_fit": null,
      "object_position": null,
      "order": null,
      "overflow": null,
      "overflow_x": null,
      "overflow_y": null,
      "padding": null,
      "right": null,
      "top": null,
      "visibility": null,
      "width": null
     }
    },
    "166758ff845842cb85e104d56b4ebf8f": {
     "model_module": "@jupyter-widgets/output",
     "model_module_version": "1.0.0",
     "model_name": "OutputModel",
     "state": {
      "_dom_classes": [],
      "_model_module": "@jupyter-widgets/output",
      "_model_module_version": "1.0.0",
      "_model_name": "OutputModel",
      "_view_count": null,
      "_view_module": "@jupyter-widgets/output",
      "_view_module_version": "1.0.0",
      "_view_name": "OutputView",
      "layout": "IPY_MODEL_c5cd047914844d699c8876992770a0bc",
      "msg_id": "",
      "outputs": [
       {
        "data": {
         "text/html": "<pre style=\"white-space:pre;overflow-x:auto;line-height:normal;font-family:Menlo,'DejaVu Sans Mono',consolas,'Courier New',monospace\">Optimizing proposals... <span style=\"color: #729c1f; text-decoration-color: #729c1f\">━━━━━━━━━━━━━━━━━━━━━━━━━━━━━━━━━━━━━━━━</span> <span style=\"color: #800080; text-decoration-color: #800080\">100%</span> <span style=\"color: #008080; text-decoration-color: #008080\">0:00:00</span>\n</pre>\n",
         "text/plain": "Optimizing proposals... \u001b[38;2;114;156;31m━━━━━━━━━━━━━━━━━━━━━━━━━━━━━━━━━━━━━━━━\u001b[0m \u001b[35m100%\u001b[0m \u001b[36m0:00:00\u001b[0m\n"
        },
        "metadata": {},
        "output_type": "display_data"
       }
      ]
     }
    },
    "2af3c84e8d8540ec860c3910a054d567": {
     "model_module": "@jupyter-widgets/output",
     "model_module_version": "1.0.0",
     "model_name": "OutputModel",
     "state": {
      "_dom_classes": [],
      "_model_module": "@jupyter-widgets/output",
      "_model_module_version": "1.0.0",
      "_model_name": "OutputModel",
      "_view_count": null,
      "_view_module": "@jupyter-widgets/output",
      "_view_module_version": "1.0.0",
      "_view_name": "OutputView",
      "layout": "IPY_MODEL_e609b511e82d4d119055b1a84d785086",
      "msg_id": "",
      "outputs": [
       {
        "data": {
         "text/html": "<pre style=\"white-space:pre;overflow-x:auto;line-height:normal;font-family:Menlo,'DejaVu Sans Mono',consolas,'Courier New',monospace\">Optimizing proposals... <span style=\"color: #729c1f; text-decoration-color: #729c1f\">━━━━━━━━━━━━━━━━━━━━━━━━━━━━━━━━━━━━━━━━</span> <span style=\"color: #800080; text-decoration-color: #800080\">100%</span> <span style=\"color: #008080; text-decoration-color: #008080\">0:00:00</span>\n</pre>\n",
         "text/plain": "Optimizing proposals... \u001b[38;2;114;156;31m━━━━━━━━━━━━━━━━━━━━━━━━━━━━━━━━━━━━━━━━\u001b[0m \u001b[35m100%\u001b[0m \u001b[36m0:00:00\u001b[0m\n"
        },
        "metadata": {},
        "output_type": "display_data"
       }
      ]
     }
    },
    "3170a2b8e7854d7d8daf13e882e23935": {
     "model_module": "@jupyter-widgets/base",
     "model_module_version": "1.2.0",
     "model_name": "LayoutModel",
     "state": {
      "_model_module": "@jupyter-widgets/base",
      "_model_module_version": "1.2.0",
      "_model_name": "LayoutModel",
      "_view_count": null,
      "_view_module": "@jupyter-widgets/base",
      "_view_module_version": "1.2.0",
      "_view_name": "LayoutView",
      "align_content": null,
      "align_items": null,
      "align_self": null,
      "border": null,
      "bottom": null,
      "display": null,
      "flex": null,
      "flex_flow": null,
      "grid_area": null,
      "grid_auto_columns": null,
      "grid_auto_flow": null,
      "grid_auto_rows": null,
      "grid_column": null,
      "grid_gap": null,
      "grid_row": null,
      "grid_template_areas": null,
      "grid_template_columns": null,
      "grid_template_rows": null,
      "height": null,
      "justify_content": null,
      "justify_items": null,
      "left": null,
      "margin": null,
      "max_height": null,
      "max_width": null,
      "min_height": null,
      "min_width": null,
      "object_fit": null,
      "object_position": null,
      "order": null,
      "overflow": null,
      "overflow_x": null,
      "overflow_y": null,
      "padding": null,
      "right": null,
      "top": null,
      "visibility": null,
      "width": null
     }
    },
    "379a2bc334994ea5a573d4536bdfa067": {
     "model_module": "@jupyter-widgets/base",
     "model_module_version": "1.2.0",
     "model_name": "LayoutModel",
     "state": {
      "_model_module": "@jupyter-widgets/base",
      "_model_module_version": "1.2.0",
      "_model_name": "LayoutModel",
      "_view_count": null,
      "_view_module": "@jupyter-widgets/base",
      "_view_module_version": "1.2.0",
      "_view_name": "LayoutView",
      "align_content": null,
      "align_items": null,
      "align_self": null,
      "border": null,
      "bottom": null,
      "display": null,
      "flex": null,
      "flex_flow": null,
      "grid_area": null,
      "grid_auto_columns": null,
      "grid_auto_flow": null,
      "grid_auto_rows": null,
      "grid_column": null,
      "grid_gap": null,
      "grid_row": null,
      "grid_template_areas": null,
      "grid_template_columns": null,
      "grid_template_rows": null,
      "height": null,
      "justify_content": null,
      "justify_items": null,
      "left": null,
      "margin": null,
      "max_height": null,
      "max_width": null,
      "min_height": null,
      "min_width": null,
      "object_fit": null,
      "object_position": null,
      "order": null,
      "overflow": null,
      "overflow_x": null,
      "overflow_y": null,
      "padding": null,
      "right": null,
      "top": null,
      "visibility": null,
      "width": null
     }
    },
    "43a3bc906b4946aaa3031a943e0b7381": {
     "model_module": "@jupyter-widgets/base",
     "model_module_version": "1.2.0",
     "model_name": "LayoutModel",
     "state": {
      "_model_module": "@jupyter-widgets/base",
      "_model_module_version": "1.2.0",
      "_model_name": "LayoutModel",
      "_view_count": null,
      "_view_module": "@jupyter-widgets/base",
      "_view_module_version": "1.2.0",
      "_view_name": "LayoutView",
      "align_content": null,
      "align_items": null,
      "align_self": null,
      "border": null,
      "bottom": null,
      "display": null,
      "flex": null,
      "flex_flow": null,
      "grid_area": null,
      "grid_auto_columns": null,
      "grid_auto_flow": null,
      "grid_auto_rows": null,
      "grid_column": null,
      "grid_gap": null,
      "grid_row": null,
      "grid_template_areas": null,
      "grid_template_columns": null,
      "grid_template_rows": null,
      "height": null,
      "justify_content": null,
      "justify_items": null,
      "left": null,
      "margin": null,
      "max_height": null,
      "max_width": null,
      "min_height": null,
      "min_width": null,
      "object_fit": null,
      "object_position": null,
      "order": null,
      "overflow": null,
      "overflow_x": null,
      "overflow_y": null,
      "padding": null,
      "right": null,
      "top": null,
      "visibility": null,
      "width": null
     }
    },
    "4773b78f0c5b4e1597c44ecb12a1783b": {
     "model_module": "@jupyter-widgets/base",
     "model_module_version": "1.2.0",
     "model_name": "LayoutModel",
     "state": {
      "_model_module": "@jupyter-widgets/base",
      "_model_module_version": "1.2.0",
      "_model_name": "LayoutModel",
      "_view_count": null,
      "_view_module": "@jupyter-widgets/base",
      "_view_module_version": "1.2.0",
      "_view_name": "LayoutView",
      "align_content": null,
      "align_items": null,
      "align_self": null,
      "border": null,
      "bottom": null,
      "display": null,
      "flex": null,
      "flex_flow": null,
      "grid_area": null,
      "grid_auto_columns": null,
      "grid_auto_flow": null,
      "grid_auto_rows": null,
      "grid_column": null,
      "grid_gap": null,
      "grid_row": null,
      "grid_template_areas": null,
      "grid_template_columns": null,
      "grid_template_rows": null,
      "height": null,
      "justify_content": null,
      "justify_items": null,
      "left": null,
      "margin": null,
      "max_height": null,
      "max_width": null,
      "min_height": null,
      "min_width": null,
      "object_fit": null,
      "object_position": null,
      "order": null,
      "overflow": null,
      "overflow_x": null,
      "overflow_y": null,
      "padding": null,
      "right": null,
      "top": null,
      "visibility": null,
      "width": null
     }
    },
    "49cdf874a7b547d28fb0c4730ddf06db": {
     "model_module": "@jupyter-widgets/base",
     "model_module_version": "1.2.0",
     "model_name": "LayoutModel",
     "state": {
      "_model_module": "@jupyter-widgets/base",
      "_model_module_version": "1.2.0",
      "_model_name": "LayoutModel",
      "_view_count": null,
      "_view_module": "@jupyter-widgets/base",
      "_view_module_version": "1.2.0",
      "_view_name": "LayoutView",
      "align_content": null,
      "align_items": null,
      "align_self": null,
      "border": null,
      "bottom": null,
      "display": null,
      "flex": null,
      "flex_flow": null,
      "grid_area": null,
      "grid_auto_columns": null,
      "grid_auto_flow": null,
      "grid_auto_rows": null,
      "grid_column": null,
      "grid_gap": null,
      "grid_row": null,
      "grid_template_areas": null,
      "grid_template_columns": null,
      "grid_template_rows": null,
      "height": null,
      "justify_content": null,
      "justify_items": null,
      "left": null,
      "margin": null,
      "max_height": null,
      "max_width": null,
      "min_height": null,
      "min_width": null,
      "object_fit": null,
      "object_position": null,
      "order": null,
      "overflow": null,
      "overflow_x": null,
      "overflow_y": null,
      "padding": null,
      "right": null,
      "top": null,
      "visibility": null,
      "width": null
     }
    },
    "4e2fd086ecdd43a3b2dbe7ecd888d599": {
     "model_module": "@jupyter-widgets/output",
     "model_module_version": "1.0.0",
     "model_name": "OutputModel",
     "state": {
      "_dom_classes": [],
      "_model_module": "@jupyter-widgets/output",
      "_model_module_version": "1.0.0",
      "_model_name": "OutputModel",
      "_view_count": null,
      "_view_module": "@jupyter-widgets/output",
      "_view_module_version": "1.0.0",
      "_view_name": "OutputView",
      "layout": "IPY_MODEL_069c9f292c77421e9fe3dc6a5573aca0",
      "msg_id": "",
      "outputs": [
       {
        "data": {
         "text/html": "<pre style=\"white-space:pre;overflow-x:auto;line-height:normal;font-family:Menlo,'DejaVu Sans Mono',consolas,'Courier New',monospace\">Optimizing proposals... <span style=\"color: #729c1f; text-decoration-color: #729c1f\">━━━━━━━━━━━━━━━━━━━━━━━━━━━━━━━━━━━━━━━━</span> <span style=\"color: #800080; text-decoration-color: #800080\">100%</span> <span style=\"color: #008080; text-decoration-color: #008080\">0:00:00</span>\n</pre>\n",
         "text/plain": "Optimizing proposals... \u001b[38;2;114;156;31m━━━━━━━━━━━━━━━━━━━━━━━━━━━━━━━━━━━━━━━━\u001b[0m \u001b[35m100%\u001b[0m \u001b[36m0:00:00\u001b[0m\n"
        },
        "metadata": {},
        "output_type": "display_data"
       }
      ]
     }
    },
    "5131a034a352488cba45690e009fa5b2": {
     "model_module": "@jupyter-widgets/output",
     "model_module_version": "1.0.0",
     "model_name": "OutputModel",
     "state": {
      "_dom_classes": [],
      "_model_module": "@jupyter-widgets/output",
      "_model_module_version": "1.0.0",
      "_model_name": "OutputModel",
      "_view_count": null,
      "_view_module": "@jupyter-widgets/output",
      "_view_module_version": "1.0.0",
      "_view_name": "OutputView",
      "layout": "IPY_MODEL_b5403b3ebc3d44748f8b5f2b1343ccb8",
      "msg_id": "",
      "outputs": [
       {
        "data": {
         "text/html": "<pre style=\"white-space:pre;overflow-x:auto;line-height:normal;font-family:Menlo,'DejaVu Sans Mono',consolas,'Courier New',monospace\">Optimizing proposals... <span style=\"color: #729c1f; text-decoration-color: #729c1f\">━━━━━━━━━━━━━━━━━━━━━━━━━━━━━━━━━━━━━━━━</span> <span style=\"color: #800080; text-decoration-color: #800080\">100%</span> <span style=\"color: #008080; text-decoration-color: #008080\">0:00:00</span>\n</pre>\n",
         "text/plain": "Optimizing proposals... \u001b[38;2;114;156;31m━━━━━━━━━━━━━━━━━━━━━━━━━━━━━━━━━━━━━━━━\u001b[0m \u001b[35m100%\u001b[0m \u001b[36m0:00:00\u001b[0m\n"
        },
        "metadata": {},
        "output_type": "display_data"
       }
      ]
     }
    },
    "560164c83a6e445f84d96b878e4ca7ad": {
     "model_module": "@jupyter-widgets/output",
     "model_module_version": "1.0.0",
     "model_name": "OutputModel",
     "state": {
      "_dom_classes": [],
      "_model_module": "@jupyter-widgets/output",
      "_model_module_version": "1.0.0",
      "_model_name": "OutputModel",
      "_view_count": null,
      "_view_module": "@jupyter-widgets/output",
      "_view_module_version": "1.0.0",
      "_view_name": "OutputView",
      "layout": "IPY_MODEL_4773b78f0c5b4e1597c44ecb12a1783b",
      "msg_id": "",
      "outputs": [
       {
        "data": {
         "text/html": "<pre style=\"white-space:pre;overflow-x:auto;line-height:normal;font-family:Menlo,'DejaVu Sans Mono',consolas,'Courier New',monospace\">Optimizing proposals... <span style=\"color: #729c1f; text-decoration-color: #729c1f\">━━━━━━━━━━━━━━━━━━━━━━━━━━━━━━━━━━━━━━━━</span> <span style=\"color: #800080; text-decoration-color: #800080\">100%</span> <span style=\"color: #008080; text-decoration-color: #008080\">0:00:00</span>\n</pre>\n",
         "text/plain": "Optimizing proposals... \u001b[38;2;114;156;31m━━━━━━━━━━━━━━━━━━━━━━━━━━━━━━━━━━━━━━━━\u001b[0m \u001b[35m100%\u001b[0m \u001b[36m0:00:00\u001b[0m\n"
        },
        "metadata": {},
        "output_type": "display_data"
       }
      ]
     }
    },
    "632211c71fbc44cf97e77b60623bcea9": {
     "model_module": "@jupyter-widgets/output",
     "model_module_version": "1.0.0",
     "model_name": "OutputModel",
     "state": {
      "_dom_classes": [],
      "_model_module": "@jupyter-widgets/output",
      "_model_module_version": "1.0.0",
      "_model_name": "OutputModel",
      "_view_count": null,
      "_view_module": "@jupyter-widgets/output",
      "_view_module_version": "1.0.0",
      "_view_name": "OutputView",
      "layout": "IPY_MODEL_c79f6359750142af9929afa51edabac7",
      "msg_id": "",
      "outputs": [
       {
        "data": {
         "text/html": "<pre style=\"white-space:pre;overflow-x:auto;line-height:normal;font-family:Menlo,'DejaVu Sans Mono',consolas,'Courier New',monospace\">Optimizing proposals... <span style=\"color: #729c1f; text-decoration-color: #729c1f\">━━━━━━━━━━━━━━━━━━━━━━━━━━━━━━━━━━━━━━━━</span> <span style=\"color: #800080; text-decoration-color: #800080\">100%</span> <span style=\"color: #008080; text-decoration-color: #008080\">0:00:00</span>\n</pre>\n",
         "text/plain": "Optimizing proposals... \u001b[38;2;114;156;31m━━━━━━━━━━━━━━━━━━━━━━━━━━━━━━━━━━━━━━━━\u001b[0m \u001b[35m100%\u001b[0m \u001b[36m0:00:00\u001b[0m\n"
        },
        "metadata": {},
        "output_type": "display_data"
       }
      ]
     }
    },
    "7203809d2c83487eb0575b8984c25062": {
     "model_module": "@jupyter-widgets/output",
     "model_module_version": "1.0.0",
     "model_name": "OutputModel",
     "state": {
      "_dom_classes": [],
      "_model_module": "@jupyter-widgets/output",
      "_model_module_version": "1.0.0",
      "_model_name": "OutputModel",
      "_view_count": null,
      "_view_module": "@jupyter-widgets/output",
      "_view_module_version": "1.0.0",
      "_view_name": "OutputView",
      "layout": "IPY_MODEL_7dc674dbfac04fd4885b12a637ccf6be",
      "msg_id": "",
      "outputs": [
       {
        "data": {
         "text/html": "<pre style=\"white-space:pre;overflow-x:auto;line-height:normal;font-family:Menlo,'DejaVu Sans Mono',consolas,'Courier New',monospace\">Optimizing proposals... <span style=\"color: #729c1f; text-decoration-color: #729c1f\">━━━━━━━━━━━━━━━━━━━━━━━━━━━━━━━━━━━━━━━━</span> <span style=\"color: #800080; text-decoration-color: #800080\">100%</span> <span style=\"color: #008080; text-decoration-color: #008080\">0:00:00</span>\n</pre>\n",
         "text/plain": "Optimizing proposals... \u001b[38;2;114;156;31m━━━━━━━━━━━━━━━━━━━━━━━━━━━━━━━━━━━━━━━━\u001b[0m \u001b[35m100%\u001b[0m \u001b[36m0:00:00\u001b[0m\n"
        },
        "metadata": {},
        "output_type": "display_data"
       }
      ]
     }
    },
    "7dc674dbfac04fd4885b12a637ccf6be": {
     "model_module": "@jupyter-widgets/base",
     "model_module_version": "1.2.0",
     "model_name": "LayoutModel",
     "state": {
      "_model_module": "@jupyter-widgets/base",
      "_model_module_version": "1.2.0",
      "_model_name": "LayoutModel",
      "_view_count": null,
      "_view_module": "@jupyter-widgets/base",
      "_view_module_version": "1.2.0",
      "_view_name": "LayoutView",
      "align_content": null,
      "align_items": null,
      "align_self": null,
      "border": null,
      "bottom": null,
      "display": null,
      "flex": null,
      "flex_flow": null,
      "grid_area": null,
      "grid_auto_columns": null,
      "grid_auto_flow": null,
      "grid_auto_rows": null,
      "grid_column": null,
      "grid_gap": null,
      "grid_row": null,
      "grid_template_areas": null,
      "grid_template_columns": null,
      "grid_template_rows": null,
      "height": null,
      "justify_content": null,
      "justify_items": null,
      "left": null,
      "margin": null,
      "max_height": null,
      "max_width": null,
      "min_height": null,
      "min_width": null,
      "object_fit": null,
      "object_position": null,
      "order": null,
      "overflow": null,
      "overflow_x": null,
      "overflow_y": null,
      "padding": null,
      "right": null,
      "top": null,
      "visibility": null,
      "width": null
     }
    },
    "80210cb4a41f4e8ca2688cfcb07603e6": {
     "model_module": "@jupyter-widgets/base",
     "model_module_version": "1.2.0",
     "model_name": "LayoutModel",
     "state": {
      "_model_module": "@jupyter-widgets/base",
      "_model_module_version": "1.2.0",
      "_model_name": "LayoutModel",
      "_view_count": null,
      "_view_module": "@jupyter-widgets/base",
      "_view_module_version": "1.2.0",
      "_view_name": "LayoutView",
      "align_content": null,
      "align_items": null,
      "align_self": null,
      "border": null,
      "bottom": null,
      "display": null,
      "flex": null,
      "flex_flow": null,
      "grid_area": null,
      "grid_auto_columns": null,
      "grid_auto_flow": null,
      "grid_auto_rows": null,
      "grid_column": null,
      "grid_gap": null,
      "grid_row": null,
      "grid_template_areas": null,
      "grid_template_columns": null,
      "grid_template_rows": null,
      "height": null,
      "justify_content": null,
      "justify_items": null,
      "left": null,
      "margin": null,
      "max_height": null,
      "max_width": null,
      "min_height": null,
      "min_width": null,
      "object_fit": null,
      "object_position": null,
      "order": null,
      "overflow": null,
      "overflow_x": null,
      "overflow_y": null,
      "padding": null,
      "right": null,
      "top": null,
      "visibility": null,
      "width": null
     }
    },
    "811023f3646f432cb448c17db3ca9a68": {
     "model_module": "@jupyter-widgets/output",
     "model_module_version": "1.0.0",
     "model_name": "OutputModel",
     "state": {
      "_dom_classes": [],
      "_model_module": "@jupyter-widgets/output",
      "_model_module_version": "1.0.0",
      "_model_name": "OutputModel",
      "_view_count": null,
      "_view_module": "@jupyter-widgets/output",
      "_view_module_version": "1.0.0",
      "_view_name": "OutputView",
      "layout": "IPY_MODEL_b06e78f7a4354850a3644c27c41a7d6e",
      "msg_id": "",
      "outputs": [
       {
        "data": {
         "text/html": "<pre style=\"white-space:pre;overflow-x:auto;line-height:normal;font-family:Menlo,'DejaVu Sans Mono',consolas,'Courier New',monospace\">Optimizing proposals... <span style=\"color: #729c1f; text-decoration-color: #729c1f\">━━━━━━━━━━━━━━━━━━━━━━━━━━━━━━━━━━━━━━━━</span> <span style=\"color: #800080; text-decoration-color: #800080\">100%</span> <span style=\"color: #008080; text-decoration-color: #008080\">0:00:00</span>\n</pre>\n",
         "text/plain": "Optimizing proposals... \u001b[38;2;114;156;31m━━━━━━━━━━━━━━━━━━━━━━━━━━━━━━━━━━━━━━━━\u001b[0m \u001b[35m100%\u001b[0m \u001b[36m0:00:00\u001b[0m\n"
        },
        "metadata": {},
        "output_type": "display_data"
       }
      ]
     }
    },
    "818a1096a5f14b7185a79e4879ec3901": {
     "model_module": "@jupyter-widgets/output",
     "model_module_version": "1.0.0",
     "model_name": "OutputModel",
     "state": {
      "_dom_classes": [],
      "_model_module": "@jupyter-widgets/output",
      "_model_module_version": "1.0.0",
      "_model_name": "OutputModel",
      "_view_count": null,
      "_view_module": "@jupyter-widgets/output",
      "_view_module_version": "1.0.0",
      "_view_name": "OutputView",
      "layout": "IPY_MODEL_0dadd3607c5042d0a59f0e0ee5db2c7a",
      "msg_id": "",
      "outputs": [
       {
        "data": {
         "text/html": "<pre style=\"white-space:pre;overflow-x:auto;line-height:normal;font-family:Menlo,'DejaVu Sans Mono',consolas,'Courier New',monospace\">Optimizing proposals... <span style=\"color: #729c1f; text-decoration-color: #729c1f\">━━━━━━━━━━━━━━━━━━━━━━━━━━━━━━━━━━━━━━━━</span> <span style=\"color: #800080; text-decoration-color: #800080\">100%</span> <span style=\"color: #008080; text-decoration-color: #008080\">0:00:00</span>\n</pre>\n",
         "text/plain": "Optimizing proposals... \u001b[38;2;114;156;31m━━━━━━━━━━━━━━━━━━━━━━━━━━━━━━━━━━━━━━━━\u001b[0m \u001b[35m100%\u001b[0m \u001b[36m0:00:00\u001b[0m\n"
        },
        "metadata": {},
        "output_type": "display_data"
       }
      ]
     }
    },
    "82d1ab0a89974aabb523ba4a145846d6": {
     "model_module": "@jupyter-widgets/output",
     "model_module_version": "1.0.0",
     "model_name": "OutputModel",
     "state": {
      "_dom_classes": [],
      "_model_module": "@jupyter-widgets/output",
      "_model_module_version": "1.0.0",
      "_model_name": "OutputModel",
      "_view_count": null,
      "_view_module": "@jupyter-widgets/output",
      "_view_module_version": "1.0.0",
      "_view_name": "OutputView",
      "layout": "IPY_MODEL_994765b6dce2462f971f35d20687ca3c",
      "msg_id": "",
      "outputs": [
       {
        "data": {
         "text/html": "<pre style=\"white-space:pre;overflow-x:auto;line-height:normal;font-family:Menlo,'DejaVu Sans Mono',consolas,'Courier New',monospace\">Optimizing proposals... <span style=\"color: #729c1f; text-decoration-color: #729c1f\">━━━━━━━━━━━━━━━━━━━━━━━━━━━━━━━━━━━━━━━━</span> <span style=\"color: #800080; text-decoration-color: #800080\">100%</span> <span style=\"color: #008080; text-decoration-color: #008080\">0:00:00</span>\n</pre>\n",
         "text/plain": "Optimizing proposals... \u001b[38;2;114;156;31m━━━━━━━━━━━━━━━━━━━━━━━━━━━━━━━━━━━━━━━━\u001b[0m \u001b[35m100%\u001b[0m \u001b[36m0:00:00\u001b[0m\n"
        },
        "metadata": {},
        "output_type": "display_data"
       }
      ]
     }
    },
    "8441e5bf42d6450cb9e6e78d2acbafad": {
     "model_module": "@jupyter-widgets/output",
     "model_module_version": "1.0.0",
     "model_name": "OutputModel",
     "state": {
      "_dom_classes": [],
      "_model_module": "@jupyter-widgets/output",
      "_model_module_version": "1.0.0",
      "_model_name": "OutputModel",
      "_view_count": null,
      "_view_module": "@jupyter-widgets/output",
      "_view_module_version": "1.0.0",
      "_view_name": "OutputView",
      "layout": "IPY_MODEL_04668fb809884153b2b028abd517c6c3",
      "msg_id": "",
      "outputs": [
       {
        "data": {
         "text/html": "<pre style=\"white-space:pre;overflow-x:auto;line-height:normal;font-family:Menlo,'DejaVu Sans Mono',consolas,'Courier New',monospace\">Optimizing proposals... <span style=\"color: #729c1f; text-decoration-color: #729c1f\">━━━━━━━━━━━━━━━━━━━━━━━━━━━━━━━━━━━━━━━━</span> <span style=\"color: #800080; text-decoration-color: #800080\">100%</span> <span style=\"color: #008080; text-decoration-color: #008080\">0:00:00</span>\n</pre>\n",
         "text/plain": "Optimizing proposals... \u001b[38;2;114;156;31m━━━━━━━━━━━━━━━━━━━━━━━━━━━━━━━━━━━━━━━━\u001b[0m \u001b[35m100%\u001b[0m \u001b[36m0:00:00\u001b[0m\n"
        },
        "metadata": {},
        "output_type": "display_data"
       }
      ]
     }
    },
    "858c426899e64d6da2a8f20951a24f4e": {
     "model_module": "@jupyter-widgets/base",
     "model_module_version": "1.2.0",
     "model_name": "LayoutModel",
     "state": {
      "_model_module": "@jupyter-widgets/base",
      "_model_module_version": "1.2.0",
      "_model_name": "LayoutModel",
      "_view_count": null,
      "_view_module": "@jupyter-widgets/base",
      "_view_module_version": "1.2.0",
      "_view_name": "LayoutView",
      "align_content": null,
      "align_items": null,
      "align_self": null,
      "border": null,
      "bottom": null,
      "display": null,
      "flex": null,
      "flex_flow": null,
      "grid_area": null,
      "grid_auto_columns": null,
      "grid_auto_flow": null,
      "grid_auto_rows": null,
      "grid_column": null,
      "grid_gap": null,
      "grid_row": null,
      "grid_template_areas": null,
      "grid_template_columns": null,
      "grid_template_rows": null,
      "height": null,
      "justify_content": null,
      "justify_items": null,
      "left": null,
      "margin": null,
      "max_height": null,
      "max_width": null,
      "min_height": null,
      "min_width": null,
      "object_fit": null,
      "object_position": null,
      "order": null,
      "overflow": null,
      "overflow_x": null,
      "overflow_y": null,
      "padding": null,
      "right": null,
      "top": null,
      "visibility": null,
      "width": null
     }
    },
    "8f569a3e02274c48826c746d3eb3ad62": {
     "model_module": "@jupyter-widgets/output",
     "model_module_version": "1.0.0",
     "model_name": "OutputModel",
     "state": {
      "_dom_classes": [],
      "_model_module": "@jupyter-widgets/output",
      "_model_module_version": "1.0.0",
      "_model_name": "OutputModel",
      "_view_count": null,
      "_view_module": "@jupyter-widgets/output",
      "_view_module_version": "1.0.0",
      "_view_name": "OutputView",
      "layout": "IPY_MODEL_a195a479557848919bd741ccf13292aa",
      "msg_id": "",
      "outputs": [
       {
        "data": {
         "text/html": "<pre style=\"white-space:pre;overflow-x:auto;line-height:normal;font-family:Menlo,'DejaVu Sans Mono',consolas,'Courier New',monospace\">Optimizing proposals... <span style=\"color: #729c1f; text-decoration-color: #729c1f\">━━━━━━━━━━━━━━━━━━━━━━━━━━━━━━━━━━━━━━━━</span> <span style=\"color: #800080; text-decoration-color: #800080\">100%</span> <span style=\"color: #008080; text-decoration-color: #008080\">0:00:00</span>\n</pre>\n",
         "text/plain": "Optimizing proposals... \u001b[38;2;114;156;31m━━━━━━━━━━━━━━━━━━━━━━━━━━━━━━━━━━━━━━━━\u001b[0m \u001b[35m100%\u001b[0m \u001b[36m0:00:00\u001b[0m\n"
        },
        "metadata": {},
        "output_type": "display_data"
       }
      ]
     }
    },
    "939a537166a148ad94394c01139ae96a": {
     "model_module": "@jupyter-widgets/output",
     "model_module_version": "1.0.0",
     "model_name": "OutputModel",
     "state": {
      "_dom_classes": [],
      "_model_module": "@jupyter-widgets/output",
      "_model_module_version": "1.0.0",
      "_model_name": "OutputModel",
      "_view_count": null,
      "_view_module": "@jupyter-widgets/output",
      "_view_module_version": "1.0.0",
      "_view_name": "OutputView",
      "layout": "IPY_MODEL_858c426899e64d6da2a8f20951a24f4e",
      "msg_id": "",
      "outputs": [
       {
        "data": {
         "text/html": "<pre style=\"white-space:pre;overflow-x:auto;line-height:normal;font-family:Menlo,'DejaVu Sans Mono',consolas,'Courier New',monospace\">Optimizing proposals... <span style=\"color: #729c1f; text-decoration-color: #729c1f\">━━━━━━━━━━━━━━━━━━━━━━━━━━━━━━━━━━━━━━━━</span> <span style=\"color: #800080; text-decoration-color: #800080\">100%</span> <span style=\"color: #008080; text-decoration-color: #008080\">0:00:00</span>\n</pre>\n",
         "text/plain": "Optimizing proposals... \u001b[38;2;114;156;31m━━━━━━━━━━━━━━━━━━━━━━━━━━━━━━━━━━━━━━━━\u001b[0m \u001b[35m100%\u001b[0m \u001b[36m0:00:00\u001b[0m\n"
        },
        "metadata": {},
        "output_type": "display_data"
       }
      ]
     }
    },
    "994765b6dce2462f971f35d20687ca3c": {
     "model_module": "@jupyter-widgets/base",
     "model_module_version": "1.2.0",
     "model_name": "LayoutModel",
     "state": {
      "_model_module": "@jupyter-widgets/base",
      "_model_module_version": "1.2.0",
      "_model_name": "LayoutModel",
      "_view_count": null,
      "_view_module": "@jupyter-widgets/base",
      "_view_module_version": "1.2.0",
      "_view_name": "LayoutView",
      "align_content": null,
      "align_items": null,
      "align_self": null,
      "border": null,
      "bottom": null,
      "display": null,
      "flex": null,
      "flex_flow": null,
      "grid_area": null,
      "grid_auto_columns": null,
      "grid_auto_flow": null,
      "grid_auto_rows": null,
      "grid_column": null,
      "grid_gap": null,
      "grid_row": null,
      "grid_template_areas": null,
      "grid_template_columns": null,
      "grid_template_rows": null,
      "height": null,
      "justify_content": null,
      "justify_items": null,
      "left": null,
      "margin": null,
      "max_height": null,
      "max_width": null,
      "min_height": null,
      "min_width": null,
      "object_fit": null,
      "object_position": null,
      "order": null,
      "overflow": null,
      "overflow_x": null,
      "overflow_y": null,
      "padding": null,
      "right": null,
      "top": null,
      "visibility": null,
      "width": null
     }
    },
    "9c218cd83ded49d6a11ab6de4d81f539": {
     "model_module": "@jupyter-widgets/output",
     "model_module_version": "1.0.0",
     "model_name": "OutputModel",
     "state": {
      "_dom_classes": [],
      "_model_module": "@jupyter-widgets/output",
      "_model_module_version": "1.0.0",
      "_model_name": "OutputModel",
      "_view_count": null,
      "_view_module": "@jupyter-widgets/output",
      "_view_module_version": "1.0.0",
      "_view_name": "OutputView",
      "layout": "IPY_MODEL_379a2bc334994ea5a573d4536bdfa067",
      "msg_id": "",
      "outputs": [
       {
        "data": {
         "text/html": "<pre style=\"white-space:pre;overflow-x:auto;line-height:normal;font-family:Menlo,'DejaVu Sans Mono',consolas,'Courier New',monospace\">Optimizing proposals... <span style=\"color: #729c1f; text-decoration-color: #729c1f\">━━━━━━━━━━━━━━━━━━━━━━━━━━━━━━━━━━━━━━━━</span> <span style=\"color: #800080; text-decoration-color: #800080\">100%</span> <span style=\"color: #008080; text-decoration-color: #008080\">0:00:00</span>\n</pre>\n",
         "text/plain": "Optimizing proposals... \u001b[38;2;114;156;31m━━━━━━━━━━━━━━━━━━━━━━━━━━━━━━━━━━━━━━━━\u001b[0m \u001b[35m100%\u001b[0m \u001b[36m0:00:00\u001b[0m\n"
        },
        "metadata": {},
        "output_type": "display_data"
       }
      ]
     }
    },
    "9f0abff5d0f14ff58a7d9d4e8619ada5": {
     "model_module": "@jupyter-widgets/output",
     "model_module_version": "1.0.0",
     "model_name": "OutputModel",
     "state": {
      "_dom_classes": [],
      "_model_module": "@jupyter-widgets/output",
      "_model_module_version": "1.0.0",
      "_model_name": "OutputModel",
      "_view_count": null,
      "_view_module": "@jupyter-widgets/output",
      "_view_module_version": "1.0.0",
      "_view_name": "OutputView",
      "layout": "IPY_MODEL_bff7c97742b941298e92f4072bb460e1",
      "msg_id": "",
      "outputs": [
       {
        "data": {
         "text/html": "<pre style=\"white-space:pre;overflow-x:auto;line-height:normal;font-family:Menlo,'DejaVu Sans Mono',consolas,'Courier New',monospace\">Optimizing proposals... <span style=\"color: #729c1f; text-decoration-color: #729c1f\">━━━━━━━━━━━━━━━━━━━━━━━━━━━━━━━━━━━━━━━━</span> <span style=\"color: #800080; text-decoration-color: #800080\">100%</span> <span style=\"color: #008080; text-decoration-color: #008080\">0:00:00</span>\n</pre>\n",
         "text/plain": "Optimizing proposals... \u001b[38;2;114;156;31m━━━━━━━━━━━━━━━━━━━━━━━━━━━━━━━━━━━━━━━━\u001b[0m \u001b[35m100%\u001b[0m \u001b[36m0:00:00\u001b[0m\n"
        },
        "metadata": {},
        "output_type": "display_data"
       }
      ]
     }
    },
    "a195a479557848919bd741ccf13292aa": {
     "model_module": "@jupyter-widgets/base",
     "model_module_version": "1.2.0",
     "model_name": "LayoutModel",
     "state": {
      "_model_module": "@jupyter-widgets/base",
      "_model_module_version": "1.2.0",
      "_model_name": "LayoutModel",
      "_view_count": null,
      "_view_module": "@jupyter-widgets/base",
      "_view_module_version": "1.2.0",
      "_view_name": "LayoutView",
      "align_content": null,
      "align_items": null,
      "align_self": null,
      "border": null,
      "bottom": null,
      "display": null,
      "flex": null,
      "flex_flow": null,
      "grid_area": null,
      "grid_auto_columns": null,
      "grid_auto_flow": null,
      "grid_auto_rows": null,
      "grid_column": null,
      "grid_gap": null,
      "grid_row": null,
      "grid_template_areas": null,
      "grid_template_columns": null,
      "grid_template_rows": null,
      "height": null,
      "justify_content": null,
      "justify_items": null,
      "left": null,
      "margin": null,
      "max_height": null,
      "max_width": null,
      "min_height": null,
      "min_width": null,
      "object_fit": null,
      "object_position": null,
      "order": null,
      "overflow": null,
      "overflow_x": null,
      "overflow_y": null,
      "padding": null,
      "right": null,
      "top": null,
      "visibility": null,
      "width": null
     }
    },
    "a711303970214ce6b4314aec15da9cc0": {
     "model_module": "@jupyter-widgets/base",
     "model_module_version": "1.2.0",
     "model_name": "LayoutModel",
     "state": {
      "_model_module": "@jupyter-widgets/base",
      "_model_module_version": "1.2.0",
      "_model_name": "LayoutModel",
      "_view_count": null,
      "_view_module": "@jupyter-widgets/base",
      "_view_module_version": "1.2.0",
      "_view_name": "LayoutView",
      "align_content": null,
      "align_items": null,
      "align_self": null,
      "border": null,
      "bottom": null,
      "display": null,
      "flex": null,
      "flex_flow": null,
      "grid_area": null,
      "grid_auto_columns": null,
      "grid_auto_flow": null,
      "grid_auto_rows": null,
      "grid_column": null,
      "grid_gap": null,
      "grid_row": null,
      "grid_template_areas": null,
      "grid_template_columns": null,
      "grid_template_rows": null,
      "height": null,
      "justify_content": null,
      "justify_items": null,
      "left": null,
      "margin": null,
      "max_height": null,
      "max_width": null,
      "min_height": null,
      "min_width": null,
      "object_fit": null,
      "object_position": null,
      "order": null,
      "overflow": null,
      "overflow_x": null,
      "overflow_y": null,
      "padding": null,
      "right": null,
      "top": null,
      "visibility": null,
      "width": null
     }
    },
    "b06e78f7a4354850a3644c27c41a7d6e": {
     "model_module": "@jupyter-widgets/base",
     "model_module_version": "1.2.0",
     "model_name": "LayoutModel",
     "state": {
      "_model_module": "@jupyter-widgets/base",
      "_model_module_version": "1.2.0",
      "_model_name": "LayoutModel",
      "_view_count": null,
      "_view_module": "@jupyter-widgets/base",
      "_view_module_version": "1.2.0",
      "_view_name": "LayoutView",
      "align_content": null,
      "align_items": null,
      "align_self": null,
      "border": null,
      "bottom": null,
      "display": null,
      "flex": null,
      "flex_flow": null,
      "grid_area": null,
      "grid_auto_columns": null,
      "grid_auto_flow": null,
      "grid_auto_rows": null,
      "grid_column": null,
      "grid_gap": null,
      "grid_row": null,
      "grid_template_areas": null,
      "grid_template_columns": null,
      "grid_template_rows": null,
      "height": null,
      "justify_content": null,
      "justify_items": null,
      "left": null,
      "margin": null,
      "max_height": null,
      "max_width": null,
      "min_height": null,
      "min_width": null,
      "object_fit": null,
      "object_position": null,
      "order": null,
      "overflow": null,
      "overflow_x": null,
      "overflow_y": null,
      "padding": null,
      "right": null,
      "top": null,
      "visibility": null,
      "width": null
     }
    },
    "b3c7cf0cb1524464ae3dd5d7bffbca9f": {
     "model_module": "@jupyter-widgets/output",
     "model_module_version": "1.0.0",
     "model_name": "OutputModel",
     "state": {
      "_dom_classes": [],
      "_model_module": "@jupyter-widgets/output",
      "_model_module_version": "1.0.0",
      "_model_name": "OutputModel",
      "_view_count": null,
      "_view_module": "@jupyter-widgets/output",
      "_view_module_version": "1.0.0",
      "_view_name": "OutputView",
      "layout": "IPY_MODEL_c82a11e932a74e77beb782198fb0ea92",
      "msg_id": "",
      "outputs": [
       {
        "data": {
         "text/html": "<pre style=\"white-space:pre;overflow-x:auto;line-height:normal;font-family:Menlo,'DejaVu Sans Mono',consolas,'Courier New',monospace\">Optimizing proposals... <span style=\"color: #729c1f; text-decoration-color: #729c1f\">━━━━━━━━━━━━━━━━━━━━━━━━━━━━━━━━━━━━━━━━</span> <span style=\"color: #800080; text-decoration-color: #800080\">100%</span> <span style=\"color: #008080; text-decoration-color: #008080\">0:00:00</span>\n</pre>\n",
         "text/plain": "Optimizing proposals... \u001b[38;2;114;156;31m━━━━━━━━━━━━━━━━━━━━━━━━━━━━━━━━━━━━━━━━\u001b[0m \u001b[35m100%\u001b[0m \u001b[36m0:00:00\u001b[0m\n"
        },
        "metadata": {},
        "output_type": "display_data"
       }
      ]
     }
    },
    "b5403b3ebc3d44748f8b5f2b1343ccb8": {
     "model_module": "@jupyter-widgets/base",
     "model_module_version": "1.2.0",
     "model_name": "LayoutModel",
     "state": {
      "_model_module": "@jupyter-widgets/base",
      "_model_module_version": "1.2.0",
      "_model_name": "LayoutModel",
      "_view_count": null,
      "_view_module": "@jupyter-widgets/base",
      "_view_module_version": "1.2.0",
      "_view_name": "LayoutView",
      "align_content": null,
      "align_items": null,
      "align_self": null,
      "border": null,
      "bottom": null,
      "display": null,
      "flex": null,
      "flex_flow": null,
      "grid_area": null,
      "grid_auto_columns": null,
      "grid_auto_flow": null,
      "grid_auto_rows": null,
      "grid_column": null,
      "grid_gap": null,
      "grid_row": null,
      "grid_template_areas": null,
      "grid_template_columns": null,
      "grid_template_rows": null,
      "height": null,
      "justify_content": null,
      "justify_items": null,
      "left": null,
      "margin": null,
      "max_height": null,
      "max_width": null,
      "min_height": null,
      "min_width": null,
      "object_fit": null,
      "object_position": null,
      "order": null,
      "overflow": null,
      "overflow_x": null,
      "overflow_y": null,
      "padding": null,
      "right": null,
      "top": null,
      "visibility": null,
      "width": null
     }
    },
    "baa96e7852174575b9ae46aca1498360": {
     "model_module": "@jupyter-widgets/output",
     "model_module_version": "1.0.0",
     "model_name": "OutputModel",
     "state": {
      "_dom_classes": [],
      "_model_module": "@jupyter-widgets/output",
      "_model_module_version": "1.0.0",
      "_model_name": "OutputModel",
      "_view_count": null,
      "_view_module": "@jupyter-widgets/output",
      "_view_module_version": "1.0.0",
      "_view_name": "OutputView",
      "layout": "IPY_MODEL_ca89894580cd4a2ba52dbeb409ed09d5",
      "msg_id": "",
      "outputs": [
       {
        "data": {
         "text/html": "<pre style=\"white-space:pre;overflow-x:auto;line-height:normal;font-family:Menlo,'DejaVu Sans Mono',consolas,'Courier New',monospace\">Optimizing proposals... <span style=\"color: #729c1f; text-decoration-color: #729c1f\">━━━━━━━━━━━━━━━━━━━━━━━━━━━━━━━━━━━━━━━━</span> <span style=\"color: #800080; text-decoration-color: #800080\">100%</span> <span style=\"color: #008080; text-decoration-color: #008080\">0:00:00</span>\n</pre>\n",
         "text/plain": "Optimizing proposals... \u001b[38;2;114;156;31m━━━━━━━━━━━━━━━━━━━━━━━━━━━━━━━━━━━━━━━━\u001b[0m \u001b[35m100%\u001b[0m \u001b[36m0:00:00\u001b[0m\n"
        },
        "metadata": {},
        "output_type": "display_data"
       }
      ]
     }
    },
    "bb081bd29c1a46a09262d08ff224a954": {
     "model_module": "@jupyter-widgets/output",
     "model_module_version": "1.0.0",
     "model_name": "OutputModel",
     "state": {
      "_dom_classes": [],
      "_model_module": "@jupyter-widgets/output",
      "_model_module_version": "1.0.0",
      "_model_name": "OutputModel",
      "_view_count": null,
      "_view_module": "@jupyter-widgets/output",
      "_view_module_version": "1.0.0",
      "_view_name": "OutputView",
      "layout": "IPY_MODEL_80210cb4a41f4e8ca2688cfcb07603e6",
      "msg_id": "",
      "outputs": [
       {
        "data": {
         "text/html": "<pre style=\"white-space:pre;overflow-x:auto;line-height:normal;font-family:Menlo,'DejaVu Sans Mono',consolas,'Courier New',monospace\">Optimizing proposals... <span style=\"color: #729c1f; text-decoration-color: #729c1f\">━━━━━━━━━━━━━━━━━━━━━━━━━━━━━━━━━━━━━━━━</span> <span style=\"color: #800080; text-decoration-color: #800080\">100%</span> <span style=\"color: #008080; text-decoration-color: #008080\">0:00:00</span>\n</pre>\n",
         "text/plain": "Optimizing proposals... \u001b[38;2;114;156;31m━━━━━━━━━━━━━━━━━━━━━━━━━━━━━━━━━━━━━━━━\u001b[0m \u001b[35m100%\u001b[0m \u001b[36m0:00:00\u001b[0m\n"
        },
        "metadata": {},
        "output_type": "display_data"
       }
      ]
     }
    },
    "bff7c97742b941298e92f4072bb460e1": {
     "model_module": "@jupyter-widgets/base",
     "model_module_version": "1.2.0",
     "model_name": "LayoutModel",
     "state": {
      "_model_module": "@jupyter-widgets/base",
      "_model_module_version": "1.2.0",
      "_model_name": "LayoutModel",
      "_view_count": null,
      "_view_module": "@jupyter-widgets/base",
      "_view_module_version": "1.2.0",
      "_view_name": "LayoutView",
      "align_content": null,
      "align_items": null,
      "align_self": null,
      "border": null,
      "bottom": null,
      "display": null,
      "flex": null,
      "flex_flow": null,
      "grid_area": null,
      "grid_auto_columns": null,
      "grid_auto_flow": null,
      "grid_auto_rows": null,
      "grid_column": null,
      "grid_gap": null,
      "grid_row": null,
      "grid_template_areas": null,
      "grid_template_columns": null,
      "grid_template_rows": null,
      "height": null,
      "justify_content": null,
      "justify_items": null,
      "left": null,
      "margin": null,
      "max_height": null,
      "max_width": null,
      "min_height": null,
      "min_width": null,
      "object_fit": null,
      "object_position": null,
      "order": null,
      "overflow": null,
      "overflow_x": null,
      "overflow_y": null,
      "padding": null,
      "right": null,
      "top": null,
      "visibility": null,
      "width": null
     }
    },
    "c086cfd762a1484d8258cc8ae3c39095": {
     "model_module": "@jupyter-widgets/base",
     "model_module_version": "1.2.0",
     "model_name": "LayoutModel",
     "state": {
      "_model_module": "@jupyter-widgets/base",
      "_model_module_version": "1.2.0",
      "_model_name": "LayoutModel",
      "_view_count": null,
      "_view_module": "@jupyter-widgets/base",
      "_view_module_version": "1.2.0",
      "_view_name": "LayoutView",
      "align_content": null,
      "align_items": null,
      "align_self": null,
      "border": null,
      "bottom": null,
      "display": null,
      "flex": null,
      "flex_flow": null,
      "grid_area": null,
      "grid_auto_columns": null,
      "grid_auto_flow": null,
      "grid_auto_rows": null,
      "grid_column": null,
      "grid_gap": null,
      "grid_row": null,
      "grid_template_areas": null,
      "grid_template_columns": null,
      "grid_template_rows": null,
      "height": null,
      "justify_content": null,
      "justify_items": null,
      "left": null,
      "margin": null,
      "max_height": null,
      "max_width": null,
      "min_height": null,
      "min_width": null,
      "object_fit": null,
      "object_position": null,
      "order": null,
      "overflow": null,
      "overflow_x": null,
      "overflow_y": null,
      "padding": null,
      "right": null,
      "top": null,
      "visibility": null,
      "width": null
     }
    },
    "c0dfa512bdca4d898b8208dc04b81b71": {
     "model_module": "@jupyter-widgets/output",
     "model_module_version": "1.0.0",
     "model_name": "OutputModel",
     "state": {
      "_dom_classes": [],
      "_model_module": "@jupyter-widgets/output",
      "_model_module_version": "1.0.0",
      "_model_name": "OutputModel",
      "_view_count": null,
      "_view_module": "@jupyter-widgets/output",
      "_view_module_version": "1.0.0",
      "_view_name": "OutputView",
      "layout": "IPY_MODEL_3170a2b8e7854d7d8daf13e882e23935",
      "msg_id": "",
      "outputs": [
       {
        "data": {
         "text/html": "<pre style=\"white-space:pre;overflow-x:auto;line-height:normal;font-family:Menlo,'DejaVu Sans Mono',consolas,'Courier New',monospace\">Optimizing proposals... <span style=\"color: #729c1f; text-decoration-color: #729c1f\">━━━━━━━━━━━━━━━━━━━━━━━━━━━━━━━━━━━━━━━━</span> <span style=\"color: #800080; text-decoration-color: #800080\">100%</span> <span style=\"color: #008080; text-decoration-color: #008080\">0:00:00</span>\n</pre>\n",
         "text/plain": "Optimizing proposals... \u001b[38;2;114;156;31m━━━━━━━━━━━━━━━━━━━━━━━━━━━━━━━━━━━━━━━━\u001b[0m \u001b[35m100%\u001b[0m \u001b[36m0:00:00\u001b[0m\n"
        },
        "metadata": {},
        "output_type": "display_data"
       }
      ]
     }
    },
    "c1f0ef92ff44407faa3da060216e2255": {
     "model_module": "@jupyter-widgets/output",
     "model_module_version": "1.0.0",
     "model_name": "OutputModel",
     "state": {
      "_dom_classes": [],
      "_model_module": "@jupyter-widgets/output",
      "_model_module_version": "1.0.0",
      "_model_name": "OutputModel",
      "_view_count": null,
      "_view_module": "@jupyter-widgets/output",
      "_view_module_version": "1.0.0",
      "_view_name": "OutputView",
      "layout": "IPY_MODEL_49cdf874a7b547d28fb0c4730ddf06db",
      "msg_id": "",
      "outputs": [
       {
        "data": {
         "text/html": "<pre style=\"white-space:pre;overflow-x:auto;line-height:normal;font-family:Menlo,'DejaVu Sans Mono',consolas,'Courier New',monospace\">Optimizing proposals... <span style=\"color: #729c1f; text-decoration-color: #729c1f\">━━━━━━━━━━━━━━━━━━━━━━━━━━━━━━━━━━━━━━━━</span> <span style=\"color: #800080; text-decoration-color: #800080\">100%</span> <span style=\"color: #008080; text-decoration-color: #008080\">0:00:00</span>\n</pre>\n",
         "text/plain": "Optimizing proposals... \u001b[38;2;114;156;31m━━━━━━━━━━━━━━━━━━━━━━━━━━━━━━━━━━━━━━━━\u001b[0m \u001b[35m100%\u001b[0m \u001b[36m0:00:00\u001b[0m\n"
        },
        "metadata": {},
        "output_type": "display_data"
       }
      ]
     }
    },
    "c5cd047914844d699c8876992770a0bc": {
     "model_module": "@jupyter-widgets/base",
     "model_module_version": "1.2.0",
     "model_name": "LayoutModel",
     "state": {
      "_model_module": "@jupyter-widgets/base",
      "_model_module_version": "1.2.0",
      "_model_name": "LayoutModel",
      "_view_count": null,
      "_view_module": "@jupyter-widgets/base",
      "_view_module_version": "1.2.0",
      "_view_name": "LayoutView",
      "align_content": null,
      "align_items": null,
      "align_self": null,
      "border": null,
      "bottom": null,
      "display": null,
      "flex": null,
      "flex_flow": null,
      "grid_area": null,
      "grid_auto_columns": null,
      "grid_auto_flow": null,
      "grid_auto_rows": null,
      "grid_column": null,
      "grid_gap": null,
      "grid_row": null,
      "grid_template_areas": null,
      "grid_template_columns": null,
      "grid_template_rows": null,
      "height": null,
      "justify_content": null,
      "justify_items": null,
      "left": null,
      "margin": null,
      "max_height": null,
      "max_width": null,
      "min_height": null,
      "min_width": null,
      "object_fit": null,
      "object_position": null,
      "order": null,
      "overflow": null,
      "overflow_x": null,
      "overflow_y": null,
      "padding": null,
      "right": null,
      "top": null,
      "visibility": null,
      "width": null
     }
    },
    "c79f6359750142af9929afa51edabac7": {
     "model_module": "@jupyter-widgets/base",
     "model_module_version": "1.2.0",
     "model_name": "LayoutModel",
     "state": {
      "_model_module": "@jupyter-widgets/base",
      "_model_module_version": "1.2.0",
      "_model_name": "LayoutModel",
      "_view_count": null,
      "_view_module": "@jupyter-widgets/base",
      "_view_module_version": "1.2.0",
      "_view_name": "LayoutView",
      "align_content": null,
      "align_items": null,
      "align_self": null,
      "border": null,
      "bottom": null,
      "display": null,
      "flex": null,
      "flex_flow": null,
      "grid_area": null,
      "grid_auto_columns": null,
      "grid_auto_flow": null,
      "grid_auto_rows": null,
      "grid_column": null,
      "grid_gap": null,
      "grid_row": null,
      "grid_template_areas": null,
      "grid_template_columns": null,
      "grid_template_rows": null,
      "height": null,
      "justify_content": null,
      "justify_items": null,
      "left": null,
      "margin": null,
      "max_height": null,
      "max_width": null,
      "min_height": null,
      "min_width": null,
      "object_fit": null,
      "object_position": null,
      "order": null,
      "overflow": null,
      "overflow_x": null,
      "overflow_y": null,
      "padding": null,
      "right": null,
      "top": null,
      "visibility": null,
      "width": null
     }
    },
    "c82a11e932a74e77beb782198fb0ea92": {
     "model_module": "@jupyter-widgets/base",
     "model_module_version": "1.2.0",
     "model_name": "LayoutModel",
     "state": {
      "_model_module": "@jupyter-widgets/base",
      "_model_module_version": "1.2.0",
      "_model_name": "LayoutModel",
      "_view_count": null,
      "_view_module": "@jupyter-widgets/base",
      "_view_module_version": "1.2.0",
      "_view_name": "LayoutView",
      "align_content": null,
      "align_items": null,
      "align_self": null,
      "border": null,
      "bottom": null,
      "display": null,
      "flex": null,
      "flex_flow": null,
      "grid_area": null,
      "grid_auto_columns": null,
      "grid_auto_flow": null,
      "grid_auto_rows": null,
      "grid_column": null,
      "grid_gap": null,
      "grid_row": null,
      "grid_template_areas": null,
      "grid_template_columns": null,
      "grid_template_rows": null,
      "height": null,
      "justify_content": null,
      "justify_items": null,
      "left": null,
      "margin": null,
      "max_height": null,
      "max_width": null,
      "min_height": null,
      "min_width": null,
      "object_fit": null,
      "object_position": null,
      "order": null,
      "overflow": null,
      "overflow_x": null,
      "overflow_y": null,
      "padding": null,
      "right": null,
      "top": null,
      "visibility": null,
      "width": null
     }
    },
    "ca89894580cd4a2ba52dbeb409ed09d5": {
     "model_module": "@jupyter-widgets/base",
     "model_module_version": "1.2.0",
     "model_name": "LayoutModel",
     "state": {
      "_model_module": "@jupyter-widgets/base",
      "_model_module_version": "1.2.0",
      "_model_name": "LayoutModel",
      "_view_count": null,
      "_view_module": "@jupyter-widgets/base",
      "_view_module_version": "1.2.0",
      "_view_name": "LayoutView",
      "align_content": null,
      "align_items": null,
      "align_self": null,
      "border": null,
      "bottom": null,
      "display": null,
      "flex": null,
      "flex_flow": null,
      "grid_area": null,
      "grid_auto_columns": null,
      "grid_auto_flow": null,
      "grid_auto_rows": null,
      "grid_column": null,
      "grid_gap": null,
      "grid_row": null,
      "grid_template_areas": null,
      "grid_template_columns": null,
      "grid_template_rows": null,
      "height": null,
      "justify_content": null,
      "justify_items": null,
      "left": null,
      "margin": null,
      "max_height": null,
      "max_width": null,
      "min_height": null,
      "min_width": null,
      "object_fit": null,
      "object_position": null,
      "order": null,
      "overflow": null,
      "overflow_x": null,
      "overflow_y": null,
      "padding": null,
      "right": null,
      "top": null,
      "visibility": null,
      "width": null
     }
    },
    "d1cc9678b09d41c78a8ed5656a5971b3": {
     "model_module": "@jupyter-widgets/base",
     "model_module_version": "1.2.0",
     "model_name": "LayoutModel",
     "state": {
      "_model_module": "@jupyter-widgets/base",
      "_model_module_version": "1.2.0",
      "_model_name": "LayoutModel",
      "_view_count": null,
      "_view_module": "@jupyter-widgets/base",
      "_view_module_version": "1.2.0",
      "_view_name": "LayoutView",
      "align_content": null,
      "align_items": null,
      "align_self": null,
      "border": null,
      "bottom": null,
      "display": null,
      "flex": null,
      "flex_flow": null,
      "grid_area": null,
      "grid_auto_columns": null,
      "grid_auto_flow": null,
      "grid_auto_rows": null,
      "grid_column": null,
      "grid_gap": null,
      "grid_row": null,
      "grid_template_areas": null,
      "grid_template_columns": null,
      "grid_template_rows": null,
      "height": null,
      "justify_content": null,
      "justify_items": null,
      "left": null,
      "margin": null,
      "max_height": null,
      "max_width": null,
      "min_height": null,
      "min_width": null,
      "object_fit": null,
      "object_position": null,
      "order": null,
      "overflow": null,
      "overflow_x": null,
      "overflow_y": null,
      "padding": null,
      "right": null,
      "top": null,
      "visibility": null,
      "width": null
     }
    },
    "e1a5a358ff4a4163b68d5305d3002680": {
     "model_module": "@jupyter-widgets/output",
     "model_module_version": "1.0.0",
     "model_name": "OutputModel",
     "state": {
      "_dom_classes": [],
      "_model_module": "@jupyter-widgets/output",
      "_model_module_version": "1.0.0",
      "_model_name": "OutputModel",
      "_view_count": null,
      "_view_module": "@jupyter-widgets/output",
      "_view_module_version": "1.0.0",
      "_view_name": "OutputView",
      "layout": "IPY_MODEL_d1cc9678b09d41c78a8ed5656a5971b3",
      "msg_id": "",
      "outputs": [
       {
        "data": {
         "text/html": "<pre style=\"white-space:pre;overflow-x:auto;line-height:normal;font-family:Menlo,'DejaVu Sans Mono',consolas,'Courier New',monospace\">Optimizing proposals... <span style=\"color: #729c1f; text-decoration-color: #729c1f\">━━━━━━━━━━━━━━━━━━━━━━━━━━━━━━━━━━━━━━━━</span> <span style=\"color: #800080; text-decoration-color: #800080\">100%</span> <span style=\"color: #008080; text-decoration-color: #008080\">0:00:00</span>\n</pre>\n",
         "text/plain": "Optimizing proposals... \u001b[38;2;114;156;31m━━━━━━━━━━━━━━━━━━━━━━━━━━━━━━━━━━━━━━━━\u001b[0m \u001b[35m100%\u001b[0m \u001b[36m0:00:00\u001b[0m\n"
        },
        "metadata": {},
        "output_type": "display_data"
       }
      ]
     }
    },
    "e609b511e82d4d119055b1a84d785086": {
     "model_module": "@jupyter-widgets/base",
     "model_module_version": "1.2.0",
     "model_name": "LayoutModel",
     "state": {
      "_model_module": "@jupyter-widgets/base",
      "_model_module_version": "1.2.0",
      "_model_name": "LayoutModel",
      "_view_count": null,
      "_view_module": "@jupyter-widgets/base",
      "_view_module_version": "1.2.0",
      "_view_name": "LayoutView",
      "align_content": null,
      "align_items": null,
      "align_self": null,
      "border": null,
      "bottom": null,
      "display": null,
      "flex": null,
      "flex_flow": null,
      "grid_area": null,
      "grid_auto_columns": null,
      "grid_auto_flow": null,
      "grid_auto_rows": null,
      "grid_column": null,
      "grid_gap": null,
      "grid_row": null,
      "grid_template_areas": null,
      "grid_template_columns": null,
      "grid_template_rows": null,
      "height": null,
      "justify_content": null,
      "justify_items": null,
      "left": null,
      "margin": null,
      "max_height": null,
      "max_width": null,
      "min_height": null,
      "min_width": null,
      "object_fit": null,
      "object_position": null,
      "order": null,
      "overflow": null,
      "overflow_x": null,
      "overflow_y": null,
      "padding": null,
      "right": null,
      "top": null,
      "visibility": null,
      "width": null
     }
    },
    "f68812c80d9e43df880d74fe90af21c3": {
     "model_module": "@jupyter-widgets/output",
     "model_module_version": "1.0.0",
     "model_name": "OutputModel",
     "state": {
      "_dom_classes": [],
      "_model_module": "@jupyter-widgets/output",
      "_model_module_version": "1.0.0",
      "_model_name": "OutputModel",
      "_view_count": null,
      "_view_module": "@jupyter-widgets/output",
      "_view_module_version": "1.0.0",
      "_view_name": "OutputView",
      "layout": "IPY_MODEL_43a3bc906b4946aaa3031a943e0b7381",
      "msg_id": "",
      "outputs": [
       {
        "data": {
         "text/html": "<pre style=\"white-space:pre;overflow-x:auto;line-height:normal;font-family:Menlo,'DejaVu Sans Mono',consolas,'Courier New',monospace\">Optimizing proposals... <span style=\"color: #729c1f; text-decoration-color: #729c1f\">━━━━━━━━━━━━━━━━━━━━━━━━━━━━━━━━━━━━━━━━</span> <span style=\"color: #800080; text-decoration-color: #800080\">100%</span> <span style=\"color: #008080; text-decoration-color: #008080\">0:00:00</span>\n</pre>\n",
         "text/plain": "Optimizing proposals... \u001b[38;2;114;156;31m━━━━━━━━━━━━━━━━━━━━━━━━━━━━━━━━━━━━━━━━\u001b[0m \u001b[35m100%\u001b[0m \u001b[36m0:00:00\u001b[0m\n"
        },
        "metadata": {},
        "output_type": "display_data"
       }
      ]
     }
    }
   }
  }
 },
 "nbformat": 4,
 "nbformat_minor": 1
}
